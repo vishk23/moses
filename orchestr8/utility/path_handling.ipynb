{
 "cells": [
  {
   "cell_type": "code",
   "execution_count": null,
   "metadata": {},
   "outputs": [],
   "source": [
    "# Use this primarily to convert raw windows paths to json friendly paths."
   ]
  },
  {
   "cell_type": "code",
   "execution_count": 5,
   "metadata": {},
   "outputs": [
    {
     "data": {
      "text/plain": [
       "'\\\\\\\\00-da1\\\\Home\\\\Share\\\\Data & Analytics Initiatives\\\\Project Management\\\\Business Intelligence Project Tracking\\\\Production'"
      ]
     },
     "execution_count": 5,
     "metadata": {},
     "output_type": "execute_result"
    }
   ],
   "source": [
    "path = r\"\\\\00-da1\\Home\\Share\\Data & Analytics Initiatives\\Project Management\\Business Intelligence Project Tracking\\Production\"\n",
    "\n",
    "\n",
    "\n",
    "\n",
    "\n",
    "\n",
    "\n",
    "\n",
    "# result = escape_path(path)\n",
    "# result\n",
    "path"
   ]
  },
  {
   "cell_type": "markdown",
   "metadata": {},
   "source": [
    "{\"module\": \"src.main\", \"cwd\": \"\\\\\\\\00-da1\\\\Path\\\\To\\\\Project\"}\n"
   ]
  },
  {
   "cell_type": "code",
   "execution_count": null,
   "metadata": {},
   "outputs": [],
   "source": []
  },
  {
   "cell_type": "code",
   "execution_count": null,
   "metadata": {},
   "outputs": [],
   "source": []
  },
  {
   "cell_type": "code",
   "execution_count": null,
   "metadata": {},
   "outputs": [],
   "source": [
    "{\"module\": \"src.main\", \"cwd\": \"\\\\\\\\00-da1\\\\Home\\\\Share\\\\Data & Analytics Initiatives\\\\Project Management\\\\Data_Analytics\\\\R360\\\\Production\"}"
   ]
  },
  {
   "cell_type": "code",
   "execution_count": 7,
   "metadata": {},
   "outputs": [],
   "source": [
    "import json\n",
    "task_list = [{\"module\":\"src.early_payoff_report\",\"cwd\":\"\\\\\\\\00-da1\\\\Home\\\\Share\\\\Data & Analytics Initiatives\\\\Project Management\\\\Indirect_Lending\\\\Dealer Reserve Recon\\\\Production\"},\n",
    "{\"module\":\"src.daily_processing\",\"cwd\":\"\\\\\\\\00-da1\\\\Home\\\\Share\\\\Data & Analytics Initiatives\\\\Project Management\\\\Indirect_Lending\\\\Dealer Reserve Recon\\\\Production\"},\n",
    "{\"module\":\"src.report_generator\",\"cwd\":\"\\\\\\\\00-da1\\\\Home\\\\Share\\\\Data & Analytics Initiatives\\\\Project Management\\\\Indirect_Lending\\\\Dealer Reserve Recon\\\\Production\"}]\n"
   ]
  },
  {
   "cell_type": "code",
   "execution_count": 8,
   "metadata": {},
   "outputs": [],
   "source": [
    "task_list_json = json.dumps(task_list)"
   ]
  },
  {
   "cell_type": "code",
   "execution_count": 9,
   "metadata": {},
   "outputs": [
    {
     "data": {
      "text/plain": [
       "'[{\"module\": \"src.early_payoff_report\", \"cwd\": \"\\\\\\\\\\\\\\\\00-da1\\\\\\\\Home\\\\\\\\Share\\\\\\\\Data & Analytics Initiatives\\\\\\\\Project Management\\\\\\\\Indirect_Lending\\\\\\\\Dealer Reserve Recon\\\\\\\\Production\"}, {\"module\": \"src.daily_processing\", \"cwd\": \"\\\\\\\\\\\\\\\\00-da1\\\\\\\\Home\\\\\\\\Share\\\\\\\\Data & Analytics Initiatives\\\\\\\\Project Management\\\\\\\\Indirect_Lending\\\\\\\\Dealer Reserve Recon\\\\\\\\Production\"}, {\"module\": \"src.report_generator\", \"cwd\": \"\\\\\\\\\\\\\\\\00-da1\\\\\\\\Home\\\\\\\\Share\\\\\\\\Data & Analytics Initiatives\\\\\\\\Project Management\\\\\\\\Indirect_Lending\\\\\\\\Dealer Reserve Recon\\\\\\\\Production\"}]'"
      ]
     },
     "execution_count": 9,
     "metadata": {},
     "output_type": "execute_result"
    }
   ],
   "source": [
    "task_list_json"
   ]
  },
  {
   "cell_type": "code",
   "execution_count": null,
   "metadata": {},
   "outputs": [],
   "source": [
    "kwargs = {\"task_list_json\": task_list_json}"
   ]
  },
  {
   "cell_type": "code",
   "execution_count": 5,
   "metadata": {},
   "outputs": [],
   "source": [
    "kwargs_json = json.dumps(kwargs)"
   ]
  },
  {
   "cell_type": "code",
   "execution_count": 6,
   "metadata": {},
   "outputs": [
    {
     "data": {
      "text/plain": [
       "'{\"task_list_json\": \"[{\\\\\"module\\\\\": \\\\\"src.early_payoff_report\\\\\", \\\\\"cwd\\\\\": \\\\\"\\\\\\\\\\\\\\\\\\\\\\\\\\\\\\\\00-da1\\\\\\\\\\\\\\\\Home\\\\\\\\\\\\\\\\Share\\\\\\\\\\\\\\\\Data & Analytics Initiatives\\\\\\\\\\\\\\\\Project Management\\\\\\\\\\\\\\\\Indirect_Lending\\\\\\\\\\\\\\\\Dealer Reserve Recon\\\\\\\\\\\\\\\\Production\\\\\"}, {\\\\\"module\\\\\": \\\\\"src.daily_processing\\\\\", \\\\\"cwd\\\\\": \\\\\"\\\\\\\\\\\\\\\\\\\\\\\\\\\\\\\\00-da1\\\\\\\\\\\\\\\\Home\\\\\\\\\\\\\\\\Share\\\\\\\\\\\\\\\\Data & Analytics Initiatives\\\\\\\\\\\\\\\\Project Management\\\\\\\\\\\\\\\\Indirect_Lending\\\\\\\\\\\\\\\\Dealer Reserve Recon\\\\\\\\\\\\\\\\Production\\\\\"}, {\\\\\"module\\\\\": \\\\\"src.report_generator\\\\\", \\\\\"cwd\\\\\": \\\\\"\\\\\\\\\\\\\\\\\\\\\\\\\\\\\\\\00-da1\\\\\\\\\\\\\\\\Home\\\\\\\\\\\\\\\\Share\\\\\\\\\\\\\\\\Data & Analytics Initiatives\\\\\\\\\\\\\\\\Project Management\\\\\\\\\\\\\\\\Indirect_Lending\\\\\\\\\\\\\\\\Dealer Reserve Recon\\\\\\\\\\\\\\\\Production\\\\\"}]\"}'"
      ]
     },
     "execution_count": 6,
     "metadata": {},
     "output_type": "execute_result"
    }
   ],
   "source": [
    "kwargs_json"
   ]
  },
  {
   "cell_type": "code",
   "execution_count": null,
   "metadata": {},
   "outputs": [],
   "source": []
  }
 ],
 "metadata": {
  "kernelspec": {
   "display_name": ".venv",
   "language": "python",
   "name": "python3"
  },
  "language_info": {
   "codemirror_mode": {
    "name": "ipython",
    "version": 3
   },
   "file_extension": ".py",
   "mimetype": "text/x-python",
   "name": "python",
   "nbconvert_exporter": "python",
   "pygments_lexer": "ipython3",
   "version": "3.11.9"
  }
 },
 "nbformat": 4,
 "nbformat_minor": 2
}
