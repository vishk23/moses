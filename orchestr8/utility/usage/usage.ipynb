{
 "cells": [
  {
   "cell_type": "code",
   "execution_count": null,
   "id": "b559d68d",
   "metadata": {},
   "outputs": [],
   "source": [
    "import pandas as pd\n",
    "import re\n",
    "from pathlib import Path\n",
    "\n",
    "def parse_tasks_log(file_path: Path) -> pd.DataFrame:\n",
    "    pattern = r\"^Successfully ran status_page for email:\\s*(.*?),\\s*key:\\s*(\\d+)\"\n",
    "    data = []\n",
    "\n",
    "    file_path = Path(file_path)\n",
    "\n",
    "    with file_path.open('r') as file:\n",
    "        for line in file:\n",
    "            match = re.match(pattern, line)\n",
    "            if match:\n",
    "                email, key = match.groups()\n",
    "                data.append({'email': email.strip(), 'key':int(key)})\n",
    "\n",
    "    return pd.DataFrame(data)"
   ]
  },
  {
   "cell_type": "code",
   "execution_count": null,
   "id": "9e37d8ba",
   "metadata": {},
   "outputs": [],
   "source": [
    "log_path = Path(r\"C:\\Users\\w322800\\Documents\\orchestr8\\django_app\\tasks.log\")\n",
    "df = parse_tasks_log(log_path)"
   ]
  },
  {
   "cell_type": "code",
   "execution_count": null,
   "id": "05e1eacf",
   "metadata": {},
   "outputs": [],
   "source": [
    "df"
   ]
  },
  {
   "cell_type": "code",
   "execution_count": null,
   "id": "94b70128",
   "metadata": {},
   "outputs": [],
   "source": [
    "df['email'].value_counts()"
   ]
  },
  {
   "cell_type": "code",
   "execution_count": null,
   "id": "7e7d22f9",
   "metadata": {},
   "outputs": [],
   "source": []
  }
 ],
 "metadata": {
  "kernelspec": {
   "display_name": ".venv",
   "language": "python",
   "name": "python3"
  },
  "language_info": {
   "codemirror_mode": {
    "name": "ipython",
    "version": 3
   },
   "file_extension": ".py",
   "mimetype": "text/x-python",
   "name": "python",
   "nbconvert_exporter": "python",
   "pygments_lexer": "ipython3",
   "version": "3.11.9"
  }
 },
 "nbformat": 4,
 "nbformat_minor": 5
}
