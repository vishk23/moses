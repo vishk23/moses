{
 "cells": [
  {
   "cell_type": "code",
   "execution_count": 1,
   "id": "c1a724e0",
   "metadata": {},
   "outputs": [],
   "source": [
    "import os\n",
    "import sys\n",
    "from pathlib import Path\n",
    "\n",
    "# Navigate to project root (equivalent to cd ..)\n",
    "project_dir = Path(__file__).parent.parent if '__file__' in globals() else Path.cwd().parent\n",
    "os.chdir(project_dir)\n",
    "\n",
    "# Add src directory to Python path for imports\n",
    "src_dir = project_dir / \"src\"\n",
    "if str(src_dir) not in sys.path:\n",
    "    sys.path.insert(0, str(src_dir))\n",
    "\n",
    "# Set environment for dev testing\n",
    "os.environ['REPORT_ENV'] = 'dev'"
   ]
  },
  {
   "cell_type": "code",
   "execution_count": 2,
   "id": "de6c09a0",
   "metadata": {},
   "outputs": [],
   "source": [
    "import cdutils.acct_lookup_any_date.lookup_loop"
   ]
  },
  {
   "cell_type": "code",
   "execution_count": 3,
   "id": "1465d2d9",
   "metadata": {},
   "outputs": [],
   "source": [
    "from datetime import datetime"
   ]
  },
  {
   "cell_type": "code",
   "execution_count": 4,
   "id": "26e8805d",
   "metadata": {},
   "outputs": [],
   "source": [
    "specified_date = datetime(2025,6,30)"
   ]
  },
  {
   "cell_type": "code",
   "execution_count": 5,
   "id": "f21b56d1",
   "metadata": {},
   "outputs": [
    {
     "ename": "KeyboardInterrupt",
     "evalue": "",
     "output_type": "error",
     "traceback": [
      "\u001b[31m---------------------------------------------------------------------------\u001b[39m",
      "\u001b[31mKeyboardInterrupt\u001b[39m                         Traceback (most recent call last)",
      "\u001b[36mCell\u001b[39m\u001b[36m \u001b[39m\u001b[32mIn[5]\u001b[39m\u001b[32m, line 1\u001b[39m\n\u001b[32m----> \u001b[39m\u001b[32m1\u001b[39m df = \u001b[43mcdutils\u001b[49m\u001b[43m.\u001b[49m\u001b[43macct_lookup_any_date\u001b[49m\u001b[43m.\u001b[49m\u001b[43mlookup_loop\u001b[49m\u001b[43m.\u001b[49m\u001b[43mquery_df_on_date\u001b[49m\u001b[43m(\u001b[49m\u001b[43mspecified_date\u001b[49m\u001b[43m)\u001b[49m\n",
      "\u001b[36mFile \u001b[39m\u001b[32m~\\Documents\\gh\\bcsb-prod\\cdutils\\cdutils\\acct_lookup_any_date\\lookup_loop.py:34\u001b[39m, in \u001b[36mquery_df_on_date\u001b[39m\u001b[34m(specified_date)\u001b[39m\n\u001b[32m     32\u001b[39m \u001b[38;5;28;01mdef\u001b[39;00m\u001b[38;5;250m \u001b[39m\u001b[34mquery_df_on_date\u001b[39m(specified_date):\n\u001b[32m---> \u001b[39m\u001b[32m34\u001b[39m     data = \u001b[43mcdutils\u001b[49m\u001b[43m.\u001b[49m\u001b[43macct_lookup_any_date\u001b[49m\u001b[43m.\u001b[49m\u001b[43msrc\u001b[49m\u001b[43m.\u001b[49m\u001b[43mfetch_data\u001b[49m\u001b[43m.\u001b[49m\u001b[43mfetch_data\u001b[49m\u001b[43m(\u001b[49m\u001b[43mspecified_date\u001b[49m\u001b[43m)\u001b[49m\n\u001b[32m     36\u001b[39m     \u001b[38;5;66;03m# # # Core transformation pipeline\u001b[39;00m\n\u001b[32m     37\u001b[39m     raw_data = cdutils.acct_lookup_any_date.src.core_transform.main_pipeline(data)\n",
      "\u001b[36mFile \u001b[39m\u001b[32m~\\Documents\\gh\\bcsb-prod\\cdutils\\cdutils\\acct_lookup_any_date\\src\\fetch_data.py:112\u001b[39m, in \u001b[36mfetch_data\u001b[39m\u001b[34m(specified_date)\u001b[39m\n\u001b[32m     96\u001b[39m wh_pers = text(\u001b[33m\"\"\"\u001b[39m\n\u001b[32m     97\u001b[39m \u001b[33mSELECT\u001b[39m\n\u001b[32m     98\u001b[39m \u001b[33m    *\u001b[39m\n\u001b[32m     99\u001b[39m \u001b[33mFROM\u001b[39m\n\u001b[32m    100\u001b[39m \u001b[33m    OSIBANK.WH_PERS a\u001b[39m\n\u001b[32m    101\u001b[39m \u001b[33m\u001b[39m\u001b[33m\"\"\"\u001b[39m)    \n\u001b[32m    103\u001b[39m queries = [\n\u001b[32m    104\u001b[39m     {\u001b[33m'\u001b[39m\u001b[33mkey\u001b[39m\u001b[33m'\u001b[39m:\u001b[33m'\u001b[39m\u001b[33mwh_acctcommon\u001b[39m\u001b[33m'\u001b[39m, \u001b[33m'\u001b[39m\u001b[33msql\u001b[39m\u001b[33m'\u001b[39m:wh_acctcommon, \u001b[33m'\u001b[39m\u001b[33mengine\u001b[39m\u001b[33m'\u001b[39m:\u001b[32m2\u001b[39m},\n\u001b[32m    105\u001b[39m     {\u001b[33m'\u001b[39m\u001b[33mkey\u001b[39m\u001b[33m'\u001b[39m:\u001b[33m'\u001b[39m\u001b[33mwh_loans\u001b[39m\u001b[33m'\u001b[39m, \u001b[33m'\u001b[39m\u001b[33msql\u001b[39m\u001b[33m'\u001b[39m:wh_loans, \u001b[33m'\u001b[39m\u001b[33mengine\u001b[39m\u001b[33m'\u001b[39m:\u001b[32m2\u001b[39m},\n\u001b[32m   (...)\u001b[39m\u001b[32m    108\u001b[39m     {\u001b[33m'\u001b[39m\u001b[33mkey\u001b[39m\u001b[33m'\u001b[39m:\u001b[33m'\u001b[39m\u001b[33mwh_pers\u001b[39m\u001b[33m'\u001b[39m, \u001b[33m'\u001b[39m\u001b[33msql\u001b[39m\u001b[33m'\u001b[39m:wh_pers, \u001b[33m'\u001b[39m\u001b[33mengine\u001b[39m\u001b[33m'\u001b[39m:\u001b[32m1\u001b[39m},\n\u001b[32m    109\u001b[39m ]\n\u001b[32m--> \u001b[39m\u001b[32m112\u001b[39m data = \u001b[43mcdutils\u001b[49m\u001b[43m.\u001b[49m\u001b[43mdatabase\u001b[49m\u001b[43m.\u001b[49m\u001b[43mconnect\u001b[49m\u001b[43m.\u001b[49m\u001b[43mretrieve_data\u001b[49m\u001b[43m(\u001b[49m\u001b[43mqueries\u001b[49m\u001b[43m)\u001b[49m\n\u001b[32m    113\u001b[39m \u001b[38;5;28;01mreturn\u001b[39;00m data\n",
      "\u001b[36mFile \u001b[39m\u001b[32m~\\Documents\\gh\\bcsb-prod\\cdutils\\cdutils\\database\\connect.py:162\u001b[39m, in \u001b[36mretrieve_data\u001b[39m\u001b[34m(queries)\u001b[39m\n\u001b[32m    159\u001b[39m     \u001b[38;5;28;01melse\u001b[39;00m:\n\u001b[32m    160\u001b[39m         \u001b[38;5;28;01mreturn\u001b[39;00m asyncio.run(run_queries())\n\u001b[32m--> \u001b[39m\u001b[32m162\u001b[39m data = \u001b[43mrun_sql_queries\u001b[49m\u001b[43m(\u001b[49m\u001b[43mqueries\u001b[49m\u001b[43m)\u001b[49m\n\u001b[32m    164\u001b[39m \u001b[38;5;28;01mreturn\u001b[39;00m data\n",
      "\u001b[36mFile \u001b[39m\u001b[32m~\\Documents\\gh\\bcsb-prod\\cdutils\\cdutils\\database\\connect.py:158\u001b[39m, in \u001b[36mretrieve_data.<locals>.run_sql_queries\u001b[39m\u001b[34m(queries)\u001b[39m\n\u001b[32m    156\u001b[39m loop = asyncio.get_event_loop()\n\u001b[32m    157\u001b[39m \u001b[38;5;28;01mif\u001b[39;00m loop.is_running():\n\u001b[32m--> \u001b[39m\u001b[32m158\u001b[39m     \u001b[38;5;28;01mreturn\u001b[39;00m \u001b[43mloop\u001b[49m\u001b[43m.\u001b[49m\u001b[43mrun_until_complete\u001b[49m\u001b[43m(\u001b[49m\u001b[43mrun_queries\u001b[49m\u001b[43m(\u001b[49m\u001b[43m)\u001b[49m\u001b[43m)\u001b[49m\n\u001b[32m    159\u001b[39m \u001b[38;5;28;01melse\u001b[39;00m:\n\u001b[32m    160\u001b[39m     \u001b[38;5;28;01mreturn\u001b[39;00m asyncio.run(run_queries())\n",
      "\u001b[36mFile \u001b[39m\u001b[32mc:\\Users\\w322800\\Documents\\gh\\bcsb-prod\\.venv\\Lib\\site-packages\\nest_asyncio.py:92\u001b[39m, in \u001b[36m_patch_loop.<locals>.run_until_complete\u001b[39m\u001b[34m(self, future)\u001b[39m\n\u001b[32m     90\u001b[39m     f._log_destroy_pending = \u001b[38;5;28;01mFalse\u001b[39;00m\n\u001b[32m     91\u001b[39m \u001b[38;5;28;01mwhile\u001b[39;00m \u001b[38;5;129;01mnot\u001b[39;00m f.done():\n\u001b[32m---> \u001b[39m\u001b[32m92\u001b[39m     \u001b[38;5;28;43mself\u001b[39;49m\u001b[43m.\u001b[49m\u001b[43m_run_once\u001b[49m\u001b[43m(\u001b[49m\u001b[43m)\u001b[49m\n\u001b[32m     93\u001b[39m     \u001b[38;5;28;01mif\u001b[39;00m \u001b[38;5;28mself\u001b[39m._stopping:\n\u001b[32m     94\u001b[39m         \u001b[38;5;28;01mbreak\u001b[39;00m\n",
      "\u001b[36mFile \u001b[39m\u001b[32mc:\\Users\\w322800\\Documents\\gh\\bcsb-prod\\.venv\\Lib\\site-packages\\nest_asyncio.py:115\u001b[39m, in \u001b[36m_patch_loop.<locals>._run_once\u001b[39m\u001b[34m(self)\u001b[39m\n\u001b[32m    108\u001b[39m     heappop(scheduled)\n\u001b[32m    110\u001b[39m timeout = (\n\u001b[32m    111\u001b[39m     \u001b[32m0\u001b[39m \u001b[38;5;28;01mif\u001b[39;00m ready \u001b[38;5;129;01mor\u001b[39;00m \u001b[38;5;28mself\u001b[39m._stopping\n\u001b[32m    112\u001b[39m     \u001b[38;5;28;01melse\u001b[39;00m \u001b[38;5;28mmin\u001b[39m(\u001b[38;5;28mmax\u001b[39m(\n\u001b[32m    113\u001b[39m         scheduled[\u001b[32m0\u001b[39m]._when - \u001b[38;5;28mself\u001b[39m.time(), \u001b[32m0\u001b[39m), \u001b[32m86400\u001b[39m) \u001b[38;5;28;01mif\u001b[39;00m scheduled\n\u001b[32m    114\u001b[39m     \u001b[38;5;28;01melse\u001b[39;00m \u001b[38;5;28;01mNone\u001b[39;00m)\n\u001b[32m--> \u001b[39m\u001b[32m115\u001b[39m event_list = \u001b[38;5;28;43mself\u001b[39;49m\u001b[43m.\u001b[49m\u001b[43m_selector\u001b[49m\u001b[43m.\u001b[49m\u001b[43mselect\u001b[49m\u001b[43m(\u001b[49m\u001b[43mtimeout\u001b[49m\u001b[43m)\u001b[49m\n\u001b[32m    116\u001b[39m \u001b[38;5;28mself\u001b[39m._process_events(event_list)\n\u001b[32m    118\u001b[39m end_time = \u001b[38;5;28mself\u001b[39m.time() + \u001b[38;5;28mself\u001b[39m._clock_resolution\n",
      "\u001b[36mFile \u001b[39m\u001b[32m~\\AppData\\Local\\Programs\\Python\\Python311\\Lib\\selectors.py:323\u001b[39m, in \u001b[36mSelectSelector.select\u001b[39m\u001b[34m(self, timeout)\u001b[39m\n\u001b[32m    321\u001b[39m ready = []\n\u001b[32m    322\u001b[39m \u001b[38;5;28;01mtry\u001b[39;00m:\n\u001b[32m--> \u001b[39m\u001b[32m323\u001b[39m     r, w, _ = \u001b[38;5;28;43mself\u001b[39;49m\u001b[43m.\u001b[49m\u001b[43m_select\u001b[49m\u001b[43m(\u001b[49m\u001b[38;5;28;43mself\u001b[39;49m\u001b[43m.\u001b[49m\u001b[43m_readers\u001b[49m\u001b[43m,\u001b[49m\u001b[43m \u001b[49m\u001b[38;5;28;43mself\u001b[39;49m\u001b[43m.\u001b[49m\u001b[43m_writers\u001b[49m\u001b[43m,\u001b[49m\u001b[43m \u001b[49m\u001b[43m[\u001b[49m\u001b[43m]\u001b[49m\u001b[43m,\u001b[49m\u001b[43m \u001b[49m\u001b[43mtimeout\u001b[49m\u001b[43m)\u001b[49m\n\u001b[32m    324\u001b[39m \u001b[38;5;28;01mexcept\u001b[39;00m \u001b[38;5;167;01mInterruptedError\u001b[39;00m:\n\u001b[32m    325\u001b[39m     \u001b[38;5;28;01mreturn\u001b[39;00m ready\n",
      "\u001b[36mFile \u001b[39m\u001b[32m~\\AppData\\Local\\Programs\\Python\\Python311\\Lib\\selectors.py:314\u001b[39m, in \u001b[36mSelectSelector._select\u001b[39m\u001b[34m(self, r, w, _, timeout)\u001b[39m\n\u001b[32m    313\u001b[39m \u001b[38;5;28;01mdef\u001b[39;00m\u001b[38;5;250m \u001b[39m\u001b[34m_select\u001b[39m(\u001b[38;5;28mself\u001b[39m, r, w, _, timeout=\u001b[38;5;28;01mNone\u001b[39;00m):\n\u001b[32m--> \u001b[39m\u001b[32m314\u001b[39m     r, w, x = select.select(r, w, w, timeout)\n\u001b[32m    315\u001b[39m     \u001b[38;5;28;01mreturn\u001b[39;00m r, w + x, []\n",
      "\u001b[31mKeyboardInterrupt\u001b[39m: "
     ]
    }
   ],
   "source": [
    "df = cdutils.acct_lookup_any_date.lookup_loop.query_df_on_date(specified_date)"
   ]
  },
  {
   "cell_type": "code",
   "execution_count": null,
   "id": "ebb1b205",
   "metadata": {},
   "outputs": [],
   "source": []
  }
 ],
 "metadata": {
  "kernelspec": {
   "display_name": "bcsb-prod",
   "language": "python",
   "name": "python3"
  },
  "language_info": {
   "codemirror_mode": {
    "name": "ipython",
    "version": 3
   },
   "file_extension": ".py",
   "mimetype": "text/x-python",
   "name": "python",
   "nbconvert_exporter": "python",
   "pygments_lexer": "ipython3",
   "version": "3.11.9"
  }
 },
 "nbformat": 4,
 "nbformat_minor": 5
}
