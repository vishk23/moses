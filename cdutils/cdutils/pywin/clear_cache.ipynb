{
 "cells": [
  {
   "cell_type": "code",
   "execution_count": null,
   "id": "ffa29fcc",
   "metadata": {},
   "outputs": [],
   "source": [
    "import win32com\n",
    "import shutil\n",
    "\n",
    "print(win32com.__gen_path__)"
   ]
  },
  {
   "cell_type": "code",
   "execution_count": null,
   "id": "f8b669c3",
   "metadata": {},
   "outputs": [],
   "source": [
    "shutil.rmtree(win32com.__gen_path__, ignore_errors=True)"
   ]
  },
  {
   "cell_type": "code",
   "execution_count": null,
   "id": "1030b83f",
   "metadata": {},
   "outputs": [],
   "source": []
  }
 ],
 "metadata": {
  "kernelspec": {
   "display_name": "bcsb-prod",
   "language": "python",
   "name": "python3"
  },
  "language_info": {
   "codemirror_mode": {
    "name": "ipython",
    "version": 3
   },
   "file_extension": ".py",
   "mimetype": "text/x-python",
   "name": "python",
   "nbconvert_exporter": "python",
   "pygments_lexer": "ipython3",
   "version": "3.11.9"
  }
 },
 "nbformat": 4,
 "nbformat_minor": 5
}
