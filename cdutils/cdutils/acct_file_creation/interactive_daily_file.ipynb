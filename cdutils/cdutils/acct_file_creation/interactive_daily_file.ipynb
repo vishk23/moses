{
 "cells": [
  {
   "cell_type": "code",
   "execution_count": null,
   "id": "c117341b",
   "metadata": {},
   "outputs": [],
   "source": [
    "import cdutils.acct_file_creation.core"
   ]
  },
  {
   "cell_type": "code",
   "execution_count": null,
   "id": "dd6e083a",
   "metadata": {},
   "outputs": [],
   "source": [
    "df = cdutils.acct_file_creation.core.query_df_on_date()"
   ]
  },
  {
   "cell_type": "code",
   "execution_count": null,
   "id": "d1406518",
   "metadata": {},
   "outputs": [],
   "source": [
    "df.info()"
   ]
  },
  {
   "cell_type": "code",
   "execution_count": null,
   "id": "2060285c",
   "metadata": {},
   "outputs": [],
   "source": []
  }
 ],
 "metadata": {
  "kernelspec": {
   "display_name": "bcsb-prod",
   "language": "python",
   "name": "python3"
  },
  "language_info": {
   "codemirror_mode": {
    "name": "ipython",
    "version": 3
   },
   "file_extension": ".py",
   "mimetype": "text/x-python",
   "name": "python",
   "nbconvert_exporter": "python",
   "pygments_lexer": "ipython3",
   "version": "3.11.9"
  }
 },
 "nbformat": 4,
 "nbformat_minor": 5
}
