{
 "cells": [
  {
   "cell_type": "code",
   "execution_count": null,
   "id": "c64ba566",
   "metadata": {},
   "outputs": [],
   "source": [
    "\"\"\"\n",
    "Using the lookup query to inspect the DB tables\n",
    "\"\"\"\n",
    "\n",
    "import cdutils.database.connect # type: ignore\n",
    "from sqlalchemy import text # type: ignore\n",
    "\n",
    "def fetch_data():\n",
    "    \"\"\"\n",
    "    Main data query\n",
    "    \"\"\"\n",
    "    # Engine 1\n",
    "    lookup_df = text(\"\"\"\n",
    "    SELECT \n",
    "        *\n",
    "    FROM \n",
    "        sys.all_tab_columns col\n",
    "    \"\"\")\n",
    "\n",
    "    queries = [\n",
    "        # {'key':'acctcommon', 'sql':acctcommon, 'engine':2},\n",
    "        {'key':'lookup_df', 'sql':lookup_df, 'engine':1},\n",
    "    ]\n",
    "\n",
    "\n",
    "    data = cdutils.database.connect.retrieve_data(queries)\n",
    "    return data\n"
   ]
  },
  {
   "cell_type": "code",
   "execution_count": null,
   "id": "f1c3d91e",
   "metadata": {},
   "outputs": [],
   "source": [
    "data = fetch_data()"
   ]
  },
  {
   "cell_type": "code",
   "execution_count": null,
   "id": "1b6dfa80",
   "metadata": {},
   "outputs": [],
   "source": [
    "lookup_df = data['lookup_df'].copy()"
   ]
  },
  {
   "cell_type": "code",
   "execution_count": null,
   "id": "0b255d22",
   "metadata": {},
   "outputs": [],
   "source": [
    "lookup_df"
   ]
  },
  {
   "cell_type": "code",
   "execution_count": null,
   "id": "a322d010",
   "metadata": {},
   "outputs": [],
   "source": [
    "def wh_allroeles_data():\n",
    "    \"\"\"\n",
    "    Main data query\n",
    "    \"\"\"\n",
    "    wh_allroles = text(f\"\"\"\n",
    "    SELECT\n",
    "        *\n",
    "    FROM\n",
    "        OSIBANK.WH_ALLROLES\n",
    "    \"\"\")\n",
    "\n",
    "    queries = [\n",
    "        {'key':'wh_wh_allroles', 'sql':wh_allroles, 'engine':1},\n",
    "    ]\n",
    "\n",
    "\n",
    "    data = cdutils.database.connect.retrieve_data(queries)\n",
    "    return data\n",
    "    "
   ]
  },
  {
   "cell_type": "code",
   "execution_count": null,
   "id": "e8617806",
   "metadata": {},
   "outputs": [],
   "source": [
    "wh_allroles = wh_allroeles_data()"
   ]
  },
  {
   "cell_type": "code",
   "execution_count": null,
   "id": "15fa146c",
   "metadata": {},
   "outputs": [],
   "source": [
    "wh_allroles = wh_allroles['wh_wh_allroles'].copy()"
   ]
  },
  {
   "cell_type": "code",
   "execution_count": null,
   "id": "ba2a2a1d",
   "metadata": {},
   "outputs": [],
   "source": [
    "wh_allroles.info()"
   ]
  },
  {
   "cell_type": "code",
   "execution_count": null,
   "id": "9732d6b0",
   "metadata": {},
   "outputs": [],
   "source": [
    "def acctcommon_data():\n",
    "    \"\"\"\n",
    "    Main data query\n",
    "    \"\"\"\n",
    "    wh_pers = text(f\"\"\"\n",
    "    SELECT\n",
    "        *\n",
    "    FROM\n",
    "        OSIBANK.WH_PERS\n",
    "    \"\"\")\n",
    "\n",
    "    queries = [\n",
    "        {'key':'wh_pers', 'sql':wh_pers, 'engine':1},\n",
    "    ]\n",
    "\n",
    "\n",
    "    data = cdutils.database.connect.retrieve_data(queries)\n",
    "    return data\n",
    "    \n",
    "    \n"
   ]
  },
  {
   "cell_type": "code",
   "execution_count": null,
   "id": "f4cf69c3",
   "metadata": {},
   "outputs": [],
   "source": [
    "acctcommon = acctcommon_data()"
   ]
  },
  {
   "cell_type": "code",
   "execution_count": null,
   "id": "3bc2ae3d",
   "metadata": {},
   "outputs": [],
   "source": [
    "wh_pers = acctcommon['wh_pers'].copy()"
   ]
  },
  {
   "cell_type": "code",
   "execution_count": null,
   "id": "ca5a4652",
   "metadata": {},
   "outputs": [],
   "source": [
    "wh_pers"
   ]
  },
  {
   "cell_type": "code",
   "execution_count": null,
   "id": "bb870ec2",
   "metadata": {},
   "outputs": [],
   "source": [
    "# persuserfields = acctcommon['WH_PERSUSERFIELDS']\n",
    "allroles = acctcommon['WH_ALLROLES']"
   ]
  },
  {
   "cell_type": "code",
   "execution_count": null,
   "id": "c7b79732",
   "metadata": {},
   "outputs": [],
   "source": [
    "data"
   ]
  },
  {
   "cell_type": "code",
   "execution_count": null,
   "id": "3fa6705d",
   "metadata": {},
   "outputs": [],
   "source": [
    "allroles"
   ]
  },
  {
   "cell_type": "code",
   "execution_count": null,
   "id": "842ebb0a",
   "metadata": {},
   "outputs": [],
   "source": [
    "acctcommon.columns"
   ]
  },
  {
   "cell_type": "code",
   "execution_count": null,
   "id": "c4b8413a",
   "metadata": {},
   "outputs": [],
   "source": [
    "acctcommon.columns"
   ]
  }
 ],
 "metadata": {
  "kernelspec": {
   "display_name": ".venv",
   "language": "python",
   "name": "python3"
  },
  "language_info": {
   "codemirror_mode": {
    "name": "ipython",
    "version": 3
   },
   "file_extension": ".py",
   "mimetype": "text/x-python",
   "name": "python",
   "nbconvert_exporter": "python",
   "pygments_lexer": "ipython3",
   "version": "3.11.9"
  }
 },
 "nbformat": 4,
 "nbformat_minor": 5
}
