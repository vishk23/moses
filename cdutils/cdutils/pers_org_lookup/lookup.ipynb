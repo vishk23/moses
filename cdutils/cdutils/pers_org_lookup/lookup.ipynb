{
 "cells": [
  {
   "cell_type": "code",
   "execution_count": 1,
   "id": "dffa887f",
   "metadata": {},
   "outputs": [],
   "source": [
    "## Memorializing this as the easy way to lookup accounts\n"
   ]
  },
  {
   "cell_type": "code",
   "execution_count": 1,
   "id": "9ff3f6b3",
   "metadata": {},
   "outputs": [],
   "source": [
    "\"\"\"\n",
    "Main Entry Point\n",
    "\"\"\"\n",
    "from pathlib import Path\n",
    "from typing import List\n",
    "import argparse\n",
    "from datetime import datetime\n",
    "\n",
    "import pandas as pd # type: ignore\n",
    "\n",
    "import src.fetch_data # type: ignore\n",
    "import src.core_transform # type: ignore\n",
    "import cdutils.pkey_sqlite # type: ignore\n",
    "import cdutils.hhnbr # type: ignore\n",
    "\n",
    "\n",
    "data = src.fetch_data.fetch_data()\n"
   ]
  },
  {
   "cell_type": "code",
   "execution_count": 2,
   "id": "6d6a6906",
   "metadata": {},
   "outputs": [],
   "source": [
    "wh_org = data['wh_org'].copy()\n",
    "wh_pers = data['wh_pers'].copy()"
   ]
  },
  {
   "cell_type": "code",
   "execution_count": null,
   "id": "a0ec21e2",
   "metadata": {},
   "outputs": [],
   "source": [
    "wh_pers"
   ]
  }
 ],
 "metadata": {
  "kernelspec": {
   "display_name": ".venv",
   "language": "python",
   "name": "python3"
  },
  "language_info": {
   "codemirror_mode": {
    "name": "ipython",
    "version": 3
   },
   "file_extension": ".py",
   "mimetype": "text/x-python",
   "name": "python",
   "nbconvert_exporter": "python",
   "pygments_lexer": "ipython3",
   "version": "3.11.9"
  }
 },
 "nbformat": 4,
 "nbformat_minor": 5
}
