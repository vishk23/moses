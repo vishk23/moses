{
 "cells": [
  {
   "cell_type": "code",
   "execution_count": null,
   "id": "dffa887f",
   "metadata": {},
   "outputs": [],
   "source": [
    "## Memorializing this as the easy way to lookup accounts\n"
   ]
  },
  {
   "cell_type": "code",
   "execution_count": null,
   "id": "9ff3f6b3",
   "metadata": {},
   "outputs": [],
   "source": [
    "\"\"\"\n",
    "Main Entry Point\n",
    "\"\"\"\n",
    "from pathlib import Path\n",
    "from typing import List\n",
    "import argparse\n",
    "from datetime import datetime\n",
    "\n",
    "import pandas as pd # type: ignore\n",
    "\n",
    "import src.fetch_data # type: ignore\n",
    "import src.core_transform # type: ignore\n",
    "import cdutils.pkey_sqlite # type: ignore\n",
    "import cdutils.hhnbr # type: ignore\n",
    "\n",
    "\n",
    "data = src.fetch_data.fetch_data()\n",
    "\n",
    "# # # Core transformation pipeline\n",
    "raw_data = src.core_transform.main_pipeline(data)\n",
    "\n",
    "# Raw data with pkey appended\n",
    "raw_data = cdutils.pkey_sqlite.add_pkey(raw_data)\n",
    "raw_data = cdutils.pkey_sqlite.add_ownership_key(raw_data)\n",
    "raw_data = cdutils.pkey_sqlite.add_address_key(raw_data)"
   ]
  },
  {
   "cell_type": "code",
   "execution_count": null,
   "id": "ecdfe665",
   "metadata": {},
   "outputs": [],
   "source": [
    "househldacct = data['househldacct'].copy()\n",
    "raw_data = cdutils.hhnbr.add_hh_nbr(raw_data, househldacct)"
   ]
  },
  {
   "cell_type": "code",
   "execution_count": null,
   "id": "e14fafa9",
   "metadata": {},
   "outputs": [],
   "source": [
    "raw_data"
   ]
  },
  {
   "cell_type": "code",
   "execution_count": null,
   "id": "d67e932e",
   "metadata": {},
   "outputs": [],
   "source": [
    "import cdutils.loans.calculations"
   ]
  },
  {
   "cell_type": "code",
   "execution_count": null,
   "id": "85e9627c",
   "metadata": {},
   "outputs": [],
   "source": [
    "loan_category_df = cdutils.loans.calculations.categorize_loans(raw_data)"
   ]
  },
  {
   "cell_type": "code",
   "execution_count": null,
   "id": "a06303f2",
   "metadata": {},
   "outputs": [],
   "source": [
    "loan_category_df = loan_category_df[['acctnbr','Category']].copy()"
   ]
  },
  {
   "cell_type": "code",
   "execution_count": null,
   "id": "a7dd2a1e",
   "metadata": {},
   "outputs": [],
   "source": [
    "df = pd.merge(raw_data, loan_category_df, on='acctnbr', how='left')"
   ]
  },
  {
   "cell_type": "code",
   "execution_count": null,
   "id": "4660ee33",
   "metadata": {},
   "outputs": [],
   "source": [
    "df"
   ]
  },
  {
   "cell_type": "code",
   "execution_count": null,
   "id": "6372a608",
   "metadata": {},
   "outputs": [],
   "source": [
    "import cdutils.inactive_date\n",
    "\n",
    "df = cdutils.inactive_date.append_inactive_date(df)"
   ]
  },
  {
   "cell_type": "code",
   "execution_count": null,
   "id": "30971f6f",
   "metadata": {},
   "outputs": [],
   "source": [
    "df"
   ]
  },
  {
   "cell_type": "code",
   "execution_count": null,
   "id": "f8b02c90",
   "metadata": {},
   "outputs": [],
   "source": [
    "deposits = df[~df['acctofficer'].isnull()]"
   ]
  },
  {
   "cell_type": "code",
   "execution_count": null,
   "id": "88b33a5e",
   "metadata": {},
   "outputs": [],
   "source": [
    "loans = df[~df['Category'].isnull()]"
   ]
  },
  {
   "cell_type": "code",
   "execution_count": null,
   "id": "1e217f7d",
   "metadata": {},
   "outputs": [],
   "source": [
    "loans['Total Exposure'].sum()"
   ]
  },
  {
   "cell_type": "code",
   "execution_count": null,
   "id": "ebf5e582",
   "metadata": {},
   "outputs": [],
   "source": [
    "deposits['Net Balance'].sum()"
   ]
  },
  {
   "cell_type": "code",
   "execution_count": null,
   "id": "2ec52c52",
   "metadata": {},
   "outputs": [],
   "source": [
    "deposits"
   ]
  },
  {
   "cell_type": "code",
   "execution_count": null,
   "id": "1532de01",
   "metadata": {},
   "outputs": [],
   "source": [
    "df['taxrptfororgnbr'].nunique()"
   ]
  },
  {
   "cell_type": "code",
   "execution_count": null,
   "id": "6d6a6906",
   "metadata": {},
   "outputs": [],
   "source": [
    "wh_pers = data['wh_pers'].copy()"
   ]
  },
  {
   "cell_type": "code",
   "execution_count": null,
   "id": "69e4fb8e",
   "metadata": {},
   "outputs": [],
   "source": [
    "wh_pers"
   ]
  },
  {
   "cell_type": "code",
   "execution_count": null,
   "id": "86e6812b",
   "metadata": {},
   "outputs": [],
   "source": []
  }
 ],
 "metadata": {
  "kernelspec": {
   "display_name": ".venv",
   "language": "python",
   "name": "python3"
  },
  "language_info": {
   "codemirror_mode": {
    "name": "ipython",
    "version": 3
   },
   "file_extension": ".py",
   "mimetype": "text/x-python",
   "name": "python",
   "nbconvert_exporter": "python",
   "pygments_lexer": "ipython3",
   "version": "3.11.9"
  }
 },
 "nbformat": 4,
 "nbformat_minor": 5
}
