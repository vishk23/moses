{
 "cells": [
  {
   "cell_type": "code",
   "execution_count": null,
   "id": "c64ba566",
   "metadata": {},
   "outputs": [],
   "source": [
    "\"\"\"\n",
    "Using the lookup query to inspect the DB tables\n",
    "\"\"\"\n",
    "\n",
    "import cdutils.database.connect # type: ignore\n",
    "from sqlalchemy import text # type: ignore\n",
    "\n",
    "def fetch_data():\n",
    "    \"\"\"\n",
    "    Main data query\n",
    "    \"\"\"\n",
    "    # Engine 1\n",
    "    lookup_df = text(\"\"\"\n",
    "    SELECT \n",
    "        *\n",
    "    FROM \n",
    "        sys.all_tab_columns col\n",
    "    \"\"\")\n",
    "\n",
    "    queries = [\n",
    "        # {'key':'acctcommon', 'sql':acctcommon, 'engine':2},\n",
    "        {'key':'lookup_df', 'sql':lookup_df, 'engine':1},\n",
    "    ]\n",
    "\n",
    "\n",
    "    data = cdutils.database.connect.retrieve_data(queries)\n",
    "    return data\n"
   ]
  },
  {
   "cell_type": "code",
   "execution_count": null,
   "id": "f1c3d91e",
   "metadata": {},
   "outputs": [],
   "source": [
    "data = fetch_data()"
   ]
  },
  {
   "cell_type": "code",
   "execution_count": null,
   "id": "1b6dfa80",
   "metadata": {},
   "outputs": [],
   "source": [
    "lookup_df = data['lookup_df'].copy()"
   ]
  },
  {
   "cell_type": "code",
   "execution_count": null,
   "id": "0b255d22",
   "metadata": {},
   "outputs": [],
   "source": [
    "lookup_df"
   ]
  },
  {
   "cell_type": "code",
   "execution_count": null,
   "id": "ca7a52c0",
   "metadata": {},
   "outputs": [],
   "source": [
    "\"\"\"\n",
    "Using the lookup query to inspect the DB tables\n",
    "\"\"\"\n",
    "\n",
    "import cdutils.database.connect # type: ignore\n",
    "from sqlalchemy import text # type: ignore\n",
    "\n",
    "def fetch_data():\n",
    "    \"\"\"\n",
    "    Main data query\n",
    "    \"\"\"\n",
    "    # Engine 1\n",
    "    acctuserfield = text(\"\"\"\n",
    "    SELECT \n",
    "        *\n",
    "    FROM \n",
    "        WH_ACCTUSERFIELDS a\n",
    "    \"\"\")\n",
    "\n",
    "    queries = [\n",
    "        # {'key':'acctcommon', 'sql':acctcommon, 'engine':2},\n",
    "        {'key':'acctuserfield', 'sql':acctuserfield, 'engine':1},\n",
    "    ]\n",
    "\n",
    "\n",
    "    data = cdutils.database.connect.retrieve_data(queries)\n",
    "    return data\n",
    "\n"
   ]
  },
  {
   "cell_type": "code",
   "execution_count": null,
   "id": "80eb254b",
   "metadata": {},
   "outputs": [],
   "source": [
    "data = fetch_data()"
   ]
  },
  {
   "cell_type": "code",
   "execution_count": null,
   "id": "7b9b9dad",
   "metadata": {},
   "outputs": [],
   "source": [
    "acctuserfield = data['acctuserfield'].copy()"
   ]
  },
  {
   "cell_type": "code",
   "execution_count": null,
   "id": "71bd831a",
   "metadata": {},
   "outputs": [],
   "source": [
    "acctuserfield"
   ]
  },
  {
   "cell_type": "code",
   "execution_count": null,
   "id": "4b40d0c7",
   "metadata": {},
   "outputs": [],
   "source": [
    "cocc_hhnu = acctuserfield[acctuserfield['acctuserfieldcd'] == \"HHNU\"].copy()"
   ]
  },
  {
   "cell_type": "code",
   "execution_count": null,
   "id": "a0dd75e0",
   "metadata": {},
   "outputs": [],
   "source": [
    "from pathlib import Path\n",
    "import pandas as pd\n",
    "CSV_INPUT = Path(r\"Z:\\Data_Analytics\\Libraries\\cdutils\\cdutils\\acct_lookup\\hhnu.csv\")\n",
    "csv_input = pd.read_csv(CSV_INPUT)"
   ]
  },
  {
   "cell_type": "code",
   "execution_count": null,
   "id": "40e1da08",
   "metadata": {},
   "outputs": [],
   "source": [
    "import cdutils.input_cleansing\n",
    "\n",
    "schema_cocc_hhnu = {\n",
    "    'acctnbr': str\n",
    "}\n",
    "\n",
    "cocc_hhnu = cdutils.input_cleansing.enforce_schema(cocc_hhnu, schema_cocc_hhnu)\n",
    "\n",
    "schema_csv_input = {\n",
    "    'acctnbr': str\n",
    "}\n",
    "\n",
    "csv_input = cdutils.input_cleansing.enforce_schema(csv_input, schema_csv_input)\n"
   ]
  },
  {
   "cell_type": "code",
   "execution_count": null,
   "id": "999f2ec5",
   "metadata": {},
   "outputs": [],
   "source": [
    "cocc_hhnu.info()"
   ]
  },
  {
   "cell_type": "code",
   "execution_count": null,
   "id": "4306cf38",
   "metadata": {},
   "outputs": [],
   "source": [
    "csv_input.info()"
   ]
  },
  {
   "cell_type": "code",
   "execution_count": null,
   "id": "bab7f277",
   "metadata": {},
   "outputs": [],
   "source": [
    "merged_df = pd.merge(cocc_hhnu, csv_input, how='outer', on='acctnbr', indicator=True)"
   ]
  },
  {
   "cell_type": "code",
   "execution_count": null,
   "id": "6e04676e",
   "metadata": {},
   "outputs": [],
   "source": [
    "merged_df"
   ]
  },
  {
   "cell_type": "code",
   "execution_count": null,
   "id": "97d355d8",
   "metadata": {},
   "outputs": [],
   "source": [
    "ACCTDATAMART = Path(r\"Z:\\Data_Analytics\\Libraries\\cdutils\\cdutils\\acct_lookup\\acct_datamart.csv\")\n",
    "acctdatamart = pd.read_csv(ACCTDATAMART)"
   ]
  },
  {
   "cell_type": "code",
   "execution_count": null,
   "id": "49b6093b",
   "metadata": {},
   "outputs": [],
   "source": [
    "90361-1833"
   ]
  },
  {
   "cell_type": "code",
   "execution_count": null,
   "id": "179cd180",
   "metadata": {},
   "outputs": [],
   "source": [
    "1- (1833/88528)"
   ]
  },
  {
   "cell_type": "code",
   "execution_count": null,
   "id": "eb5169d3",
   "metadata": {},
   "outputs": [],
   "source": [
    "schema_acctdatamart = {\n",
    "    \"acctnbr\":\"str\"\n",
    "}\n",
    "\n",
    "acctdatamart = cdutils.input_cleansing.enforce_schema(acctdatamart, schema_acctdatamart)"
   ]
  },
  {
   "cell_type": "code",
   "execution_count": null,
   "id": "45e68406",
   "metadata": {},
   "outputs": [],
   "source": [
    "merged_df = pd.merge(merged_df, acctdatamart, how='left', on='acctnbr')"
   ]
  },
  {
   "cell_type": "code",
   "execution_count": null,
   "id": "1020fb0d",
   "metadata": {},
   "outputs": [],
   "source": [
    "merged_df_filtered = merged_df[(merged_df['_merge'] != 'both') & (~merged_df['ownersortname'].isna())].copy()"
   ]
  },
  {
   "cell_type": "code",
   "execution_count": null,
   "id": "fa7ff81e",
   "metadata": {},
   "outputs": [],
   "source": [
    "summary_fails = merged_df_filtered['product'].value_counts().sort_values(ascending=False).reset_index()"
   ]
  },
  {
   "cell_type": "code",
   "execution_count": null,
   "id": "c54806bf",
   "metadata": {},
   "outputs": [],
   "source": [
    "summary_fails"
   ]
  },
  {
   "cell_type": "code",
   "execution_count": null,
   "id": "531da203",
   "metadata": {},
   "outputs": [],
   "source": [
    "merged_df_filtered['acctnbr'].nunique()"
   ]
  },
  {
   "cell_type": "code",
   "execution_count": null,
   "id": "730f89b1",
   "metadata": {},
   "outputs": [],
   "source": [
    "merged_df_filtered"
   ]
  }
 ],
 "metadata": {
  "kernelspec": {
   "display_name": ".venv",
   "language": "python",
   "name": "python3"
  },
  "language_info": {
   "codemirror_mode": {
    "name": "ipython",
    "version": 3
   },
   "file_extension": ".py",
   "mimetype": "text/x-python",
   "name": "python",
   "nbconvert_exporter": "python",
   "pygments_lexer": "ipython3",
   "version": "3.11.9"
  }
 },
 "nbformat": 4,
 "nbformat_minor": 5
}
