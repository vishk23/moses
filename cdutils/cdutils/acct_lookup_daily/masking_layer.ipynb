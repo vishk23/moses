{
 "cells": [
  {
   "cell_type": "code",
   "execution_count": null,
   "id": "dffa887f",
   "metadata": {},
   "outputs": [],
   "source": [
    "## Memorializing this as the easy way to lookup accounts\n"
   ]
  },
  {
   "cell_type": "code",
   "execution_count": null,
   "id": "9ff3f6b3",
   "metadata": {},
   "outputs": [],
   "source": [
    "\"\"\"\n",
    "Main Entry Point\n",
    "\"\"\"\n",
    "from pathlib import Path\n",
    "from typing import List\n",
    "import argparse\n",
    "from datetime import datetime\n",
    "\n",
    "import pandas as pd # type: ignore\n",
    "\n",
    "import src.fetch_data # type: ignore\n",
    "import src.core_transform # type: ignore\n",
    "import cdutils.pkey_sqlite # type: ignore\n",
    "import cdutils.hhnbr # type: ignore\n",
    "\n",
    "\n",
    "data = src.fetch_data.fetch_data()\n",
    "\n",
    "# # # Core transformation pipeline\n",
    "raw_data = src.core_transform.main_pipeline(data)\n",
    "\n",
    "# Raw data with pkey appended\n",
    "raw_data = cdutils.pkey_sqlite.add_pkey(raw_data)\n",
    "raw_data = cdutils.pkey_sqlite.add_ownership_key(raw_data)\n",
    "raw_data = cdutils.pkey_sqlite.add_address_key(raw_data)"
   ]
  },
  {
   "cell_type": "code",
   "execution_count": null,
   "id": "ecdfe665",
   "metadata": {},
   "outputs": [],
   "source": [
    "househldacct = data['househldacct'].copy()\n",
    "raw_data = cdutils.hhnbr.add_hh_nbr(raw_data, househldacct)"
   ]
  },
  {
   "cell_type": "code",
   "execution_count": null,
   "id": "e14fafa9",
   "metadata": {},
   "outputs": [],
   "source": [
    "raw_data"
   ]
  },
  {
   "cell_type": "code",
   "execution_count": null,
   "id": "d67e932e",
   "metadata": {},
   "outputs": [],
   "source": [
    "import cdutils.loans.calculations"
   ]
  },
  {
   "cell_type": "code",
   "execution_count": null,
   "id": "85e9627c",
   "metadata": {},
   "outputs": [],
   "source": [
    "loan_category_df = cdutils.loans.calculations.categorize_loans(raw_data)"
   ]
  },
  {
   "cell_type": "code",
   "execution_count": null,
   "id": "a06303f2",
   "metadata": {},
   "outputs": [],
   "source": [
    "loan_category_df = loan_category_df[['acctnbr','Category']].copy()"
   ]
  },
  {
   "cell_type": "code",
   "execution_count": null,
   "id": "a7dd2a1e",
   "metadata": {},
   "outputs": [],
   "source": [
    "df = pd.merge(raw_data, loan_category_df, on='acctnbr', how='left')"
   ]
  },
  {
   "cell_type": "code",
   "execution_count": null,
   "id": "4660ee33",
   "metadata": {},
   "outputs": [],
   "source": [
    "df"
   ]
  },
  {
   "cell_type": "code",
   "execution_count": null,
   "id": "6372a608",
   "metadata": {},
   "outputs": [],
   "source": [
    "import cdutils.inactive_date\n",
    "\n",
    "df = cdutils.inactive_date.append_inactive_date(df)"
   ]
  },
  {
   "cell_type": "code",
   "execution_count": null,
   "id": "30971f6f",
   "metadata": {},
   "outputs": [],
   "source": [
    "df"
   ]
  },
  {
   "cell_type": "code",
   "execution_count": null,
   "id": "9eb2f0ee",
   "metadata": {},
   "outputs": [],
   "source": [
    "pers = data['wh_pers'].copy()"
   ]
  },
  {
   "cell_type": "code",
   "execution_count": null,
   "id": "8327f717",
   "metadata": {},
   "outputs": [],
   "source": [
    "df.info()"
   ]
  },
  {
   "cell_type": "code",
   "execution_count": null,
   "id": "67859a2a",
   "metadata": {},
   "outputs": [],
   "source": [
    "import src.additional_fields\n",
    "\n",
    "additional_fields = src.additional_fields.fetch_data()"
   ]
  },
  {
   "cell_type": "code",
   "execution_count": null,
   "id": "16b72bcf",
   "metadata": {},
   "outputs": [],
   "source": [
    "additional_fields_to_append = additional_fields['wh_acctcommon'].copy()"
   ]
  },
  {
   "cell_type": "code",
   "execution_count": null,
   "id": "39eff790",
   "metadata": {},
   "outputs": [],
   "source": [
    "import cdutils.input_cleansing\n",
    "\n",
    "additional_fields_to_append_schema = {\n",
    "    'acctnbr':'str'\n",
    "}\n",
    "\n",
    "additional_fields_to_append = cdutils.input_cleansing.enforce_schema(additional_fields_to_append, additional_fields_to_append_schema)"
   ]
  },
  {
   "cell_type": "code",
   "execution_count": null,
   "id": "e95572f3",
   "metadata": {},
   "outputs": [],
   "source": [
    "df = pd.merge(df, additional_fields_to_append, how='left', on='acctnbr')"
   ]
  },
  {
   "cell_type": "code",
   "execution_count": null,
   "id": "3db1d6f5",
   "metadata": {},
   "outputs": [],
   "source": [
    "df"
   ]
  },
  {
   "cell_type": "code",
   "execution_count": null,
   "id": "d7aee2f6",
   "metadata": {},
   "outputs": [],
   "source": [
    "# OUTPUT_PATH = Path('acct_table.csv')\n",
    "# df.to_csv(OUTPUT_PATH, index=False)"
   ]
  },
  {
   "cell_type": "code",
   "execution_count": null,
   "id": "9c9ebe21",
   "metadata": {},
   "outputs": [],
   "source": [
    "import hashlib"
   ]
  },
  {
   "cell_type": "code",
   "execution_count": null,
   "id": "ed7b6842",
   "metadata": {},
   "outputs": [],
   "source": [
    "def mask_pii(data, columns_to_mask, length=10):\n",
    "    \"\"\"\n",
    "    Create a masking layer\n",
    "\n",
    "    Pass in a dataframe to blackbox abstraction and get a dataframe returned with masked PII in specified fields\n",
    "\n",
    "    Parameters:\n",
    "    - data: raw data\n",
    "    - columns_to_mask: list of columns\n",
    "    - length: length of hash (10+ is recommended based on size of the data)\n",
    "    \"\"\"\n",
    "    df_hashed = data.copy()\n",
    "\n",
    "    for col in columns_to_mask:\n",
    "        if col in df_hashed.columns:\n",
    "            df_hashed[col] = df_hashed[col].astype(str).apply(\n",
    "                lambda x: hashlib.sha256(x.encode('utf-8')).hexdigest()[:length]\n",
    "            )\n",
    "        else:\n",
    "            raise ValueError(f\"Column {col} not found in dataframe passed in\")\n",
    "        \n",
    "    return df_hashed"
   ]
  },
  {
   "cell_type": "code",
   "execution_count": null,
   "id": "43c36dd2",
   "metadata": {},
   "outputs": [],
   "source": [
    "columns_to_mask = [\n",
    "    'acctnbr',\n",
    "    'ownersortname',\n",
    "    'loanofficer',\n",
    "    'acctofficer',\n",
    "    'taxrptfororgnbr',\n",
    "    'taxrptforpersnbr'\n",
    "    ]\n",
    "\n",
    "masked_df = mask_pii(df, columns_to_mask)"
   ]
  },
  {
   "cell_type": "code",
   "execution_count": null,
   "id": "48d6d5f9",
   "metadata": {},
   "outputs": [],
   "source": [
    "masked_df"
   ]
  },
  {
   "cell_type": "code",
   "execution_count": null,
   "id": "c1d1b499",
   "metadata": {},
   "outputs": [],
   "source": [
    "transposed_df = masked_df.head(3).T.reset_index()"
   ]
  },
  {
   "cell_type": "code",
   "execution_count": null,
   "id": "590f63b8",
   "metadata": {},
   "outputs": [],
   "source": [
    "transposed_df"
   ]
  },
  {
   "cell_type": "code",
   "execution_count": null,
   "id": "2bf36e6e",
   "metadata": {},
   "outputs": [],
   "source": [
    "OUTPUT_PATH = Path('masked_acct_table.csv')\n",
    "masked_df.to_csv(OUTPUT_PATH, index=False)"
   ]
  },
  {
   "cell_type": "code",
   "execution_count": null,
   "id": "4a079f0e",
   "metadata": {},
   "outputs": [],
   "source": []
  }
 ],
 "metadata": {
  "kernelspec": {
   "display_name": ".venv",
   "language": "python",
   "name": "python3"
  },
  "language_info": {
   "codemirror_mode": {
    "name": "ipython",
    "version": 3
   },
   "file_extension": ".py",
   "mimetype": "text/x-python",
   "name": "python",
   "nbconvert_exporter": "python",
   "pygments_lexer": "ipython3",
   "version": "3.11.9"
  }
 },
 "nbformat": 4,
 "nbformat_minor": 5
}
