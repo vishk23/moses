{
 "cells": [
  {
   "cell_type": "code",
   "execution_count": null,
   "id": "c64ba566",
   "metadata": {},
   "outputs": [],
   "source": [
    "\"\"\"\n",
    "Using the lookup query to inspect the DB tables\n",
    "\"\"\"\n",
    "\n",
    "import cdutils.database.connect # type: ignore\n",
    "from sqlalchemy import text # type: ignore\n",
    "\n",
    "def fetch_data():\n",
    "    \"\"\"\n",
    "    Main data query\n",
    "    \"\"\"\n",
    "    # Engine 1\n",
    "    lookup_df = text(\"\"\"\n",
    "    SELECT \n",
    "        *\n",
    "    FROM \n",
    "        sys.all_tab_columns col\n",
    "    \"\"\")\n",
    "\n",
    "    queries = [\n",
    "        # {'key':'acctcommon', 'sql':acctcommon, 'engine':2},\n",
    "        {'key':'lookup_df', 'sql':lookup_df, 'engine':1},\n",
    "    ]\n",
    "\n",
    "\n",
    "    data = cdutils.database.connect.retrieve_data(queries)\n",
    "    return data\n"
   ]
  },
  {
   "cell_type": "code",
   "execution_count": null,
   "id": "f1c3d91e",
   "metadata": {},
   "outputs": [],
   "source": [
    "data = fetch_data()"
   ]
  },
  {
   "cell_type": "code",
   "execution_count": null,
   "id": "1b6dfa80",
   "metadata": {},
   "outputs": [],
   "source": [
    "lookup_df = data['lookup_df'].copy()"
   ]
  },
  {
   "cell_type": "code",
   "execution_count": null,
   "id": "0b255d22",
   "metadata": {},
   "outputs": [],
   "source": [
    "lookup_df"
   ]
  },
  {
   "cell_type": "code",
   "execution_count": null,
   "id": "9ef0f717",
   "metadata": {},
   "outputs": [],
   "source": [
    "import cdutils.database.connect # type: ignore\n",
    "from sqlalchemy import text # type: ignore\n",
    "from datetime import datetime\n",
    "from typing import Optional\n",
    "\n",
    "# Define fetch data here using cdutils.database.connect\n",
    "# There are often fetch_data.py files already in project if migrating\n",
    "def fetch_data():\n",
    "    \"\"\"\n",
    "    Main data query\n",
    "    \"\"\"\n",
    "    \n",
    "    wh_addr = text(f\"\"\"\n",
    "    SELECT\n",
    "        *\n",
    "    FROM\n",
    "        OSIBANK.WH_ADDR a\n",
    "    FETCH FIRST 100000 ROWS ONLY    \n",
    "    \"\"\")    \n",
    "    # vieworgtaxid = text(f\"\"\"\n",
    "    # SELECT\n",
    "    #     *\n",
    "    # FROM\n",
    "    #     OSIBANK.VIEWORGTAXID a\n",
    "    # \"\"\")\n",
    "\n",
    "    queries = [\n",
    "        {'key':'wh_addr', 'sql':wh_addr, 'engine':1},\n",
    "        # {'key':'vieworgtaxid', 'sql':vieworgtaxid, 'engine':1},\n",
    "    ]\n",
    "\n",
    "\n",
    "    data = cdutils.database.connect.retrieve_data(queries)\n",
    "    return data\n"
   ]
  },
  {
   "cell_type": "code",
   "execution_count": null,
   "id": "013b1e70",
   "metadata": {},
   "outputs": [],
   "source": [
    "addr = fetch_data()"
   ]
  },
  {
   "cell_type": "code",
   "execution_count": null,
   "id": "396b6034",
   "metadata": {},
   "outputs": [],
   "source": []
  },
  {
   "cell_type": "code",
   "execution_count": null,
   "id": "ca4d0e2f",
   "metadata": {},
   "outputs": [],
   "source": [
    "addr = addr['wh_addr'].copy()\n",
    "addr"
   ]
  },
  {
   "cell_type": "code",
   "execution_count": null,
   "id": "0f9c2d9c",
   "metadata": {},
   "outputs": [],
   "source": [
    "addr['addrlinetypdesc1'].unique()"
   ]
  },
  {
   "cell_type": "code",
   "execution_count": null,
   "id": "45364cad",
   "metadata": {},
   "outputs": [],
   "source": [
    "STREET_TYPES - { }"
   ]
  }
 ],
 "metadata": {
  "kernelspec": {
   "display_name": "bcsb-prod",
   "language": "python",
   "name": "python3"
  },
  "language_info": {
   "codemirror_mode": {
    "name": "ipython",
    "version": 3
   },
   "file_extension": ".py",
   "mimetype": "text/x-python",
   "name": "python",
   "nbconvert_exporter": "python",
   "pygments_lexer": "ipython3",
   "version": "3.11.9"
  }
 },
 "nbformat": 4,
 "nbformat_minor": 5
}
