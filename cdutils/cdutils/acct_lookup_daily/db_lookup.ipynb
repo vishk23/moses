{
 "cells": [
  {
   "cell_type": "code",
   "execution_count": null,
   "id": "c64ba566",
   "metadata": {},
   "outputs": [],
   "source": [
    "\"\"\"\n",
    "Using the lookup query to inspect the DB tables\n",
    "\"\"\"\n",
    "\n",
    "import cdutils.database.connect # type: ignore\n",
    "from sqlalchemy import text # type: ignore\n",
    "\n",
    "def fetch_data():\n",
    "    \"\"\"\n",
    "    Main data query\n",
    "    \"\"\"\n",
    "    # Engine 1\n",
    "    lookup_df = text(\"\"\"\n",
    "    SELECT \n",
    "        *\n",
    "    FROM \n",
    "        sys.all_tab_columns col\n",
    "    \"\"\")\n",
    "\n",
    "    queries = [\n",
    "        # {'key':'acctcommon', 'sql':acctcommon, 'engine':2},\n",
    "        {'key':'lookup_df', 'sql':lookup_df, 'engine':1},\n",
    "    ]\n",
    "\n",
    "\n",
    "    data = cdutils.database.connect.retrieve_data(queries)\n",
    "    return data\n"
   ]
  },
  {
   "cell_type": "code",
   "execution_count": null,
   "id": "f1c3d91e",
   "metadata": {},
   "outputs": [],
   "source": [
    "data = fetch_data()"
   ]
  },
  {
   "cell_type": "code",
   "execution_count": null,
   "id": "1b6dfa80",
   "metadata": {},
   "outputs": [],
   "source": [
    "lookup_df = data['lookup_df'].copy()"
   ]
  },
  {
   "cell_type": "code",
   "execution_count": null,
   "id": "0b255d22",
   "metadata": {},
   "outputs": [],
   "source": [
    "lookup_df"
   ]
  },
  {
   "cell_type": "code",
   "execution_count": null,
   "id": "e74482f5",
   "metadata": {},
   "outputs": [],
   "source": []
  }
 ],
 "metadata": {
  "kernelspec": {
   "display_name": "bcsb-prod",
   "language": "python",
   "name": "python3"
  },
  "language_info": {
   "codemirror_mode": {
    "name": "ipython",
    "version": 3
   },
   "file_extension": ".py",
   "mimetype": "text/x-python",
   "name": "python",
   "nbconvert_exporter": "python",
   "pygments_lexer": "ipython3",
   "version": "3.11.9"
  }
 },
 "nbformat": 4,
 "nbformat_minor": 5
}
