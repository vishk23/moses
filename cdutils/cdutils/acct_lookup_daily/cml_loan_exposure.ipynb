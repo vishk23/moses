{
 "cells": [
  {
   "cell_type": "code",
   "execution_count": null,
   "id": "dffa887f",
   "metadata": {},
   "outputs": [],
   "source": [
    "# Necessary dependency for Credit File Review checklist\n",
    "# needs an update for future\n",
    "## Memorializing this as the easy way to lookup accounts\n"
   ]
  },
  {
   "cell_type": "code",
   "execution_count": null,
   "id": "9ff3f6b3",
   "metadata": {},
   "outputs": [],
   "source": [
    "\"\"\"\n",
    "Main Entry Point\n",
    "\"\"\"\n",
    "from pathlib import Path\n",
    "from typing import List\n",
    "import argparse\n",
    "from datetime import datetime\n",
    "\n",
    "import pandas as pd # type: ignore\n",
    "\n",
    "import src.fetch_data # type: ignore\n",
    "import src.core_transform # type: ignore\n",
    "import cdutils.pkey_sqlite # type: ignore\n",
    "import cdutils.hhnbr # type: ignore\n",
    "\n",
    "\n",
    "data = src.fetch_data.fetch_data()\n",
    "\n",
    "# # # Core transformation pipeline\n",
    "raw_data = src.core_transform.main_pipeline(data)\n",
    "\n",
    "# Raw data with pkey appended\n",
    "raw_data = cdutils.pkey_sqlite.add_pkey(raw_data)\n",
    "raw_data = cdutils.pkey_sqlite.add_ownership_key(raw_data)\n",
    "raw_data = cdutils.pkey_sqlite.add_address_key(raw_data)"
   ]
  },
  {
   "cell_type": "code",
   "execution_count": null,
   "id": "ecdfe665",
   "metadata": {},
   "outputs": [],
   "source": [
    "househldacct = data['househldacct'].copy()"
   ]
  },
  {
   "cell_type": "code",
   "execution_count": null,
   "id": "39261e70",
   "metadata": {},
   "outputs": [],
   "source": [
    "raw_data = cdutils.hhnbr.add_hh_nbr(raw_data, househldacct)"
   ]
  },
  {
   "cell_type": "code",
   "execution_count": null,
   "id": "e14fafa9",
   "metadata": {},
   "outputs": [],
   "source": [
    "raw_data"
   ]
  },
  {
   "cell_type": "code",
   "execution_count": null,
   "id": "d67e932e",
   "metadata": {},
   "outputs": [],
   "source": [
    "import cdutils.loans.calculations"
   ]
  },
  {
   "cell_type": "code",
   "execution_count": null,
   "id": "85e9627c",
   "metadata": {},
   "outputs": [],
   "source": [
    "loan_category_df = cdutils.loans.calculations.categorize_loans(raw_data)"
   ]
  },
  {
   "cell_type": "code",
   "execution_count": null,
   "id": "a06303f2",
   "metadata": {},
   "outputs": [],
   "source": [
    "loan_category_df = loan_category_df[['acctnbr','Category']].copy()"
   ]
  },
  {
   "cell_type": "code",
   "execution_count": null,
   "id": "a7dd2a1e",
   "metadata": {},
   "outputs": [],
   "source": [
    "df = pd.merge(raw_data, loan_category_df, on='acctnbr', how='left')"
   ]
  },
  {
   "cell_type": "code",
   "execution_count": null,
   "id": "4660ee33",
   "metadata": {},
   "outputs": [],
   "source": [
    "df"
   ]
  },
  {
   "cell_type": "code",
   "execution_count": null,
   "id": "a06a46f9",
   "metadata": {},
   "outputs": [],
   "source": [
    "df['Category'].unique()"
   ]
  },
  {
   "cell_type": "code",
   "execution_count": null,
   "id": "ef6fb8ee",
   "metadata": {},
   "outputs": [],
   "source": [
    "cml_loans = df[df['Category'].isin([\"CRE\",\"C&I\",\"HOA\"])].copy()"
   ]
  },
  {
   "cell_type": "code",
   "execution_count": null,
   "id": "781e1d6c",
   "metadata": {},
   "outputs": [],
   "source": [
    "pkey_grouping = cml_loans.groupby('portfolio_key')['Total Exposure'].sum().reset_index()"
   ]
  },
  {
   "cell_type": "code",
   "execution_count": null,
   "id": "059cbff5",
   "metadata": {},
   "outputs": [],
   "source": [
    "pkey_grouping"
   ]
  },
  {
   "cell_type": "code",
   "execution_count": null,
   "id": "362659f3",
   "metadata": {},
   "outputs": [],
   "source": [
    "OUTPUT_PATH = Path(r\"Z:\\Data_Analytics\\Libraries\\cdutils\\cdutils\\acct_lookup\\pkey_exposure.csv\")\n",
    "pkey_grouping.to_csv(OUTPUT_PATH)"
   ]
  },
  {
   "cell_type": "code",
   "execution_count": null,
   "id": "a070154e",
   "metadata": {},
   "outputs": [],
   "source": [
    "pkey_slice = df[['acctnbr','portfolio_key']].copy()\n",
    "pkey_slice = pkey_slice.rename(columns={'portfolio_key':'HHNU'}).copy()\n",
    "OUTPUT_PATH = 'hhnu.csv'\n",
    "pkey_slice.to_csv(OUTPUT_PATH, index=False)"
   ]
  },
  {
   "cell_type": "code",
   "execution_count": null,
   "id": "0b9f7134",
   "metadata": {},
   "outputs": [],
   "source": []
  }
 ],
 "metadata": {
  "kernelspec": {
   "display_name": ".venv",
   "language": "python",
   "name": "python3"
  },
  "language_info": {
   "codemirror_mode": {
    "name": "ipython",
    "version": 3
   },
   "file_extension": ".py",
   "mimetype": "text/x-python",
   "name": "python",
   "nbconvert_exporter": "python",
   "pygments_lexer": "ipython3",
   "version": "3.11.9"
  }
 },
 "nbformat": 4,
 "nbformat_minor": 5
}
