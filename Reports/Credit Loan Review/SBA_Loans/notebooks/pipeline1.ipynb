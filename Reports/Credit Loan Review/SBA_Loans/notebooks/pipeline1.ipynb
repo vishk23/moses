{
 "cells": [
  {
   "cell_type": "code",
   "execution_count": null,
   "id": "c1a724e0",
   "metadata": {},
   "outputs": [],
   "source": [
    "import os\n",
    "import sys\n",
    "from pathlib import Path\n",
    "\n",
    "# Navigate to project root (equivalent to cd ..)\n",
    "project_dir = Path(__file__).parent.parent if '__file__' in globals() else Path.cwd().parent\n",
    "os.chdir(project_dir)\n",
    "\n",
    "# Add src directory to Python path for imports\n",
    "src_dir = project_dir / \"src\"\n",
    "if str(src_dir) not in sys.path:\n",
    "    sys.path.insert(0, str(src_dir))\n",
    "\n",
    "# Set environment for dev testing\n",
    "os.environ['REPORT_ENV'] = 'dev'"
   ]
  },
  {
   "cell_type": "code",
   "execution_count": null,
   "id": "de6c09a0",
   "metadata": {},
   "outputs": [],
   "source": [
    "import src.config\n",
    "import pandas\n",
    "from deltalake import DeltaTable\n",
    "from pathlib import Path\n",
    "import pandas as pd"
   ]
  },
  {
   "cell_type": "code",
   "execution_count": null,
   "id": "ab8810ac",
   "metadata": {},
   "outputs": [],
   "source": [
    "# Core logic specific to project/report\n",
    "\n",
    "import pandas as pd\n",
    "from pathlib import Path\n",
    "from deltalake import DeltaTable\n",
    "import src.config\n",
    "\n",
    "# def main_report_creation():\n",
    "# Get Lakehouse tables\n",
    "df = DeltaTable(src.config.SILVER / \"account\").to_pandas()\n",
    "wh_acctloan = DeltaTable(src.config.BRONZE / \"wh_acctloan\").to_pandas()\n",
    "wh_loans = DeltaTable(src.config.BRONZE / \"wh_loans\").to_pandas()\n",
    "\n"
   ]
  },
  {
   "cell_type": "code",
   "execution_count": null,
   "id": "a64a8f9c",
   "metadata": {},
   "outputs": [],
   "source": [
    "df"
   ]
  },
  {
   "cell_type": "code",
   "execution_count": null,
   "id": "8ca09829",
   "metadata": {},
   "outputs": [],
   "source": [
    "# Need to get rtxn & wh_totalpaymentsdue\n",
    "\n",
    "# Filter to SBA loans\n",
    "df = df[df['product'].str.contains('SBA',case=False,na=False)].copy()\n",
    "df = df[[\n",
    "    'acctnbr',\n",
    "    'product',\n",
    "    'curracctstatcd',\n",
    "    'ownersortname',\n",
    "    'noteintrate',\n",
    "    'Net Balance'\n",
    "]].copy()\n",
    "df = df.rename(columns={\n",
    "    'noteintrate':'Interest Rate (%)',\n",
    "    'Net Balance':'Closing Balance'\n",
    "}).copy()\n",
    "\n",
    "wh_acctloan = wh_acctloan[[\n",
    "    'acctnbr',\n",
    "    'currduedate'\n",
    "]].copy()\n",
    "\n",
    "wh_acctloan = wh_acctloan.rename(columns={\n",
    "    'currduedate':'Next Installment Due Date (MM/DD/YYYY)'\n",
    "}).copy()\n",
    "wh_acctloan['Next Installment Due Date (MM/DD/YYYY)'] = pd.to_datetime(wh_acctloan['Next Installment Due Date (MM/DD/YYYY)']).copy()\n",
    "wh_acctloan['acctnbr'] = wh_acctloan['acctnbr'].astype(str)\n",
    "\n",
    "wh_loans = wh_loans[[\n",
    "    'acctnbr',\n",
    "    'intpaidtodate'\n",
    "]].copy()\n",
    "\n",
    "wh_loans = wh_loans.rename(columns={\n",
    "    'intpaidtodate':'Interest Period To (MM/DD/YYYY)'\n",
    "}).copy()\n",
    "wh_loans['acctnbr'] = wh_loans['acctnbr'].astype(str)\n",
    "\n",
    "merged_df = df.merge(wh_acctloan, on='acctnbr', how='left').merge(wh_loans, how='left', on='acctnbr')\n",
    "\n"
   ]
  },
  {
   "cell_type": "code",
   "execution_count": null,
   "id": "c5c74bb1",
   "metadata": {},
   "outputs": [],
   "source": [
    "merged_df"
   ]
  },
  {
   "cell_type": "code",
   "execution_count": null,
   "id": "37cf9336",
   "metadata": {},
   "outputs": [],
   "source": [
    "payments = data['wh_totalpaymentsdue'].copy()"
   ]
  },
  {
   "cell_type": "code",
   "execution_count": null,
   "id": "6fed9c37",
   "metadata": {},
   "outputs": [],
   "source": [
    "payments"
   ]
  },
  {
   "cell_type": "code",
   "execution_count": null,
   "id": "23e22498",
   "metadata": {},
   "outputs": [],
   "source": [
    "wh_acctloan"
   ]
  },
  {
   "cell_type": "code",
   "execution_count": null,
   "id": "6277e5ff",
   "metadata": {},
   "outputs": [],
   "source": [
    "\n",
    "\"\"\"\n",
    "Fetching data module. Aim is import all necessary fields up front, but if needed, you can define another function to be called here.\n",
    "\n",
    "Usage:\n",
    "    import src.cdutils.database\n",
    "\n",
    "You need to set your own date that you want to see in effective date embedded in the SQL Query\n",
    "\"\"\"\n",
    "\n",
    "import cdutils.database.connect # type: ignore\n",
    "from sqlalchemy import text # type: ignore\n",
    "from datetime import datetime, timedelta\n",
    "from typing import Optional, Tuple\n",
    "\n",
    "# Define fetch data here using cdutils.database.connect\n",
    "# There are often fetch_data.py files already in project if migrating\n",
    "# This is an oracle DB so SQL syntax should match oracle.\n",
    "\n",
    "def _get_trailing_month_dates() -> Tuple[datetime.date, datetime.date]:\n",
    "    \"\"\"\n",
    "    Calculates the start and end date of the previous full month.\n",
    "    \n",
    "    Returns:\n",
    "        A tuple containing the start date and end date of the trailing month.\n",
    "    \"\"\"\n",
    "    today = datetime.today()\n",
    "    # 1. Get the first day of the current month\n",
    "    first_day_of_current_month = today.replace(day=1)\n",
    "    # 2. Subtract one day to get the last day of the previous month\n",
    "    end_of_trailing_month = first_day_of_current_month - timedelta(days=1)\n",
    "    # 3. Get the first day of that previous month\n",
    "    start_of_trailing_month = end_of_trailing_month.replace(day=1)\n",
    "    \n",
    "    return start_of_trailing_month, end_of_trailing_month\n",
    "\n",
    "\n",
    "def fetch_rtxn():\n",
    "    \"\"\"\n",
    "    Main data query for WH_RTXN.\n",
    "    \n",
    "    Filters for transactions in the trailing month that meet the criteria:\n",
    "    - RTXNTYPCD = 'PDSB'\n",
    "    - RTXNSTATCD = 'C'\n",
    "    \"\"\"\n",
    "    # Define start & end dates for the trailing month\n",
    "    start_date, end_date = _get_trailing_month_dates()\n",
    "\n",
    "    # NOTE: Using bind parameters (:start_date, :end_date) is safer than f-strings.\n",
    "    wh_rtxn = text(\"\"\"\n",
    "    SELECT\n",
    "        a.*\n",
    "    FROM\n",
    "        COCCDM.WH_RTXN a\n",
    "    WHERE\n",
    "        a.RTXNSTATCD = 'C'\n",
    "        AND a.RUNDATE BETWEEN TO_DATE(:start_date, 'YYYY-MM-DD') AND TO_DATE(:end_date, 'YYYY-MM-DD')\n",
    "    \"\"\")\n",
    "\n",
    "    wh_rtxnbal = text(\"\"\"\n",
    "    SELECT\n",
    "        a.*\n",
    "    FROM\n",
    "        COCCDM.WH_RTXNBAL a\n",
    "    WHERE\n",
    "        a.RUNDATE BETWEEN TO_DATE(:start_date, 'YYYY-MM-DD') AND TO_DATE(:end_date, 'YYYY-MM-DD')\n",
    "    \"\"\")\n",
    "\n",
    "    queries = [\n",
    "        # {\n",
    "        #     'key': 'wh_rtxn',\n",
    "        #     'sql': wh_rtxn.bindparams(\n",
    "        #         start_date=start_date.strftime('%Y-%m-%d'),\n",
    "        #         end_date=end_date.strftime('%Y-%m-%d')\n",
    "        #     ),\n",
    "        #     'engine': 2\n",
    "        # },\n",
    "        {\n",
    "            'key': 'wh_rtxnbal',\n",
    "            'sql': wh_rtxnbal.bindparams(\n",
    "                start_date=start_date.strftime('%Y-%m-%d'),\n",
    "                end_date=end_date.strftime('%Y-%m-%d')\n",
    "            ),\n",
    "            'engine': 2\n",
    "        },    ]\n",
    "\n",
    "    data = cdutils.database.connect.retrieve_data(queries)\n",
    "    return data\n",
    "\n",
    "\n"
   ]
  },
  {
   "cell_type": "code",
   "execution_count": null,
   "id": "d7182736",
   "metadata": {},
   "outputs": [],
   "source": [
    "data = fetch_rtxn()"
   ]
  },
  {
   "cell_type": "code",
   "execution_count": null,
   "id": "e259596d",
   "metadata": {},
   "outputs": [],
   "source": [
    "# rtxn = data['wh_rtxn'].copy()\n",
    "rtxnbal = data['wh_rtxnbal'].copy()"
   ]
  },
  {
   "cell_type": "code",
   "execution_count": null,
   "id": "01682b9a",
   "metadata": {},
   "outputs": [],
   "source": [
    "rtxnbal"
   ]
  },
  {
   "cell_type": "code",
   "execution_count": null,
   "id": "cfb2d3f7",
   "metadata": {},
   "outputs": [],
   "source": [
    "rtxnbal.info()"
   ]
  },
  {
   "cell_type": "code",
   "execution_count": null,
   "id": "aae52091",
   "metadata": {},
   "outputs": [],
   "source": [
    "# Convert 'amt' column to a numeric type. \n",
    "# errors='coerce' will turn any non-numeric values into NaN (Not a Number)\n",
    "rtxnbal['amt'] = pd.to_numeric(rtxnbal['amt'], errors='coerce')\n",
    "\n",
    "# It's good practice to fill any resulting NaN values, for instance with 0\n",
    "rtxnbal['amt'] = rtxnbal['amt'].fillna(0)"
   ]
  },
  {
   "cell_type": "code",
   "execution_count": null,
   "id": "3851ac16",
   "metadata": {},
   "outputs": [],
   "source": [
    "# 1. Filter for 'PDSB' transaction types\n",
    "advances_raw = rtxnbal[rtxnbal['rtxntypcd'] == 'PDSB'].copy()\n",
    "\n",
    "# 2. Group by account number and sum the amount\n",
    "df_advances = advances_raw.groupby('acctnbr')['amt'].sum().reset_index()\n",
    "\n",
    "# 3. Rename the column for clarity\n",
    "df_advances = df_advances.rename(columns={'amt': 'Advances'})\n",
    "\n",
    "# 4. Convert acctnbr to string for merging\n",
    "df_advances['acctnbr'] = df_advances['acctnbr'].astype(str)\n",
    "\n",
    "print(\"\\n--- Advances DataFrame (df_advances) ---\")\n",
    "print(df_advances)"
   ]
  },
  {
   "cell_type": "code",
   "execution_count": null,
   "id": "e6792a46",
   "metadata": {},
   "outputs": [],
   "source": [
    "# 1. Filter for 'SPMT' transaction types\n",
    "spmt_raw = rtxnbal[rtxnbal['rtxntypcd'] == 'SPMT'].copy()\n",
    "\n",
    "# 2. Group by account and balance category, then sum the amounts\n",
    "payments = spmt_raw.groupby(['acctnbr', 'baltypcd'])['amt'].sum()\n",
    "\n",
    "# 3. Unstack the 'balcatcd' level to turn 'BAL' and 'INT' into columns\n",
    "df_payments = payments.unstack(level='baltypcd').fillna(0).reset_index()\n",
    "\n",
    "# 4. Rename columns for clarity\n",
    "df_payments = df_payments.rename(columns={\n",
    "    'BAL': 'Principal Paid',\n",
    "    'INT': 'Interest Paid'\n",
    "})\n",
    "\n",
    "# 5. Convert acctnbr to string for merging\n",
    "df_payments['acctnbr'] = df_payments['acctnbr'].astype(str)\n",
    "\n",
    "print(\"\\n--- Combined Payments DataFrame ---\")\n",
    "print(df_payments)"
   ]
  },
  {
   "cell_type": "code",
   "execution_count": null,
   "id": "3b5aaae1",
   "metadata": {},
   "outputs": [],
   "source": [
    "df_advances"
   ]
  },
  {
   "cell_type": "code",
   "execution_count": null,
   "id": "194cd345",
   "metadata": {},
   "outputs": [],
   "source": [
    "df_payments"
   ]
  },
  {
   "cell_type": "code",
   "execution_count": null,
   "id": "510617ae",
   "metadata": {},
   "outputs": [],
   "source": [
    "# Optional: Create two fully separate DataFrames as requested\n",
    "df_principal = df_payments[['acctnbr', 'Principal Paid']].copy()\n",
    "df_interest = df_payments[['acctnbr', 'Interest Paid']].copy()\n",
    "\n",
    "print(\"\\n--- Principal Paid DataFrame (df_principal) ---\")\n",
    "print(df_principal)\n",
    "\n",
    "print(\"\\n--- Interest Paid DataFrame (df_interest) ---\")\n",
    "print(df_interest)"
   ]
  },
  {
   "cell_type": "code",
   "execution_count": null,
   "id": "a6368fd4",
   "metadata": {},
   "outputs": [],
   "source": [
    "# Ensure the key in the main DataFrame is also a string\n",
    "merged_df['acctnbr'] = merged_df['acctnbr'].astype(str)\n",
    "\n",
    "# 1. Merge the advances\n",
    "final_df = pd.merge(merged_df, df_advances, on='acctnbr', how='left')\n",
    "\n",
    "# 2. Merge the payments (using the combined df_payments is more efficient)\n",
    "final_df = pd.merge(final_df, df_payments, on='acctnbr', how='left')\n",
    "\n",
    "# 3. After merging, fill any NaN values with 0\n",
    "# This handles accounts that were in merged_df but had no payments/advances\n",
    "final_df[['Advances', 'Principal Paid', 'Interest Paid']] = final_df[['Advances', 'Principal Paid', 'Interest Paid']].fillna(0)\n",
    "\n",
    "\n",
    "print(\"\\n--- Final Merged DataFrame ---\")\n",
    "print(final_df)"
   ]
  },
  {
   "cell_type": "code",
   "execution_count": null,
   "id": "25307bce",
   "metadata": {},
   "outputs": [],
   "source": [
    "final_df"
   ]
  },
  {
   "cell_type": "code",
   "execution_count": null,
   "id": "7a69a442",
   "metadata": {},
   "outputs": [],
   "source": []
  }
 ],
 "metadata": {
  "kernelspec": {
   "display_name": "bcsb-prod",
   "language": "python",
   "name": "python3"
  },
  "language_info": {
   "codemirror_mode": {
    "name": "ipython",
    "version": 3
   },
   "file_extension": ".py",
   "mimetype": "text/x-python",
   "name": "python",
   "nbconvert_exporter": "python",
   "pygments_lexer": "ipython3",
   "version": "3.11.9"
  }
 },
 "nbformat": 4,
 "nbformat_minor": 5
}
