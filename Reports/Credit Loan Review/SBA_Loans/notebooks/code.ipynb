{
 "cells": [
  {
   "cell_type": "code",
   "execution_count": null,
   "id": "c1a724e0",
   "metadata": {},
   "outputs": [],
   "source": [
    "import os\n",
    "import sys\n",
    "from pathlib import Path\n",
    "\n",
    "# Navigate to project root (equivalent to cd ..)\n",
    "project_dir = Path(__file__).parent.parent if '__file__' in globals() else Path.cwd().parent\n",
    "os.chdir(project_dir)\n",
    "\n",
    "# Add src directory to Python path for imports\n",
    "src_dir = project_dir / \"src\"\n",
    "if str(src_dir) not in sys.path:\n",
    "    sys.path.insert(0, str(src_dir))\n",
    "\n",
    "# Set environment for dev testing\n",
    "os.environ['REPORT_ENV'] = 'dev'"
   ]
  },
  {
   "cell_type": "code",
   "execution_count": null,
   "id": "de6c09a0",
   "metadata": {},
   "outputs": [],
   "source": [
    "import src.config\n",
    "import pandas\n",
    "from deltalake import DeltaTable\n",
    "from pathlib import Path\n",
    "import pandas as pd"
   ]
  },
  {
   "cell_type": "code",
   "execution_count": null,
   "id": "c8d21e42",
   "metadata": {},
   "outputs": [],
   "source": [
    "TEMPLATE_PATH = Path(r\"C:\\Users\\w322800\\Documents\\gh\\bcsb-prod\\Reports\\Credit Loan Review\\SBA_Loans\\docs\\sba loans.xlsx\")"
   ]
  },
  {
   "cell_type": "code",
   "execution_count": null,
   "id": "8eb5f570",
   "metadata": {},
   "outputs": [],
   "source": [
    "template = pd.read_excel(TEMPLATE_PATH)"
   ]
  },
  {
   "cell_type": "code",
   "execution_count": null,
   "id": "b6cf34ac",
   "metadata": {},
   "outputs": [],
   "source": [
    "template.info()"
   ]
  },
  {
   "cell_type": "code",
   "execution_count": null,
   "id": "b7ccd35f",
   "metadata": {},
   "outputs": [],
   "source": [
    "template['Products'].unique()"
   ]
  },
  {
   "cell_type": "code",
   "execution_count": null,
   "id": "af75f3b6",
   "metadata": {},
   "outputs": [],
   "source": [
    "TABLE_PATH = src.config.SILVER / \"account\""
   ]
  },
  {
   "cell_type": "code",
   "execution_count": null,
   "id": "f2dce6c5",
   "metadata": {},
   "outputs": [],
   "source": [
    "df = DeltaTable(TABLE_PATH).to_pandas()"
   ]
  },
  {
   "cell_type": "code",
   "execution_count": null,
   "id": "3b9207f1",
   "metadata": {},
   "outputs": [],
   "source": [
    "df = df[df['product'].str.contains('SBA', case=False, na=False)].copy()"
   ]
  },
  {
   "cell_type": "code",
   "execution_count": null,
   "id": "72bfaa7d",
   "metadata": {},
   "outputs": [],
   "source": [
    "df"
   ]
  },
  {
   "cell_type": "code",
   "execution_count": null,
   "id": "e0706663",
   "metadata": {},
   "outputs": [],
   "source": [
    "wh_acctcommon = DeltaTable(src.config.BRONZE / \"wh_acctcommon\").to_pandas()"
   ]
  },
  {
   "cell_type": "code",
   "execution_count": null,
   "id": "a2481005",
   "metadata": {},
   "outputs": [],
   "source": [
    "wh_acctcommon"
   ]
  },
  {
   "cell_type": "code",
   "execution_count": null,
   "id": "4ce7c9aa",
   "metadata": {},
   "outputs": [],
   "source": [
    "wh_acctloan = DeltaTable(src.config.BRONZE / \"wh_acctloan\").to_pandas()"
   ]
  },
  {
   "cell_type": "code",
   "execution_count": null,
   "id": "b99149ec",
   "metadata": {},
   "outputs": [],
   "source": [
    "wh_acctloan"
   ]
  },
  {
   "cell_type": "code",
   "execution_count": null,
   "id": "c882ffd6",
   "metadata": {},
   "outputs": [],
   "source": [
    "metadata1 = DeltaTable(src.config.BRONZE / \"metadata_lookup_engine1\").to_pandas()"
   ]
  },
  {
   "cell_type": "code",
   "execution_count": null,
   "id": "9eea2805",
   "metadata": {},
   "outputs": [],
   "source": [
    "metadata1"
   ]
  },
  {
   "cell_type": "code",
   "execution_count": null,
   "id": "4796dcc4",
   "metadata": {},
   "outputs": [],
   "source": [
    "metadata2 = DeltaTable(src.config.BRONZE / \"metadata_lookup_engine2\").to_pandas()"
   ]
  },
  {
   "cell_type": "code",
   "execution_count": null,
   "id": "10e980e4",
   "metadata": {},
   "outputs": [],
   "source": [
    "metadata2"
   ]
  },
  {
   "cell_type": "code",
   "execution_count": null,
   "id": "548abef7",
   "metadata": {},
   "outputs": [],
   "source": [
    "import numpy as np"
   ]
  },
  {
   "cell_type": "code",
   "execution_count": null,
   "id": "ca82df8a",
   "metadata": {},
   "outputs": [],
   "source": [
    "wh_acctloan['match'] = np.where(wh_acctloan['currduedate'].astype(str) == wh_acctloan['nextduedate'].astype(str),1,0)"
   ]
  },
  {
   "cell_type": "code",
   "execution_count": null,
   "id": "99c613e6",
   "metadata": {},
   "outputs": [],
   "source": [
    "wh_acctloan"
   ]
  },
  {
   "cell_type": "code",
   "execution_count": null,
   "id": "a0da5de8",
   "metadata": {},
   "outputs": [],
   "source": [
    "wh_loans = DeltaTable(src.config.BRONZE / \"wh_loans\").to_pandas()"
   ]
  },
  {
   "cell_type": "code",
   "execution_count": null,
   "id": "2473aa10",
   "metadata": {},
   "outputs": [],
   "source": [
    "wh_loans"
   ]
  },
  {
   "cell_type": "code",
   "execution_count": null,
   "id": "57f1245a",
   "metadata": {},
   "outputs": [],
   "source": [
    "wh_rtxn = DeltaTable(src.config.BRONZE / \"wh_rtxn\").to_pandas()"
   ]
  },
  {
   "cell_type": "code",
   "execution_count": null,
   "id": "d0374ea3",
   "metadata": {},
   "outputs": [],
   "source": [
    "wh_rtxn"
   ]
  },
  {
   "cell_type": "code",
   "execution_count": null,
   "id": "273f5216",
   "metadata": {},
   "outputs": [],
   "source": []
  }
 ],
 "metadata": {
  "kernelspec": {
   "display_name": "bcsb-prod",
   "language": "python",
   "name": "python3"
  },
  "language_info": {
   "codemirror_mode": {
    "name": "ipython",
    "version": 3
   },
   "file_extension": ".py",
   "mimetype": "text/x-python",
   "name": "python",
   "nbconvert_exporter": "python",
   "pygments_lexer": "ipython3",
   "version": "3.11.9"
  }
 },
 "nbformat": 4,
 "nbformat_minor": 5
}
