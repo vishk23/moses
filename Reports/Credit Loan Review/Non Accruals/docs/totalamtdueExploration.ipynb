{
 "cells": [
  {
   "cell_type": "code",
   "execution_count": null,
   "id": "a4718e09",
   "metadata": {},
   "outputs": [],
   "source": [
    "import get_total_past_due #type: ignore\n",
    "import fetch_data #type: ignore\n",
    "import fetch_subsequent_data #type: ignore\n",
    "import pandas as pd"
   ]
  },
  {
   "cell_type": "code",
   "execution_count": null,
   "id": "2e26d85e",
   "metadata": {},
   "outputs": [],
   "source": [
    "data = fetch_data.fetch_data()"
   ]
  },
  {
   "cell_type": "code",
   "execution_count": null,
   "id": "c4d5d909",
   "metadata": {},
   "outputs": [],
   "source": [
    "wh_acctcommon = data['wh_acctcommon']\n",
    "effdate1 = wh_acctcommon['effdate'].iloc[-1]\n",
    "effdate2 = wh_acctcommon['effdate'].iloc[-2]"
   ]
  },
  {
   "cell_type": "code",
   "execution_count": null,
   "id": "04e6b0ad",
   "metadata": {},
   "outputs": [],
   "source": [
    "data2 = fetch_subsequent_data.fetch_subsequent_data(effdate1, effdate2)"
   ]
  },
  {
   "cell_type": "code",
   "execution_count": null,
   "id": "bf3df3ef",
   "metadata": {},
   "outputs": [],
   "source": [
    "totalpayments = get_total_past_due.isolate_total_past_due(data['totalpaymentsdue'])"
   ]
  },
  {
   "cell_type": "code",
   "execution_count": null,
   "id": "8a093c2f",
   "metadata": {},
   "outputs": [],
   "source": [
    "curr_acctcommon, prior_acctcommon = data2['wh_acctcommon'], data2['wh_acctcommon2']\n",
    "curr_acctloan, prior_acctloan = data2['wh_acctloan'], data2['wh_acctloan2']"
   ]
  },
  {
   "cell_type": "code",
   "execution_count": null,
   "id": "7dc278bb",
   "metadata": {},
   "outputs": [],
   "source": [
    "curr_acctloan['acctnbr'] = curr_acctloan['acctnbr'].astype(str)\n",
    "prior_acctloan['acctnbr'] = prior_acctloan['acctnbr'].astype(str)\n",
    "totalpayments['acctnbr'] = totalpayments['acctnbr'].astype(str)\n",
    "\n",
    "curr_acctloan = pd.merge(curr_acctloan, totalpayments, how='left', on='acctnbr')\n",
    "prior_acctloan = pd.merge(prior_acctloan, totalpayments, how='left', on='acctnbr')"
   ]
  },
  {
   "cell_type": "code",
   "execution_count": null,
   "id": "8c7ff4d3",
   "metadata": {},
   "outputs": [],
   "source": [
    "totalpayments"
   ]
  },
  {
   "cell_type": "code",
   "execution_count": null,
   "id": "c88c4f8f",
   "metadata": {},
   "outputs": [],
   "source": [
    "curr_acctloan"
   ]
  },
  {
   "cell_type": "code",
   "execution_count": null,
   "id": "abf42fae",
   "metadata": {},
   "outputs": [],
   "source": [
    "totalpayments"
   ]
  },
  {
   "cell_type": "code",
   "execution_count": null,
   "id": "308c4dd9",
   "metadata": {},
   "outputs": [],
   "source": [
    "from datetime import datetime\n",
    "\n",
    "\n",
    "copy_of_data = data['totalpaymentsdue'].copy()\n",
    "now = datetime.now()\n",
    "first_day_of_month = datetime(now.year, now.month, 1, 0, 0, 0)\n",
    "formatted_date = first_day_of_month.strftime(\"%Y-%m-%d %H:%M:%S\")\n",
    "\n",
    "copy_of_data['rundate'] = formatted_date"
   ]
  },
  {
   "cell_type": "code",
   "execution_count": null,
   "id": "4941f9be",
   "metadata": {},
   "outputs": [],
   "source": [
    "copy_of_data = data['totalpaymentsdue'].copy()"
   ]
  },
  {
   "cell_type": "code",
   "execution_count": null,
   "id": "0c545100",
   "metadata": {},
   "outputs": [],
   "source": [
    "copy_of_data"
   ]
  },
  {
   "cell_type": "code",
   "execution_count": null,
   "id": "c73c5c78",
   "metadata": {},
   "outputs": [],
   "source": [
    "from datetime import datetime\n",
    "\n",
    "now = datetime.now()\n",
    "first_day_of_month = datetime(now.year, now.month, 1, 0, 0, 0)\n",
    "formatted_date = first_day_of_month.strftime(\"%Y-%m-%d %H:%M:%S\")\n",
    "\n",
    "copy_of_data['rundate'] = formatted_date"
   ]
  },
  {
   "cell_type": "code",
   "execution_count": null,
   "id": "b5acb062",
   "metadata": {},
   "outputs": [],
   "source": [
    "copy_of_data = copy_of_data[copy_of_data['duedate'] < copy_of_data['rundate']]"
   ]
  },
  {
   "cell_type": "code",
   "execution_count": null,
   "id": "6a516f9c",
   "metadata": {},
   "outputs": [],
   "source": [
    "copy_of_data"
   ]
  },
  {
   "cell_type": "code",
   "execution_count": null,
   "id": "570147a9",
   "metadata": {},
   "outputs": [],
   "source": [
    "totalpayments = get_total_past_due.isolate_total_past_due(data['totalpaymentsdue'])"
   ]
  },
  {
   "cell_type": "code",
   "execution_count": null,
   "id": "00559d16",
   "metadata": {},
   "outputs": [],
   "source": [
    "totalpayments"
   ]
  },
  {
   "cell_type": "code",
   "execution_count": null,
   "id": "448ce23e",
   "metadata": {},
   "outputs": [],
   "source": [
    "all_payment_info = data['totalpaymentsdue']\n",
    "all_payment_info"
   ]
  },
  {
   "cell_type": "code",
   "execution_count": null,
   "id": "cccd923b",
   "metadata": {},
   "outputs": [],
   "source": [
    "totalpayments"
   ]
  }
 ],
 "metadata": {
  "kernelspec": {
   "display_name": "bcsb-prod",
   "language": "python",
   "name": "python3"
  },
  "language_info": {
   "codemirror_mode": {
    "name": "ipython",
    "version": 3
   },
   "file_extension": ".py",
   "mimetype": "text/x-python",
   "name": "python",
   "nbconvert_exporter": "python",
   "pygments_lexer": "ipython3",
   "version": "3.11.9"
  }
 },
 "nbformat": 4,
 "nbformat_minor": 5
}
