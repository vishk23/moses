{
 "cells": [
  {
   "cell_type": "code",
   "execution_count": null,
   "id": "5a0cbab1",
   "metadata": {},
   "outputs": [],
   "source": [
    "%pwd"
   ]
  },
  {
   "cell_type": "code",
   "execution_count": null,
   "id": "504342a9",
   "metadata": {},
   "outputs": [],
   "source": [
    "\"\"\"\n",
    "Main Entry Point\n",
    "\"\"\"\n",
    "from pathlib import Path\n",
    "from typing import List\n",
    "from datetime import datetime\n",
    "from decimal import Decimal\n",
    "\n",
    "import pandas as pd # type: ignore\n",
    "import numpy as np\n",
    "\n",
    "import fetch_data # type: ignore\n",
    "import fetch_subsequent_data # type: ignore\n",
    "import get_total_past_due #type: ignore\n",
    "import cdutils.pkey_sqlite # type: ignore\n",
    "import cdutils.hhnbr # type: ignore\n",
    "import cdutils.loans.calculations # type: ignore\n",
    "# import cdutils.selo # type: ignore\n",
    "from _version import __version__"
   ]
  },
  {
   "cell_type": "code",
   "execution_count": null,
   "id": "dcb8ce10",
   "metadata": {},
   "outputs": [],
   "source": [
    "data = fetch_data.fetch_data()"
   ]
  },
  {
   "cell_type": "code",
   "execution_count": null,
   "id": "974c6178",
   "metadata": {},
   "outputs": [],
   "source": [
    "wh_acctcommon = data['wh_acctcommon']"
   ]
  },
  {
   "cell_type": "code",
   "execution_count": null,
   "id": "fe2a4382",
   "metadata": {},
   "outputs": [],
   "source": [
    "effdate1 = wh_acctcommon['effdate'].iloc[-1]\n",
    "effdate2 = wh_acctcommon['effdate'].iloc[-2]"
   ]
  },
  {
   "cell_type": "code",
   "execution_count": null,
   "id": "d36719c4",
   "metadata": {},
   "outputs": [],
   "source": [
    "effdate2"
   ]
  },
  {
   "cell_type": "code",
   "execution_count": null,
   "id": "f95ce096",
   "metadata": {},
   "outputs": [],
   "source": [
    "data2 = fetch_subsequent_data.fetch_subsequent_data(effdate1, effdate2)"
   ]
  },
  {
   "cell_type": "code",
   "execution_count": null,
   "id": "16a4855d",
   "metadata": {},
   "outputs": [],
   "source": [
    "len(data2)"
   ]
  },
  {
   "cell_type": "code",
   "execution_count": null,
   "id": "7c6514d3",
   "metadata": {},
   "outputs": [],
   "source": [
    "curr_acctcommon, prior_acctcommon = data2['wh_acctcommon'], data2['wh_acctcommon2']\n",
    "curr_acctloan, prior_acctloan = data2['wh_acctloan'], data2['wh_acctloan2']"
   ]
  },
  {
   "cell_type": "code",
   "execution_count": null,
   "id": "dc09d3fd",
   "metadata": {},
   "outputs": [],
   "source": [
    "paymentstuff = data['totalpaymentsdue']"
   ]
  },
  {
   "cell_type": "code",
   "execution_count": null,
   "id": "d8c5183f",
   "metadata": {},
   "outputs": [],
   "source": [
    "paymentstuff"
   ]
  },
  {
   "cell_type": "code",
   "execution_count": null,
   "id": "d2130cdc",
   "metadata": {},
   "outputs": [],
   "source": [
    "totalpayments = get_total_past_due.isolate_total_past_due(data['totalpaymentsdue'])\n",
    "\n",
    "curr_acctloan['acctnbr'] = curr_acctloan['acctnbr'].astype(str)\n",
    "prior_acctloan['acctnbr'] = prior_acctloan['acctnbr'].astype(str)\n",
    "totalpayments['acctnbr'] = totalpayments['acctnbr'].astype(str)\n",
    "\n",
    "curr_acctloan = pd.merge(curr_acctloan, totalpayments, how='left', on='acctnbr')\n",
    "curr_acctloan['totalpaymentsdue'] = curr_acctloan['totalpaymentsdue'].fillna(0)\n",
    "prior_acctloan = pd.merge(prior_acctloan, totalpayments, how='left', on='acctnbr')\n",
    "prior_acctloan['totalpaymentsdue'] = prior_acctloan['totalpaymentsdue'].fillna(0)"
   ]
  },
  {
   "cell_type": "code",
   "execution_count": null,
   "id": "6de129b6",
   "metadata": {},
   "outputs": [],
   "source": [
    "curr_acctloan"
   ]
  },
  {
   "cell_type": "code",
   "execution_count": null,
   "id": "69697f9c",
   "metadata": {},
   "outputs": [],
   "source": [
    "def test_pipeline(effdate, acctcommon, acctloan):\n",
    "    acctcommon = acctcommon[acctcommon['effdate'] == effdate]\n",
    "    \n",
    "    acctcommon.loc[acctcommon['currmiaccttypcd'].isin(['CM15', 'CM16']), 'mjaccttypcd'] = 'CNS'\n",
    "\n",
    "    df_for_other_pipeline = pd.merge(acctcommon, acctloan, on='acctnbr', how='left')\n",
    "    \n",
    "    npfm_rows = acctcommon[acctcommon['curracctstatcd'] == \"NPFM\"]\n",
    "    \n",
    "    merged1 = pd.merge(npfm_rows, acctloan, on='acctnbr', how='left')\n",
    "    \n",
    "    return acctloan # NEED TO FILTER ACCTLOAN"
   ]
  },
  {
   "cell_type": "code",
   "execution_count": null,
   "id": "50b775c6",
   "metadata": {},
   "outputs": [],
   "source": [
    "x = test_pipeline(effdate1, curr_acctcommon, curr_acctloan)\n",
    "x"
   ]
  },
  {
   "cell_type": "code",
   "execution_count": null,
   "id": "d3fe70fd",
   "metadata": {},
   "outputs": [],
   "source": [
    "def main_pipeline(effdate, acctcommon, acctloan):\n",
    "    acctcommon = acctcommon[acctcommon['effdate'] == effdate]\n",
    "    \n",
    "    acctcommon.loc[acctcommon['currmiaccttypcd'].isin(['CM15', 'CM16']), 'mjaccttypcd'] = 'CNS'\n",
    "\n",
    "\n",
    "    acctcommon['acctnbr'] = acctcommon['acctnbr'].astype(str)\n",
    "    acctloan['acctnbr'] = acctloan['acctnbr'].astype(str)\n",
    "    df_for_other_pipeline = pd.merge(acctcommon, acctloan, on='acctnbr', how='left')\n",
    "    \n",
    "    npfm_rows = acctcommon[acctcommon['curracctstatcd'] == \"NPFM\"]\n",
    "    \n",
    "    merged1 = pd.merge(npfm_rows, acctloan, on='acctnbr', how='left')\n",
    "\n",
    "    merged1['acctnbr'] = merged1['acctnbr'].astype(str)\n",
    "\n",
    "    merged1['Days Past Due'] = (merged1['effdate'] - merged1['currduedate']).dt.days\n",
    "    \n",
    "    merged1['Days Past Due'] = np.where(merged1['Days Past Due'] < 0, 0, merged1['Days Past Due'])\n",
    "\n",
    "    merged1 = merged1.rename(columns={\n",
    "    'acctnbr': 'Account Number',\n",
    "    'product': 'Product Name',\n",
    "    'ownersortname': 'Customer Name',\n",
    "    'loanofficer': 'Responsibility Officer',\n",
    "    'bookbalance': 'Current Balance',\n",
    "    'cobal': 'Charged Off',\n",
    "    'riskratingcd': 'Risk',\n",
    "    })\n",
    "\n",
    "    merged1['Non Accrual'] = 'Yes'\n",
    "    merged1['Net Balance'] = merged1['Current Balance'] - merged1['Charged Off']\n",
    "    merged1 = merged1[merged1['Product Name'] != \"Repossessed Collateral\"]\n",
    "\n",
    "    decimal_cols = ['Current Balance', 'Charged Off', 'Net Balance', 'totalpaymentsdue']\n",
    "    for col in decimal_cols:\n",
    "        merged1[col] = merged1[col].astype(float)\n",
    "    merged1['Risk'] = merged1['Risk'].astype(str)\n",
    "    merged1['Risk'] = merged1['Risk'].replace(['None', 'nan'], 'Unknown')\n",
    "\n",
    "    merged11 = merged1[merged1['mjaccttypcd'].isin(['CML', 'MLN'])]\n",
    "    \n",
    "\n",
    "\n",
    "    new_row = pd.DataFrame([{\n",
    "        'Current Balance': merged11['Current Balance'].sum(),\n",
    "        'Charged Off': merged11['Charged Off'].sum(),\n",
    "        'Net Balance': merged11['Net Balance'].sum(),\n",
    "        'Non Accrual': len(merged11['Non Accrual']),\n",
    "        'TagType': 'Sum'\n",
    "    }])\n",
    "    none_row = pd.DataFrame([{\n",
    "        'TagType': None\n",
    "    }])\n",
    "    merged11 = pd.concat([merged11, new_row], ignore_index=True)\n",
    "    merged11 = pd.concat([merged11, none_row], ignore_index=True)\n",
    "\n",
    "\n",
    "\n",
    "    merged12 = merged1[merged1['mjaccttypcd'].isin(['CNS'])]\n",
    "\n",
    "    # is this necessary because the filter isn't true anywhere and is doing nothing\n",
    "    merged12T = merged12[merged12['Product Name'] == 'Unsecured HEAT Loans'].sort_values(by='Customer Name')\n",
    "    merged12F = merged12[merged12['Product Name'] != 'Unsecured HEAT Loans']\n",
    "\n",
    "    new_row = pd.DataFrame([{\n",
    "        'Current Balance': merged12T['Current Balance'].sum(),\n",
    "        'Charged Off': merged12T['Charged Off'].sum(),\n",
    "        'Net Balance': merged12T['Net Balance'].sum(),\n",
    "        'Non Accrual': len(merged12T['Non Accrual']),\n",
    "        'TagType': 'Sum'\n",
    "    }])\n",
    "    \n",
    "    merged12 = pd.concat([merged12T, new_row], ignore_index=True)\n",
    "    merged12 = pd.concat([merged12, none_row], ignore_index=True)\n",
    "\n",
    "    new_row = pd.DataFrame([{\n",
    "        'Current Balance': merged12F['Current Balance'].sum(),\n",
    "        'Charged Off': merged12F['Charged Off'].sum(),\n",
    "        'Net Balance': merged12F['Net Balance'].sum(),\n",
    "        'Non Accrual': len(merged12F['Non Accrual']),\n",
    "        'TagType': 'Sum'\n",
    "    }])\n",
    "\n",
    "    merged13 = pd.concat([merged12F.sort_values(by='Customer Name'), new_row], ignore_index=True)\n",
    "    merged13 = pd.concat([merged13, none_row], ignore_index=True)\n",
    "\n",
    "\n",
    "    merged14 = merged1[merged1['mjaccttypcd'].isin(['MTG'])]\n",
    "\n",
    "    new_row = pd.DataFrame([{\n",
    "        'Current Balance': merged14['Current Balance'].sum(),\n",
    "        'Charged Off': merged14['Charged Off'].sum(),\n",
    "        'Net Balance': merged14['Net Balance'].sum(),\n",
    "        'Non Accrual': len(merged14['Non Accrual']),\n",
    "        'TagType': 'Sum'\n",
    "    }])\n",
    "\n",
    "    merged14 = pd.concat([merged14.sort_values(by='Customer Name'), new_row], ignore_index=True)\n",
    "    merged14 = pd.concat([merged14, none_row], ignore_index=True)\n",
    "\n",
    "    if not merged12['Account Number'].isna().all():\n",
    "        merged_data = pd.concat([merged11, merged12, merged13, merged14], ignore_index=True)\n",
    "    else:\n",
    "        merged_data = pd.concat([merged11, merged13, merged14], ignore_index=True)\n",
    "\n",
    "    merged_data = merged_data[['Product Name', 'Account Number', 'Customer Name', 'Responsibility Officer', 'Days Past Due', 'Current Balance', 'Charged Off', 'Net Balance', 'Risk', 'Non Accrual', 'totalpaymentsdue', 'currduedate', 'TagType']]\n",
    "    merged_data = merged_data.rename(columns={\n",
    "    'totalpaymentsdue': 'Total Amount Due',\n",
    "    'currduedate': 'Next Payment Due Date'\n",
    "    })\n",
    "\n",
    "\n",
    "    return merged_data, merged1, df_for_other_pipeline"
   ]
  },
  {
   "cell_type": "code",
   "execution_count": null,
   "id": "3b2a2419",
   "metadata": {},
   "outputs": [],
   "source": [
    "current_report, current_report_raw, df_for_other_pipeline = main_pipeline(effdate1, curr_acctcommon, curr_acctloan)\n"
   ]
  },
  {
   "cell_type": "code",
   "execution_count": null,
   "id": "96e61653",
   "metadata": {},
   "outputs": [],
   "source": [
    "current_report"
   ]
  },
  {
   "cell_type": "code",
   "execution_count": null,
   "id": "a458d2f2",
   "metadata": {},
   "outputs": [],
   "source": [
    "totalpayments = get_total_past_due.isolate_total_past_due(data['totalpaymentsdue'])"
   ]
  },
  {
   "cell_type": "code",
   "execution_count": null,
   "id": "6a233c71",
   "metadata": {},
   "outputs": [],
   "source": [
    "current_report"
   ]
  },
  {
   "cell_type": "code",
   "execution_count": null,
   "id": "fa3d91c5",
   "metadata": {},
   "outputs": [],
   "source": [
    "current_report['Account Number'] = current_report['Account Number'].astype(str)\n",
    "totalpayments['Account Number'] = totalpayments['Account Number'].astype(str)\n",
    "current_report_with_new_amt_due = pd.merge(current_report, totalpayments, on='Account Number', how='left')"
   ]
  },
  {
   "cell_type": "code",
   "execution_count": null,
   "id": "5774ce2a",
   "metadata": {},
   "outputs": [],
   "source": [
    "current_report_with_new_amt_due"
   ]
  },
  {
   "cell_type": "code",
   "execution_count": null,
   "id": "3b28726e",
   "metadata": {},
   "outputs": [],
   "source": [
    "current_report, current_report_raw, df_for_other_pipeline = main_pipeline(effdate1, curr_acctcommon, curr_acctloan)\n",
    "prior_month_report, x, y = main_pipeline(effdate2, prior_acctcommon, prior_acctloan)"
   ]
  },
  {
   "cell_type": "code",
   "execution_count": null,
   "id": "57cca4ad",
   "metadata": {},
   "outputs": [],
   "source": [
    "current_report.info()"
   ]
  },
  {
   "cell_type": "code",
   "execution_count": null,
   "id": "2a593a27",
   "metadata": {},
   "outputs": [],
   "source": [
    "  #apply(lambda x: Decimal(str(x)))"
   ]
  },
  {
   "cell_type": "code",
   "execution_count": null,
   "id": "4402ae89",
   "metadata": {},
   "outputs": [],
   "source": [
    "current_report_raw.info()"
   ]
  },
  {
   "cell_type": "code",
   "execution_count": null,
   "id": "13e30b30",
   "metadata": {},
   "outputs": [],
   "source": [
    "current_report.info()"
   ]
  },
  {
   "cell_type": "code",
   "execution_count": null,
   "id": "73963f1b",
   "metadata": {},
   "outputs": [],
   "source": [
    "net_balance_sum = prior_month_report['Net Balance'].sum() / 2 # have to divide by 2 because the sum is including total rows\n",
    "count_distinct_accounts = prior_month_report['Account Number'].dropna().nunique()\n",
    "summary_df = pd.DataFrame({\n",
    "    'Net Balance': [net_balance_sum],\n",
    "    'Count': [count_distinct_accounts]\n",
    "})\n",
    "old_sum = summary_df"
   ]
  },
  {
   "cell_type": "code",
   "execution_count": null,
   "id": "2e769e8f",
   "metadata": {},
   "outputs": [],
   "source": [
    "prior_month_right = pd.merge(current_report_raw, prior_month_report, on='Account Number', how='right', suffixes=(None, '_right'))\n",
    "\n",
    "df_for_other_pipeline = df_for_other_pipeline.rename(columns={\n",
    "    'acctnbr': 'Account Number',\n",
    "    })\n",
    "df_for_other_pipeline['Account Number'] = df_for_other_pipeline['Account Number'].astype(str)\n",
    "prior_month_right['Account Number'] = prior_month_right['Account Number'].astype(str)\n",
    "\n",
    "df3 = pd.merge(df_for_other_pipeline, prior_month_right, on='Account Number', how='inner')\n",
    "df3 = df3[df3['product'] == \"Repossessed Collateral\"]"
   ]
  },
  {
   "cell_type": "code",
   "execution_count": null,
   "id": "85ec5980",
   "metadata": {},
   "outputs": [],
   "source": [
    "current_report"
   ]
  },
  {
   "cell_type": "code",
   "execution_count": null,
   "id": "6b37e55a",
   "metadata": {},
   "outputs": [],
   "source": [
    "new_additions = current_report[~current_report['Account Number'].isin(prior_month_report['Account Number'])] # Reconciliation section for new Non-Accrual loans\n",
    "new_additions"
   ]
  },
  {
   "cell_type": "code",
   "execution_count": null,
   "id": "709c502f",
   "metadata": {},
   "outputs": [],
   "source": [
    "def isolate_total_past_due(df):\n",
    "    df['totaldue'] = (\n",
    "        df['principaldue'] +\n",
    "        df['interestdue'] + \n",
    "        df['escrowdue'] +\n",
    "        df['latechargedue'] +\n",
    "        df['notedue'] +\n",
    "        df['miscdue']\n",
    "    )\n",
    "    \n",
    "    # Create delinquent date (due date + 15 days)\n",
    "    df['delinquentdate'] = df['duedate']\n",
    "    \n",
    "    # Exclude payments billed that are not past due & drop helper field\n",
    "    df = df[df['delinquentdate'] <= df['rundate']]\n",
    "    df = df.drop(columns=['delinquentdate'])\n",
    "    \n",
    "    # Group by acctnbr, sum totaldue and show earliest due date\n",
    "    aggregated_df = df.groupby('acctnbr').agg({\n",
    "        'totaldue':'sum',\n",
    "        'duedate': 'min'\n",
    "    }).reset_index()\n",
    "    \n",
    "    aggregated_df = aggregated_df.rename(columns={\n",
    "    'acctnbr': 'Account Number',\n",
    "    })\n",
    "\n",
    "    aggregated_df = aggregated_df[['Account Number', 'totaldue']]\n",
    "\n",
    "    return aggregated_df\n",
    "\n",
    "totalpayments = isolate_total_past_due(data['totalpaymentsdue'])"
   ]
  },
  {
   "cell_type": "code",
   "execution_count": null,
   "id": "126b1194",
   "metadata": {},
   "outputs": [],
   "source": [
    "# right side only\n",
    "new_additions = current_report[~current_report['Account Number'].isin(prior_month_report['Account Number'])] # Reconciliation section for new Non-Accrual loans\n",
    "new_additions = new_additions.drop(columns=['Current Balance', 'Charged Off'])\n",
    "new_additions.insert(6, 'Total Change', new_additions['Net Balance'])\n",
    "new_additions.insert(7, 'COUNT', 1)\n",
    "\n",
    "title_row = pd.DataFrame([{\n",
    "        'Customer Name': 'ADDITIONS',\n",
    "        'TagType': 'Title'\n",
    "    }])\n",
    "new_additions = pd.concat([title_row, new_additions], ignore_index=True)\n",
    "new_additions = new_additions[[\"Product Name\", \"Account Number\", \"Customer Name\", \"Responsibility Officer\", \"Days Past Due\", \"Net Balance\", \"Total Change\", \"COUNT\", \"Risk\", \"Non Accrual\", \"Total Amount Due\", \"Next Payment Due Date\", \"TagType\"]]\n",
    "new_additions"
   ]
  },
  {
   "cell_type": "code",
   "execution_count": null,
   "id": "db268363",
   "metadata": {},
   "outputs": [],
   "source": [
    "# the rest\n",
    "left_only = prior_month_report[~prior_month_report['Account Number'].isin(current_report['Account Number'])]\n",
    "left_only = left_only.drop(columns=['Current Balance', 'Charged Off'])\n",
    "left_only.insert(6, 'Total Change', left_only['Net Balance'] * -1)\n",
    "left_only.insert(7, 'COUNT', -1)\n",
    "# closed\n",
    "removed = left_only[~left_only['Account Number'].isin(df3['Account Number'])] # Reconciliation section for removed from NPFM\n",
    "title_row = pd.DataFrame([{\n",
    "        'Customer Name': 'REMOVED',\n",
    "        'TagType': 'Title'\n",
    "    }])\n",
    "removed = pd.concat([title_row, removed], ignore_index=True)\n",
    "removed = removed[[\"Product Name\", \"Account Number\", \"Customer Name\", \"Responsibility Officer\", \"Days Past Due\", \"Net Balance\", \"Total Change\", \"COUNT\", \"Risk\", \"Non Accrual\", \"Total Amount Due\", \"Next Payment Due Date\", \"TagType\"]]\n",
    "removed\n",
    "# removed total amount due is zero?"
   ]
  },
  {
   "cell_type": "code",
   "execution_count": null,
   "id": "2e0f869e",
   "metadata": {},
   "outputs": [],
   "source": [
    "# reposessed collateral\n",
    "repo = left_only[left_only['Account Number'].isin(df3['Account Number'])].copy() # Previously on NonAccrual and now has Repo Collateral as property type\n",
    "\n",
    "repo.loc[:, 'Product Name'] = 'Repossessed Collateral'\n",
    "title_row = pd.DataFrame([{\n",
    "        'Customer Name': 'INTO OTHER REPO COLLATERAL',\n",
    "        'TagType': 'Title'\n",
    "    }])\n",
    "repo = pd.concat([title_row, repo], ignore_index=True)\n",
    "repo['Total Amount Due'] = repo['Total Amount Due'].astype(float)\n",
    "repo = repo[[\"Product Name\", \"Account Number\", \"Customer Name\", \"Responsibility Officer\", \"Days Past Due\", \"Net Balance\", \"Total Change\", \"COUNT\", \"Risk\", \"Non Accrual\", \"Total Amount Due\", \"Next Payment Due Date\", \"TagType\"]]\n",
    "\n",
    "repo\n",
    "# repo total amount removed is zero?"
   ]
  },
  {
   "cell_type": "code",
   "execution_count": null,
   "id": "654eab51",
   "metadata": {},
   "outputs": [],
   "source": []
  },
  {
   "cell_type": "code",
   "execution_count": null,
   "id": "aa2de2c5",
   "metadata": {},
   "outputs": [],
   "source": [
    "# right side only\n",
    "new_additions = current_report[~current_report['Account Number'].isin(prior_month_report['Account Number'])] # Reconciliation section for new Non-Accrual loans\n",
    "new_additions = new_additions.drop(columns=['Current Balance', 'Charged Off'])\n",
    "new_additions.insert(6, 'Total Change', new_additions['Net Balance'])\n",
    "new_additions.insert(7, 'COUNT', 1)\n",
    "\n",
    "title_row = pd.DataFrame([{\n",
    "        'Customer Name': 'ADDITIONS',\n",
    "        'TagType': 'Title'\n",
    "    }])\n",
    "new_additions = pd.concat([title_row, new_additions], ignore_index=True)\n",
    "new_additions = new_additions[[\"Product Name\", \"Account Number\", \"Customer Name\", \"Responsibility Officer\", \"Days Past Due\", \"Net Balance\", \"Total Change\", \"COUNT\", \"Risk\", \"Non Accrual\", \"Total Amount Due\", \"Next Payment Due Date\", \"TagType\"]]\n",
    "\n",
    "\n",
    "# the rest\n",
    "left_only = prior_month_report[~prior_month_report['Account Number'].isin(current_report['Account Number'])]\n",
    "left_only = left_only.drop(columns=['Current Balance', 'Charged Off'])\n",
    "left_only.insert(6, 'Total Change', left_only['Net Balance'] * -1)\n",
    "left_only.insert(7, 'COUNT', -1)\n",
    "# closed\n",
    "removed = left_only[~left_only['Account Number'].isin(df3['Account Number'])] # Reconciliation section for removed from NPFM\n",
    "title_row = pd.DataFrame([{\n",
    "        'Customer Name': 'REMOVED',\n",
    "        'TagType': 'Title'\n",
    "    }])\n",
    "removed = pd.concat([title_row, removed], ignore_index=True)\n",
    "removed = removed[[\"Product Name\", \"Account Number\", \"Customer Name\", \"Responsibility Officer\", \"Days Past Due\", \"Net Balance\", \"Total Change\", \"COUNT\", \"Risk\", \"Non Accrual\", \"Total Amount Due\", \"Next Payment Due Date\", \"TagType\"]]\n",
    "\n",
    "# reposessed collateral\n",
    "repo = left_only[left_only['Account Number'].isin(df3['Account Number'])].copy() # Previously on NonAccrual and now has Repo Collateral as property type\n",
    "repo['Account Number'] = repo['Account Number'].astype(str)\n",
    "totalpayments['Account Number'] = totalpayments['Account Number'].astype(str)\n",
    "repo = pd.merge(repo, totalpayments, on='Account Number', how='left')\n",
    "repo.drop('Total Amount Due', axis=1, inplace=True)\n",
    "repo = repo.rename(columns={\n",
    "    'totaldue': 'Total Amount Due',\n",
    "    })\n",
    "\n",
    "repo.loc[:, 'Product Name'] = 'Repossessed Collateral'\n",
    "title_row = pd.DataFrame([{\n",
    "        'Customer Name': 'INTO OTHER REPO COLLATERAL',\n",
    "        'TagType': 'Title'\n",
    "    }])\n",
    "repo = pd.concat([title_row, repo], ignore_index=True)\n",
    "repo['Total Amount Due'] = repo['Total Amount Due'].astype(float)\n",
    "repo = repo[[\"Product Name\", \"Account Number\", \"Customer Name\", \"Responsibility Officer\", \"Days Past Due\", \"Net Balance\", \"Total Change\", \"COUNT\", \"Risk\", \"Non Accrual\", \"Total Amount Due\", \"Next Payment Due Date\", \"TagType\"]]\n"
   ]
  },
  {
   "cell_type": "code",
   "execution_count": null,
   "id": "ca461752",
   "metadata": {},
   "outputs": [],
   "source": [
    "repo"
   ]
  },
  {
   "cell_type": "code",
   "execution_count": null,
   "id": "9b34bc4d",
   "metadata": {},
   "outputs": [],
   "source": [
    "new_additions"
   ]
  },
  {
   "cell_type": "code",
   "execution_count": null,
   "id": "51e2b41f",
   "metadata": {},
   "outputs": [],
   "source": [
    "def isolate_total_past_due(df):\n",
    "    df['totaldue'] = (\n",
    "        df['principaldue'] +\n",
    "        df['interestdue'] + \n",
    "        df['escrowdue'] +\n",
    "        df['latechargedue'] +\n",
    "        df['notedue'] +\n",
    "        df['miscdue']\n",
    "    )\n",
    "    \n",
    "    # Create delinquent date (due date + 15 days)\n",
    "    df['delinquentdate'] = df['duedate']\n",
    "    \n",
    "    # Exclude payments billed that are not past due & drop helper field\n",
    "    df = df[df['delinquentdate'] <= df['rundate']]\n",
    "    df = df.drop(columns=['delinquentdate'])\n",
    "    \n",
    "    # Group by acctnbr, sum totaldue and show earliest due date\n",
    "    aggregated_df = df.groupby('acctnbr').agg({\n",
    "        'totaldue':'sum',\n",
    "        'duedate': 'min'\n",
    "    }).reset_index()\n",
    "    \n",
    "    aggregated_df = aggregated_df.rename(columns={\n",
    "    'acctnbr': 'Account Number',\n",
    "    })\n",
    "\n",
    "    aggregated_df = aggregated_df[['Account Number', 'totaldue']]\n",
    "\n",
    "    return aggregated_df\n",
    "    "
   ]
  },
  {
   "cell_type": "code",
   "execution_count": null,
   "id": "9ee7f324",
   "metadata": {},
   "outputs": [],
   "source": [
    "totalpayments = isolate_total_past_due(data['totalpaymentsdue'])\n",
    "repo['Account Number'] = repo['Account Number'].astype(str)\n",
    "totalpayments['Account Number'] = totalpayments['Account Number'].astype(str)\n",
    "repo = pd.merge(repo, totalpayments, on='Account Number', how='left')"
   ]
  },
  {
   "cell_type": "code",
   "execution_count": null,
   "id": "c801d942",
   "metadata": {},
   "outputs": [],
   "source": [
    "repo.drop('Total Amount Due', axis=1, inplace=True)\n",
    "column_to_move = repo.pop('totaldue')\n",
    "repo.insert(10, 'totaldue', column_to_move)\n",
    "repo"
   ]
  },
  {
   "cell_type": "code",
   "execution_count": null,
   "id": "7be0c933",
   "metadata": {},
   "outputs": [],
   "source": [
    "decimal_cols = ['Net Balance', 'Total Change', 'Total Amount Due']"
   ]
  },
  {
   "cell_type": "code",
   "execution_count": null,
   "id": "402b82a4",
   "metadata": {},
   "outputs": [],
   "source": [
    "removed.info()"
   ]
  },
  {
   "cell_type": "code",
   "execution_count": null,
   "id": "cccdda08",
   "metadata": {},
   "outputs": [],
   "source": [
    "current_report"
   ]
  },
  {
   "cell_type": "code",
   "execution_count": null,
   "id": "41c5ea52",
   "metadata": {},
   "outputs": [],
   "source": [
    "\"\"\" \n",
    "Non Accrual Report\n",
    "\n",
    "This is an item for the Resolution Committee Package. This increases\n",
    "operational efficiency by automating a task done by the Loan Review team.\n",
    "\n",
    "This report tracks all non-performing loans &amp; reconciles month over month\n",
    "changes.\n",
    "\"\"\"\n",
    "\n",
    "# Environment\n",
    "import pandas as pd\n",
    "from pandas.tseries.offsets import MonthEnd\n",
    "import numpy as np\n",
    "import time\n",
    "from datetime import datetime, timedelta\n",
    "from openpyxl import load_workbook\n",
    "from openpyxl.styles import Font, Border, Side, Alignment, NamedStyle\n",
    "from openpyxl.styles.numbers import NumberFormat\n",
    "import os\n",
    "\n",
    "start_time = time.time()\n",
    "\n",
    "\n",
    "#################################\n",
    "# Most recent month end &amp; prior month end\n",
    "today = datetime.today()\n",
    "if today.day == 1:\n",
    "    most_recent_month_end = today - timedelta(days=1)\n",
    "else:\n",
    "    most_recent_month_end = today.replace(day=1) - timedelta(days=1)\n",
    "prior_month_end =  most_recent_month_end - MonthEnd(1)\n",
    "most_recent_month_end_str = most_recent_month_end.strftime(\"%m/%d/%y\")\n",
    "prior_month_end_str = prior_month_end.strftime(\"%m/%d/%y\")\n",
    "\n",
    "\n",
    "#################################\n",
    "blank_df = {\n",
    "    'TagType':['Blank']\n",
    "}\n",
    "blank_df = pd.DataFrame(blank_df)\n",
    "\n",
    "\n",
    "#################################\n",
    "dfs_to_union = [new_additions, blank_df, removed, blank_df, repo]\n",
    "\n",
    "reconciliation_df = pd.concat(dfs_to_union, ignore_index=True)\n",
    "\n",
    "\n",
    "#################################\n",
    "current_sum = current_report_raw['Net Balance'].sum()\n",
    "net_adjustments = current_sum - old_sum['Net Balance'].iloc[0]\n",
    "net_adjustments\n",
    "\n",
    "\n",
    "#################################\n",
    "recon_sum = reconciliation_df['Total Change'].sum()\n",
    "\n",
    "\n",
    "#################################\n",
    "principal_payments = net_adjustments - recon_sum\n",
    "# principal_payments\n",
    "\n",
    "\n",
    "#################################\n",
    "output_dir = r'\\\\00-DA1\\Home\\Share\\\\Data & Analytics Initiatives\\\\Project Management\\\\Credit_Loan_Review\\\\Resolution Committee Automation\\\\Non Accruals\\\\Production'\n",
    "os.makedirs(output_dir, exist_ok=True)\n",
    "filename = \"NonAccrualTest.xlsx\"\n",
    "output_file = os.path.join(output_dir,filename)\n",
    "\n",
    "print(output_file)\n",
    "\n",
    "\n",
    "#################################\n",
    "reconciliation_df.info()\n",
    "\n",
    "\n",
    "#################################\n",
    "current_report.info()\n",
    "\n",
    "\n",
    "#################################\n",
    "columns_to_drop = ['MJACCTTYPCD','CURRMIACCTTYPCD','CURRACCTSTATCD','EFFDATE','NEXTDUEDATE','TOTALPI','Current Balance','Charged Off','FDIC Code','Non Accrual Date','Report']\n",
    "reconciliation_df = reconciliation_df.drop(columns=[col for col in columns_to_drop if col in reconciliation_df.columns])\n",
    "\n",
    "\n",
    "#################################\n",
    "# Making everything into a dataframe\n",
    "old_me_df = {\n",
    "    'Col1':['',''],\n",
    "    'Col2':['',''],\n",
    "    'Customer Name':['Reconciliation', prior_month_end_str],\n",
    "    'Col4':['',''],\n",
    "    'Col5':['',''],\n",
    "    'Col6':['',''],\n",
    "    'Total Change': ['', old_sum['Net Balance'].iloc[0]],\n",
    "    'Count':['', old_sum['Count'].iloc[0]]\n",
    "}\n",
    "\n",
    "old_me_df = pd.DataFrame(old_me_df)\n",
    "\n",
    "summary_df = {\n",
    "    'Col1':['','',''],\n",
    "    'Col2':['','',''],\n",
    "    'Customer Name':['PRINCIPAL PAYMENTS', 'TOTAL ADJUSTMENTS', most_recent_month_end_str],\n",
    "    'Col4':['','',''],\n",
    "    'Col5':['','',''],\n",
    "    'Col6':['','',''],\n",
    "    'Total Change': [principal_payments, net_adjustments, current_sum],\n",
    "    'Count':['', '', len(current_report_raw)],\n",
    "    'Col9':['','',''],\n",
    "    'Col10':['','',''],\n",
    "    'Col11':['','',''],\n",
    "    'Col12':['','',''],\n",
    "    'TagType':['','','Upper_Sum'] # This is a formatting tag for the new total and count\n",
    "}\n",
    "\n",
    "summary_df = pd.DataFrame(summary_df)\n",
    "summary_df\n",
    "\n",
    "\n",
    "#################################\n",
    "with pd.ExcelWriter(output_file, engine='openpyxl', mode='w') as writer:\n",
    "\n",
    "    # 4 - CML Reconciliation\n",
    "    old_me_df.to_excel(writer, index=False, sheet_name='Sheet1', startcol=0, startrow=5, header=False)\n",
    "    \n",
    "    start_row = 5 + len(old_me_df) + 1\n",
    "    \n",
    "    reconciliation_df.to_excel(writer, index=False, sheet_name='Sheet1', startcol=0, startrow=start_row, header=True)\n",
    "    \n",
    "    start_row = start_row + len(reconciliation_df) + 2\n",
    "    start_save = start_row\n",
    "    \n",
    "    summary_df.to_excel(writer, index=False, sheet_name='Sheet1', startcol=0, startrow=start_row, header=False)\n",
    "    \n",
    "    start_row = start_row + len(summary_df) + 2\n",
    "    end_save = start_row\n",
    "    \n",
    "    current_report.to_excel(writer, index=False, sheet_name='Sheet1', startcol=0, startrow=start_row, header=True)\n",
    "    \n",
    "    \n",
    "    \n",
    "wb = load_workbook(output_file)\n",
    "ws = wb['Sheet1']\n",
    "\n",
    "# Dimensions\n",
    "ws.column_dimensions['A'].width = 28.33\n",
    "ws.column_dimensions['B'].width = 18\n",
    "ws.column_dimensions['C'].width = 36\n",
    "ws.column_dimensions['D'].width = 20\n",
    "ws.column_dimensions['E'].width = 9\n",
    "ws.column_dimensions['F'].width = 15\n",
    "ws.column_dimensions['G'].width = 18\n",
    "ws.column_dimensions['H'].width = 15\n",
    "ws.column_dimensions['I'].width = 15\n",
    "ws.column_dimensions['J'].width = 12\n",
    "ws.column_dimensions['K'].width = 17\n",
    "ws.column_dimensions['L'].width = 13\n",
    "\n",
    "\n",
    "# Cell Font &amp; Formatting\n",
    "upper_section_font = Font(size=10, name='Arial', bold=True)\n",
    "bold_italics_font = Font(size=10, name='Arial', bold=True, italic=True)\n",
    "subtitle_font = Font(size=10, name='Arial', bold=True)\n",
    "data_font = Font(size=10, name='Arial')\n",
    "wrap_alignment = Alignment(wrap_text=True, vertical='bottom', horizontal='center')\n",
    "center_alignment = Alignment(horizontal='center')\n",
    "title_block = Font(size=14, name='Arial', bold=True)\n",
    "accounting_style = '\"$\"#,##0.00_);(\"$\"#,##0.00)'\n",
    "count_format = '#,##0_);(#,##0)'\n",
    "\n",
    "# Borders\n",
    "thin_border = Border(left=Side(style='thin'), right=Side(style='thin'))\n",
    "bottom_border = Border(bottom=Side(style='thin'))\n",
    "double_bottom_border= Border(bottom=Side(style='double'))\n",
    "side_border = Border(left=Side(style='thin'), right=Side(style='thin'))\n",
    "top_border = Border(top=Side(style='thin'))\n",
    "\n",
    "\n",
    "# Header\n",
    "ws['A1'] = \"BRISTOL COUNTY SAVINGS BANK\"\n",
    "ws['A1'].font = upper_section_font\n",
    "ws['A2'] = \"MONTHLY NON ACCRUAL LOAN LIST\"\n",
    "ws['A2'].font = upper_section_font\n",
    "ws['A3'] = f\"{most_recent_month_end_str}\"\n",
    "ws['A3'].font = upper_section_font\n",
    "\n",
    "last_row = ws.max_row\n",
    "\n",
    "# Set column B to bold                \n",
    "for row in range(1, 8):\n",
    "    cell = ws.cell(row=row, column=3)\n",
    "    cell.font = upper_section_font\n",
    "    \n",
    "for row in range(start_save, end_save):\n",
    "    cell = ws.cell(row=row, column=3)\n",
    "    cell.font = upper_section_font\n",
    "\n",
    "for row in range(1, last_row+1):\n",
    "    cell = ws[f'E{row}']\n",
    "    cell.alignment = center_alignment\n",
    "    \n",
    "# Check column M for 'TagType' and assign Wrap Text and centering\n",
    "for row in ws.iter_rows(min_col=13, max_col=13):\n",
    "    for cell in row:\n",
    "        row_idx = cell.row\n",
    "        if cell.value == 'TagType':\n",
    "        \n",
    "            for col in ws.iter_cols(min_row=row_idx, max_row=row_idx):\n",
    "                for cell in col:\n",
    "                    cell.alignment = Alignment(wrap_text=True, horizontal='center', vertical='center')\n",
    "        \n",
    "        elif cell.value == 'Sum':\n",
    "            # Bold the cells in the subtotal rows and add borders\n",
    "            for col in ws.iter_cols(min_col=6, max_col=8, min_row=row_idx, max_row=row_idx):\n",
    "                for cell in col:\n",
    "                    cell.font = bold_italics_font\n",
    "                    cell.border = top_border + double_bottom_border\n",
    "            ws.cell(row=row_idx, column=10).font = bold_italics_font\n",
    "            \n",
    "        elif cell.value == 'Title':\n",
    "            for col in ws.iter_cols(min_row=row_idx, max_row=row_idx):\n",
    "                for cell in col:\n",
    "                    cell.font = upper_section_font\n",
    "\n",
    "            \n",
    "# Apply Number formatting &amp; Alignment\n",
    "for row in range(1, start_row+1):\n",
    "    for col in ['F','G']:\n",
    "        cell = ws[f'{col}{row}']\n",
    "        cell.number_format = accounting_style\n",
    "    cell_h = ws[f'H{row}']\n",
    "    cell_h.number_format = count_format\n",
    "\n",
    "\n",
    "for row in range(start_row+1, last_row+1):\n",
    "    for col in ['F','G','H']:\n",
    "        cell = ws[f'{col}{row}']\n",
    "        cell.number_format = accounting_style\n",
    "        \n",
    "for row in range(1, last_row+1):\n",
    "    cell = ws[f'L{row}']\n",
    "    cell.number_format = 'mm/dd/yyyy'\n",
    "    \n",
    "for row in range(1, last_row+1):\n",
    "    cell = ws[f'J{row}']\n",
    "    cell.alignment = center_alignment\n",
    "    \n",
    "for row in range(1, start_row+1):\n",
    "    cell = ws[f'H{row}']\n",
    "    cell.alignment = center_alignment\n",
    "    \n",
    "for row in range(1, last_row+1):\n",
    "    cell = ws[f'I{row}']\n",
    "    cell.alignment = center_alignment\n",
    "    \n",
    "for row in range(1, last_row+1):\n",
    "    cell = ws[f'K{row}']\n",
    "    cell.number_format = accounting_style\n",
    "    \n",
    "# Clearing Out Columns M &amp; N\n",
    "for row in range(1, last_row+1):\n",
    "    for col in [13, 14]:\n",
    "        cell = ws.cell(row=row, column=col)\n",
    "        cell.value = None\n",
    "        cell.border = Border(left=Side(style=None), right=Side(style=None), top=Side(style=None), bottom=Side(style=None))\n",
    "\n",
    "            \n",
    "# Saving\n",
    "wb.save(output_file)\n",
    "\n",
    "print(f\"Report saved to {output_file}\")\n",
    "\n",
    "# A start time variable was created at the beginning to track the number of seconds this script takes to execute.\n",
    "print(f\"Script took {time.time() - start_time} seconds.\")"
   ]
  },
  {
   "cell_type": "code",
   "execution_count": null,
   "id": "edfa2b00",
   "metadata": {},
   "outputs": [],
   "source": [
    "summary_df"
   ]
  },
  {
   "cell_type": "code",
   "execution_count": null,
   "id": "d4a180bd",
   "metadata": {},
   "outputs": [],
   "source": [
    "repo_collat"
   ]
  },
  {
   "cell_type": "code",
   "execution_count": null,
   "id": "5acdf42d",
   "metadata": {},
   "outputs": [],
   "source": [
    "right_only"
   ]
  },
  {
   "cell_type": "code",
   "execution_count": null,
   "id": "463df612",
   "metadata": {},
   "outputs": [],
   "source": [
    "left_only"
   ]
  },
  {
   "cell_type": "code",
   "execution_count": null,
   "id": "33a11e8a",
   "metadata": {},
   "outputs": [],
   "source": [
    "second_pipeline_left = pd.merge(current_report_raw, data_for_second_pipeline, on='Account Number', how='left', suffixes=(None, '_right'))\n",
    "second_pipeline_right = pd.merge(current_report_raw, data_for_second_pipeline, on='Account Number', how='right', suffixes=(None, '_right'))\n",
    "\n",
    "second_pipeline_left['Total Change'] = second_pipeline_left['Net Balance']\n",
    "second_pipeline_left['Count'] = 1.0\n",
    "\n",
    "title_row = pd.DataFrame([{\n",
    "        'Customer Name': 'ADDITIONS',\n",
    "        'TagType': 'Title'\n",
    "    }])\n",
    "df1 = pd.concat([title_row, second_pipeline_left], ignore_index=True)\n",
    "\n",
    "df1 = df1[[\"Product Name\", \"Account Number\", \"Customer Name\", \"Responsibility Officer\", \"Days Past Due\", \"Charged Off\", \"Net Balance\", \"Total Change\", \"TagType\", \"Count\", \"Risk\", \"Non Accrual\", \"totalpaymentsdue\", \"currduedate\", \"mjaccttypcd\", \"currmiaccttypcd\", \"curracctstatcd\", \"effdate\", \"nextduedate\", \"totalpi\"]]\n"
   ]
  },
  {
   "cell_type": "code",
   "execution_count": null,
   "id": "4a376ff9",
   "metadata": {},
   "outputs": [],
   "source": [
    "df1"
   ]
  },
  {
   "cell_type": "code",
   "execution_count": null,
   "id": "94dbcf91",
   "metadata": {},
   "outputs": [],
   "source": [
    "second_pipeline_right"
   ]
  },
  {
   "cell_type": "code",
   "execution_count": null,
   "id": "d20b966a",
   "metadata": {},
   "outputs": [],
   "source": [
    "df_for_other_pipeline = df_for_other_pipeline.rename(columns={\n",
    "    'acctnbr': 'Account Number',\n",
    "    })\n",
    "df_for_other_pipeline['Account Number'] = df_for_other_pipeline['Account Number'].astype(str)\n",
    "second_pipeline_right['Account Number'] = second_pipeline_right['Account Number'].astype(str)\n",
    "\n",
    "df3 = pd.merge(df_for_other_pipeline, second_pipeline_right, on='Account Number', how='inner')\n",
    "df3 = df3[df3['product'] == \"Repossessed Collateral\"]"
   ]
  },
  {
   "cell_type": "code",
   "execution_count": null,
   "id": "71c5ebac",
   "metadata": {},
   "outputs": [],
   "source": []
  },
  {
   "cell_type": "code",
   "execution_count": null,
   "id": "29ffc071",
   "metadata": {},
   "outputs": [],
   "source": [
    "df3"
   ]
  },
  {
   "cell_type": "code",
   "execution_count": null,
   "id": "20dd06f2",
   "metadata": {},
   "outputs": [],
   "source": [
    "second_pipeline_left"
   ]
  },
  {
   "cell_type": "code",
   "execution_count": null,
   "id": "5099ed1b",
   "metadata": {},
   "outputs": [],
   "source": [
    "current_report"
   ]
  },
  {
   "cell_type": "code",
   "execution_count": null,
   "id": "d49a6ef4",
   "metadata": {},
   "outputs": [],
   "source": [
    "acct_loan_data"
   ]
  },
  {
   "cell_type": "code",
   "execution_count": null,
   "id": "c459c50e",
   "metadata": {},
   "outputs": [],
   "source": [
    "acct_common_data.loc[acct_common_data['currmiaccttypcd'].isin(['CM15', 'CM16']), 'mjaccttypcd'] = 'CNS'"
   ]
  },
  {
   "cell_type": "code",
   "execution_count": null,
   "id": "0300586a",
   "metadata": {},
   "outputs": [],
   "source": [
    "npfm_rows = acct_common_data[acct_common_data['curracctstatcd'] == \"NPFM\"]"
   ]
  },
  {
   "cell_type": "code",
   "execution_count": null,
   "id": "8217ce7c",
   "metadata": {},
   "outputs": [],
   "source": [
    "acct_loan_data"
   ]
  },
  {
   "cell_type": "code",
   "execution_count": null,
   "id": "0f1099cc",
   "metadata": {},
   "outputs": [],
   "source": [
    "merged1 = pd.merge(npfm_rows, acct_loan_data, on='acctnbr', how='left')\n",
    "merged1['acctnbr'] = merged1['acctnbr'].astype(str)"
   ]
  },
  {
   "cell_type": "code",
   "execution_count": null,
   "id": "75a860db",
   "metadata": {},
   "outputs": [],
   "source": [
    "merged1"
   ]
  },
  {
   "cell_type": "code",
   "execution_count": null,
   "id": "f3646898",
   "metadata": {},
   "outputs": [],
   "source": [
    "from datetime import datetime, timedeltaQ\n",
    "\n",
    "merged1['Days Past Due'] = (merged1['effdate'] - merged1['currduedate']).dt.days"
   ]
  },
  {
   "cell_type": "code",
   "execution_count": null,
   "id": "78d04ac0",
   "metadata": {},
   "outputs": [],
   "source": [
    "import numpy as np\n",
    "merged1['Days Past Due'] = np.where(merged1['Days Past Due'] < 0, 0, merged1['Days Past Due'])"
   ]
  },
  {
   "cell_type": "code",
   "execution_count": null,
   "id": "291d5bd8",
   "metadata": {},
   "outputs": [],
   "source": [
    "merged1.columns"
   ]
  },
  {
   "cell_type": "code",
   "execution_count": null,
   "id": "8f6aa814",
   "metadata": {},
   "outputs": [],
   "source": [
    "merged1 = merged1.rename(columns={\n",
    "    'acctnbr': 'Account Number',\n",
    "    'product': 'Product Name',\n",
    "    'ownersortname': 'Customer Name',\n",
    "    'loanofficer': 'Responsibility Officer',\n",
    "    'bookbalance': 'Current Balance',\n",
    "    'cobal': 'Charged Off',\n",
    "    'riskratingcd': 'Risk',\n",
    "    })"
   ]
  },
  {
   "cell_type": "code",
   "execution_count": null,
   "id": "632ca475",
   "metadata": {},
   "outputs": [],
   "source": [
    "merged1"
   ]
  },
  {
   "cell_type": "code",
   "execution_count": null,
   "id": "3ff39502",
   "metadata": {},
   "outputs": [],
   "source": [
    "merged1['Non Accrual'] = 'Yes'\n",
    "merged1['Net Balance'] = merged1['Current Balance'] - merged1['Charged Off']\n",
    "merged1 = merged1[merged1['Product Name'] != \"Repossessed Collateral\"]"
   ]
  },
  {
   "cell_type": "code",
   "execution_count": null,
   "id": "3eb760e5",
   "metadata": {},
   "outputs": [],
   "source": [
    "merged1"
   ]
  },
  {
   "cell_type": "code",
   "execution_count": null,
   "id": "fcec871b",
   "metadata": {},
   "outputs": [],
   "source": [
    "current_report_raw = merged1"
   ]
  },
  {
   "cell_type": "code",
   "execution_count": null,
   "id": "7df7201c",
   "metadata": {},
   "outputs": [],
   "source": [
    "merged11 = merged1[merged1['mjaccttypcd'].isin(['CML', 'MLN'])]"
   ]
  },
  {
   "cell_type": "code",
   "execution_count": null,
   "id": "6eaa42c1",
   "metadata": {},
   "outputs": [],
   "source": [
    "merged11.columns"
   ]
  },
  {
   "cell_type": "code",
   "execution_count": null,
   "id": "feb0e633",
   "metadata": {},
   "outputs": [],
   "source": [
    "new_row = pd.DataFrame([{\n",
    "    'Current Balance': merged11['Current Balance'].sum(),\n",
    "    'Charged Off': merged11['Charged Off'].sum(),\n",
    "    'Net Balance': merged11['Net Balance'].sum(),\n",
    "    'Non Accrual': len(merged11['Non Accrual']),\n",
    "}])\n",
    "none_row = pd.DataFrame([{\n",
    "    'Current Balance': None\n",
    "}])\n",
    "merged11 = pd.concat([merged11, new_row], ignore_index=True)\n",
    "merged11 = pd.concat([merged11, none_row], ignore_index=True)"
   ]
  },
  {
   "cell_type": "code",
   "execution_count": null,
   "id": "cee6fa2d",
   "metadata": {},
   "outputs": [],
   "source": [
    "merged11"
   ]
  },
  {
   "cell_type": "code",
   "execution_count": null,
   "id": "9464f3af",
   "metadata": {},
   "outputs": [],
   "source": [
    "merged12 = merged1[merged1['mjaccttypcd'].isin(['CNS'])]\n",
    "\n",
    "# is this necessary because the filter isn't true anywhere and is doing nothing\n",
    "merged12T = merged12[merged12['Product Name'] == 'Unsecured HEAT Loans'].sort_values(by='Customer Name')\n",
    "merged12F = merged12[merged12['Product Name'] != 'Unsecured HEAT Loans']\n",
    "\n",
    "new_row = pd.DataFrame([{\n",
    "    'Current Balance': merged12T['Current Balance'].sum(),\n",
    "    'Charged Off': merged12T['Charged Off'].sum(),\n",
    "    'Net Balance': merged12T['Net Balance'].sum(),\n",
    "    'Non Accrual': len(merged12T['Non Accrual']),\n",
    "}])\n",
    "\n",
    "merged12 = pd.concat([merged12T, new_row], ignore_index=True)\n",
    "merged12 = pd.concat([merged12, none_row], ignore_index=True)"
   ]
  },
  {
   "cell_type": "code",
   "execution_count": null,
   "id": "449d4ba3",
   "metadata": {},
   "outputs": [],
   "source": [
    "merged12"
   ]
  },
  {
   "cell_type": "code",
   "execution_count": null,
   "id": "636d100e",
   "metadata": {},
   "outputs": [],
   "source": [
    "new_row = pd.DataFrame([{\n",
    "    'Current Balance': merged12F['Current Balance'].sum(),\n",
    "    'Charged Off': merged12F['Charged Off'].sum(),\n",
    "    'Net Balance': merged12F['Net Balance'].sum(),\n",
    "    'Non Accrual': len(merged12F['Non Accrual']),\n",
    "}])\n",
    "\n",
    "merged13 = pd.concat([merged12F.sort_values(by='Customer Name'), new_row], ignore_index=True)\n",
    "merged13 = pd.concat([merged13, none_row], ignore_index=True)"
   ]
  },
  {
   "cell_type": "code",
   "execution_count": null,
   "id": "455ac162",
   "metadata": {},
   "outputs": [],
   "source": [
    "merged14 = merged1[merged1['mjaccttypcd'].isin(['MTG'])]\n",
    "\n",
    "new_row = pd.DataFrame([{\n",
    "    'Current Balance': merged14['Current Balance'].sum(),\n",
    "    'Charged Off': merged14['Charged Off'].sum(),\n",
    "    'Net Balance': merged14['Net Balance'].sum(),\n",
    "    'Non Accrual': len(merged14['Non Accrual']),\n",
    "}])\n",
    "\n",
    "merged14 = pd.concat([merged14.sort_values(by='Customer Name'), new_row], ignore_index=True)\n",
    "merged14 = pd.concat([merged14, none_row], ignore_index=True)"
   ]
  },
  {
   "cell_type": "code",
   "execution_count": null,
   "id": "91ecdae3",
   "metadata": {},
   "outputs": [],
   "source": [
    "merged14"
   ]
  },
  {
   "cell_type": "code",
   "execution_count": null,
   "id": "52a6b422",
   "metadata": {},
   "outputs": [],
   "source": [
    "merged_data = pd.concat([merged11, merged12, merged13, merged14], ignore_index=True)"
   ]
  },
  {
   "cell_type": "code",
   "execution_count": null,
   "id": "33ba2bf1",
   "metadata": {},
   "outputs": [],
   "source": [
    "merged_data"
   ]
  },
  {
   "cell_type": "code",
   "execution_count": null,
   "id": "d8e6f94e",
   "metadata": {},
   "outputs": [],
   "source": [
    "current_report = merged_data\n",
    "current_report_raw = merged1\n",
    "temp = merged1"
   ]
  }
 ],
 "metadata": {
  "kernelspec": {
   "display_name": "bcsb-prod",
   "language": "python",
   "name": "python3"
  },
  "language_info": {
   "codemirror_mode": {
    "name": "ipython",
    "version": 3
   },
   "file_extension": ".py",
   "mimetype": "text/x-python",
   "name": "python",
   "nbconvert_exporter": "python",
   "pygments_lexer": "ipython3",
   "version": "3.11.9"
  }
 },
 "nbformat": 4,
 "nbformat_minor": 5
}
