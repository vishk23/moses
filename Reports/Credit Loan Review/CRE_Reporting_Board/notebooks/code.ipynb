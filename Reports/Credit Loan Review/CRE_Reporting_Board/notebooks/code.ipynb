{
 "cells": [
  {
   "cell_type": "code",
   "execution_count": 1,
   "id": "fca2bdd0",
   "metadata": {},
   "outputs": [],
   "source": [
    "from pathlib import Path\n",
    "import pandas as pd"
   ]
  },
  {
   "cell_type": "code",
   "execution_count": 2,
   "id": "f2758dc6",
   "metadata": {},
   "outputs": [],
   "source": [
    "df = pd.read_excel(Path(r\"C:\\Users\\w322800\\Documents\\gh\\bcsb-prod\\Reports\\Credit Loan Review\\CRE_Reporting_Board\\output\\cre_loader.xlsx\"))"
   ]
  },
  {
   "cell_type": "code",
   "execution_count": null,
   "id": "e572ee9c",
   "metadata": {},
   "outputs": [],
   "source": []
  },
  {
   "cell_type": "code",
   "execution_count": 3,
   "id": "75404231",
   "metadata": {},
   "outputs": [
    {
     "data": {
      "text/plain": [
       "array(['Apartment Building', 'Warehouse', 'Multi Family', 'Hotel/Motel',\n",
       "       'Office- General', '1-4 Fam Res - Non Own Occ', 'Shopping Plaza',\n",
       "       'Real Estate - Business', 'Office - Medical', 'Commercial - Other',\n",
       "       'Real Estate - Bus&Bus Assets', 'Industrial', 'Self Storage', nan,\n",
       "       'Strip Plaza', 'Dealership', 'General Retail', 'Parking Lot',\n",
       "       'Gas Station and Convenience St', 'Retail - Big Box Store',\n",
       "       'Outdoor Recreation', 'Mixed Use (Retail/Office)', 'Day Care',\n",
       "       'Restaurant', 'Mixed Use (Retail/Residential)',\n",
       "       'Office - Professional', 'Mixed Use (Office/Residential)',\n",
       "       'Manufacturing', 'Land - Improved', 'Auto-Truck Repair',\n",
       "       'Golf Course', 'Seafood Processing Plant', 'All Business Assets',\n",
       "       'Marketable Securities', 'Solar Farm', 'UCC - ABA',\n",
       "       'UCC- Equipment', 'Assignment of Leases/Rents', 'Assisted Living',\n",
       "       'Indoor Recreational', 'Land - Unimproved', 'Outdoor Dealers',\n",
       "       '1 Family Residential - Own Occ', 'General Contractor', 'Marina',\n",
       "       'Educational Facilities', 'Autobody/Gas Station', 'SBA Loan',\n",
       "       'Hospitality/Event Space', 'Church',\n",
       "       'Real Estate - Personal & Bus', 'Boat', 'Car Wash',\n",
       "       'Real Estate - Pers&Bus Assets', 'Bus Assets w/Accts Receivable',\n",
       "       'Savings - Partially Secured', '2 Family Residential - Own Occ',\n",
       "       'Funeral Home', 'Passbook/Savings Secured', 'Vehicle - Business',\n",
       "       'Condominium'], dtype=object)"
      ]
     },
     "execution_count": 3,
     "metadata": {},
     "output_type": "execute_result"
    }
   ],
   "source": [
    "df['proptypdesc'].unique()"
   ]
  },
  {
   "cell_type": "code",
   "execution_count": null,
   "id": "eba4af90",
   "metadata": {},
   "outputs": [],
   "source": []
  }
 ],
 "metadata": {
  "kernelspec": {
   "display_name": "bcsb-prod",
   "language": "python",
   "name": "python3"
  },
  "language_info": {
   "codemirror_mode": {
    "name": "ipython",
    "version": 3
   },
   "file_extension": ".py",
   "mimetype": "text/x-python",
   "name": "python",
   "nbconvert_exporter": "python",
   "pygments_lexer": "ipython3",
   "version": "3.11.9"
  }
 },
 "nbformat": 4,
 "nbformat_minor": 5
}
