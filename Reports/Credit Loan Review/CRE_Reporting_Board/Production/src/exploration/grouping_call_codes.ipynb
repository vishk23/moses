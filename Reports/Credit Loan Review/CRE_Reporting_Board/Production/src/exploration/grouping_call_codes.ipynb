{
 "cells": [
  {
   "cell_type": "code",
   "execution_count": null,
   "metadata": {},
   "outputs": [],
   "source": [
    "from pathlib import Path\n",
    "\n",
    "import pandas as pd # type: ignore\n"
   ]
  },
  {
   "cell_type": "code",
   "execution_count": null,
   "metadata": {},
   "outputs": [],
   "source": [
    "INPUT_PATH = Path('../../output/cre_loader.xlsx')\n",
    "df = pd.read_excel(INPUT_PATH)"
   ]
  },
  {
   "cell_type": "code",
   "execution_count": null,
   "metadata": {},
   "outputs": [],
   "source": [
    "df"
   ]
  },
  {
   "cell_type": "code",
   "execution_count": null,
   "metadata": {},
   "outputs": [],
   "source": [
    "fdic_groups = {\n",
    "    '1-4 Fam Construction': ['CNFM'],\n",
    "    'Construction': ['OTCN','LAND','LNDV','RECN'],\n",
    "    '1-4 Family': ['REFI','REOE','REJU'],\n",
    "    'OwnerOcc': ['REOW'],\n",
    "    'I-CRE': ['RENO','REMU'],\n",
    "    'C&I': ['CIUS'],\n",
    "    'Other': ['OTAL','AGPR','REFM']\n",
    "}"
   ]
  },
  {
   "cell_type": "code",
   "execution_count": null,
   "metadata": {},
   "outputs": [],
   "source": [
    "call_code_mapping = {code: group for group, codes in fdic_groups.items() for code in codes}\n",
    "df['Cleaned Call Code'] = df['fdiccatcd'].map(call_code_mapping)"
   ]
  },
  {
   "cell_type": "code",
   "execution_count": null,
   "metadata": {},
   "outputs": [],
   "source": [
    "df"
   ]
  },
  {
   "cell_type": "code",
   "execution_count": null,
   "metadata": {},
   "outputs": [],
   "source": [
    "total_cml = df.groupby('Cleaned Call Code')['Net Balance'].sum().reset_index()"
   ]
  },
  {
   "cell_type": "code",
   "execution_count": null,
   "metadata": {},
   "outputs": [],
   "source": [
    "TOTAL_CML_OUTPUT_PATH = Path('../../output/total_cml.xlsx')\n",
    "total_cml.to_excel(TOTAL_CML_OUTPUT_PATH, index=False)"
   ]
  },
  {
   "cell_type": "code",
   "execution_count": null,
   "metadata": {},
   "outputs": [],
   "source": [
    "total_cml.info()"
   ]
  },
  {
   "cell_type": "code",
   "execution_count": null,
   "metadata": {},
   "outputs": [],
   "source": [
    "icre = df[df['fdiccatcd'].isin(['RENO','REMU'])].copy()"
   ]
  },
  {
   "cell_type": "code",
   "execution_count": null,
   "metadata": {},
   "outputs": [],
   "source": [
    "icre['Net Balance'].sum()"
   ]
  },
  {
   "cell_type": "code",
   "execution_count": null,
   "metadata": {},
   "outputs": [],
   "source": [
    "icre['proptypdesc'].unique()"
   ]
  },
  {
   "cell_type": "code",
   "execution_count": null,
   "metadata": {},
   "outputs": [],
   "source": [
    "prop_groups = {\n",
    "    'Autobody/Gas Station': ['Autobody/Gas Station','Gas Station and Convenience St','Auto-Truck Repair'],\n",
    "    'Other': ['Other','Commercial - Other'],\n",
    "    'Retail': ['Retail - Big Box Store','Shopping Plaza','Strip Plaza','Dry Cleaner/Laundromat','General Retail'],\n",
    "    'Hospitality': ['Hotel/Motel','Hospitality/Event Space'],\n",
    "    'Recreation': ['Outdoor Recreation','Indoor Recreational'],\n",
    "    'Industrial': ['Manufacturing','Warehouse'],\n",
    "    'Land': ['Land - Unimproved','Land - Improved'],\n",
    "    'Mixed Use': ['Mixed Use (Retail/Office)','Mixed Use (Retail/Residential)','Mixed Use (Office/Residential)'],\n",
    "    'Multi Family': ['Apartment Building'],\n",
    "    'General Office': ['Office - Professional','Office- General'],\n",
    "    'Medical Office': ['Office - Medical'],\n",
    "    'Restaurant': ['Restaurant']\n",
    "}"
   ]
  },
  {
   "cell_type": "code",
   "execution_count": null,
   "metadata": {},
   "outputs": [],
   "source": [
    "proptype_mapping = {code: group for group, codes in prop_groups.items() for code in codes}\n",
    "icre['Cleaned PropType'] = icre['proptypdesc'].map(proptype_mapping).fillna(icre['proptypdesc'])\n"
   ]
  },
  {
   "cell_type": "code",
   "execution_count": null,
   "metadata": {},
   "outputs": [],
   "source": [
    "ICRE_OUTPUT_PATH = Path('../../output/icre.xlsx')\n",
    "icre.to_excel(ICRE_OUTPUT_PATH, index=False)"
   ]
  },
  {
   "cell_type": "code",
   "execution_count": null,
   "metadata": {},
   "outputs": [],
   "source": [
    "construction = df[df['Cleaned Call Code'] == 'Construction'].copy()"
   ]
  },
  {
   "cell_type": "code",
   "execution_count": null,
   "metadata": {},
   "outputs": [],
   "source": [
    "construction['Net Balance'].sum()"
   ]
  },
  {
   "cell_type": "code",
   "execution_count": null,
   "metadata": {},
   "outputs": [],
   "source": [
    "proptype_mapping = {code: group for group, codes in prop_groups.items() for code in codes}\n",
    "construction['Cleaned PropType'] = construction['proptypdesc'].map(proptype_mapping).fillna(construction['proptypdesc'])\n",
    "CONSTRUCTION_OUTPUT_PATH = Path('../../output/construction.xlsx')\n",
    "construction.to_excel(CONSTRUCTION_OUTPUT_PATH, index=False)"
   ]
  },
  {
   "cell_type": "code",
   "execution_count": null,
   "metadata": {},
   "outputs": [],
   "source": []
  }
 ],
 "metadata": {
  "kernelspec": {
   "display_name": "bcsb-prod",
   "language": "python",
   "name": "python3"
  },
  "language_info": {
   "codemirror_mode": {
    "name": "ipython",
    "version": 3
   },
   "file_extension": ".py",
   "mimetype": "text/x-python",
   "name": "python",
   "nbconvert_exporter": "python",
   "pygments_lexer": "ipython3",
   "version": "3.11.9"
  }
 },
 "nbformat": 4,
 "nbformat_minor": 2
}
