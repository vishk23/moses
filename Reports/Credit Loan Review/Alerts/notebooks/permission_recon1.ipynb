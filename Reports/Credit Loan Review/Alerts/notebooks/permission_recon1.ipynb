{
 "cells": [
  {
   "cell_type": "code",
   "execution_count": null,
   "id": "c1a724e0",
   "metadata": {},
   "outputs": [],
   "source": [
    "import os\n",
    "import sys\n",
    "from pathlib import Path\n",
    "\n",
    "# Navigate to project root (equivalent to cd ..)\n",
    "project_dir = Path(__file__).parent.parent if '__file__' in globals() else Path.cwd().parent\n",
    "os.chdir(project_dir)\n",
    "\n",
    "# Add src directory to Python path for imports\n",
    "src_dir = project_dir / \"src\"\n",
    "if str(src_dir) not in sys.path:\n",
    "    sys.path.insert(0, str(src_dir))\n",
    "\n",
    "# Set environment for dev testing\n",
    "os.environ['REPORT_ENV'] = 'dev'"
   ]
  },
  {
   "cell_type": "code",
   "execution_count": null,
   "id": "de6c09a0",
   "metadata": {},
   "outputs": [],
   "source": [
    "import pandas as pd\n",
    "from pathlib import Path\n",
    "import src.config\n",
    "from deltalake import DeltaTable"
   ]
  },
  {
   "cell_type": "code",
   "execution_count": null,
   "id": "489be9e0",
   "metadata": {},
   "outputs": [],
   "source": [
    "wh_allroles = DeltaTable(src.config.BRONZE / \"wh_allroles\").to_pandas()\n"
   ]
  },
  {
   "cell_type": "code",
   "execution_count": null,
   "id": "07d1303d",
   "metadata": {},
   "outputs": [],
   "source": [
    "ALERTS_CURRENT_FILE = Path(r\"C:\\Users\\w322800\\Documents\\gh\\bcsb-prod\\Reports\\Credit Loan Review\\Alerts\\Production\\Output\\alerts.xlsx\")\n",
    "alerts = pd.read_excel(ALERTS_CURRENT_FILE)"
   ]
  },
  {
   "cell_type": "code",
   "execution_count": null,
   "id": "7cddacd3",
   "metadata": {},
   "outputs": [],
   "source": [
    "alerts"
   ]
  },
  {
   "cell_type": "code",
   "execution_count": null,
   "id": "e89b45aa",
   "metadata": {},
   "outputs": [],
   "source": [
    "guar = wh_allroles[wh_allroles['acctrolecd'] == 'GUAR'].copy()"
   ]
  },
  {
   "cell_type": "code",
   "execution_count": null,
   "id": "c1c55852",
   "metadata": {},
   "outputs": [],
   "source": [
    "guar = guar[~(guar['persnbr'].isnull())].copy()"
   ]
  },
  {
   "cell_type": "code",
   "execution_count": null,
   "id": "a210ea86",
   "metadata": {},
   "outputs": [],
   "source": [
    "guar"
   ]
  },
  {
   "cell_type": "code",
   "execution_count": null,
   "id": "1ecee2e7",
   "metadata": {},
   "outputs": [],
   "source": [
    "guar['persnbr'] = guar['persnbr'].astype('Int64').astype(str)\n"
   ]
  },
  {
   "cell_type": "code",
   "execution_count": null,
   "id": "34a23342",
   "metadata": {},
   "outputs": [],
   "source": [
    "merged_eligible = alerts.merge(guar, on='acctnbr', how='left')"
   ]
  },
  {
   "cell_type": "code",
   "execution_count": null,
   "id": "3f44b00b",
   "metadata": {},
   "outputs": [],
   "source": [
    "merged_eligible"
   ]
  },
  {
   "cell_type": "code",
   "execution_count": null,
   "id": "efa0d4d1",
   "metadata": {},
   "outputs": [],
   "source": [
    "PERMISSION_PATH = Path(r\"C:\\Users\\w322800\\Documents\\gh\\bcsb-prod\\Reports\\Credit Loan Review\\Alerts\\Production\\assets\\xactus\\pfs_permission.csv\")\n",
    "permission = pd.read_csv(PERMISSION_PATH)"
   ]
  },
  {
   "cell_type": "code",
   "execution_count": null,
   "id": "9cadda3a",
   "metadata": {},
   "outputs": [],
   "source": [
    "permission"
   ]
  },
  {
   "cell_type": "code",
   "execution_count": null,
   "id": "d9f7a7f5",
   "metadata": {},
   "outputs": [],
   "source": [
    "permission['persnbr'] = permission['persnbr'].astype(str)"
   ]
  },
  {
   "cell_type": "code",
   "execution_count": null,
   "id": "48e3faa6",
   "metadata": {},
   "outputs": [],
   "source": [
    "check = merged_eligible.merge(permission, how='outer', on='persnbr', indicator=True)"
   ]
  },
  {
   "cell_type": "code",
   "execution_count": null,
   "id": "41da0f05",
   "metadata": {},
   "outputs": [],
   "source": [
    "check"
   ]
  },
  {
   "cell_type": "code",
   "execution_count": null,
   "id": "061cbc3b",
   "metadata": {},
   "outputs": [],
   "source": [
    "no_permission = check[check['_merge'] == 'left_only'].copy()\n",
    "no_permission = no_permission[[\n",
    "    'acctnbr',\n",
    "    'ownername',\n",
    "    'product',\n",
    "    'loanofficer',\n",
    "    'inactivedate',\n",
    "    'persnbr'\n",
    "]].copy()"
   ]
  },
  {
   "cell_type": "code",
   "execution_count": null,
   "id": "f698ca06",
   "metadata": {},
   "outputs": [],
   "source": [
    "# Get bronze permission tables to get names\n",
    "wh_pers = DeltaTable(src.config.BRONZE / \"wh_pers\").to_pandas()\n",
    "assert wh_pers['persnbr'].is_unique, \"Persnbr not unique in wh_pers\""
   ]
  },
  {
   "cell_type": "code",
   "execution_count": null,
   "id": "ca658ab4",
   "metadata": {},
   "outputs": [],
   "source": [
    "wh_pers"
   ]
  },
  {
   "cell_type": "code",
   "execution_count": null,
   "id": "f864ec7d",
   "metadata": {},
   "outputs": [],
   "source": [
    "wh_pers = wh_pers[['persnbr','perssortname','age']].copy()"
   ]
  },
  {
   "cell_type": "code",
   "execution_count": null,
   "id": "25876ddf",
   "metadata": {},
   "outputs": [],
   "source": [
    "wh_pers['persnbr'] = wh_pers['persnbr'].astype(str)\n",
    "no_permission_detail = no_permission.merge(wh_pers, on='persnbr', how='left')"
   ]
  },
  {
   "cell_type": "code",
   "execution_count": null,
   "id": "6b389761",
   "metadata": {},
   "outputs": [],
   "source": [
    "no_permission_detail = no_permission_detail[~(no_permission_detail['persnbr'].isnull())].copy()"
   ]
  },
  {
   "cell_type": "code",
   "execution_count": null,
   "id": "dca69e30",
   "metadata": {},
   "outputs": [],
   "source": [
    "no_permission_detail"
   ]
  },
  {
   "cell_type": "code",
   "execution_count": null,
   "id": "b839039c",
   "metadata": {},
   "outputs": [],
   "source": [
    "no_permission_detail['acctnbr'] = no_permission_detail['acctnbr'].astype('Int64').astype(str)"
   ]
  },
  {
   "cell_type": "code",
   "execution_count": null,
   "id": "f78064f7",
   "metadata": {},
   "outputs": [],
   "source": [
    "no_permission_detail"
   ]
  },
  {
   "cell_type": "code",
   "execution_count": null,
   "id": "3cc3efd0",
   "metadata": {},
   "outputs": [],
   "source": [
    "no_permission_detail"
   ]
  },
  {
   "cell_type": "code",
   "execution_count": null,
   "id": "f2759138",
   "metadata": {},
   "outputs": [],
   "source": [
    "guar"
   ]
  },
  {
   "cell_type": "code",
   "execution_count": null,
   "id": "0d5668cf",
   "metadata": {},
   "outputs": [],
   "source": []
  }
 ],
 "metadata": {
  "kernelspec": {
   "display_name": "bcsb-prod",
   "language": "python",
   "name": "python3"
  },
  "language_info": {
   "codemirror_mode": {
    "name": "ipython",
    "version": 3
   },
   "file_extension": ".py",
   "mimetype": "text/x-python",
   "name": "python",
   "nbconvert_exporter": "python",
   "pygments_lexer": "ipython3",
   "version": "3.11.9"
  }
 },
 "nbformat": 4,
 "nbformat_minor": 5
}
