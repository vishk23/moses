{
 "cells": [
  {
   "cell_type": "code",
   "execution_count": null,
   "id": "c1a724e0",
   "metadata": {},
   "outputs": [],
   "source": [
    "import os\n",
    "import sys\n",
    "from pathlib import Path\n",
    "\n",
    "# Navigate to project root (equivalent to cd ..)\n",
    "project_dir = Path(__file__).parent.parent if '__file__' in globals() else Path.cwd().parent\n",
    "os.chdir(project_dir)\n",
    "\n",
    "# Add src directory to Python path for imports\n",
    "src_dir = project_dir / \"src\"\n",
    "if str(src_dir) not in sys.path:\n",
    "    sys.path.insert(0, str(src_dir))\n",
    "\n",
    "# Set environment for dev testing\n",
    "os.environ['REPORT_ENV'] = 'dev'"
   ]
  },
  {
   "cell_type": "code",
   "execution_count": null,
   "id": "de6c09a0",
   "metadata": {},
   "outputs": [],
   "source": [
    "import pandas as pd\n",
    "from pathlib import Path\n",
    "import src.config\n",
    "from deltalake import DeltaTable"
   ]
  },
  {
   "cell_type": "code",
   "execution_count": null,
   "id": "489be9e0",
   "metadata": {},
   "outputs": [],
   "source": [
    "wh_allroles = DeltaTable(src.config.BRONZE / \"wh_allroles\").to_pandas()\n"
   ]
  },
  {
   "cell_type": "code",
   "execution_count": null,
   "id": "07d1303d",
   "metadata": {},
   "outputs": [],
   "source": [
    "ALERTS_CURRENT_FILE = Path(r\"C:\\Users\\w322800\\Documents\\gh\\bcsb-prod\\Reports\\Credit Loan Review\\Alerts\\Production\\Output\\alerts.xlsx\")\n",
    "alerts = pd.read_excel(ALERTS_CURRENT_FILE)"
   ]
  },
  {
   "cell_type": "code",
   "execution_count": null,
   "id": "7cddacd3",
   "metadata": {},
   "outputs": [],
   "source": [
    "alerts"
   ]
  },
  {
   "cell_type": "code",
   "execution_count": null,
   "id": "e89b45aa",
   "metadata": {},
   "outputs": [],
   "source": [
    "guar = wh_allroles[wh_allroles['acctrolecd'] == 'GUAR'].copy()"
   ]
  },
  {
   "cell_type": "code",
   "execution_count": null,
   "id": "c1c55852",
   "metadata": {},
   "outputs": [],
   "source": [
    "guar = guar[~(guar['persnbr'].isnull())].copy()"
   ]
  },
  {
   "cell_type": "code",
   "execution_count": null,
   "id": "a210ea86",
   "metadata": {},
   "outputs": [],
   "source": [
    "guar"
   ]
  },
  {
   "cell_type": "code",
   "execution_count": null,
   "id": "1ecee2e7",
   "metadata": {},
   "outputs": [],
   "source": [
    "guar['persnbr'] = guar['persnbr'].astype('Int64').astype(str)\n"
   ]
  },
  {
   "cell_type": "code",
   "execution_count": null,
   "id": "34a23342",
   "metadata": {},
   "outputs": [],
   "source": [
    "merged_eligible = alerts.merge(guar, on='acctnbr', how='left')"
   ]
  },
  {
   "cell_type": "code",
   "execution_count": null,
   "id": "3f44b00b",
   "metadata": {},
   "outputs": [],
   "source": [
    "merged_eligible"
   ]
  },
  {
   "cell_type": "code",
   "execution_count": null,
   "id": "efa0d4d1",
   "metadata": {},
   "outputs": [],
   "source": [
    "PERMISSION_PATH = Path(r\"C:\\Users\\w322800\\Documents\\gh\\bcsb-prod\\Reports\\Credit Loan Review\\Alerts\\Production\\assets\\xactus\\pfs_permission.csv\")\n",
    "permission = pd.read_csv(PERMISSION_PATH)"
   ]
  },
  {
   "cell_type": "code",
   "execution_count": null,
   "id": "9cadda3a",
   "metadata": {},
   "outputs": [],
   "source": [
    "permission"
   ]
  },
  {
   "cell_type": "code",
   "execution_count": null,
   "id": "d9f7a7f5",
   "metadata": {},
   "outputs": [],
   "source": [
    "permission['persnbr'] = permission['persnbr'].astype(str)"
   ]
  },
  {
   "cell_type": "code",
   "execution_count": null,
   "id": "48e3faa6",
   "metadata": {},
   "outputs": [],
   "source": [
    "check = merged_eligible.merge(permission, how='outer', on='persnbr', indicator=True)"
   ]
  },
  {
   "cell_type": "code",
   "execution_count": null,
   "id": "41da0f05",
   "metadata": {},
   "outputs": [],
   "source": [
    "check"
   ]
  },
  {
   "cell_type": "code",
   "execution_count": null,
   "id": "061cbc3b",
   "metadata": {},
   "outputs": [],
   "source": [
    "permission = check[check['_merge'] != 'left_only'].copy()\n",
    "permission = permission[[\n",
    "    'acctnbr',\n",
    "    'ownername',\n",
    "    'product',\n",
    "    'loanofficer',\n",
    "    'inactivedate',\n",
    "    'persnbr'\n",
    "]].copy()"
   ]
  },
  {
   "cell_type": "code",
   "execution_count": null,
   "id": "f698ca06",
   "metadata": {},
   "outputs": [],
   "source": [
    "# Get bronze permission tables to get names\n",
    "wh_pers = DeltaTable(src.config.BRONZE / \"wh_pers\").to_pandas()\n",
    "assert wh_pers['persnbr'].is_unique, \"Persnbr not unique in wh_pers\""
   ]
  },
  {
   "cell_type": "code",
   "execution_count": null,
   "id": "ca658ab4",
   "metadata": {},
   "outputs": [],
   "source": [
    "wh_pers"
   ]
  },
  {
   "cell_type": "code",
   "execution_count": null,
   "id": "f864ec7d",
   "metadata": {},
   "outputs": [],
   "source": [
    "wh_pers = wh_pers[['persnbr','perssortname','age']].copy()"
   ]
  },
  {
   "cell_type": "code",
   "execution_count": null,
   "id": "25876ddf",
   "metadata": {},
   "outputs": [],
   "source": [
    "wh_pers['persnbr'] = wh_pers['persnbr'].astype(str)\n",
    "permission_detail = permission.merge(wh_pers, on='persnbr', how='left')"
   ]
  },
  {
   "cell_type": "code",
   "execution_count": null,
   "id": "6b389761",
   "metadata": {},
   "outputs": [],
   "source": [
    "permission_detail = permission_detail[~(permission_detail['persnbr'].isnull())].copy()"
   ]
  },
  {
   "cell_type": "code",
   "execution_count": null,
   "id": "dca69e30",
   "metadata": {},
   "outputs": [],
   "source": [
    "permission_detail"
   ]
  },
  {
   "cell_type": "code",
   "execution_count": null,
   "id": "b839039c",
   "metadata": {},
   "outputs": [],
   "source": [
    "permission_detail['acctnbr'] = permission_detail['acctnbr'].astype('Int64').astype(str)"
   ]
  },
  {
   "cell_type": "code",
   "execution_count": null,
   "id": "f78064f7",
   "metadata": {},
   "outputs": [],
   "source": [
    "permission_detail"
   ]
  },
  {
   "cell_type": "code",
   "execution_count": null,
   "id": "09430ce7",
   "metadata": {},
   "outputs": [],
   "source": [
    "people = permission_detail[[\n",
    "    'persnbr'\n",
    "]].copy()\n",
    "\n"
   ]
  },
  {
   "cell_type": "code",
   "execution_count": null,
   "id": "16ed3caf",
   "metadata": {},
   "outputs": [],
   "source": [
    "import cdutils.deduplication\n",
    "\n",
    "dedupe_list = [\n",
    "    {'df': people, 'field': 'persnbr'}\n",
    "]\n",
    "\n",
    "people = cdutils.deduplication.dedupe(dedupe_list)"
   ]
  },
  {
   "cell_type": "code",
   "execution_count": null,
   "id": "738561e3",
   "metadata": {},
   "outputs": [],
   "source": [
    "assert people['persnbr'].is_unique, \"Dupes\""
   ]
  },
  {
   "cell_type": "code",
   "execution_count": null,
   "id": "6b181cdc",
   "metadata": {},
   "outputs": [],
   "source": [
    "\n",
    "import cdutils.database.connect # type: ignore\n",
    "from sqlalchemy import text # type: ignore\n",
    "\n",
    "def fetch_data():\n",
    "    pers = text(\"\"\"\n",
    "    SELECT \n",
    "        a.PERSNBR,\n",
    "        a.FIRSTNAME,\n",
    "        a.LASTNAME,\n",
    "        a.DATEBIRTH,\n",
    "        a.DEATHNOTIFICATIONDATE\n",
    "    FROM \n",
    "        OSIBANK.PERS a\n",
    "    \"\"\")\n",
    "    \n",
    "    viewperstaxid = text(\"\"\"\n",
    "    SELECT \n",
    "        *\n",
    "    FROM \n",
    "        OSIBANK.VIEWPERSTAXID\n",
    "    \"\"\")\n",
    "    queries = [\n",
    "        {'key':'pers', 'sql':pers, 'engine':1},\n",
    "        {'key':'viewperstaxid', 'sql':viewperstaxid, 'engine':1}\n",
    "    ]\n",
    "\n",
    "    data = cdutils.database.connect.retrieve_data(queries)\n",
    "    return data"
   ]
  },
  {
   "cell_type": "code",
   "execution_count": null,
   "id": "d109c49b",
   "metadata": {},
   "outputs": [],
   "source": [
    "data = fetch_data()"
   ]
  },
  {
   "cell_type": "code",
   "execution_count": null,
   "id": "d95c2a67",
   "metadata": {},
   "outputs": [],
   "source": [
    "pers = data['pers'].copy()"
   ]
  },
  {
   "cell_type": "code",
   "execution_count": null,
   "id": "345bcb10",
   "metadata": {},
   "outputs": [],
   "source": [
    "pers.info()"
   ]
  },
  {
   "cell_type": "code",
   "execution_count": null,
   "id": "f483f812",
   "metadata": {},
   "outputs": [],
   "source": [
    "pers"
   ]
  },
  {
   "cell_type": "code",
   "execution_count": null,
   "id": "34ee1c52",
   "metadata": {},
   "outputs": [],
   "source": [
    "assert pers['persnbr'].is_unique, \"Dupes\""
   ]
  },
  {
   "cell_type": "code",
   "execution_count": null,
   "id": "406ea7dd",
   "metadata": {},
   "outputs": [],
   "source": [
    "pers = pers[[\n",
    "    'persnbr',\n",
    "    'firstname',\n",
    "    'lastname'\n",
    "]].copy()"
   ]
  },
  {
   "cell_type": "code",
   "execution_count": null,
   "id": "27898bfa",
   "metadata": {},
   "outputs": [],
   "source": [
    "pers"
   ]
  },
  {
   "cell_type": "code",
   "execution_count": null,
   "id": "5bf7fb7f",
   "metadata": {},
   "outputs": [],
   "source": [
    "pers['persnbr'] = pers['persnbr'].astype(str)"
   ]
  },
  {
   "cell_type": "code",
   "execution_count": null,
   "id": "a0cba3d9",
   "metadata": {},
   "outputs": [],
   "source": [
    "people = people.merge(pers, how='left', on='persnbr')"
   ]
  },
  {
   "cell_type": "code",
   "execution_count": null,
   "id": "c1f5d644",
   "metadata": {},
   "outputs": [],
   "source": [
    "people"
   ]
  },
  {
   "cell_type": "code",
   "execution_count": null,
   "id": "37045c72",
   "metadata": {},
   "outputs": [],
   "source": [
    "viewperstaxid = data['viewperstaxid'].copy()"
   ]
  },
  {
   "cell_type": "code",
   "execution_count": null,
   "id": "3c28a3bb",
   "metadata": {},
   "outputs": [],
   "source": [
    "viewperstaxid.info()"
   ]
  },
  {
   "cell_type": "code",
   "execution_count": null,
   "id": "197e8cd4",
   "metadata": {},
   "outputs": [],
   "source": [
    "assert viewperstaxid['persnbr'].is_unique, \"Dupes\""
   ]
  },
  {
   "cell_type": "code",
   "execution_count": null,
   "id": "1c8c9e05",
   "metadata": {},
   "outputs": [],
   "source": [
    "viewperstaxid['persnbr'] = viewperstaxid['persnbr'].astype(str)"
   ]
  },
  {
   "cell_type": "code",
   "execution_count": null,
   "id": "539c4107",
   "metadata": {},
   "outputs": [],
   "source": [
    "viewperstaxid"
   ]
  },
  {
   "cell_type": "code",
   "execution_count": null,
   "id": "d015a30b",
   "metadata": {},
   "outputs": [],
   "source": [
    "people = people.merge(viewperstaxid, how='left', on='persnbr')"
   ]
  },
  {
   "cell_type": "code",
   "execution_count": null,
   "id": "4539a1ac",
   "metadata": {},
   "outputs": [],
   "source": [
    "people"
   ]
  },
  {
   "cell_type": "code",
   "execution_count": null,
   "id": "81e46824",
   "metadata": {},
   "outputs": [],
   "source": [
    "people.info()"
   ]
  },
  {
   "cell_type": "code",
   "execution_count": null,
   "id": "9a879db1",
   "metadata": {},
   "outputs": [],
   "source": [
    "persaddruse = DeltaTable(src.config.BRONZE / \"persaddruse\").to_pandas()"
   ]
  },
  {
   "cell_type": "code",
   "execution_count": null,
   "id": "9d80e30e",
   "metadata": {},
   "outputs": [],
   "source": [
    "persaddruse"
   ]
  },
  {
   "cell_type": "code",
   "execution_count": null,
   "id": "8735a0c4",
   "metadata": {},
   "outputs": [],
   "source": [
    "persaddruse = persaddruse[persaddruse['addrusecd'] == \"PRI\"].copy()"
   ]
  },
  {
   "cell_type": "code",
   "execution_count": null,
   "id": "b5ce2aeb",
   "metadata": {},
   "outputs": [],
   "source": [
    "persaddruse = persaddruse[['persnbr','addrnbr']].copy()"
   ]
  },
  {
   "cell_type": "code",
   "execution_count": null,
   "id": "66aa800d",
   "metadata": {},
   "outputs": [],
   "source": [
    "persaddruse.info()"
   ]
  },
  {
   "cell_type": "code",
   "execution_count": null,
   "id": "81098404",
   "metadata": {},
   "outputs": [],
   "source": [
    "persaddruse['persnbr'] = persaddruse['persnbr'].astype(str)\n",
    "persaddruse['addrnbr'] = persaddruse['addrnbr'].astype(str)"
   ]
  },
  {
   "cell_type": "code",
   "execution_count": null,
   "id": "0b33d712",
   "metadata": {},
   "outputs": [],
   "source": [
    "address = DeltaTable(src.config.SILVER / \"address\").to_pandas()"
   ]
  },
  {
   "cell_type": "code",
   "execution_count": null,
   "id": "31ce249c",
   "metadata": {},
   "outputs": [],
   "source": [
    "address.info()"
   ]
  },
  {
   "cell_type": "code",
   "execution_count": null,
   "id": "5de931d9",
   "metadata": {},
   "outputs": [],
   "source": [
    "address"
   ]
  },
  {
   "cell_type": "code",
   "execution_count": null,
   "id": "467f7b20",
   "metadata": {},
   "outputs": [],
   "source": [
    "persaddruse = persaddruse.merge(address, on='addrnbr', how='left')"
   ]
  },
  {
   "cell_type": "code",
   "execution_count": null,
   "id": "21fbe1d4",
   "metadata": {},
   "outputs": [],
   "source": [
    "persaddruse"
   ]
  },
  {
   "cell_type": "code",
   "execution_count": null,
   "id": "3d9e34a8",
   "metadata": {},
   "outputs": [],
   "source": [
    "assert persaddruse['persnbr'].is_unique, \"Fail\""
   ]
  },
  {
   "cell_type": "code",
   "execution_count": null,
   "id": "6f0bace2",
   "metadata": {},
   "outputs": [],
   "source": [
    "persaddruse = persaddruse[['persnbr','Full_Street_Address','cityname','statecd','zipcd']].copy()"
   ]
  },
  {
   "cell_type": "code",
   "execution_count": null,
   "id": "e74bc5a7",
   "metadata": {},
   "outputs": [],
   "source": [
    "people = people.merge(persaddruse, how='left', on='persnbr')"
   ]
  },
  {
   "cell_type": "code",
   "execution_count": null,
   "id": "4092f458",
   "metadata": {},
   "outputs": [],
   "source": [
    "people"
   ]
  },
  {
   "cell_type": "code",
   "execution_count": null,
   "id": "65caf64b",
   "metadata": {},
   "outputs": [],
   "source": [
    "OUTPUT_PATH = Path(r\"C:\\Users\\w322800\\Documents\\gh\\bcsb-prod\\Reports\\Credit Loan Review\\Alerts\\Production\\Output\\xactus_ready.xlsx\")\n",
    "people.to_excel(OUTPUT_PATH, index=False)"
   ]
  },
  {
   "cell_type": "code",
   "execution_count": null,
   "id": "eef8826d",
   "metadata": {},
   "outputs": [],
   "source": []
  }
 ],
 "metadata": {
  "kernelspec": {
   "display_name": "bcsb-prod",
   "language": "python",
   "name": "python3"
  },
  "language_info": {
   "codemirror_mode": {
    "name": "ipython",
    "version": 3
   },
   "file_extension": ".py",
   "mimetype": "text/x-python",
   "name": "python",
   "nbconvert_exporter": "python",
   "pygments_lexer": "ipython3",
   "version": "3.11.9"
  }
 },
 "nbformat": 4,
 "nbformat_minor": 5
}
