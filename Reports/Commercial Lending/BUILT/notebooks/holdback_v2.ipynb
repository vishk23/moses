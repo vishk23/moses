{
 "cells": [
  {
   "cell_type": "code",
   "execution_count": null,
   "id": "setup-cell",
   "metadata": {},
   "outputs": [],
   "source": [
    "import os\n",
    "import sys\n",
    "from pathlib import Path\n",
    "\n",
    "# Navigate to project root (equivalent to cd ..)\n",
    "project_dir = Path(__file__).parent.parent if '__file__' in globals() else Path.cwd().parent\n",
    "os.chdir(project_dir)\n",
    "\n",
    "# Add src directory to Python path for imports\n",
    "src_dir = project_dir / \"src\"\n",
    "if str(src_dir) not in sys.path:\n",
    "    sys.path.insert(0, str(src_dir))\n",
    "\n",
    "# Set environment for dev testing\n",
    "os.environ['REPORT_ENV'] = 'prod'"
   ]
  },
  {
   "cell_type": "code",
   "execution_count": null,
   "id": "imports-cell",
   "metadata": {},
   "outputs": [],
   "source": [
    "import cdutils.database.connect # type: ignore\n",
    "from sqlalchemy import text # type: ignore\n",
    "from typing import Optional\n",
    "import pandas as pd"
   ]
  },
  {
   "cell_type": "code",
   "execution_count": null,
   "id": "fetch-data-cell",
   "metadata": {},
   "outputs": [],
   "source": [
    "# Define fetch data here using cdutils.database.connect\n",
    "# There are often fetch_data.py files already in project if migrating\n",
    "def fetch_data():\n",
    "    \"\"\"\n",
    "    Fetch latest balamt for holdback subaccounts (BALCATCD='HOLD') from ACCTSUBACCT and ACCTBALHIST.\n",
    "    \"\"\"\n",
    "    query = text(\"\"\"\n",
    "    SELECT \n",
    "        acctnbr,\n",
    "        subacctnbr,\n",
    "        balcatcd,\n",
    "        balamt\n",
    "    FROM (\n",
    "        SELECT \n",
    "            a.acctnbr,\n",
    "            a.subacctnbr,\n",
    "            a.balcatcd,\n",
    "            h.balamt,\n",
    "            h.effdate,\n",
    "            ROW_NUMBER() OVER (PARTITION BY a.acctnbr, a.subacctnbr ORDER BY h.effdate DESC) AS rn\n",
    "        FROM \n",
    "            OSIBANK.ACCTSUBACCT a\n",
    "        INNER JOIN \n",
    "            OSIBANK.ACCTBALHIST h ON a.acctnbr = h.acctnbr AND a.subacctnbr = h.subacctnbr\n",
    "        WHERE \n",
    "            a.BALCATCD = 'HOLD'\n",
    "    )\n",
    "    WHERE rn = 1\n",
    "    \"\"\")\n",
    "    \n",
    "    queries = [\n",
    "        {'key':'holdbacks', 'sql':query, 'engine':1},\n",
    "    ]\n",
    "\n",
    "    data = cdutils.database.connect.retrieve_data(queries)\n",
    "    return data\n"
   ]
  },
  {
   "cell_type": "code",
   "execution_count": null,
   "id": "execute-cell",
   "metadata": {},
   "outputs": [],
   "source": [
    "data = fetch_data()"
   ]
  },
  {
   "cell_type": "code",
   "execution_count": null,
   "id": "process-cell",
   "metadata": {},
   "outputs": [],
   "source": [
    "df = data['holdbacks'].copy()\n",
    "df = df[['acctnbr', 'subacctnbr', 'balcatcd', 'balamt']]\n",
    "assert df[['acctnbr', 'subacctnbr']].is_unique, \"Duplicates found in key columns\"\n",
    "assert not df.empty, \"No holdback data found\"\n",
    "df.info()"
   ]
  },
  {
   "cell_type": "code",
   "execution_count": null,
   "id": "display-cell",
   "metadata": {},
   "outputs": [],
   "source": [
    "df.head()"
   ]
  }
 ],
 "metadata": {
  "kernelspec": {
   "display_name": "bcsb-prod",
   "language": "python",
   "name": "python3"
  },
  "language_info": {
   "codemirror_mode": {
    "name": "ipython",
    "version": 3
   },
   "file_extension": ".py",
   "mimetype": "text/x-python",
   "name": "python",
   "nbconvert_exporter": "python",
   "pygments_lexer": "ipython3",
   "version": "3.11.9"
  }
 },
 "nbformat": 4,
 "nbformat_minor": 5
}