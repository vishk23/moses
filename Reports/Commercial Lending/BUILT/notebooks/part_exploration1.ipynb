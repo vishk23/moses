{
 "cells": [
  {
   "cell_type": "code",
   "execution_count": null,
   "id": "c1a724e0",
   "metadata": {},
   "outputs": [],
   "source": [
    "import os\n",
    "import sys\n",
    "from pathlib import Path\n",
    "\n",
    "# Navigate to project root (equivalent to cd ..)\n",
    "project_dir = Path(__file__).parent.parent if '__file__' in globals() else Path.cwd().parent\n",
    "os.chdir(project_dir)\n",
    "\n",
    "# Add src directory to Python path for imports\n",
    "src_dir = project_dir / \"src\"\n",
    "if str(src_dir) not in sys.path:\n",
    "    sys.path.insert(0, str(src_dir))\n",
    "\n",
    "# Set environment for dev testing\n",
    "os.environ['REPORT_ENV'] = 'dev'"
   ]
  },
  {
   "cell_type": "code",
   "execution_count": null,
   "id": "ef6dc63b",
   "metadata": {},
   "outputs": [],
   "source": [
    "import src.config\n",
    "from deltalake import DeltaTable\n",
    "import pandas as pd\n",
    "import cdutils.input_cleansing # type: ignore"
   ]
  },
  {
   "cell_type": "code",
   "execution_count": null,
   "id": "f0ee9df0",
   "metadata": {},
   "outputs": [],
   "source": [
    "\"\"\"\n",
    "Fetching data module. Aim is import all necessary fields up front, but if needed, you can define another function to be called here.\n",
    "\n",
    "Usage:\n",
    "    import src.cdutils.database\n",
    "\n",
    "You need to set your own date that you want to see in effective date embedded in the SQL Query\n",
    "\"\"\"\n",
    "\n",
    "import cdutils.database.connect # type: ignore\n",
    "from sqlalchemy import text # type: ignore\n",
    "from datetime import datetime\n",
    "from typing import Optional\n",
    "\n",
    "# Define fetch data here using cdutils.database.connect\n",
    "# There are often fetch_data.py files already in project if migrating\n",
    "\n",
    "def fetch_invr():\n",
    "    \"\"\"\n",
    "    Main data query\n",
    "    \"\"\"\n",
    "    \n",
    "    wh_invr = text(\"\"\"\n",
    "    SELECT\n",
    "        a.ACCTNBR,\n",
    "        a.ACCTGRPNBR,\n",
    "        a.INVRSTATCD,\n",
    "        a.PCTOWNED,\n",
    "        a.ORIGINVRRATE,\n",
    "        a.CURRINVRRATE,\n",
    "        a.DATELASTMAINT\n",
    "    FROM\n",
    "        OSIBANK.WH_INVR a\n",
    "    \"\"\")\n",
    "    \n",
    "    acctgrpinvr = text(\"\"\"\n",
    "    SELECT\n",
    "        a.ACCTGRPNBR,\n",
    "        a.INVRORGNBR\n",
    "    FROM\n",
    "        OSIBANK.ACCTGRPINVR a\n",
    "    \"\"\")\n",
    "\n",
    "    queries = [\n",
    "        {'key':'wh_invr', 'sql':wh_invr, 'engine':1},\n",
    "        {'key':'acctgrpinvr', 'sql':acctgrpinvr, 'engine':1},\n",
    "    ]\n",
    "\n",
    "    data = cdutils.database.connect.retrieve_data(queries)\n",
    "    return data\n",
    "\n",
    "\n",
    "\n",
    "# Define fetch data here using cdutils.database.connect\n",
    "# There are often fetch_data.py files already in project if migrating\n",
    "def fetch_inactive_date_data():\n",
    "    \"\"\"\n",
    "    Main data query\n",
    "    \"\"\"\n",
    "    acctloanlimithist = text(\"\"\"\n",
    "    SELECT\n",
    "        * \n",
    "    FROM\n",
    "        OSIBANK.ACCTLOANLIMITHIST a\n",
    "    \"\"\")\n",
    "    # vieworgtaxid = text(f\"\"\"\n",
    "    # SELECT\n",
    "    #     *\n",
    "    # FROM\n",
    "    #     OSIBANK.VIEWORGTAXID a\n",
    "    # \"\"\")\n",
    "\n",
    "    queries = [\n",
    "        {'key':'acctloanlimithist', 'sql':acctloanlimithist, 'engine':1},\n",
    "\n",
    "        # {'key':'vieworgtaxid', 'sql':vieworgtaxid, 'engine':1},\n",
    "    ]\n",
    "\n",
    "\n",
    "    data = cdutils.database.connect.retrieve_data(queries)\n",
    "    return data\n",
    "\n",
    "\n",
    "def fetch_orgpersrole():\n",
    "    \"\"\"\n",
    "    Fetch controlling person data from WH_ORGPERSROLE\n",
    "    \"\"\"\n",
    "    query = text(\"\"\"\n",
    "    SELECT\n",
    "        *\n",
    "    FROM\n",
    "        OSIBANK.WH_ORGPERSROLE a\n",
    "    \"\"\")\n",
    "\n",
    "    queries = [\n",
    "        {'key':'wh_orgpersrole', 'sql':query, 'engine':1},\n",
    "    ]\n",
    "\n",
    "    data = cdutils.database.connect.retrieve_data(queries)\n",
    "    return data\n",
    "\n",
    "def fetch_holdbacks():\n",
    "    \"\"\"\n",
    "    Fetch latest balamt for holdback subaccounts (BALCATCD='HOLD') from ACCTSUBACCT and ACCTBALHIST.\n",
    "    \"\"\"\n",
    "    query = text(\"\"\"\n",
    "    SELECT\n",
    "        acctnbr,\n",
    "        subacctnbr,\n",
    "        balcatcd,\n",
    "        balamt\n",
    "    FROM (\n",
    "        SELECT\n",
    "            a.acctnbr,\n",
    "            a.subacctnbr,\n",
    "            a.balcatcd,\n",
    "            h.balamt,\n",
    "            h.effdate,\n",
    "            ROW_NUMBER() OVER (PARTITION BY a.acctnbr, a.subacctnbr ORDER BY h.effdate DESC) AS rn\n",
    "        FROM\n",
    "            OSIBANK.ACCTSUBACCT a\n",
    "        INNER JOIN\n",
    "            OSIBANK.ACCTBALHIST h ON a.acctnbr = h.acctnbr AND a.subacctnbr = h.subacctnbr\n",
    "        WHERE\n",
    "            a.BALCATCD = 'HOLD'\n",
    "    )\n",
    "    WHERE rn = 1\n",
    "    \"\"\")\n",
    "\n",
    "    queries = [\n",
    "        {'key':'holdbacks', 'sql':query, 'engine':1},\n",
    "    ]\n",
    "\n",
    "    data = cdutils.database.connect.retrieve_data(queries)\n",
    "    return data\n"
   ]
  },
  {
   "cell_type": "code",
   "execution_count": null,
   "id": "1185ac4c",
   "metadata": {},
   "outputs": [],
   "source": [
    "data = fetch_inactive_date_data()\n"
   ]
  },
  {
   "cell_type": "code",
   "execution_count": null,
   "id": "29c6d7eb",
   "metadata": {},
   "outputs": [],
   "source": [
    "acctloanlimithist = data['acctloanlimithist'].copy()"
   ]
  },
  {
   "cell_type": "code",
   "execution_count": null,
   "id": "ae1c513f",
   "metadata": {},
   "outputs": [],
   "source": [
    "acctloanlimithist"
   ]
  },
  {
   "cell_type": "code",
   "execution_count": null,
   "id": "68994408",
   "metadata": {},
   "outputs": [],
   "source": [
    "accts = DeltaTable(src.config.SILVER / \"account\").to_pandas()"
   ]
  },
  {
   "cell_type": "code",
   "execution_count": null,
   "id": "a52ce5f9",
   "metadata": {},
   "outputs": [],
   "source": [
    "accts"
   ]
  },
  {
   "cell_type": "code",
   "execution_count": null,
   "id": "7245d11b",
   "metadata": {},
   "outputs": [],
   "source": [
    "acctuserfields = DeltaTable(src.config.BRONZE / \"wh_acctuserfields\").to_pandas()"
   ]
  },
  {
   "cell_type": "code",
   "execution_count": null,
   "id": "8fb9024e",
   "metadata": {},
   "outputs": [],
   "source": [
    "acctuserfields"
   ]
  },
  {
   "cell_type": "code",
   "execution_count": null,
   "id": "004300aa",
   "metadata": {},
   "outputs": [],
   "source": [
    "fpts = acctuserfields[acctuserfields['acctuserfieldcd'] == 'FPTS'].copy()"
   ]
  },
  {
   "cell_type": "code",
   "execution_count": null,
   "id": "2b6a9f91",
   "metadata": {},
   "outputs": [],
   "source": [
    "fpts"
   ]
  },
  {
   "cell_type": "code",
   "execution_count": null,
   "id": "06b1c866",
   "metadata": {},
   "outputs": [],
   "source": [
    "assert fpts['acctnbr'].is_unique, \"Dupes\""
   ]
  },
  {
   "cell_type": "code",
   "execution_count": null,
   "id": "0d2f6783",
   "metadata": {},
   "outputs": [],
   "source": [
    "fpts = fpts[[\n",
    "    'acctnbr',\n",
    "    'acctuserfieldvalue'\n",
    "]].copy()\n",
    "\n",
    "import cdutils.input_cleansing\n",
    "fpts_schema = {\n",
    "    'acctnbr':'str'\n",
    "}\n",
    "\n",
    "fpts = cdutils.input_cleansing.cast_columns(fpts, fpts_schema)\n",
    "\n",
    "accts = accts.merge(fpts, how='left', on='acctnbr')"
   ]
  },
  {
   "cell_type": "code",
   "execution_count": null,
   "id": "3b5f228a",
   "metadata": {},
   "outputs": [],
   "source": [
    "accts"
   ]
  },
  {
   "cell_type": "code",
   "execution_count": null,
   "id": "4b0295e9",
   "metadata": {},
   "outputs": [],
   "source": [
    "mismatch_fpts = (\n",
    "    ((accts['totalpctsold'] > 0) & (accts['acctuserfieldvalue'] != 'Y')) |\n",
    "    ((accts['acctuserfieldvalue'] == 'Y') & (accts['totalpctsold'] <= 0))\n",
    ")\n",
    "\n",
    "mismatched_records = accts[mismatch_fpts]\n",
    "\n",
    "print(f\"Total mismatch: {len(mismatched_records)}\")"
   ]
  },
  {
   "cell_type": "code",
   "execution_count": null,
   "id": "8c982a53",
   "metadata": {},
   "outputs": [],
   "source": [
    "mismatched_records"
   ]
  },
  {
   "cell_type": "code",
   "execution_count": null,
   "id": "4d992745",
   "metadata": {},
   "outputs": [],
   "source": [
    "import cdutils.database.connect # type: ignore\n",
    "from sqlalchemy import text # type: ignore\n",
    "from datetime import datetime\n",
    "from typing import Optional\n",
    "\n",
    "# Define fetch data here using cdutils.database.connect\n",
    "# There are often fetch_data.py files already in project if migrating\n",
    "\n",
    "def fetch_invr():\n",
    "    \"\"\"\n",
    "    Main data query\n",
    "    \"\"\"\n",
    "    \n",
    "    wh_invr = text(f\"\"\"\n",
    "    SELECT\n",
    "        a.ACCTNBR,\n",
    "        a.ACCTGRPNBR,\n",
    "        a.INVRSTATCD,\n",
    "        a.PCTOWNED,\n",
    "        a.ORIGINVRRATE,\n",
    "        a.CURRINVRRATE,\n",
    "        a.DATELASTMAINT\n",
    "    FROM\n",
    "        OSIBANK.WH_INVR a\n",
    "    \"\"\")\n",
    "    \n",
    "    acctgrpinvr = text(f\"\"\"\n",
    "    SELECT\n",
    "        a.ACCTGRPNBR,\n",
    "        a.INVRORGNBR\n",
    "    FROM\n",
    "        OSIBANK.ACCTGRPINVR a\n",
    "    \"\"\")\n",
    "\n",
    "    queries = [\n",
    "        {'key':'wh_invr', 'sql':wh_invr, 'engine':1},\n",
    "        {'key':'acctgrpinvr', 'sql':acctgrpinvr, 'engine':1},\n",
    "    ]\n",
    "\n",
    "    data = cdutils.database.connect.retrieve_data(queries)\n",
    "    return data\n",
    "\n"
   ]
  },
  {
   "cell_type": "code",
   "execution_count": null,
   "id": "3b6139b9",
   "metadata": {},
   "outputs": [],
   "source": [
    "# Get investor data\n",
    "invr = fetch_invr()\n",
    "wh_invr = invr['wh_invr'].copy()\n",
    "\n",
    "\n",
    "acctgrpinvr = invr['acctgrpinvr'].copy()"
   ]
  },
  {
   "cell_type": "code",
   "execution_count": null,
   "id": "91335bfa",
   "metadata": {},
   "outputs": [],
   "source": [
    "\n",
    "base_customer_dim = DeltaTable(src.config.SILVER / \"base_customer_dim\").to_pandas()\n",
    "base_customer_dim = base_customer_dim[[\n",
    "    'customer_id',\n",
    "    'customer_name'\n",
    "]].copy()"
   ]
  },
  {
   "cell_type": "code",
   "execution_count": null,
   "id": "a702a081",
   "metadata": {},
   "outputs": [],
   "source": [
    "\n",
    "wh_invr['acctgrpnbr'] = wh_invr['acctgrpnbr'].astype(str)\n",
    "\n",
    "\n",
    "acctgrpinvr['acctgrpnbr'] = acctgrpinvr['acctgrpnbr'].astype(str)\n",
    "\n",
    "import cdutils.customer_dim\n",
    "acctgrpinvr = cdutils.customer_dim.orgify(acctgrpinvr, 'invrorgnbr')\n",
    "\n"
   ]
  },
  {
   "cell_type": "code",
   "execution_count": null,
   "id": "a40e4cde",
   "metadata": {},
   "outputs": [],
   "source": [
    "acctgrpinvr"
   ]
  },
  {
   "cell_type": "code",
   "execution_count": null,
   "id": "c5ecd0db",
   "metadata": {},
   "outputs": [],
   "source": [
    "assert acctgrpinvr['acctgrpnbr'].is_unique, \"Dupes\"\n",
    "# assert acctgrpinvr['customer_id'].is_unique, \"Dupes\""
   ]
  },
  {
   "cell_type": "code",
   "execution_count": null,
   "id": "026f4451",
   "metadata": {},
   "outputs": [],
   "source": [
    "merged_investor = wh_invr.merge(acctgrpinvr, on='acctgrpnbr', how='left').merge(base_customer_dim, on='customer_id', how='left')\n"
   ]
  },
  {
   "cell_type": "code",
   "execution_count": null,
   "id": "af1c0ca4",
   "metadata": {},
   "outputs": [],
   "source": [
    "merged_investor"
   ]
  },
  {
   "cell_type": "code",
   "execution_count": null,
   "id": "14a5350b",
   "metadata": {},
   "outputs": [],
   "source": [
    "merged_investor = merged_investor[merged_investor['invrstatcd'] == 'SOLD'].copy()"
   ]
  },
  {
   "cell_type": "code",
   "execution_count": null,
   "id": "dcbd7fe7",
   "metadata": {},
   "outputs": [],
   "source": [
    "merged_investor = merged_investor.drop(columns=['datelastmaint']).copy()"
   ]
  },
  {
   "cell_type": "code",
   "execution_count": null,
   "id": "4367db6b",
   "metadata": {},
   "outputs": [],
   "source": [
    "merged_investor = merged_investor.rename(columns={\n",
    "    'customer_name':'Participant Name'\n",
    "}).copy()"
   ]
  },
  {
   "cell_type": "code",
   "execution_count": null,
   "id": "a016bc04",
   "metadata": {},
   "outputs": [],
   "source": [
    "merged_investor.info()"
   ]
  },
  {
   "cell_type": "code",
   "execution_count": null,
   "id": "4d30980b",
   "metadata": {},
   "outputs": [],
   "source": [
    "merged_investor_schema = {\n",
    "    'acctnbr':'str'\n",
    "}\n",
    "merged_investor = cdutils.input_cleansing.cast_columns(merged_investor, merged_investor_schema)"
   ]
  },
  {
   "cell_type": "code",
   "execution_count": null,
   "id": "fcd77f63",
   "metadata": {},
   "outputs": [],
   "source": [
    "merged_investor.describe()"
   ]
  },
  {
   "cell_type": "code",
   "execution_count": null,
   "id": "251cfad7",
   "metadata": {},
   "outputs": [],
   "source": [
    "merged_investor"
   ]
  },
  {
   "cell_type": "code",
   "execution_count": null,
   "id": "6344b495",
   "metadata": {},
   "outputs": [],
   "source": [
    "# Filter down to minimal things that they would need to see\n",
    "merged_investor = merged_investor[[\n",
    "    'acctnbr',\n",
    "    'pctowned',\n",
    "    'Participant Name'\n",
    "]].copy()"
   ]
  },
  {
   "cell_type": "code",
   "execution_count": null,
   "id": "7c974b9a",
   "metadata": {},
   "outputs": [],
   "source": [
    "merged_investor"
   ]
  },
  {
   "cell_type": "code",
   "execution_count": null,
   "id": "5c90fdf6",
   "metadata": {},
   "outputs": [],
   "source": [
    "merged_investor['pctowned'] = pd.to_numeric(merged_investor['pctowned'])"
   ]
  },
  {
   "cell_type": "code",
   "execution_count": null,
   "id": "6574ceb9",
   "metadata": {},
   "outputs": [],
   "source": [
    "merged_investor"
   ]
  },
  {
   "cell_type": "code",
   "execution_count": null,
   "id": "3e530586",
   "metadata": {},
   "outputs": [],
   "source": [
    "# At this point, you could group by acctnbr and sum up pct owned. You could create a number of participants"
   ]
  }
 ],
 "metadata": {
  "kernelspec": {
   "display_name": "bcsb-prod",
   "language": "python",
   "name": "python3"
  },
  "language_info": {
   "codemirror_mode": {
    "name": "ipython",
    "version": 3
   },
   "file_extension": ".py",
   "mimetype": "text/x-python",
   "name": "python",
   "nbconvert_exporter": "python",
   "pygments_lexer": "ipython3",
   "version": "3.11.9"
  }
 },
 "nbformat": 4,
 "nbformat_minor": 5
}
