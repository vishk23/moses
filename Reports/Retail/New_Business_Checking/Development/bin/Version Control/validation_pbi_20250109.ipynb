{
 "cells": [
  {
   "cell_type": "code",
   "execution_count": 1,
   "metadata": {},
   "outputs": [],
   "source": [
    "import pandas as pd\n",
    "file_path = r'Z:\\Chad Projects\\Ad Hoc Reports\\BusinessDepositAccts_Dave_121324\\Production\\Output\\business_deposits_tin_raw_data.xlsx'\n",
    "df = pd.read_excel(file_path)"
   ]
  },
  {
   "cell_type": "code",
   "execution_count": 2,
   "metadata": {},
   "outputs": [
    {
     "data": {
      "text/plain": [
       "4309"
      ]
     },
     "execution_count": 2,
     "metadata": {},
     "output_type": "execute_result"
    }
   ],
   "source": [
    "df['taxrptfororgnbr'].nunique()"
   ]
  },
  {
   "cell_type": "code",
   "execution_count": 3,
   "metadata": {},
   "outputs": [
    {
     "data": {
      "text/plain": [
       "effdate\n",
       "2023-01-31    3586\n",
       "2023-02-28    3590\n",
       "2023-03-31    3600\n",
       "2023-04-28    3599\n",
       "2023-05-31    3608\n",
       "2023-06-30    3602\n",
       "2023-07-31    3598\n",
       "2023-08-31    3592\n",
       "2023-09-29    3602\n",
       "2023-10-31    3604\n",
       "2023-11-30    3612\n",
       "2023-12-29    3607\n",
       "2024-01-31    3621\n",
       "2024-02-29    3629\n",
       "2024-03-29    3640\n",
       "2024-04-30    3663\n",
       "2024-05-31    3694\n",
       "2024-06-28    3717\n",
       "2024-07-31    3737\n",
       "2024-08-30    3748\n",
       "2024-09-30    3769\n",
       "2024-10-31    3783\n",
       "2024-11-29    3790\n",
       "2024-12-31    3801\n",
       "Name: taxrptfororgnbr, dtype: int64"
      ]
     },
     "execution_count": 3,
     "metadata": {},
     "output_type": "execute_result"
    }
   ],
   "source": [
    "df.groupby('effdate')['taxrptfororgnbr'].nunique()"
   ]
  },
  {
   "cell_type": "code",
   "execution_count": null,
   "metadata": {},
   "outputs": [],
   "source": []
  }
 ],
 "metadata": {
  "kernelspec": {
   "display_name": ".venv",
   "language": "python",
   "name": "python3"
  },
  "language_info": {
   "codemirror_mode": {
    "name": "ipython",
    "version": 3
   },
   "file_extension": ".py",
   "mimetype": "text/x-python",
   "name": "python",
   "nbconvert_exporter": "python",
   "pygments_lexer": "ipython3",
   "version": "3.11.9"
  }
 },
 "nbformat": 4,
 "nbformat_minor": 2
}
