{
 "cells": [
  {
   "cell_type": "code",
   "execution_count": null,
   "id": "01adf3de",
   "metadata": {},
   "outputs": [],
   "source": [
    "# Add project root to sys.path to import src modules from notebooks/\n",
    "import sys\n",
    "import os\n",
    "from pathlib import Path\n",
    "\n",
    "project_root = Path(os.getcwd()).parent\n",
    "os.chdir(project_root)\n",
    "\n",
    "if str(project_root) not in sys.path:\n",
    "    sys.path.insert(0, str(project_root))\n",
    "\n",
    "print(f\"Working directory: {os.getcwd()}\")\n",
    "print(f\"Python path includes: {project_root}\")\n"
   ]
  },
  {
   "cell_type": "code",
   "execution_count": null,
   "id": "f566d090",
   "metadata": {},
   "outputs": [],
   "source": [
    "import src.transactions.fetch_data\n",
    "import pandas as pd\n",
    "import numpy as np\n",
    "from datetime import datetime"
   ]
  },
  {
   "cell_type": "code",
   "execution_count": null,
   "id": "52d9dc14",
   "metadata": {},
   "outputs": [],
   "source": [
    "start_date = datetime(2024, 6, 30)\n",
    "end_date = datetime(2025, 6, 30)\n",
    "data = src.transactions.fetch_data.fetch_transactions_window_test(start_date=start_date, end_date=end_date)"
   ]
  },
  {
   "cell_type": "code",
   "execution_count": null,
   "id": "bef28148",
   "metadata": {},
   "outputs": [],
   "source": [
    "rtxn = data['query'].copy()"
   ]
  },
  {
   "cell_type": "code",
   "execution_count": null,
   "id": "7ffd162f",
   "metadata": {},
   "outputs": [],
   "source": [
    "rtxn"
   ]
  },
  {
   "cell_type": "code",
   "execution_count": null,
   "id": "59a5e5e4",
   "metadata": {},
   "outputs": [],
   "source": [
    "# # Skip for now, takes 84 minutes to load (12MM records)\n",
    "# full_year = src.transactions.fetch_data.fetch_transactions_window()"
   ]
  },
  {
   "cell_type": "code",
   "execution_count": null,
   "id": "2350c7a2",
   "metadata": {},
   "outputs": [],
   "source": [
    "# full_year"
   ]
  },
  {
   "cell_type": "code",
   "execution_count": null,
   "id": "082c9e5d",
   "metadata": {},
   "outputs": [],
   "source": [
    "# rtxn_full = full_year['query'].copy()"
   ]
  },
  {
   "cell_type": "code",
   "execution_count": null,
   "id": "602339ed",
   "metadata": {},
   "outputs": [],
   "source": [
    "# rtxn_full.info()"
   ]
  },
  {
   "cell_type": "code",
   "execution_count": null,
   "id": "0ddce27d",
   "metadata": {},
   "outputs": [],
   "source": [
    "# from pathlib import Path"
   ]
  },
  {
   "cell_type": "code",
   "execution_count": null,
   "id": "30a18678",
   "metadata": {},
   "outputs": [],
   "source": [
    "\n",
    "acct_data = src.transactions.fetch_data.fetch_account_data(datetime(2025,6,30))"
   ]
  },
  {
   "cell_type": "code",
   "execution_count": null,
   "id": "b43f62d7",
   "metadata": {},
   "outputs": [],
   "source": [
    "acct_data = acct_data['wh_acctcommon'].copy()"
   ]
  },
  {
   "cell_type": "code",
   "execution_count": null,
   "id": "2ae4063b",
   "metadata": {},
   "outputs": [],
   "source": [
    "acct_data"
   ]
  },
  {
   "cell_type": "code",
   "execution_count": null,
   "id": "f1275882",
   "metadata": {},
   "outputs": [],
   "source": [
    "rtxn.info()"
   ]
  },
  {
   "cell_type": "code",
   "execution_count": null,
   "id": "1f66060a",
   "metadata": {},
   "outputs": [],
   "source": [
    "acct_data.info()"
   ]
  },
  {
   "cell_type": "code",
   "execution_count": null,
   "id": "a005d87d",
   "metadata": {},
   "outputs": [],
   "source": [
    "merged_rtxn = pd.merge(rtxn, acct_data, on='acctnbr', how='left')"
   ]
  },
  {
   "cell_type": "code",
   "execution_count": null,
   "id": "9c06ad02",
   "metadata": {},
   "outputs": [],
   "source": [
    "merged_rtxn"
   ]
  },
  {
   "cell_type": "code",
   "execution_count": null,
   "id": "01f94dd4",
   "metadata": {},
   "outputs": [],
   "source": [
    "# Create Primary Key (Tax Owner of Account)\n",
    "merged_rtxn['Customer Unique ID'] = np.where(\n",
    "    merged_rtxn['taxrptfororgnbr'].isnull(), \n",
    "    'P' + merged_rtxn['taxrptforpersnbr'].fillna(0).astype(int).astype(str), \n",
    "    'O' + merged_rtxn['taxrptfororgnbr'].fillna(0).astype(int).astype(str)\n",
    ")"
   ]
  },
  {
   "cell_type": "code",
   "execution_count": null,
   "id": "e70235e9",
   "metadata": {},
   "outputs": [],
   "source": [
    "datetime_series = pd.to_datetime(merged_rtxn['actdatetime'], errors='coerce')\n",
    "merged_rtxn['Date of Transaction'] = datetime_series.dt.strftime('%Y-%m-%d')\n",
    "merged_rtxn['Time of Transaction'] = datetime_series.dt.strftime('%H:%M:%S')"
   ]
  },
  {
   "cell_type": "code",
   "execution_count": null,
   "id": "f5e6de0a",
   "metadata": {},
   "outputs": [],
   "source": [
    "merged_rtxn"
   ]
  },
  {
   "cell_type": "code",
   "execution_count": null,
   "id": "150550ff",
   "metadata": {},
   "outputs": [],
   "source": [
    "# Create Account Type mapping - Easier to understand, based on our major field\n",
    "def map_account_type(acct_code:str):\n",
    "    \"\"\"\n",
    "    Map mjaccttypcd to friendly Account Type\n",
    "    \"\"\"\n",
    "    mapping = {\n",
    "        'CML':'Commercial Loan',\n",
    "        'MLN':'Commercial Loan',\n",
    "        'CNS':'Consumer Loan',\n",
    "        'MTG':'Residential Loan',\n",
    "        'CK':'Checking',\n",
    "        'SAV':'Savings',\n",
    "        'TD':'CD'\n",
    "    }\n",
    "    return mapping.get(str(acct_code).upper(), 'Other')\n",
    "\n",
    "merged_rtxn['Account Type'] = merged_rtxn['mjaccttypcd'].apply(map_account_type)"
   ]
  },
  {
   "cell_type": "code",
   "execution_count": null,
   "id": "d877795a",
   "metadata": {},
   "outputs": [],
   "source": [
    "merged_rtxn"
   ]
  },
  {
   "cell_type": "code",
   "execution_count": null,
   "id": "d9a40ed1",
   "metadata": {},
   "outputs": [],
   "source": [
    "merged_rtxn['Account Type'] = np.where(\n",
    "    (merged_rtxn['Account Type'] == 'Commercial Loan') & \n",
    "    (merged_rtxn['loanofficer'].isin(['EBL PROGRAM ADMIN','SBLC LOAN OFFICER'])),\n",
    "    'Small Business Loan',\n",
    "    merged_rtxn['Account Type']\n",
    "    )"
   ]
  },
  {
   "cell_type": "code",
   "execution_count": null,
   "id": "d0a9c188",
   "metadata": {},
   "outputs": [],
   "source": [
    "merged_rtxn = merged_rtxn.rename(columns={\n",
    "    'branchname':'Branch of Transaction',\n",
    "    'rtxntypdesc':'Type of Transaction',\n",
    "    'rtxnsourcecd':'Type of Teller'\n",
    "}).copy()"
   ]
  },
  {
   "cell_type": "code",
   "execution_count": null,
   "id": "79e9e4ab",
   "metadata": {},
   "outputs": [],
   "source": [
    "merged_rtxn.info()"
   ]
  },
  {
   "cell_type": "code",
   "execution_count": null,
   "id": "cca12d57",
   "metadata": {},
   "outputs": [],
   "source": [
    "merged_rtxn"
   ]
  },
  {
   "cell_type": "code",
   "execution_count": null,
   "id": "e4da8c0c",
   "metadata": {},
   "outputs": [],
   "source": [
    "rtxn_final = merged_rtxn[[\n",
    "    'Customer Unique ID',\n",
    "    'Date of Transaction',\n",
    "    'Time of Transaction',\n",
    "    'Branch of Transaction',\n",
    "    'Type of Teller', # rxtnsourcecd\n",
    "    'Type of Transaction', # rtxntypdesc\n",
    "    'Account Type' \n",
    "]].copy()"
   ]
  },
  {
   "cell_type": "code",
   "execution_count": null,
   "id": "3616a43d",
   "metadata": {},
   "outputs": [],
   "source": [
    "rtxn_final"
   ]
  },
  {
   "cell_type": "code",
   "execution_count": null,
   "id": "d4ab8964",
   "metadata": {},
   "outputs": [],
   "source": [
    "print(f\"Working directory: {os.getcwd()}\")\n",
    "print(f\"Python path includes: {project_root}\")"
   ]
  },
  {
   "cell_type": "code",
   "execution_count": null,
   "id": "e00b5669",
   "metadata": {},
   "outputs": [],
   "source": [
    "RTXN_OUTPUT = Path('./output/transaction.csv')\n",
    "rtxn_final.to_csv(RTXN_OUTPUT, index=False)"
   ]
  },
  {
   "cell_type": "markdown",
   "id": "5de2c4b0",
   "metadata": {},
   "source": [
    "For full transaction history (12MM records) -> 84 minutes to query and would be 180 minutes to write file to network drive"
   ]
  },
  {
   "cell_type": "code",
   "execution_count": null,
   "id": "47540ba4",
   "metadata": {},
   "outputs": [],
   "source": []
  }
 ],
 "metadata": {
  "kernelspec": {
   "display_name": ".venv",
   "language": "python",
   "name": "python3"
  },
  "language_info": {
   "codemirror_mode": {
    "name": "ipython",
    "version": 3
   },
   "file_extension": ".py",
   "mimetype": "text/x-python",
   "name": "python",
   "nbconvert_exporter": "python",
   "pygments_lexer": "ipython3",
   "version": "3.11.9"
  }
 },
 "nbformat": 4,
 "nbformat_minor": 5
}
