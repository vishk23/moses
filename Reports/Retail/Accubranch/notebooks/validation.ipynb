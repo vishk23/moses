{
 "cells": [
  {
   "cell_type": "code",
   "execution_count": null,
   "id": "fd51036e",
   "metadata": {},
   "outputs": [],
   "source": [
    "from pathlib import Path\n",
    "import pandas as pd\n",
    "\n",
    "INPUT_PATH = Path(r\"C:\\Users\\w322800\\Documents\\gh\\bcsb-prod\\Reports\\Retail\\Accubranch\\output\\transaction.parquet\")\n",
    "df = pd.read_parquet(INPUT_PATH)"
   ]
  },
  {
   "cell_type": "code",
   "execution_count": null,
   "id": "5aeb5642",
   "metadata": {},
   "outputs": [],
   "source": [
    "df"
   ]
  },
  {
   "cell_type": "code",
   "execution_count": null,
   "id": "306c9f31",
   "metadata": {},
   "outputs": [],
   "source": [
    "df = df[df['Account Type'] != \"Other\"].copy()"
   ]
  },
  {
   "cell_type": "code",
   "execution_count": null,
   "id": "bf993f4f",
   "metadata": {},
   "outputs": [],
   "source": [
    "df['Type of Teller'].unique()"
   ]
  },
  {
   "cell_type": "code",
   "execution_count": null,
   "id": "ca32b775",
   "metadata": {},
   "outputs": [],
   "source": [
    "df"
   ]
  },
  {
   "cell_type": "code",
   "execution_count": null,
   "id": "cf879d83",
   "metadata": {},
   "outputs": [],
   "source": [
    "# df = df[df['Branch of Transaction'].notna()].copy()"
   ]
  },
  {
   "cell_type": "code",
   "execution_count": null,
   "id": "f6aac43e",
   "metadata": {},
   "outputs": [],
   "source": [
    "df = df.reset_index()"
   ]
  },
  {
   "cell_type": "code",
   "execution_count": null,
   "id": "1229cb39",
   "metadata": {},
   "outputs": [],
   "source": [
    "df.groupby('Type of Teller')['index'].nunique().sort_values(ascending=False)"
   ]
  },
  {
   "cell_type": "code",
   "execution_count": null,
   "id": "daaa2a4f",
   "metadata": {},
   "outputs": [],
   "source": [
    "df"
   ]
  },
  {
   "cell_type": "code",
   "execution_count": null,
   "id": "ed3d6291",
   "metadata": {},
   "outputs": [],
   "source": [
    "df.groupby('Branch of Transaction')['index'].nunique().sort_values(ascending=False)"
   ]
  },
  {
   "cell_type": "code",
   "execution_count": null,
   "id": "9f4493e7",
   "metadata": {},
   "outputs": [],
   "source": [
    "df"
   ]
  },
  {
   "cell_type": "code",
   "execution_count": null,
   "id": "a4c9601a",
   "metadata": {},
   "outputs": [],
   "source": [
    "\n",
    "import cdutils.database.connect # type: ignore\n",
    "import cdutils.deduplication # type: ignore\n",
    "from sqlalchemy import text # type: ignore\n",
    "from datetime import datetime, timedelta\n",
    "from typing import Optional\n",
    "\n",
    "def fetch_transactions_window(\n",
    "    start_date: Optional[datetime] = None,\n",
    "    end_date: Optional[datetime] = None,\n",
    "    window_size_days: int = 365\n",
    ") -> list:\n",
    "    \"\"\"\n",
    "    Fetch transactions within a specified date window from the database.\n",
    "    :param start_date: The start date for the transaction window. If None, defaults to today minus window size.\n",
    "    :param end_date: The end date for the transaction window. If None, defaults to today.\n",
    "    :param window_size_days: The number of days to look back from the end date.\n",
    "    :return: A list of transactions within the specified date range.\n",
    "    \"\"\"\n",
    "    \n",
    "    if start_date is None:\n",
    "        start_date = datetime.now() - timedelta(days=window_size_days)\n",
    "    \n",
    "    if end_date is None:\n",
    "        end_date = datetime.now()\n",
    "\n",
    "    query = text(f\"\"\"\n",
    "        SELECT \n",
    "            * \n",
    "        FROM\n",
    "            COCCDM.WH_RTXN a\n",
    "        WHERE \n",
    "            (a.RUNDATE >= TO_DATE('{start_date.strftime('%Y-%m-%d')}', 'YYYY-MM-DD')) \n",
    "            AND (a.RUNDATE <= TO_DATE('{end_date.strftime('%Y-%m-%d')}', 'YYYY-MM-DD'))\n",
    "            AND (a.CURRRTXNSTATCD = 'C')\n",
    "        ORDER BY RUNDATE DESC\n",
    "        FETCH FIRST 100000 ROWS ONLY\n",
    "    \"\"\")\n",
    "\n",
    "    # Add WH_ORG query for branch names\n",
    "    wh_org_query = text(\"\"\"\n",
    "        SELECT \n",
    "            *\n",
    "        FROM\n",
    "            OSIBANK.WH_ORG\n",
    "    \"\"\")\n",
    "\n",
    "    queries = [\n",
    "        {'key': 'query','sql': query,'engine':2},\n",
    "        {'key': 'wh_org','sql': wh_org_query,'engine':1}\n",
    "    ]\n",
    "    data = cdutils.database.connect.retrieve_data(queries)\n",
    "    \n",
    "    # Deduplicate WH_ORG data\n",
    "    if 'wh_org' in data:\n",
    "        dedupe_list = [{'df': data['wh_org'], 'field': 'orgnbr'}]\n",
    "        data['wh_org'] = cdutils.deduplication.dedupe(dedupe_list)\n",
    "    \n",
    "    return data\n",
    "\n"
   ]
  },
  {
   "cell_type": "code",
   "execution_count": null,
   "id": "0ac9d4ce",
   "metadata": {},
   "outputs": [],
   "source": [
    "raw_data = fetch_transactions_window()"
   ]
  },
  {
   "cell_type": "code",
   "execution_count": null,
   "id": "e2b54a9b",
   "metadata": {},
   "outputs": [],
   "source": [
    "raw_data.keys()"
   ]
  },
  {
   "cell_type": "code",
   "execution_count": null,
   "id": "6b310a2b",
   "metadata": {},
   "outputs": [],
   "source": [
    "rtxn = raw_data['query'].copy()"
   ]
  },
  {
   "cell_type": "code",
   "execution_count": null,
   "id": "d3358152",
   "metadata": {},
   "outputs": [],
   "source": [
    "rtxn"
   ]
  }
 ],
 "metadata": {
  "kernelspec": {
   "display_name": "bcsb-prod",
   "language": "python",
   "name": "python3"
  },
  "language_info": {
   "codemirror_mode": {
    "name": "ipython",
    "version": 3
   },
   "file_extension": ".py",
   "mimetype": "text/x-python",
   "name": "python",
   "nbconvert_exporter": "python",
   "pygments_lexer": "ipython3",
   "version": "3.11.9"
  }
 },
 "nbformat": 4,
 "nbformat_minor": 5
}
