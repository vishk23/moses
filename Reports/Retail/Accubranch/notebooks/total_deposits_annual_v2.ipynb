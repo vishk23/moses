{
 "cells": [
  {
   "cell_type": "code",
   "execution_count": null,
   "id": "80603b03",
   "metadata": {},
   "outputs": [],
   "source": [
    "# Add project root to sys.path to import src modules from notebooks/\n",
    "import sys\n",
    "import os\n",
    "from pathlib import Path\n",
    "\n",
    "project_root = Path(os.getcwd()).parent\n",
    "os.chdir(project_root)\n",
    "\n",
    "if str(project_root) not in sys.path:\n",
    "    sys.path.insert(0, str(project_root))\n",
    "\n",
    "print(f\"Working directory: {os.getcwd()}\")\n",
    "print(f\"Python path includes: {project_root}\")\n"
   ]
  },
  {
   "cell_type": "code",
   "execution_count": null,
   "id": "25bb5e4c",
   "metadata": {},
   "outputs": [],
   "source": [
    "\n",
    "from pathlib import Path\n",
    "from typing import List\n",
    "import argparse\n",
    "from datetime import datetime\n",
    "\n",
    "import numpy as np\n",
    "import pandas as pd # type: ignore\n",
    "\n",
    "import src.additional_fields\n",
    "import src.fetch_data # type: ignore\n",
    "import src.core_transform # type: ignore\n",
    "import cdutils.pkey_sqlite # type: ignore\n",
    "import cdutils.hhnbr # type: ignore\n",
    "import cdutils.loans.calculations\n",
    "import cdutils.inactive_date\n",
    "import cdutils.input_cleansing\n",
    "import src.data_cleaning_main\n",
    "# Current (doesn't really work without)\n",
    "# data = src.fetch_data.fetch_data()\n",
    "\n"
   ]
  },
  {
   "cell_type": "code",
   "execution_count": null,
   "id": "dcfc4703",
   "metadata": {},
   "outputs": [],
   "source": [
    "data2020 = src.data_cleaning_main.run_data_cleaning_pipeline(\n",
    "    as_of_date=datetime(2020, 12, 31),\n",
    "    data_source=\"production\",\n",
    "    exclude_org_types=[\"MUNI\",\"TRST\"]\n",
    ")\n",
    "\n",
    "data2021 = src.data_cleaning_main.run_data_cleaning_pipeline(\n",
    "    as_of_date=datetime(2021, 12, 31),\n",
    "    data_source=\"production\",\n",
    "    exclude_org_types=[\"MUNI\",\"TRST\"]\n",
    ")\n",
    "\n",
    "data2022 = src.data_cleaning_main.run_data_cleaning_pipeline(\n",
    "    as_of_date=datetime(2022, 12, 30),\n",
    "    data_source=\"production\",\n",
    "    exclude_org_types=[\"MUNI\",\"TRST\"]\n",
    ")\n",
    "\n",
    "data2023 = src.data_cleaning_main.run_data_cleaning_pipeline(\n",
    "    as_of_date=datetime(2023, 12, 29),\n",
    "    data_source=\"production\",\n",
    "    exclude_org_types=[\"MUNI\",\"TRST\"]\n",
    ")\n",
    "\n",
    "data2024 = src.data_cleaning_main.run_data_cleaning_pipeline(\n",
    "    as_of_date=datetime(2024, 12, 31),\n",
    "    data_source=\"production\",\n",
    "    exclude_org_types=[\"MUNI\",\"TRST\"]\n",
    ")"
   ]
  },
  {
   "cell_type": "code",
   "execution_count": null,
   "id": "89ff51fa",
   "metadata": {},
   "outputs": [],
   "source": [
    "import src.annual_deposit_history\n",
    "\n",
    "\n",
    "dataframes = [data2020, data2021, data2022, data2023, data2024]\n",
    "dates = ['2020-12-31', '2021-12-31', '2022-12-31', '2023-12-31','2024-12-31']\n",
    "five_yr_history = src.annual_deposit_history.create_time_series_analysis(dataframes, dates)"
   ]
  },
  {
   "cell_type": "code",
   "execution_count": null,
   "id": "21917836",
   "metadata": {},
   "outputs": [],
   "source": [
    "FIVE_YR_HISTORY = Path('./output/five_yr_history.csv')\n",
    "five_yr_history.to_csv(FIVE_YR_HISTORY, index=False)"
   ]
  },
  {
   "cell_type": "markdown",
   "id": "d2a039d4",
   "metadata": {},
   "source": [
    "### Data Requirment #1: 5 Year History of Branches\n",
    "- Complete"
   ]
  },
  {
   "cell_type": "code",
   "execution_count": null,
   "id": "99f33378",
   "metadata": {},
   "outputs": [],
   "source": [
    "data_current = src.data_cleaning_main.run_data_cleaning_pipeline(\n",
    "    as_of_date=datetime(2025, 6, 30),\n",
    "    data_source=\"production\",\n",
    "    exclude_org_types=[\"MUNI\",\"TRST\"]\n",
    ")"
   ]
  },
  {
   "cell_type": "code",
   "execution_count": null,
   "id": "616d58c1",
   "metadata": {},
   "outputs": [],
   "source": [
    "# Create Primary Key (Tax Owner of Account)\n",
    "data_current['Primary Key'] = np.where(\n",
    "    data_current['taxrptfororgnbr'].isnull(), \n",
    "    'P' + data_current['taxrptforpersnbr'].astype(str), \n",
    "    'O' + data_current['taxrptfororgnbr'].astype(str)\n",
    ")"
   ]
  },
  {
   "cell_type": "code",
   "execution_count": null,
   "id": "d7cc7ace",
   "metadata": {},
   "outputs": [],
   "source": [
    "# Create Address field\n",
    "def concat_address(text1, text2, text3):\n",
    "    parts = [str(p).strip() for p in [text1, text2, text3] if p and str(p).strip()]\n",
    "    return ' '.join(parts) if parts else pd.NA\n",
    "\n",
    "data_current['Address'] = data_current.apply(\n",
    "    lambda row: concat_address(row.get('text1'), row.get('text2'), row.get('text3')),\n",
    "    axis=1\n",
    ")"
   ]
  },
  {
   "cell_type": "code",
   "execution_count": null,
   "id": "ec3c265d",
   "metadata": {},
   "outputs": [],
   "source": [
    "# Filter to Loans & Deposits\n",
    "data_current = data_current[data_current['mjaccttypcd'].isin(['CML','MLN','CNS','MTG','CK','SAV','TD'])].copy()"
   ]
  },
  {
   "cell_type": "code",
   "execution_count": null,
   "id": "f98537eb",
   "metadata": {},
   "outputs": [],
   "source": [
    "# Exclude ACH Manager products (coded as CML)\n",
    "data_current = data_current[~data_current['currmiaccttypcd'].isin(['CI07'])].copy()"
   ]
  },
  {
   "cell_type": "code",
   "execution_count": null,
   "id": "4648514f",
   "metadata": {},
   "outputs": [],
   "source": [
    "# Create Account Type mapping - Easier to understand, based on our major field\n",
    "def map_account_type(acct_code:str):\n",
    "    \"\"\"\n",
    "    Map mjaccttypcd to friendly Account Type\n",
    "    \"\"\"\n",
    "    mapping = {\n",
    "        'CML':'Commercial Loan',\n",
    "        'MLN':'Commercial Loan',\n",
    "        'CNS':'Consumer Loan',\n",
    "        'MTG':'Residential Loan',\n",
    "        'CK':'Checking',\n",
    "        'SAV':'Savings',\n",
    "        'TD':'CD'\n",
    "    }\n",
    "    return mapping.get(str(acct_code).upper(), 'Other')\n",
    "\n",
    "data_current['Account Type'] = data_current['mjaccttypcd'].apply(map_account_type)"
   ]
  },
  {
   "cell_type": "code",
   "execution_count": null,
   "id": "3d8d232f",
   "metadata": {},
   "outputs": [],
   "source": [
    "data_current['Account Type'] = np.where(\n",
    "    (data_current['Account Type'] == 'Commercial Loan') & \n",
    "    (data_current['loanofficer'].isin(['EBL PROGRAM ADMIN','SBLC LOAN OFFICER'])),\n",
    "    'Small Business Loan',\n",
    "    data_current['Account Type']\n",
    "    )"
   ]
  },
  {
   "cell_type": "code",
   "execution_count": null,
   "id": "2ae76e6d",
   "metadata": {},
   "outputs": [],
   "source": [
    "data_current['orig_ttl_loan_amt'] = np.where(\n",
    "    data_current['mjaccttypcd'].isin(['CML','MLN','MTG','CNS']),\n",
    "    data_current['orig_ttl_loan_amt'],\n",
    "    pd.NA\n",
    ")"
   ]
  },
  {
   "cell_type": "code",
   "execution_count": null,
   "id": "9ec87f5e",
   "metadata": {},
   "outputs": [],
   "source": [
    "data_current['Business/Individual'] = np.where(\n",
    "    data_current['taxrptfororgnbr'].isnull(),\n",
    "    'Individual',\n",
    "    'Business'\n",
    ")"
   ]
  },
  {
   "cell_type": "code",
   "execution_count": null,
   "id": "d05781e0",
   "metadata": {},
   "outputs": [],
   "source": [
    "data_current = data_current.rename(columns={\n",
    "    'cityname':'City',\n",
    "    'statecd':'State',\n",
    "    'zipcd':'Zip',\n",
    "    'branchname':'Branch Associated',\n",
    "    'contractdate':'Date Account Opened',\n",
    "    'Net Balance':'Current Balance',\n",
    "    'orig_ttl_loan_amt':'Original Balance (Loans)',\n",
    "    'datebirth':'Date of Birth'\n",
    "}).copy()"
   ]
  },
  {
   "cell_type": "code",
   "execution_count": null,
   "id": "f044b391",
   "metadata": {},
   "outputs": [],
   "source": [
    "data_current_final = data_current[[\n",
    "    'Primary Key',\n",
    "    'Address',\n",
    "    'City',\n",
    "    'State',\n",
    "    'Zip',\n",
    "    'Branch Associated',\n",
    "    'Account Type',\n",
    "    'Date Account Opened',\n",
    "    'Current Balance',\n",
    "    'Original Balance (Loans)',\n",
    "    'Date of Birth'\n",
    "]].copy()"
   ]
  },
  {
   "cell_type": "code",
   "execution_count": null,
   "id": "28565047",
   "metadata": {},
   "outputs": [],
   "source": [
    "data_current_final"
   ]
  },
  {
   "cell_type": "code",
   "execution_count": null,
   "id": "2877d12b",
   "metadata": {},
   "outputs": [],
   "source": [
    "ACCOUNT_OUTPUT = Path('./output/account_data.csv')\n",
    "data_current_final.to_csv(ACCOUNT_OUTPUT, index=False)"
   ]
  },
  {
   "cell_type": "code",
   "execution_count": null,
   "id": "368d7b27",
   "metadata": {},
   "outputs": [],
   "source": []
  }
 ],
 "metadata": {
  "kernelspec": {
   "display_name": ".venv",
   "language": "python",
   "name": "python3"
  },
  "language_info": {
   "codemirror_mode": {
    "name": "ipython",
    "version": 3
   },
   "file_extension": ".py",
   "mimetype": "text/x-python",
   "name": "python",
   "nbconvert_exporter": "python",
   "pygments_lexer": "ipython3",
   "version": "3.11.9"
  }
 },
 "nbformat": 4,
 "nbformat_minor": 5
}
