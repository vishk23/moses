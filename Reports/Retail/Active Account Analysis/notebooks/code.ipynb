{
 "cells": [
  {
   "cell_type": "code",
   "execution_count": 1,
   "id": "c1a724e0",
   "metadata": {},
   "outputs": [],
   "source": [
    "import os\n",
    "import sys\n",
    "from pathlib import Path\n",
    "\n",
    "# Navigate to project root (equivalent to cd ..)\n",
    "project_dir = Path(__file__).parent.parent if '__file__' in globals() else Path.cwd().parent\n",
    "os.chdir(project_dir)\n",
    "\n",
    "# Add src directory to Python path for imports\n",
    "src_dir = project_dir / \"src\"\n",
    "if str(src_dir) not in sys.path:\n",
    "    sys.path.insert(0, str(src_dir))\n",
    "\n",
    "# Set environment for dev testing\n",
    "os.environ['REPORT_ENV'] = 'dev'"
   ]
  },
  {
   "cell_type": "code",
   "execution_count": 2,
   "id": "de6c09a0",
   "metadata": {},
   "outputs": [],
   "source": [
    "import cdutils.acct_lookup_any_date.lookup_loop"
   ]
  },
  {
   "cell_type": "code",
   "execution_count": 3,
   "id": "1465d2d9",
   "metadata": {},
   "outputs": [],
   "source": [
    "from datetime import datetime"
   ]
  },
  {
   "cell_type": "code",
   "execution_count": 4,
   "id": "26e8805d",
   "metadata": {},
   "outputs": [],
   "source": [
    "specified_date = datetime(2025,6,30)"
   ]
  },
  {
   "cell_type": "code",
   "execution_count": 6,
   "id": "f21b56d1",
   "metadata": {},
   "outputs": [
    {
     "ename": "KeyboardInterrupt",
     "evalue": "",
     "output_type": "error",
     "traceback": [
      "\u001b[31m---------------------------------------------------------------------------\u001b[39m",
      "\u001b[31mKeyboardInterrupt\u001b[39m                         Traceback (most recent call last)",
      "\u001b[36mCell\u001b[39m\u001b[36m \u001b[39m\u001b[32mIn[6]\u001b[39m\u001b[32m, line 1\u001b[39m\n\u001b[32m----> \u001b[39m\u001b[32m1\u001b[39m df = \u001b[43mcdutils\u001b[49m\u001b[43m.\u001b[49m\u001b[43macct_lookup_any_date\u001b[49m\u001b[43m.\u001b[49m\u001b[43mlookup_loop\u001b[49m\u001b[43m.\u001b[49m\u001b[43mquery_df_on_date\u001b[49m\u001b[43m(\u001b[49m\u001b[43mspecified_date\u001b[49m\u001b[43m)\u001b[49m\n",
      "\u001b[36mFile \u001b[39m\u001b[32m~\\Documents\\gh\\bcsb-prod\\cdutils\\cdutils\\acct_lookup_any_date\\lookup_loop.py:42\u001b[39m, in \u001b[36mquery_df_on_date\u001b[39m\u001b[34m(specified_date)\u001b[39m\n\u001b[32m     40\u001b[39m raw_data = cdutils.pkey_sqlite.add_pkey(raw_data)\n\u001b[32m     41\u001b[39m raw_data = cdutils.pkey_sqlite.add_ownership_key(raw_data)\n\u001b[32m---> \u001b[39m\u001b[32m42\u001b[39m raw_data = \u001b[43mcdutils\u001b[49m\u001b[43m.\u001b[49m\u001b[43mpkey_sqlite\u001b[49m\u001b[43m.\u001b[49m\u001b[43madd_address_key\u001b[49m\u001b[43m(\u001b[49m\u001b[43mraw_data\u001b[49m\u001b[43m)\u001b[49m\n\u001b[32m     44\u001b[39m \u001b[38;5;66;03m# %%\u001b[39;00m\n\u001b[32m     45\u001b[39m househldacct = data[\u001b[33m'\u001b[39m\u001b[33mhousehldacct\u001b[39m\u001b[33m'\u001b[39m].copy()\n",
      "\u001b[36mFile \u001b[39m\u001b[32m~\\Documents\\gh\\bcsb-prod\\cdutils\\cdutils\\pkey_sqlite.py:209\u001b[39m, in \u001b[36madd_address_key\u001b[39m\u001b[34m(df)\u001b[39m\n\u001b[32m    206\u001b[39m \u001b[38;5;28;01massert\u001b[39;00m DB_PATH.exists(), \u001b[33mf\u001b[39m\u001b[33m\"\u001b[39m\u001b[33mDirectory that houses pkey not accessible\u001b[39m\u001b[33m\"\u001b[39m\n\u001b[32m    207\u001b[39m \u001b[38;5;28;01massert\u001b[39;00m (DB_PATH / \u001b[33m\"\u001b[39m\u001b[33maddress.db\u001b[39m\u001b[33m\"\u001b[39m).exists(), \u001b[33mf\u001b[39m\u001b[33m\"\u001b[39m\u001b[33mcurrent.db does not exist or is not accesible\u001b[39m\u001b[33m\"\u001b[39m\n\u001b[32m--> \u001b[39m\u001b[32m209\u001b[39m engine = \u001b[43mcreate_sqlite_engine\u001b[49m\u001b[43m(\u001b[49m\u001b[33;43m'\u001b[39;49m\u001b[33;43maddress.db\u001b[39;49m\u001b[33;43m'\u001b[39;49m\u001b[43m,\u001b[49m\u001b[43m \u001b[49m\u001b[43muse_default_dir\u001b[49m\u001b[43m=\u001b[49m\u001b[38;5;28;43;01mFalse\u001b[39;49;00m\u001b[43m,\u001b[49m\u001b[43m \u001b[49m\u001b[43mbase_dir\u001b[49m\u001b[43m=\u001b[49m\u001b[43mDB_PATH\u001b[49m\u001b[43m)\u001b[49m\n\u001b[32m    210\u001b[39m pkey_df = pd.read_sql(\u001b[33m\"\u001b[39m\u001b[33mSELECT * FROM current_keys\u001b[39m\u001b[33m\"\u001b[39m, con=engine)\n\u001b[32m    212\u001b[39m pkey_df = pkey_df.drop(columns=\u001b[33m'\u001b[39m\u001b[33mtimestamp\u001b[39m\u001b[33m'\u001b[39m).copy()\n",
      "\u001b[36mFile \u001b[39m\u001b[32m~\\Documents\\gh\\bcsb-prod\\cdutils\\cdutils\\pkey_sqlite.py:27\u001b[39m, in \u001b[36mcreate_sqlite_engine\u001b[39m\u001b[34m(db_filename, use_default_dir, base_dir)\u001b[39m\n\u001b[32m     24\u001b[39m     db_path = base_dir / db_filename\n\u001b[32m     26\u001b[39m \u001b[38;5;66;03m# build connection string\u001b[39;00m\n\u001b[32m---> \u001b[39m\u001b[32m27\u001b[39m connection_str = \u001b[33mf\u001b[39m\u001b[33m\"\u001b[39m\u001b[33msqlite:///\u001b[39m\u001b[38;5;132;01m{\u001b[39;00m\u001b[43mdb_path\u001b[49m\u001b[43m.\u001b[49m\u001b[43mresolve\u001b[49m\u001b[43m(\u001b[49m\u001b[43m)\u001b[49m\u001b[38;5;132;01m}\u001b[39;00m\u001b[33m\"\u001b[39m\n\u001b[32m     28\u001b[39m engine = create_engine(connection_str)\n\u001b[32m     29\u001b[39m \u001b[38;5;28;01mreturn\u001b[39;00m engine\n",
      "\u001b[36mFile \u001b[39m\u001b[32m~\\AppData\\Local\\Programs\\Python\\Python311\\Lib\\pathlib.py:993\u001b[39m, in \u001b[36mPath.resolve\u001b[39m\u001b[34m(self, strict)\u001b[39m\n\u001b[32m    990\u001b[39m         \u001b[38;5;28;01mraise\u001b[39;00m \u001b[38;5;167;01mRuntimeError\u001b[39;00m(\u001b[33m\"\u001b[39m\u001b[33mSymlink loop from \u001b[39m\u001b[38;5;132;01m%r\u001b[39;00m\u001b[33m\"\u001b[39m % e.filename)\n\u001b[32m    992\u001b[39m \u001b[38;5;28;01mtry\u001b[39;00m:\n\u001b[32m--> \u001b[39m\u001b[32m993\u001b[39m     s = \u001b[43mos\u001b[49m\u001b[43m.\u001b[49m\u001b[43mpath\u001b[49m\u001b[43m.\u001b[49m\u001b[43mrealpath\u001b[49m\u001b[43m(\u001b[49m\u001b[38;5;28;43mself\u001b[39;49m\u001b[43m,\u001b[49m\u001b[43m \u001b[49m\u001b[43mstrict\u001b[49m\u001b[43m=\u001b[49m\u001b[43mstrict\u001b[49m\u001b[43m)\u001b[49m\n\u001b[32m    994\u001b[39m \u001b[38;5;28;01mexcept\u001b[39;00m \u001b[38;5;167;01mOSError\u001b[39;00m \u001b[38;5;28;01mas\u001b[39;00m e:\n\u001b[32m    995\u001b[39m     check_eloop(e)\n",
      "\u001b[36mFile \u001b[39m\u001b[32m<frozen ntpath>:696\u001b[39m, in \u001b[36mrealpath\u001b[39m\u001b[34m(path, strict)\u001b[39m\n",
      "\u001b[31mKeyboardInterrupt\u001b[39m: "
     ]
    }
   ],
   "source": [
    "df = cdutils.acct_lookup_any_date.lookup_loop.query_df_on_date(specified_date)"
   ]
  },
  {
   "cell_type": "code",
   "execution_count": null,
   "id": "ebb1b205",
   "metadata": {},
   "outputs": [],
   "source": []
  }
 ],
 "metadata": {
  "kernelspec": {
   "display_name": "bcsb-prod",
   "language": "python",
   "name": "python3"
  },
  "language_info": {
   "codemirror_mode": {
    "name": "ipython",
    "version": 3
   },
   "file_extension": ".py",
   "mimetype": "text/x-python",
   "name": "python",
   "nbconvert_exporter": "python",
   "pygments_lexer": "ipython3",
   "version": "3.11.9"
  }
 },
 "nbformat": 4,
 "nbformat_minor": 5
}
