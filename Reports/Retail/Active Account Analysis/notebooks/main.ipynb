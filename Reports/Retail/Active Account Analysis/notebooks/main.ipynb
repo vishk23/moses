{
 "cells": [
  {
   "cell_type": "code",
   "execution_count": null,
   "id": "c1a724e0",
   "metadata": {},
   "outputs": [],
   "source": [
    "import os\n",
    "import sys\n",
    "from pathlib import Path\n",
    "\n",
    "# Navigate to project root (equivalent to cd ..)\n",
    "project_dir = Path(__file__).parent.parent if '__file__' in globals() else Path.cwd().parent\n",
    "os.chdir(project_dir)\n",
    "\n",
    "# Add src directory to Python path for imports\n",
    "src_dir = project_dir / \"src\"\n",
    "if str(src_dir) not in sys.path:\n",
    "    sys.path.insert(0, str(src_dir))\n",
    "\n",
    "# Set environment for dev testing\n",
    "os.environ['REPORT_ENV'] = 'dev'"
   ]
  },
  {
   "cell_type": "code",
   "execution_count": null,
   "id": "de6c09a0",
   "metadata": {},
   "outputs": [],
   "source": [
    "import cdutils.acct_file_creation.core"
   ]
  },
  {
   "cell_type": "code",
   "execution_count": null,
   "id": "1465d2d9",
   "metadata": {},
   "outputs": [],
   "source": [
    "from datetime import datetime"
   ]
  },
  {
   "cell_type": "code",
   "execution_count": null,
   "id": "26e8805d",
   "metadata": {},
   "outputs": [],
   "source": [
    "specified_date = datetime(2025,6,30)"
   ]
  },
  {
   "cell_type": "code",
   "execution_count": null,
   "id": "d3b9e14e",
   "metadata": {},
   "outputs": [],
   "source": [
    "specified_date = None"
   ]
  },
  {
   "cell_type": "code",
   "execution_count": null,
   "id": "f21b56d1",
   "metadata": {},
   "outputs": [],
   "source": [
    "df = cdutils.acct_file_creation.core.query_df_on_date(specified_date)"
   ]
  },
  {
   "cell_type": "code",
   "execution_count": null,
   "id": "ebb1b205",
   "metadata": {},
   "outputs": [],
   "source": [
    "df"
   ]
  },
  {
   "cell_type": "code",
   "execution_count": null,
   "id": "07945ca2",
   "metadata": {},
   "outputs": [],
   "source": [
    "import src.active_acct_analysis.fetch_data\n",
    "\n",
    "wh_allroles = src.active_acct_analysis.fetch_data.fetch_data()\n",
    "wh_allroles = wh_allroles['wh_allroles'].copy()\n",
    "wh_allroles"
   ]
  },
  {
   "cell_type": "code",
   "execution_count": null,
   "id": "be94c246",
   "metadata": {},
   "outputs": [],
   "source": []
  }
 ],
 "metadata": {
  "kernelspec": {
   "display_name": "bcsb-prod",
   "language": "python",
   "name": "python3"
  },
  "language_info": {
   "codemirror_mode": {
    "name": "ipython",
    "version": 3
   },
   "file_extension": ".py",
   "mimetype": "text/x-python",
   "name": "python",
   "nbconvert_exporter": "python",
   "pygments_lexer": "ipython3",
   "version": "3.11.9"
  }
 },
 "nbformat": 4,
 "nbformat_minor": 5
}
