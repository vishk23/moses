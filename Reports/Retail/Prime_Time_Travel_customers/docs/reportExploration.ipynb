{
 "cells": [
  {
   "cell_type": "code",
   "execution_count": null,
   "id": "97e8edbc",
   "metadata": {},
   "outputs": [],
   "source": [
    "import pandas as pd"
   ]
  },
  {
   "cell_type": "code",
   "execution_count": null,
   "id": "26c0a3a1",
   "metadata": {},
   "outputs": [],
   "source": [
    "\"\"\"\n",
    "Using the lookup query to inspect the DB tables\n",
    "\"\"\"\n",
    "\n",
    "import cdutils.database.connect # type: ignore\n",
    "from sqlalchemy import text # type: ignore\n",
    "\n",
    "def fetch_data():\n",
    "    \"\"\"\n",
    "    Main data query\n",
    "    \"\"\"\n",
    "    # Engine 1\n",
    "    lookup_df = text(\"\"\"\n",
    "    SELECT \n",
    "        *\n",
    "    FROM \n",
    "        sys.all_tab_columns col\n",
    "    \"\"\")\n",
    "\n",
    "    persuerfield = text(f\"\"\"\n",
    "    SELECT \n",
    "        *\n",
    "    FROM \n",
    "        OSIBANK.PERSUSERFIELD a\n",
    "    WHERE\n",
    "        a.USERFIELDCD  = 'PTTM' OR a.USERFIELDCD = 'PTTR'\n",
    "    \"\"\")\n",
    "\n",
    "    wh_pers = text(f\"\"\"\n",
    "    SELECT \n",
    "        *\n",
    "    FROM \n",
    "        OSIBANK.WH_PERS\n",
    "    \"\"\")\n",
    "\n",
    "    queries = [\n",
    "        # {'key':'acctcommon', 'sql':acctcommon, 'engine':2},\n",
    "        {'key':'lookup_df', 'sql':lookup_df, 'engine':1},\n",
    "        {'key':'PERSUSERFIELD', 'sql':persuerfield, 'engine':1},\n",
    "        {'key':'WH_PERS', 'sql':wh_pers, 'engine':1}\n",
    "    ]\n",
    "\n",
    "\n",
    "    data = cdutils.database.connect.retrieve_data(queries)\n",
    "    return data\n"
   ]
  },
  {
   "cell_type": "code",
   "execution_count": null,
   "id": "2339116e",
   "metadata": {},
   "outputs": [],
   "source": [
    "data = fetch_data()"
   ]
  },
  {
   "cell_type": "code",
   "execution_count": null,
   "id": "93b61280",
   "metadata": {},
   "outputs": [],
   "source": [
    "wh_pers = data['WH_PERS'].copy()\n",
    "wh_pers = wh_pers[['persnbr', 'employeeyn']]\n",
    "wh_pers"
   ]
  },
  {
   "cell_type": "code",
   "execution_count": null,
   "id": "e48439ae",
   "metadata": {},
   "outputs": [],
   "source": [
    "lookup_df = data['lookup_df'].copy()"
   ]
  },
  {
   "cell_type": "code",
   "execution_count": null,
   "id": "68457dc4",
   "metadata": {},
   "outputs": [],
   "source": [
    "lookup_df"
   ]
  },
  {
   "cell_type": "code",
   "execution_count": null,
   "id": "703c5374",
   "metadata": {},
   "outputs": [],
   "source": [
    "\"\"\"\n",
    "Finding historical data for a given account number.\n",
    "\"\"\"\n",
    "\n",
    "import cdutils.database.connect # type: ignore\n",
    "from sqlalchemy import text # type: ignore\n",
    "\n",
    "def fetch_data_persuserfield():\n",
    "    \"\"\"\n",
    "    Main data query\n",
    "    \"\"\"\n",
    "    # Engine 1\n",
    "    persuerfield = text(f\"\"\"\n",
    "    SELECT \n",
    "        *\n",
    "    FROM \n",
    "        OSIBANK.PERSUSERFIELD a\n",
    "    WHERE\n",
    "        a.USERFIELDCD  = 'PTTM' OR a.USERFIELDCD = 'PTTR'\n",
    "    \"\"\")\n",
    "\n",
    "    queries = [\n",
    "        {'key':'PERSUSERFIELD', 'sql':persuerfield, 'engine':1},\n",
    "    ]\n",
    "\n",
    "\n",
    "    data = cdutils.database.connect.retrieve_data(queries)\n",
    "    return data\n"
   ]
  },
  {
   "cell_type": "code",
   "execution_count": null,
   "id": "7408d410",
   "metadata": {},
   "outputs": [],
   "source": [
    "\"\"\"\n",
    "Finding historical data for a given account number.\n",
    "\"\"\"\n",
    "\n",
    "import cdutils.database.connect # type: ignore\n",
    "from sqlalchemy import text # type: ignore\n",
    "\n",
    "def fetch_data_allroles():\n",
    "    \"\"\"\n",
    "    Main data query\n",
    "    \"\"\"\n",
    "    # Engine 1\n",
    "    allroles = text(f\"\"\"\n",
    "    SELECT \n",
    "        *\n",
    "    FROM \n",
    "        OSIBANK.WH_ALLROLES \n",
    "    \"\"\")\n",
    "\n",
    "    queries = [\n",
    "        {'key':'WH_ALLROLES', 'sql':allroles, 'engine':1},\n",
    "    ]\n",
    "\n",
    "\n",
    "    data = cdutils.database.connect.retrieve_data(queries)\n",
    "    return data\n"
   ]
  },
  {
   "cell_type": "code",
   "execution_count": null,
   "id": "842b2d89",
   "metadata": {},
   "outputs": [],
   "source": [
    "data = fetch_data_persuserfield()"
   ]
  },
  {
   "cell_type": "code",
   "execution_count": null,
   "id": "8918f263",
   "metadata": {},
   "outputs": [],
   "source": [
    "persuserfield = data['PERSUSERFIELD'].copy()"
   ]
  },
  {
   "cell_type": "markdown",
   "id": "db274c2b",
   "metadata": {},
   "source": [
    "get wh_pers and join with persuserfield,"
   ]
  },
  {
   "cell_type": "code",
   "execution_count": null,
   "id": "dec6a188",
   "metadata": {},
   "outputs": [],
   "source": [
    "persuserfield = persuserfield.iloc[:, :3]"
   ]
  },
  {
   "cell_type": "code",
   "execution_count": null,
   "id": "864425ca",
   "metadata": {},
   "outputs": [],
   "source": [
    "persuserfield = persuserfield.sort_values(by='persnbr', ascending=True)\n",
    "persuserfield"
   ]
  },
  {
   "cell_type": "code",
   "execution_count": null,
   "id": "7e9e3992",
   "metadata": {},
   "outputs": [],
   "source": [
    "pivoted = persuserfield.pivot(index='persnbr', columns='userfieldcd', values='value')"
   ]
  },
  {
   "cell_type": "code",
   "execution_count": null,
   "id": "b7645f63",
   "metadata": {},
   "outputs": [],
   "source": [
    "pivoted"
   ]
  },
  {
   "cell_type": "code",
   "execution_count": null,
   "id": "e48de742",
   "metadata": {},
   "outputs": [],
   "source": [
    "# fill all missing values with N\n",
    "pivoted = pivoted.fillna('N')"
   ]
  },
  {
   "cell_type": "code",
   "execution_count": null,
   "id": "c2253c9d",
   "metadata": {},
   "outputs": [],
   "source": [
    "pivoted"
   ]
  },
  {
   "cell_type": "code",
   "execution_count": null,
   "id": "2817b0e6",
   "metadata": {},
   "outputs": [],
   "source": [
    "only_ppl_with_y = pivoted[(pivoted['PTTM'] == 'Y') | (pivoted['PTTR'] == 'Y')]"
   ]
  },
  {
   "cell_type": "code",
   "execution_count": null,
   "id": "73a97617",
   "metadata": {},
   "outputs": [],
   "source": [
    "only_ppl_with_y"
   ]
  },
  {
   "cell_type": "code",
   "execution_count": null,
   "id": "70db768c",
   "metadata": {},
   "outputs": [],
   "source": [
    "roles_data = fetch_data_allroles()"
   ]
  },
  {
   "cell_type": "code",
   "execution_count": null,
   "id": "7be254ee",
   "metadata": {},
   "outputs": [],
   "source": [
    "allroles = roles_data['WH_ALLROLES'].copy()"
   ]
  },
  {
   "cell_type": "code",
   "execution_count": null,
   "id": "d71f37a4",
   "metadata": {},
   "outputs": [],
   "source": [
    "allroles"
   ]
  },
  {
   "cell_type": "code",
   "execution_count": null,
   "id": "0d68ad85",
   "metadata": {},
   "outputs": [],
   "source": [
    "allroles = allroles[allroles['emplroleyn'] == 'N']\n",
    "allroles"
   ]
  },
  {
   "cell_type": "code",
   "execution_count": null,
   "id": "3df22ca4",
   "metadata": {},
   "outputs": [],
   "source": [
    "df_cleaned = allroles.dropna(subset=['persnbr'])"
   ]
  },
  {
   "cell_type": "code",
   "execution_count": null,
   "id": "80f26a02",
   "metadata": {},
   "outputs": [],
   "source": [
    "df_cleaned"
   ]
  },
  {
   "cell_type": "code",
   "execution_count": null,
   "id": "dbf8ba10",
   "metadata": {},
   "outputs": [],
   "source": [
    "merged_df = pd.merge(only_ppl_with_y, df_cleaned, on='persnbr')"
   ]
  },
  {
   "cell_type": "code",
   "execution_count": null,
   "id": "466c8cde",
   "metadata": {},
   "outputs": [],
   "source": [
    "merged_df = merged_df.sort_values(by='persnbr', ascending=True)\n",
    "merged_df"
   ]
  },
  {
   "cell_type": "code",
   "execution_count": null,
   "id": "89153437",
   "metadata": {},
   "outputs": [],
   "source": [
    "import pkey\n",
    "newdata = pkey.pkey()"
   ]
  },
  {
   "cell_type": "code",
   "execution_count": null,
   "id": "1660bd2b",
   "metadata": {},
   "outputs": [],
   "source": [
    "newdata['acctnbr'] = newdata['acctnbr'].astype(int)\n",
    "newdata = newdata[(newdata['curracctstatcd'] == 'ACT') | (newdata['curracctstatcd'] == 'NPFM')]\n",
    "newdata\n",
    "# curracctstatcd = act or npfm\n",
    "# sum total exposure and net bal"
   ]
  },
  {
   "cell_type": "code",
   "execution_count": null,
   "id": "44bcc127",
   "metadata": {},
   "outputs": [],
   "source": [
    "newdata"
   ]
  },
  {
   "cell_type": "code",
   "execution_count": null,
   "id": "36575dc1",
   "metadata": {},
   "outputs": [],
   "source": [
    "merged_df2['acctroledesc'].unique()"
   ]
  },
  {
   "cell_type": "code",
   "execution_count": null,
   "id": "f1c5c971",
   "metadata": {},
   "outputs": [],
   "source": [
    "# ['Tax Owner]\n",
    "# dedupe\n",
    "# for each persnbr there shouldn't be any duplicate account numbers associated with it\n",
    "# dont include category ['CRE', 'C&I', 'HOA']"
   ]
  },
  {
   "cell_type": "code",
   "execution_count": null,
   "id": "0ab49cda",
   "metadata": {},
   "outputs": [],
   "source": [
    "newdata"
   ]
  },
  {
   "cell_type": "code",
   "execution_count": null,
   "id": "36ce2b35",
   "metadata": {},
   "outputs": [],
   "source": [
    "merged_df2 = pd.merge(merged_df, newdata[['acctnbr', 'ownersortname', 'Net Balance', 'Total Exposure', 'Category']], on='acctnbr')"
   ]
  },
  {
   "cell_type": "code",
   "execution_count": null,
   "id": "aa44217b",
   "metadata": {},
   "outputs": [],
   "source": [
    "valid_roles = ['Tax Owner', 'NonTax Owner']\n",
    "bad_categories = ['CRE', 'C&I', 'HOA']\n",
    "merged_df2 = merged_df2[merged_df2['acctroledesc'].isin(valid_roles)]\n",
    "merged_df2 = merged_df2[~merged_df2['Category'].isin(bad_categories)]"
   ]
  },
  {
   "cell_type": "code",
   "execution_count": null,
   "id": "d7b3ec5f",
   "metadata": {},
   "outputs": [],
   "source": [
    "merged_df2"
   ]
  },
  {
   "cell_type": "code",
   "execution_count": null,
   "id": "46436d7f",
   "metadata": {},
   "outputs": [],
   "source": [
    "merged_df2['Category'].unique()"
   ]
  },
  {
   "cell_type": "code",
   "execution_count": null,
   "id": "b4f11213",
   "metadata": {},
   "outputs": [],
   "source": [
    "df_unique = merged_df2.drop_duplicates(subset=['persnbr', 'acctnbr'], keep='first')"
   ]
  },
  {
   "cell_type": "code",
   "execution_count": null,
   "id": "46c138b5",
   "metadata": {},
   "outputs": [],
   "source": [
    "df_unique"
   ]
  },
  {
   "cell_type": "code",
   "execution_count": null,
   "id": "9314f973",
   "metadata": {},
   "outputs": [],
   "source": [
    "deposits = df_unique[df_unique['Category'].isna()].groupby('persnbr')['Net Balance'].sum()\n",
    "loans = df_unique[df_unique['Category'].notna()].groupby('persnbr')['Total Exposure'].sum()\n",
    "\n",
    "summary = pd.concat([deposits, loans], axis=1).fillna(0)\n",
    "\n",
    "metadata = df_unique.drop_duplicates('persnbr')[['persnbr', 'PTTM', 'PTTR', 'ownersortname']].set_index('persnbr')\n",
    "\n",
    "final_df = summary.merge(metadata, left_index=True, right_index=True).reset_index()\n",
    "final_df = final_df[['ownersortname', 'persnbr', 'PTTM', 'PTTR', 'Net Balance', 'Total Exposure']]"
   ]
  },
  {
   "cell_type": "code",
   "execution_count": null,
   "id": "529cd0d4",
   "metadata": {},
   "outputs": [],
   "source": [
    "names = {\n",
    "    'ownersortname': 'Customer Name',\n",
    "    'persnbr': 'Customer Number',\n",
    "    'PTTM': 'PTTM',\n",
    "    'PTTR': 'PTTR',\n",
    "    'Net Balance': 'Deposit Total Owner Balance',\n",
    "    'Total Exposure': 'Loans Total Owner Balance'\n",
    "}\n",
    "\n",
    "final_df = final_df.rename(columns=names)"
   ]
  },
  {
   "cell_type": "code",
   "execution_count": null,
   "id": "f76f860a",
   "metadata": {},
   "outputs": [],
   "source": [
    "final_df"
   ]
  }
 ],
 "metadata": {
  "kernelspec": {
   "display_name": "Python 3",
   "language": "python",
   "name": "python3"
  },
  "language_info": {
   "codemirror_mode": {
    "name": "ipython",
    "version": 3
   },
   "file_extension": ".py",
   "mimetype": "text/x-python",
   "name": "python",
   "nbconvert_exporter": "python",
   "pygments_lexer": "ipython3",
   "version": "3.11.9"
  }
 },
 "nbformat": 4,
 "nbformat_minor": 5
}
