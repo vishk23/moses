{
 "cells": [
  {
   "cell_type": "code",
   "execution_count": null,
   "id": "c1a724e0",
   "metadata": {},
   "outputs": [],
   "source": [
    "import os\n",
    "import sys\n",
    "from pathlib import Path\n",
    "\n",
    "# Navigate to project root (equivalent to cd ..)\n",
    "project_dir = Path(__file__).parent.parent if '__file__' in globals() else Path.cwd().parent\n",
    "os.chdir(project_dir)\n",
    "\n",
    "# Add src directory to Python path for imports\n",
    "src_dir = project_dir / \"src\"\n",
    "if str(src_dir) not in sys.path:\n",
    "    sys.path.insert(0, str(src_dir))\n",
    "\n",
    "# Set environment for dev testing\n",
    "os.environ['REPORT_ENV'] = 'dev'"
   ]
  },
  {
   "cell_type": "code",
   "execution_count": null,
   "id": "de6c09a0",
   "metadata": {},
   "outputs": [],
   "source": [
    "\"\"\"\n",
    "Fetching data module. Aim is import all necessary fields up front, but if needed, you can define another function to be called here.\n",
    "\n",
    "Usage:\n",
    "    import src.cdutils.database\n",
    "\n",
    "You need to set your own date that you want to see in effective date embedded in the SQL Query\n",
    "\"\"\"\n",
    "\n",
    "import cdutils.database.connect # type: ignore\n",
    "from sqlalchemy import text # type: ignore\n",
    "from datetime import datetime\n",
    "from typing import Optional\n",
    "\n",
    "# Define fetch data here using cdutils.database.connect\n",
    "# There are often fetch_data.py files already in project if migrating\n",
    "\n",
    "def fetch_data():\n",
    "    \"\"\"\n",
    "    Main data query\n",
    "    \"\"\"\n",
    "\n",
    "    wh_rtxn = text(f\"\"\"\n",
    "    SELECT\n",
    "        *\n",
    "    FROM\n",
    "        COCCDM.WH_RTXN\n",
    "    \"\"\")\n",
    "\n",
    "    wh_rtxnbal = text(f\"\"\"\n",
    "    SELECT\n",
    "        r.*,\n",
    "        b.*\n",
    "    FROM\n",
    "        COCCDM.WH_RTXN r\n",
    "    JOIN\n",
    "        COCCDM.WH_RTXNBAL b\n",
    "    ON\n",
    "        r.rtxnnbr = b.rtxnnbr\n",
    "        AND r.rundate = b.rundate\n",
    "    ORDER BY\n",
    "        r.rundate DESC\n",
    "    FETCH FIRST 10000 ROWS ONLY\n",
    "    \"\"\")\n",
    "\n",
    "    queries = [\n",
    "        # {'key':'wh_rtxn', 'sql':wh_rtxn, 'engine':2},\n",
    "        {'key':'wh_rtxnbal', 'sql':wh_rtxnbal, 'engine':2},\n",
    "    ]\n",
    "\n",
    "    data = cdutils.database.connect.retrieve_data(queries)\n",
    "    return data\n"
   ]
  },
  {
   "cell_type": "code",
   "execution_count": null,
   "id": "ed69c51d",
   "metadata": {},
   "outputs": [],
   "source": [
    "data = fetch_data()"
   ]
  },
  {
   "cell_type": "code",
   "execution_count": null,
   "id": "311a486f",
   "metadata": {},
   "outputs": [],
   "source": [
    "rtxn = data['wh_rtxnbal'].copy()"
   ]
  }
 ],
 "metadata": {
  "kernelspec": {
   "display_name": "bcsb-prod",
   "language": "python",
   "name": "python3"
  },
  "language_info": {
   "codemirror_mode": {
    "name": "ipython",
    "version": 3
   },
   "file_extension": ".py",
   "mimetype": "text/x-python",
   "name": "python",
   "nbconvert_exporter": "python",
   "pygments_lexer": "ipython3",
   "version": "3.11.9"
  }
 },
 "nbformat": 4,
 "nbformat_minor": 5
}
