{
 "cells": [
  {
   "cell_type": "code",
   "execution_count": null,
   "id": "c1a724e0",
   "metadata": {},
   "outputs": [],
   "source": [
    "import os\n",
    "import sys\n",
    "from pathlib import Path\n",
    "\n",
    "# Navigate to project root (equivalent to cd ..)\n",
    "project_dir = Path(__file__).parent.parent if '__file__' in globals() else Path.cwd().parent\n",
    "os.chdir(project_dir)\n",
    "\n",
    "# Add src directory to Python path for imports\n",
    "src_dir = project_dir / \"src\"\n",
    "if str(src_dir) not in sys.path:\n",
    "    sys.path.insert(0, str(src_dir))\n",
    "\n",
    "# Set environment for dev testing\n",
    "os.environ['REPORT_ENV'] = 'dev'"
   ]
  },
  {
   "cell_type": "code",
   "execution_count": null,
   "id": "de6c09a0",
   "metadata": {},
   "outputs": [],
   "source": [
    "import pandas as pd\n",
    "import src.config\n",
    "from deltalake import DeltaTable\n",
    "import cdutils.customer_dim # type: ignore\n",
    "\n",
    "# def generate_raynham_report():\n",
    "\"\"\"\n",
    "Objective:\n",
    "\n",
    "To create a person mailing list to North raynham Branch Construction customers\n",
    "\n",
    "Params:\n",
    "\n",
    "Assigned to N Raynham\n",
    "Transacted at N Raynham within 90 days\n",
    "Address within a 5 mile radius of N. Raynham, Raynham Center, Main Office\n",
    "Owns Safe Deposit Box @ N. Raynham\n",
    "Exclusions (do we have standard exclusions for all mailings? Including common ones below)\n",
    "Customers under 18 years of age\n",
    "Deceased customers\n",
    "Charged off accounts\n",
    "\n",
    "\n",
    "Data fields:\n",
    "\n",
    "First name\n",
    "Last name\n",
    "Address\n",
    "City\n",
    "State\n",
    "Zip\n",
    "\"\"\"\n",
    "\n",
    "# Pull in Base Customer Layer\n",
    "base_customer_dim = DeltaTable(src.config.SILVER / \"base_customer_dim\").to_pandas()\n",
    "\n",
    "# Assigned to Branch from Accts\n",
    "accts = DeltaTable(src.config.SILVER / \"account\").to_pandas()\n",
    "\n",
    "# Transacted at Branch in last 90 days\n",
    "\n",
    "# Address near Branch (zip codes)\n",
    "\n",
    "# Union/concat eligible criteria on cust_id\n",
    "\n",
    "# Inner join with base customer dim\n",
    "\n",
    "# Append primary address\n"
   ]
  },
  {
   "cell_type": "code",
   "execution_count": null,
   "id": "e6b50420",
   "metadata": {},
   "outputs": [],
   "source": [
    "acct_test = cdutils.customer_dim.orgify(accts, 'taxrptfororgnbr')"
   ]
  },
  {
   "cell_type": "code",
   "execution_count": null,
   "id": "92c676df",
   "metadata": {},
   "outputs": [],
   "source": [
    "acct_test = cdutils.customer_dim.persify(accts, 'taxrptforpersnbr')"
   ]
  },
  {
   "cell_type": "code",
   "execution_count": null,
   "id": "6f8970bd",
   "metadata": {},
   "outputs": [],
   "source": [
    "acct_test"
   ]
  },
  {
   "cell_type": "code",
   "execution_count": null,
   "id": "001295d3",
   "metadata": {},
   "outputs": [],
   "source": []
  }
 ],
 "metadata": {
  "kernelspec": {
   "display_name": "bcsb-prod",
   "language": "python",
   "name": "python3"
  },
  "language_info": {
   "codemirror_mode": {
    "name": "ipython",
    "version": 3
   },
   "file_extension": ".py",
   "mimetype": "text/x-python",
   "name": "python",
   "nbconvert_exporter": "python",
   "pygments_lexer": "ipython3",
   "version": "3.11.9"
  }
 },
 "nbformat": 4,
 "nbformat_minor": 5
}
