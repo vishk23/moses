{
 "cells": [
  {
   "cell_type": "code",
   "execution_count": null,
   "id": "c1a724e0",
   "metadata": {},
   "outputs": [],
   "source": [
    "import os\n",
    "import sys\n",
    "from pathlib import Path\n",
    "\n",
    "# Navigate to project root (equivalent to cd ..)\n",
    "project_dir = Path(__file__).parent.parent if '__file__' in globals() else Path.cwd().parent\n",
    "os.chdir(project_dir)\n",
    "\n",
    "# Add src directory to Python path for imports\n",
    "src_dir = project_dir / \"src\"\n",
    "if str(src_dir) not in sys.path:\n",
    "    sys.path.insert(0, str(src_dir))\n",
    "\n",
    "# Set environment for dev testing\n",
    "os.environ['REPORT_ENV'] = 'prod'"
   ]
  },
  {
   "cell_type": "code",
   "execution_count": null,
   "id": "de6c09a0",
   "metadata": {},
   "outputs": [],
   "source": [
    "\n",
    "import cdutils.database.connect # type: ignore\n",
    "from sqlalchemy import text # type: ignore\n",
    "from datetime import datetime\n",
    "from typing import Optional\n",
    "\n",
    "# Define fetch data here using cdutils.database.connect\n",
    "# There are often fetch_data.py files already in project if migrating\n",
    "def fetch_data():\n",
    "    \"\"\"\n",
    "    Main data query\n",
    "    \"\"\"\n",
    "    wh_org = text(\"\"\"\n",
    "    SELECT\n",
    "        *\n",
    "    FROM\n",
    "        OSIBANK.WH_ORG a\n",
    "    \"\"\")    \n",
    "    wh_pers = text(\"\"\"\n",
    "    SELECT\n",
    "        *\n",
    "    FROM\n",
    "        OSIBANK.WH_PERS a\n",
    "    \"\"\")      \n",
    "    pers = text(\"\"\"\n",
    "    SELECT\n",
    "        *\n",
    "    FROM\n",
    "        OSIBANK.PERS a\n",
    "    \"\"\")      \n",
    "    org = text(\"\"\"\n",
    "    SELECT\n",
    "        *\n",
    "    FROM\n",
    "        OSIBANK.ORG a\n",
    "    \"\"\")      \n",
    "\n",
    "    # vieworgtaxid = text(f\"\"\"\n",
    "    # SELECT\n",
    "    #     *\n",
    "    # FROM\n",
    "    #     OSIBANK.VIEWORGTAXID a\n",
    "    # \"\"\")\n",
    "\n",
    "    queries = [\n",
    "        {'key':'wh_org', 'sql':wh_org, 'engine':1},\n",
    "        {'key':'wh_pers', 'sql':wh_pers, 'engine':1},\n",
    "        {'key':'org', 'sql':org, 'engine':1},\n",
    "        {'key':'pers', 'sql':pers, 'engine':1},\n",
    "        \n",
    "        # {'key':'vieworgtaxid', 'sql':vieworgtaxid, 'engine':1},\n",
    "    ]\n",
    "\n",
    "\n",
    "    data = cdutils.database.connect.retrieve_data(queries)\n",
    "    return data\n"
   ]
  },
  {
   "cell_type": "code",
   "execution_count": null,
   "id": "612425c7",
   "metadata": {},
   "outputs": [],
   "source": [
    "data = fetch_data()"
   ]
  },
  {
   "cell_type": "code",
   "execution_count": null,
   "id": "1853f6a9",
   "metadata": {},
   "outputs": [],
   "source": [
    "wh_org = data['wh_org'].copy()\n",
    "wh_pers = data['wh_pers'].copy()\n",
    "org = data['org'].copy()\n",
    "pers = data['pers'].copy()\n"
   ]
  },
  {
   "cell_type": "code",
   "execution_count": null,
   "id": "697a9801",
   "metadata": {},
   "outputs": [],
   "source": [
    "wh_org"
   ]
  },
  {
   "cell_type": "code",
   "execution_count": null,
   "id": "e978bb66",
   "metadata": {},
   "outputs": [],
   "source": [
    "org"
   ]
  },
  {
   "cell_type": "code",
   "execution_count": null,
   "id": "b85ef5a1",
   "metadata": {},
   "outputs": [],
   "source": [
    "assert wh_org['orgnbr'].is_unique, \"Dupe\""
   ]
  },
  {
   "cell_type": "code",
   "execution_count": null,
   "id": "55c1a50d",
   "metadata": {},
   "outputs": [],
   "source": [
    "\n",
    "import cdutils.database.connect # type: ignore\n",
    "from sqlalchemy import text # type: ignore\n",
    "from datetime import datetime\n",
    "from typing import Optional\n",
    "\n",
    "# Define fetch data here using cdutils.database.connect\n",
    "# There are often fetch_data.py files already in project if migrating\n",
    "def fetch_data():\n",
    "    \"\"\"\n",
    "    Main data query\n",
    "    \"\"\"\n",
    "    wh_org = text(\"\"\"\n",
    "    SELECT\n",
    "        *\n",
    "    FROM\n",
    "        COCCDM.WH_ORG a\n",
    "    \"\"\")    \n",
    "    wh_pers = text(\"\"\"\n",
    "    SELECT\n",
    "        *\n",
    "    FROM\n",
    "        COCCDM.WH_PERS a\n",
    "    \"\"\")      \n",
    "\n",
    "\n",
    "    # vieworgtaxid = text(f\"\"\"\n",
    "    # SELECT\n",
    "    #     *\n",
    "    # FROM\n",
    "    #     OSIBANK.VIEWORGTAXID a\n",
    "    # \"\"\")\n",
    "\n",
    "    queries = [\n",
    "        {'key':'wh_org', 'sql':wh_org, 'engine':2},\n",
    "        {'key':'wh_pers', 'sql':wh_pers, 'engine':2},\n",
    "        \n",
    "        # {'key':'vieworgtaxid', 'sql':vieworgtaxid, 'engine':1},\n",
    "    ]\n",
    "\n",
    "\n",
    "    data = cdutils.database.connect.retrieve_data(queries)\n",
    "    return data\n"
   ]
  },
  {
   "cell_type": "code",
   "execution_count": null,
   "id": "89d6b156",
   "metadata": {},
   "outputs": [],
   "source": [
    "data = fetch_data()"
   ]
  },
  {
   "cell_type": "code",
   "execution_count": null,
   "id": "2e5b686d",
   "metadata": {},
   "outputs": [],
   "source": [
    "wh_pers_hist = data['wh_pers'].copy()"
   ]
  },
  {
   "cell_type": "code",
   "execution_count": null,
   "id": "320c096c",
   "metadata": {},
   "outputs": [],
   "source": [
    "wh_"
   ]
  },
  {
   "cell_type": "code",
   "execution_count": null,
   "id": "0c1a8ca5",
   "metadata": {},
   "outputs": [],
   "source": [
    "wh_pers_hist"
   ]
  },
  {
   "cell_type": "code",
   "execution_count": null,
   "id": "32b14712",
   "metadata": {},
   "outputs": [],
   "source": [
    "wh_pers"
   ]
  },
  {
   "cell_type": "code",
   "execution_count": null,
   "id": "cfda3f1c",
   "metadata": {},
   "outputs": [],
   "source": [
    "df = data['query'].copy()"
   ]
  },
  {
   "cell_type": "code",
   "execution_count": null,
   "id": "85b4e887",
   "metadata": {},
   "outputs": [],
   "source": [
    "df"
   ]
  },
  {
   "cell_type": "code",
   "execution_count": null,
   "id": "3a1fa9f6",
   "metadata": {},
   "outputs": [],
   "source": [
    "df['invrstatcd'].unique()"
   ]
  },
  {
   "cell_type": "code",
   "execution_count": null,
   "id": "ee176775",
   "metadata": {},
   "outputs": [],
   "source": [
    "assert df['acctnbr'].is_unique, \"Fail\""
   ]
  },
  {
   "cell_type": "code",
   "execution_count": null,
   "id": "5b30c7fc",
   "metadata": {},
   "outputs": [],
   "source": [
    "\n",
    "import cdutils.database.connect # type: ignore\n",
    "from sqlalchemy import text # type: ignore\n",
    "from datetime import datetime\n",
    "from typing import Optional\n",
    "\n",
    "# Define fetch data here using cdutils.database.connect\n",
    "# There are often fetch_data.py files already in project if migrating\n",
    "def fetch_data():\n",
    "    \"\"\"\n",
    "    Main data query\n",
    "    \"\"\"\n",
    "    query = text(\"\"\"\n",
    "    SELECT\n",
    "        *\n",
    "    FROM\n",
    "        OSIBANK.ACCTGRPINVR a\n",
    "    \"\"\")    \n",
    "    # vieworgtaxid = text(f\"\"\"\n",
    "    # SELECT\n",
    "    #     *\n",
    "    # FROM\n",
    "    #     OSIBANK.VIEWORGTAXID a\n",
    "    # \"\"\")\n",
    "\n",
    "    queries = [\n",
    "        {'key':'query', 'sql':query, 'engine':1},\n",
    "        \n",
    "        # {'key':'vieworgtaxid', 'sql':vieworgtaxid, 'engine':1},\n",
    "    ]\n",
    "\n",
    "\n",
    "    data = cdutils.database.connect.retrieve_data(queries)\n",
    "    return data\n"
   ]
  },
  {
   "cell_type": "code",
   "execution_count": null,
   "id": "6fc54079",
   "metadata": {},
   "outputs": [],
   "source": [
    "data = fetch_data()"
   ]
  },
  {
   "cell_type": "code",
   "execution_count": null,
   "id": "a08a13d6",
   "metadata": {},
   "outputs": [],
   "source": [
    "df = data['query'].copy()"
   ]
  },
  {
   "cell_type": "code",
   "execution_count": null,
   "id": "6995fe2c",
   "metadata": {},
   "outputs": [],
   "source": [
    "df"
   ]
  },
  {
   "cell_type": "code",
   "execution_count": null,
   "id": "4ca163ac",
   "metadata": {},
   "outputs": [],
   "source": []
  }
 ],
 "metadata": {
  "kernelspec": {
   "display_name": "bcsb-prod",
   "language": "python",
   "name": "python3"
  },
  "language_info": {
   "codemirror_mode": {
    "name": "ipython",
    "version": 3
   },
   "file_extension": ".py",
   "mimetype": "text/x-python",
   "name": "python",
   "nbconvert_exporter": "python",
   "pygments_lexer": "ipython3",
   "version": "3.11.9"
  }
 },
 "nbformat": 4,
 "nbformat_minor": 5
}
