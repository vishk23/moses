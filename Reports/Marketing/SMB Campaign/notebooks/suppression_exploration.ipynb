{
 "cells": [
  {
   "cell_type": "code",
   "execution_count": null,
   "id": "60a743c2",
   "metadata": {},
   "outputs": [],
   "source": [
    "import os\n",
    "import sys\n",
    "from pathlib import Path\n",
    "\n",
    "# Navigate to project root (equivalent to cd ..)\n",
    "project_dir = Path(__file__).parent.parent if '__file__' in globals() else Path.cwd().parent\n",
    "os.chdir(project_dir)\n",
    "\n",
    "# Add src directory to Python path for imports\n",
    "src_dir = project_dir / \"src\"\n",
    "if str(src_dir) not in sys.path:\n",
    "    sys.path.insert(0, str(src_dir))\n",
    "\n",
    "# Set environment for dev testing\n",
    "os.environ['REPORT_ENV'] = 'dev'"
   ]
  },
  {
   "cell_type": "code",
   "execution_count": null,
   "id": "1c10a47a",
   "metadata": {},
   "outputs": [],
   "source": [
    "import pandas as pd\n",
    "import numpy as np"
   ]
  },
  {
   "cell_type": "code",
   "execution_count": null,
   "id": "c117341b",
   "metadata": {},
   "outputs": [],
   "source": [
    "import cdutils.acct_file_creation.core\n",
    "from datetime import datetime"
   ]
  },
  {
   "cell_type": "code",
   "execution_count": null,
   "id": "dd6e083a",
   "metadata": {},
   "outputs": [],
   "source": [
    "df = cdutils.acct_file_creation.core.query_df_on_date()"
   ]
  },
  {
   "cell_type": "code",
   "execution_count": null,
   "id": "105d072f",
   "metadata": {},
   "outputs": [],
   "source": [
    "df"
   ]
  },
  {
   "cell_type": "code",
   "execution_count": null,
   "id": "7f387fbe",
   "metadata": {},
   "outputs": [],
   "source": [
    "# Fetch wh_org data\n",
    "import src.smb_campaign.fetch_data\n",
    "raw_data = src.smb_campaign.fetch_data.fetch_data()"
   ]
  },
  {
   "cell_type": "code",
   "execution_count": null,
   "id": "c514a255",
   "metadata": {},
   "outputs": [],
   "source": [
    "import cdutils.deduplication"
   ]
  },
  {
   "cell_type": "code",
   "execution_count": null,
   "id": "10658007",
   "metadata": {},
   "outputs": [],
   "source": [
    "# Dedupe org table\n",
    "if 'wh_org' in raw_data:\n",
    "    dedupe_list = [{'df': raw_data['wh_org'], 'field': 'orgnbr'}]\n",
    "    raw_data['wh_org'] = cdutils.deduplication.dedupe(dedupe_list)"
   ]
  },
  {
   "cell_type": "code",
   "execution_count": null,
   "id": "5a3664c0",
   "metadata": {},
   "outputs": [],
   "source": [
    "wh_org = raw_data['wh_org'].copy()"
   ]
  },
  {
   "cell_type": "code",
   "execution_count": null,
   "id": "f1ff9fbb",
   "metadata": {},
   "outputs": [],
   "source": [
    "assert wh_org['orgnbr'].is_unique, \"Not unique\""
   ]
  },
  {
   "cell_type": "code",
   "execution_count": null,
   "id": "357fc404",
   "metadata": {},
   "outputs": [],
   "source": [
    "wh_org"
   ]
  },
  {
   "cell_type": "code",
   "execution_count": null,
   "id": "73fed040",
   "metadata": {},
   "outputs": [],
   "source": [
    "wh_org['orgtypcd'].unique()"
   ]
  },
  {
   "cell_type": "code",
   "execution_count": null,
   "id": "8306ae2b",
   "metadata": {},
   "outputs": [],
   "source": [
    "filtered_org = wh_org[~(wh_org['orgtypcd'].isin(['BRCH','BANK']))].copy()"
   ]
  },
  {
   "cell_type": "code",
   "execution_count": null,
   "id": "a6e8ae72",
   "metadata": {},
   "outputs": [],
   "source": [
    "filtered_org.info()"
   ]
  },
  {
   "cell_type": "code",
   "execution_count": null,
   "id": "84d95322",
   "metadata": {},
   "outputs": [],
   "source": [
    "filtered_org = filtered_org[[\n",
    "    'orgnbr',\n",
    "    'orgname',\n",
    "    'orgtypcd',\n",
    "    'orgtypcddesc'\n",
    "]].copy()"
   ]
  },
  {
   "cell_type": "code",
   "execution_count": null,
   "id": "47025701",
   "metadata": {},
   "outputs": [],
   "source": [
    "# Aggregate stats (total loans/deposits) per orgnbr\n",
    "## orgs only\n",
    "acct_orgs = df[df['taxrptforpersnbr'].isna()].copy()"
   ]
  },
  {
   "cell_type": "code",
   "execution_count": null,
   "id": "f175ddfd",
   "metadata": {},
   "outputs": [],
   "source": [
    "import numpy as np"
   ]
  },
  {
   "cell_type": "code",
   "execution_count": null,
   "id": "bb097e9d",
   "metadata": {},
   "outputs": [],
   "source": [
    "## loans/deposit categorization\n",
    "# Account type mappings\n",
    "ACCOUNT_TYPE_MAPPING = {\n",
    "    'CML': 'Commercial Loan',\n",
    "    'MLN': 'Commercial Loan',\n",
    "    'CNS': 'Consumer Loan',\n",
    "    'MTG': 'Residential Loan',\n",
    "    'CK': 'Checking',\n",
    "    'SAV': 'Savings',\n",
    "    'TD': 'CD'\n",
    "}\n",
    "\n",
    "acct_orgs['Account Type'] = acct_orgs['mjaccttypcd'].map(ACCOUNT_TYPE_MAPPING)"
   ]
  },
  {
   "cell_type": "code",
   "execution_count": null,
   "id": "f6ef9233",
   "metadata": {},
   "outputs": [],
   "source": [
    "acct_orgs = acct_orgs[~(acct_orgs['Account Type'].isna())].copy()"
   ]
  },
  {
   "cell_type": "code",
   "execution_count": null,
   "id": "2fc6d08d",
   "metadata": {},
   "outputs": [],
   "source": [
    "acct_orgs"
   ]
  },
  {
   "cell_type": "code",
   "execution_count": null,
   "id": "029b463f",
   "metadata": {},
   "outputs": [],
   "source": [
    "MACRO_TYPE_MAPPING = {\n",
    "    'CML': 'Loan',\n",
    "    'MLN': 'Loan',\n",
    "    'CNS': 'Loan',\n",
    "    'MTG': 'Loan',\n",
    "    'CK': 'Deposit',\n",
    "    'SAV': 'Deposit',\n",
    "    'TD': 'Deposit'\n",
    "}\n",
    "\n",
    "acct_orgs['Macro Account Type'] = acct_orgs['mjaccttypcd'].map(MACRO_TYPE_MAPPING)"
   ]
  },
  {
   "cell_type": "code",
   "execution_count": null,
   "id": "651d17c4",
   "metadata": {},
   "outputs": [],
   "source": [
    "# Get other entity details\n",
    "entity_details = acct_orgs.groupby('taxrptfororgnbr').agg(\n",
    "    primaryownercity=('primaryownercity', 'first'),\n",
    "    primaryownerstate=('primaryownerstate','first'),\n",
    "    earliest_opendate=('contractdate','min')\n",
    ").reset_index()"
   ]
  },
  {
   "cell_type": "code",
   "execution_count": null,
   "id": "dcfd1451",
   "metadata": {},
   "outputs": [],
   "source": [
    "entity_details"
   ]
  },
  {
   "cell_type": "code",
   "execution_count": null,
   "id": "65038e00",
   "metadata": {},
   "outputs": [],
   "source": [
    "entity_details['taxrptfororgnbr'] = entity_details['taxrptfororgnbr'].astype(int).astype(str)"
   ]
  },
  {
   "cell_type": "code",
   "execution_count": null,
   "id": "de00d01b",
   "metadata": {},
   "outputs": [],
   "source": [
    "filtered_org['orgnbr'] = filtered_org['orgnbr'].astype(str)"
   ]
  },
  {
   "cell_type": "code",
   "execution_count": null,
   "id": "20d82879",
   "metadata": {},
   "outputs": [],
   "source": [
    "merged_df = pd.merge(filtered_org, entity_details, left_on='orgnbr', right_on='taxrptfororgnbr', how='inner')"
   ]
  },
  {
   "cell_type": "code",
   "execution_count": null,
   "id": "df6eb81d",
   "metadata": {},
   "outputs": [],
   "source": [
    "merged_df = merged_df.drop(columns=['taxrptfororgnbr']).copy()"
   ]
  },
  {
   "cell_type": "code",
   "execution_count": null,
   "id": "c004d6f6",
   "metadata": {},
   "outputs": [],
   "source": [
    "merged_df"
   ]
  },
  {
   "cell_type": "code",
   "execution_count": null,
   "id": "d315e4df",
   "metadata": {},
   "outputs": [],
   "source": [
    "# Need to get address information\n",
    "# ORGADDRUSE\n",
    "# WH_ADDR"
   ]
  },
  {
   "cell_type": "code",
   "execution_count": null,
   "id": "d008d8f9",
   "metadata": {},
   "outputs": [],
   "source": [
    "wh_addr = raw_data['wh_addr'].copy()\n",
    "orgaddruse = raw_data['orgaddruse'].copy()"
   ]
  },
  {
   "cell_type": "code",
   "execution_count": null,
   "id": "09c1c02c",
   "metadata": {},
   "outputs": [],
   "source": [
    "wh_addr['addrlinetypdesc1'].unique()"
   ]
  },
  {
   "cell_type": "code",
   "execution_count": null,
   "id": "70a44e8f",
   "metadata": {},
   "outputs": [],
   "source": [
    "def create_full_street_address(df):\n",
    "    \"\"\"\n",
    "    Processes a list of raw address records and returns a cleaned list.\n",
    "    \"\"\"\n",
    "\n",
    "    STREET_TYPES = {\n",
    "        'street', 'apartment number','building number', 'suite number', 'room number'\n",
    "    }\n",
    "    POBOX_TYPE = 'post office box number'\n",
    "\n",
    "    for i in [1, 2, 3]:\n",
    "        # Define the columns for this iteration\n",
    "        text_col = f'text{i}'\n",
    "        type_col = f'addrlinetypdesc{i}'\n",
    "\n",
    "        # Create the condition: True if the type is a non-null street type\n",
    "        # .str.lower() makes the check case-insensitive.\n",
    "        # .isin() checks against our set of STREET_TYPES.\n",
    "        # .fillna(False) handles cases where the type description is null.\n",
    "        is_street_part = df[type_col].str.lower().isin(STREET_TYPES).fillna(False)\n",
    "\n",
    "        # Use the .where() method to get the text value if the condition is True,\n",
    "        # otherwise, it will be NaN (which is exactly what we want).\n",
    "        df[f'part_col'] = df[text_col].where(is_street_part)\n",
    "\n",
    "        # if PO box, store separately and use (mutually exclusive with street address)\n",
    "        is_pobox_part = (df[type_col].str.lower() = POBOX_TYPE.fillna(False))\n",
    "\n",
    "\n",
    "\n",
    "    # Now, combine the parts into the final address column\n",
    "    street_part_columns = ['street_part1', 'street_part2', 'street_part3']\n",
    "\n",
    "    # The .apply() method lets us run a function on each row.\n",
    "    # We join the non-null values from our street parts.\n",
    "    df['Full_Street_Address'] = df[street_part_columns].apply(\n",
    "        lambda row: ' '.join(row.dropna().astype(str)),\n",
    "        axis=1\n",
    "    )\n",
    "\n",
    "\n",
    "    # --- 3. Finalizing the Extract ---\n",
    "\n",
    "    # Create the final, clean DataFrame with user-friendly column names\n",
    "    df_clean = df[[\n",
    "        'addrnbr',\n",
    "        'Full_Street_Address',\n",
    "        'cityname',\n",
    "        'statecd',\n",
    "        'zipcd'\n",
    "    ]].copy()\n",
    "\n",
    "    return df_clean "
   ]
  },
  {
   "cell_type": "code",
   "execution_count": null,
   "id": "b7306c15",
   "metadata": {},
   "outputs": [],
   "source": [
    "cleaned_addr = create_full_street_address(wh_addr)"
   ]
  },
  {
   "cell_type": "code",
   "execution_count": null,
   "id": "98c895e1",
   "metadata": {},
   "outputs": [],
   "source": [
    "cleaned_addr"
   ]
  },
  {
   "cell_type": "code",
   "execution_count": null,
   "id": "ebdd17a8",
   "metadata": {},
   "outputs": [],
   "source": [
    "orgaddruse"
   ]
  },
  {
   "cell_type": "code",
   "execution_count": null,
   "id": "abe15256",
   "metadata": {},
   "outputs": [],
   "source": [
    "orgaddruse = orgaddruse[orgaddruse['addrusecd'].isin(['PRI'])].copy()"
   ]
  },
  {
   "cell_type": "code",
   "execution_count": null,
   "id": "f04040bf",
   "metadata": {},
   "outputs": [],
   "source": [
    "orgaddruse['orgnbr'] = orgaddruse['orgnbr'].astype(str)\n",
    "orgaddruse['addrnbr'] = orgaddruse['addrnbr'].astype(str)\n",
    "\n",
    "cleaned_addr['addrnbr'] = cleaned_addr['addrnbr'].astype(str)"
   ]
  },
  {
   "cell_type": "code",
   "execution_count": null,
   "id": "ce8e4d27",
   "metadata": {},
   "outputs": [],
   "source": [
    "merged_address = pd.merge(orgaddruse, cleaned_addr, on='addrnbr', how='inner')"
   ]
  },
  {
   "cell_type": "code",
   "execution_count": null,
   "id": "e817ebb3",
   "metadata": {},
   "outputs": [],
   "source": [
    "merged_address"
   ]
  },
  {
   "cell_type": "code",
   "execution_count": null,
   "id": "a974eaf3",
   "metadata": {},
   "outputs": [],
   "source": [
    "wh_addr"
   ]
  },
  {
   "cell_type": "code",
   "execution_count": null,
   "id": "63538bbd",
   "metadata": {},
   "outputs": [],
   "source": [
    "# Will turn into formal pipeline after getting feedback from business line\n"
   ]
  }
 ],
 "metadata": {
  "kernelspec": {
   "display_name": "bcsb-prod",
   "language": "python",
   "name": "python3"
  },
  "language_info": {
   "codemirror_mode": {
    "name": "ipython",
    "version": 3
   },
   "file_extension": ".py",
   "mimetype": "text/x-python",
   "name": "python",
   "nbconvert_exporter": "python",
   "pygments_lexer": "ipython3",
   "version": "3.11.9"
  }
 },
 "nbformat": 4,
 "nbformat_minor": 5
}
