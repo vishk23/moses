{
 "cells": [
  {
   "cell_type": "code",
   "execution_count": 1,
   "id": "c1a724e0",
   "metadata": {},
   "outputs": [],
   "source": [
    "import os\n",
    "import sys\n",
    "from pathlib import Path\n",
    "\n",
    "# Navigate to project root (equivalent to cd ..)\n",
    "project_dir = Path(__file__).parent.parent if '__file__' in globals() else Path.cwd().parent\n",
    "os.chdir(project_dir)\n",
    "\n",
    "# Add src directory to Python path for imports\n",
    "src_dir = project_dir / \"src\"\n",
    "if str(src_dir) not in sys.path:\n",
    "    sys.path.insert(0, str(src_dir))\n",
    "\n",
    "# Set environment for dev testing\n",
    "os.environ['REPORT_ENV'] = 'dev'"
   ]
  },
  {
   "cell_type": "code",
   "execution_count": 2,
   "id": "de6c09a0",
   "metadata": {},
   "outputs": [],
   "source": [
    "from pathlib import Path\n",
    "import pandas as pd"
   ]
  },
  {
   "cell_type": "code",
   "execution_count": 3,
   "id": "63e5139d",
   "metadata": {},
   "outputs": [],
   "source": [
    "INPUT_PATH = Path(r\"Z:\\IT\\Patch Management\\input\\Full Detailed Patching Data.csv\")\n",
    "df = pd.read_csv(INPUT_PATH)"
   ]
  },
  {
   "cell_type": "code",
   "execution_count": 4,
   "id": "4d07b37c",
   "metadata": {},
   "outputs": [
    {
     "name": "stdout",
     "output_type": "stream",
     "text": [
      "<class 'pandas.core.frame.DataFrame'>\n",
      "RangeIndex: 15690 entries, 0 to 15689\n",
      "Data columns (total 15 columns):\n",
      " #   Column                Non-Null Count  Dtype \n",
      "---  ------                --------------  ----- \n",
      " 0   Patch ID              15690 non-null  int64 \n",
      " 1   Bulletin ID           15690 non-null  object\n",
      " 2   Patch Description     15690 non-null  object\n",
      " 3   Patch Status          15690 non-null  object\n",
      " 4   Computer Name         15690 non-null  object\n",
      " 5   Operating System      15690 non-null  object\n",
      " 6   Deployed Date         7218 non-null   object\n",
      " 7   Remarks               7218 non-null   object\n",
      " 8   Patch Uninstallation  15690 non-null  object\n",
      " 9   Release Date          15690 non-null  object\n",
      " 10  Deployed By           5670 non-null   object\n",
      " 11  Severity              15690 non-null  object\n",
      " 12  Deployment Status     7218 non-null   object\n",
      " 13  Patch Type            15690 non-null  object\n",
      " 14  Remote Office         15690 non-null  object\n",
      "dtypes: int64(1), object(14)\n",
      "memory usage: 1.8+ MB\n"
     ]
    }
   ],
   "source": [
    "df.info()"
   ]
  },
  {
   "cell_type": "code",
   "execution_count": null,
   "id": "aec346d6",
   "metadata": {},
   "outputs": [],
   "source": [
    "import numpy as np"
   ]
  },
  {
   "cell_type": "code",
   "execution_count": null,
   "id": "ccc0fe89",
   "metadata": {},
   "outputs": [],
   "source": [
    "df['Device Type'] = np.where(df['Remote Office'].isin(['Domain Controllers','']))"
   ]
  }
 ],
 "metadata": {
  "kernelspec": {
   "display_name": "bcsb-prod",
   "language": "python",
   "name": "python3"
  },
  "language_info": {
   "codemirror_mode": {
    "name": "ipython",
    "version": 3
   },
   "file_extension": ".py",
   "mimetype": "text/x-python",
   "name": "python",
   "nbconvert_exporter": "python",
   "pygments_lexer": "ipython3",
   "version": "3.11.9"
  }
 },
 "nbformat": 4,
 "nbformat_minor": 5
}
