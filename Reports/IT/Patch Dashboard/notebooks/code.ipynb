{
 "cells": [
  {
   "cell_type": "code",
   "execution_count": null,
   "id": "c1a724e0",
   "metadata": {},
   "outputs": [],
   "source": [
    "import os\n",
    "import sys\n",
    "from pathlib import Path\n",
    "\n",
    "# Navigate to project root (equivalent to cd ..)\n",
    "project_dir = Path(__file__).parent.parent if '__file__' in globals() else Path.cwd().parent\n",
    "os.chdir(project_dir)\n",
    "\n",
    "# Add src directory to Python path for imports\n",
    "src_dir = project_dir / \"src\"\n",
    "if str(src_dir) not in sys.path:\n",
    "    sys.path.insert(0, str(src_dir))\n",
    "\n",
    "# Set environment for dev testing\n",
    "os.environ['REPORT_ENV'] = 'prod'"
   ]
  },
  {
   "cell_type": "code",
   "execution_count": null,
   "id": "de6c09a0",
   "metadata": {},
   "outputs": [],
   "source": [
    "from pathlib import Path\n",
    "import pandas as pd"
   ]
  },
  {
   "cell_type": "code",
   "execution_count": null,
   "id": "4d07b37c",
   "metadata": {},
   "outputs": [],
   "source": [
    "INPUT_PATH = Path(r\"Z:\\IT\\Patch Management\\output\\patch_data.csv\")\n",
    "df = pd.read_csv(INPUT_PATH)"
   ]
  },
  {
   "cell_type": "code",
   "execution_count": null,
   "id": "06140eae",
   "metadata": {},
   "outputs": [],
   "source": [
    "df"
   ]
  },
  {
   "cell_type": "code",
   "execution_count": null,
   "id": "7790401d",
   "metadata": {},
   "outputs": [],
   "source": [
    "df['Computer Name'].nunique()"
   ]
  },
  {
   "cell_type": "code",
   "execution_count": null,
   "id": "e566e5ab",
   "metadata": {},
   "outputs": [],
   "source": [
    "df['Patch ID'].nunique()"
   ]
  },
  {
   "cell_type": "code",
   "execution_count": null,
   "id": "2c29d480",
   "metadata": {},
   "outputs": [],
   "source": []
  }
 ],
 "metadata": {
  "kernelspec": {
   "display_name": "bcsb-prod",
   "language": "python",
   "name": "python3"
  },
  "language_info": {
   "codemirror_mode": {
    "name": "ipython",
    "version": 3
   },
   "file_extension": ".py",
   "mimetype": "text/x-python",
   "name": "python",
   "nbconvert_exporter": "python",
   "pygments_lexer": "ipython3",
   "version": "3.11.9"
  }
 },
 "nbformat": 4,
 "nbformat_minor": 5
}
