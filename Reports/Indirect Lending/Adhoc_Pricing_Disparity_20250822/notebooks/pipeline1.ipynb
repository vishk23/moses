{
 "cells": [
  {
   "cell_type": "code",
   "execution_count": null,
   "id": "c1a724e0",
   "metadata": {},
   "outputs": [],
   "source": [
    "import os\n",
    "import sys\n",
    "from pathlib import Path\n",
    "\n",
    "# Navigate to project root (equivalent to cd ..)\n",
    "project_dir = Path(__file__).parent.parent if '__file__' in globals() else Path.cwd().parent\n",
    "os.chdir(project_dir)\n",
    "\n",
    "# Add src directory to Python path for imports\n",
    "src_dir = project_dir / \"src\"\n",
    "if str(src_dir) not in sys.path:\n",
    "    sys.path.insert(0, str(src_dir))\n",
    "\n",
    "# Set environment for dev testing\n",
    "os.environ['REPORT_ENV'] = 'dev'"
   ]
  },
  {
   "cell_type": "code",
   "execution_count": null,
   "id": "52b1286c",
   "metadata": {},
   "outputs": [],
   "source": [
    "import pandas as pd\n",
    "from datetime import datetime\n",
    "\n",
    "# Import your existing, trusted function from your project structure\n",
    "from account_data_adhoc.core import query_df_on_date, get_last_business_day\n",
    "\n",
    "print(\"Starting indirect loan report generation...\")\n",
    "\n",
    "# Define the overall date range for the report\n",
    "start_date = datetime(2020, 1, 1)\n",
    "end_date = datetime(2024, 12, 31)\n",
    "\n",
    "# Generate a list of all month-end dates to use for our snapshots\n",
    "snapshot_dates = pd.date_range(start=start_date, end=end_date, freq='ME')\n",
    "\n",
    "print(f\"Generated {len(snapshot_dates)} monthly snapshot dates to process.\")"
   ]
  },
  {
   "cell_type": "code",
   "execution_count": null,
   "id": "ad93b802",
   "metadata": {},
   "outputs": [],
   "source": [
    "snapshot_dates"
   ]
  },
  {
   "cell_type": "code",
   "execution_count": null,
   "id": "c063e011",
   "metadata": {},
   "outputs": [],
   "source": [
    "monthly_originations_dfs = []\n",
    "\n",
    "print(\"Collecting loan originations month by month...\")\n",
    "\n",
    "for month_end_date in snapshot_dates:\n",
    "    print(f\"--- Processing snapshot for {month_end_date.strftime('%Y-%m')} ---\")\n",
    "    \n",
    "    # Get a valid business day snapshot date using your existing utility\n",
    "    snapshot_business_date = datetime.strptime(get_last_business_day(month_end_date), '%Y-%m-%d %H:%M:%S')\n",
    "    \n",
    "    # Call your function to get the full, cleaned dataframe for that date\n",
    "    df_snapshot = query_df_on_date(specified_date=snapshot_business_date)\n",
    "    \n",
    "    if df_snapshot.empty:\n",
    "      print(\"Snapshot returned empty dataframe, skipping.\")\n",
    "      continue\n",
    "      \n",
    "    # Ensure contractdate is a datetime object for comparison\n",
    "    df_snapshot['contractdate'] = pd.to_datetime(df_snapshot['contractdate'])\n",
    "    \n",
    "    # Filter the snapshot to find only loans originated IN THAT SPECIFIC MONTH\n",
    "    df_month_originations = df_snapshot[\n",
    "        (df_snapshot['contractdate'].dt.year == month_end_date.year) &\n",
    "        (df_snapshot['contractdate'].dt.month == month_end_date.month)\n",
    "    ].copy()\n",
    "    \n",
    "    if not df_month_originations.empty:\n",
    "        print(f\"Found {len(df_month_originations)} loans originated in {month_end_date.strftime('%Y-%m')}.\")\n",
    "        monthly_originations_dfs.append(df_month_originations)\n",
    "\n",
    "print(\"\\nFinished collecting all monthly data.\")"
   ]
  },
  {
   "cell_type": "code",
   "execution_count": null,
   "id": "9c904208",
   "metadata": {},
   "outputs": [],
   "source": [
    "if not monthly_originations_dfs:\n",
    "    print(\"No loan originations found in the entire date range. Exiting.\")\n",
    "else:\n",
    "    # Combine all monthly dataframes into a single master list\n",
    "    all_originations_df = pd.concat(monthly_originations_dfs, ignore_index=True)\n",
    "\n",
    "    # Safeguard: Drop duplicates based on the unique account number\n",
    "    unique_originations_df = all_originations_df.drop_duplicates(subset=['acctnbr'], keep='first')\n",
    "    print(f\"\\nTotal unique loans originated (2020-2024): {len(unique_originations_df)}\")\n",
    "\n",
    "    # Apply the required business rule filter\n",
    "    indirect_loans_df = unique_originations_df[\n",
    "        (unique_originations_df['Category'] == 'Indirect') |\n",
    "        (unique_originations_df['currmiaccttypcd'].isin(['CM15', 'CM16']))\n",
    "    ].copy()\n",
    "\n",
    "    print(f\"Found {len(indirect_loans_df)} unique 'Indirect' loans after filtering.\")"
   ]
  },
  {
   "cell_type": "code",
   "execution_count": null,
   "id": "03430aad",
   "metadata": {},
   "outputs": [],
   "source": [
    "if not indirect_loans_df.empty:\n",
    "    print(\"Preparing final data for export...\")\n",
    "\n",
    "    # 1. Derive the 'Loan Paid or Open' status\n",
    "    indirect_loans_df['Loan Status'] = 'Open'\n",
    "    indirect_loans_df.loc[indirect_loans_df['curracctstatcd'].isin(['CLS','CO']), 'Loan Status'] = 'Closed/Charged Off' # Adjust 'CLOSE' if status code is different\n",
    "\n",
    "    # 2. Add 'contract_year' for splitting into tabs\n",
    "    indirect_loans_df['contract_year'] = indirect_loans_df['contractdate'].dt.year\n",
    "\n",
    "    # 3. Define the final column structure and rename\n",
    "    #    (Placeholders are used for fields not in your repomix's SQL queries)\n",
    "    final_columns_map = {\n",
    "        'acctnbr': 'Account Number',\n",
    "        'contractdate': 'Loan Origination Date',\n",
    "        'ownersortname': 'Applicant Last Name', # Needs splitting\n",
    "        # Placeholder columns\n",
    "        'Applicant First Name': 'N/A',\n",
    "        'Co-Applicant Last Name': 'N/A',\n",
    "        'Co-Applicant First Name': 'N/A',\n",
    "        'Applicant Credit Score': 'N/A',\n",
    "        'Co-Applicant Credit Score': 'N/A',\n",
    "        'Model Year': 'N/A',\n",
    "        'Vehicle Mileage': 'N/A',\n",
    "        'Dealer Name': 'N/A',\n",
    "        'Buy Rate': 'N/A',\n",
    "        # Mapped columns\n",
    "        'noteopenamt': 'Amount Financed',\n",
    "        'notebal': 'Current Balance',\n",
    "        'noteintrate': 'Contract Rate',\n",
    "        'Loan Status': 'Loan Paid or Open',\n",
    "        'closedate': 'Date Closed'\n",
    "    }\n",
    "    \n",
    "    # Create placeholder columns so the rename works\n",
    "    for new_col in final_columns_map.values():\n",
    "      if new_col not in indirect_loans_df.columns and new_col not in indirect_loans_df.rename(columns=final_columns_map).columns:\n",
    "          indirect_loans_df[new_col] = 'N/A'\n",
    "          \n",
    "    # TODO: Split 'ownersortname' into First and Last names\n",
    "    # For now, we are just renaming it. You'll need to parse this field.\n",
    "    \n",
    "    # Select and rename columns\n",
    "    report_df = indirect_loans_df.rename(columns=final_columns_map)\n",
    "    final_report_df = report_df[list(final_columns_map.values())]"
   ]
  },
  {
   "cell_type": "code",
   "execution_count": null,
   "id": "be1ce409",
   "metadata": {},
   "outputs": [],
   "source": [
    "final_report_df"
   ]
  },
  {
   "cell_type": "code",
   "execution_count": null,
   "id": "d13b1142",
   "metadata": {},
   "outputs": [],
   "source": [
    "final_report_df = final_report_df.drop(columns=['N/A']).copy()"
   ]
  },
  {
   "cell_type": "code",
   "execution_count": null,
   "id": "f2eed03b",
   "metadata": {},
   "outputs": [],
   "source": [
    "TEMP_OUTPUT = Path(r\"C:\\Users\\w322800\\Documents\\gh\\bcsb-prod\\Reports\\Indirect Lending\\Adhoc_Pricing_Disparity_20250822\\output\\output.parquet\")\n",
    "final_report_df.to_parquet(TEMP_OUTPUT,index=False)"
   ]
  },
  {
   "cell_type": "code",
   "execution_count": null,
   "id": "085ff313",
   "metadata": {},
   "outputs": [],
   "source": [
    "output_filename = 'indirect_loan_report_by_year_2020-2024.xlsx'\n",
    "\n",
    "with pd.ExcelWriter(output_filename, engine='xlsxwriter') as writer:\n",
    "    print(f\"\\nWriting data to {output_filename}...\")\n",
    "    \n",
    "    # Get the unique years from the data, sorted\n",
    "    years_to_export = sorted(final_report_df['contract_year'].unique())\n",
    "    \n",
    "    for year in years_to_export:\n",
    "        sheet_name = str(year)\n",
    "        print(f\" - Writing tab: {sheet_name}\")\n",
    "        \n",
    "        df_year = final_report_df[final_report_df['contract_year'] == year].copy()\n",
    "        \n",
    "        # Drop the helper 'contract_year' column before exporting\n",
    "        df_year.drop(columns=['contract_year'], inplace=True)\n",
    "        \n",
    "        df_year.to_excel(writer, sheet_name=sheet_name, index=False)\n",
    "\n",
    "print(\"\\nReport generation complete.\")"
   ]
  },
  {
   "cell_type": "code",
   "execution_count": null,
   "id": "a26c1b32",
   "metadata": {},
   "outputs": [],
   "source": []
  }
 ],
 "metadata": {
  "kernelspec": {
   "display_name": "bcsb-prod",
   "language": "python",
   "name": "python3"
  },
  "language_info": {
   "codemirror_mode": {
    "name": "ipython",
    "version": 3
   },
   "file_extension": ".py",
   "mimetype": "text/x-python",
   "name": "python",
   "nbconvert_exporter": "python",
   "pygments_lexer": "ipython3",
   "version": "3.11.9"
  }
 },
 "nbformat": 4,
 "nbformat_minor": 5
}
