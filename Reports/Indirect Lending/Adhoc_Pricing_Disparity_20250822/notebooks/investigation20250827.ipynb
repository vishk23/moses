{
 "cells": [
  {
   "cell_type": "code",
   "execution_count": null,
   "id": "e9129b20",
   "metadata": {},
   "outputs": [],
   "source": [
    "import pandas as pd\n",
    "from pathlib import Path"
   ]
  },
  {
   "cell_type": "code",
   "execution_count": null,
   "id": "3c06a21e",
   "metadata": {},
   "outputs": [],
   "source": [
    "INPUT_PATH = Path(r\"C:\\Users\\w322800\\Documents\\gh\\bcsb-prod\\Reports\\Indirect Lending\\Adhoc_Pricing_Disparity_20250822\\output\\output.parquet\")"
   ]
  },
  {
   "cell_type": "code",
   "execution_count": null,
   "id": "fd17bcc6",
   "metadata": {},
   "outputs": [],
   "source": [
    "df = pd.read_parquet(INPUT_PATH)"
   ]
  },
  {
   "cell_type": "code",
   "execution_count": null,
   "id": "43e0599c",
   "metadata": {},
   "outputs": [],
   "source": [
    "df"
   ]
  },
  {
   "cell_type": "code",
   "execution_count": null,
   "id": "d29425ab",
   "metadata": {},
   "outputs": [],
   "source": [
    "from deltalake import DeltaTable"
   ]
  },
  {
   "cell_type": "code",
   "execution_count": null,
   "id": "46978ac3",
   "metadata": {},
   "outputs": [],
   "source": [
    "ACCOUNT_DATA = Path(r\"C:\\Users\\w322800\\Documents\\lakehouse\\silver\\account\")"
   ]
  },
  {
   "cell_type": "code",
   "execution_count": null,
   "id": "34ca4931",
   "metadata": {},
   "outputs": [],
   "source": [
    "active_accounts = DeltaTable(ACCOUNT_DATA).to_pandas()"
   ]
  },
  {
   "cell_type": "code",
   "execution_count": null,
   "id": "2f223375",
   "metadata": {},
   "outputs": [],
   "source": [
    "active_accounts"
   ]
  },
  {
   "cell_type": "code",
   "execution_count": null,
   "id": "ad73a3c8",
   "metadata": {},
   "outputs": [],
   "source": [
    "active_accounts = active_accounts[(active_accounts['Category'].isin(['Indirect'])) | (active_accounts['currmiaccttypcd']).isin(['CM15','CM16'])].copy()"
   ]
  },
  {
   "cell_type": "code",
   "execution_count": null,
   "id": "76c1c1c1",
   "metadata": {},
   "outputs": [],
   "source": [
    "df.info()"
   ]
  },
  {
   "cell_type": "code",
   "execution_count": null,
   "id": "99e1c40a",
   "metadata": {},
   "outputs": [],
   "source": [
    "active_accounts_slice = active_accounts[[\n",
    "    'acctnbr',\n",
    "    'ownersortname',\n",
    "    'contractdate',\n",
    "    'curracctstatcd',\n",
    "    'noteopenamt',\n",
    "    'notebal',\n",
    "    'noteintrate'\n",
    "]].copy()"
   ]
  },
  {
   "cell_type": "code",
   "execution_count": null,
   "id": "22e7c820",
   "metadata": {},
   "outputs": [],
   "source": [
    "active_accounts_slice = active_accounts_slice.rename(columns={\n",
    "    'acctnbr': 'Account Number',\n",
    "    'contractdate': 'Loan Origination Date',\n",
    "    'ownersortname': 'Applicant Last Name', # Needs splitting\n",
    "    'noteopenamt': 'Amount Financed',\n",
    "    'notebal': 'Current Balance',\n",
    "    'noteintrate': 'Contract Rate',\n",
    "}).copy()"
   ]
  },
  {
   "cell_type": "code",
   "execution_count": null,
   "id": "7c36877a",
   "metadata": {},
   "outputs": [],
   "source": [
    "active_accounts_slice.info()"
   ]
  },
  {
   "cell_type": "code",
   "execution_count": null,
   "id": "c98ac2cb",
   "metadata": {},
   "outputs": [],
   "source": [
    "merged_df = pd.merge(df, active_accounts_slice, on='Account Number', how='outer', suffixes=('_df','_active'), indicator=True)"
   ]
  },
  {
   "cell_type": "code",
   "execution_count": null,
   "id": "6b96560c",
   "metadata": {},
   "outputs": [],
   "source": [
    "merged_df"
   ]
  },
  {
   "cell_type": "code",
   "execution_count": null,
   "id": "47a52814",
   "metadata": {},
   "outputs": [],
   "source": [
    "merged_df.info()"
   ]
  },
  {
   "cell_type": "code",
   "execution_count": null,
   "id": "c76964c7",
   "metadata": {},
   "outputs": [],
   "source": [
    "import numpy as np"
   ]
  },
  {
   "cell_type": "code",
   "execution_count": null,
   "id": "9240d386",
   "metadata": {},
   "outputs": [],
   "source": [
    "merged_df['Status'] = np.where(merged_df['_merge'] == 'left_only', 'Closed/Charged Off','Active')"
   ]
  },
  {
   "cell_type": "code",
   "execution_count": null,
   "id": "a73dd8c7",
   "metadata": {},
   "outputs": [],
   "source": []
  },
  {
   "cell_type": "code",
   "execution_count": null,
   "id": "33ae1258",
   "metadata": {},
   "outputs": [],
   "source": []
  }
 ],
 "metadata": {
  "kernelspec": {
   "display_name": "bcsb-prod",
   "language": "python",
   "name": "python3"
  },
  "language_info": {
   "codemirror_mode": {
    "name": "ipython",
    "version": 3
   },
   "file_extension": ".py",
   "mimetype": "text/x-python",
   "name": "python",
   "nbconvert_exporter": "python",
   "pygments_lexer": "ipython3",
   "version": "3.11.9"
  }
 },
 "nbformat": 4,
 "nbformat_minor": 5
}
