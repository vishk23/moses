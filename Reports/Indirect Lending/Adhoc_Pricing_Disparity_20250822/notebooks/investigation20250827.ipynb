{
 "cells": [
  {
   "cell_type": "code",
   "execution_count": null,
   "id": "e9129b20",
   "metadata": {},
   "outputs": [],
   "source": [
    "import pandas as pd\n",
    "from pathlib import Path"
   ]
  },
  {
   "cell_type": "code",
   "execution_count": null,
   "id": "3c06a21e",
   "metadata": {},
   "outputs": [],
   "source": [
    "INPUT_PATH = Path(r\"C:\\Users\\w322800\\Documents\\gh\\bcsb-prod\\Reports\\Indirect Lending\\Adhoc_Pricing_Disparity_20250822\\output\\output.parquet\")"
   ]
  },
  {
   "cell_type": "code",
   "execution_count": null,
   "id": "fd17bcc6",
   "metadata": {},
   "outputs": [],
   "source": [
    "df = pd.read_parquet(INPUT_PATH)"
   ]
  },
  {
   "cell_type": "code",
   "execution_count": null,
   "id": "43e0599c",
   "metadata": {},
   "outputs": [],
   "source": [
    "df"
   ]
  },
  {
   "cell_type": "code",
   "execution_count": null,
   "id": "75139542",
   "metadata": {},
   "outputs": [],
   "source": [
    "df.info()"
   ]
  },
  {
   "cell_type": "code",
   "execution_count": null,
   "id": "1dfe531a",
   "metadata": {},
   "outputs": [],
   "source": [
    "df = df.drop(columns={\n",
    "    'Loan Paid or Open',\n",
    "    'Date Closed'\n",
    "}).copy()"
   ]
  },
  {
   "cell_type": "code",
   "execution_count": null,
   "id": "d29425ab",
   "metadata": {},
   "outputs": [],
   "source": [
    "from deltalake import DeltaTable"
   ]
  },
  {
   "cell_type": "code",
   "execution_count": null,
   "id": "46978ac3",
   "metadata": {},
   "outputs": [],
   "source": [
    "ACCOUNT_DATA = Path(r\"C:\\Users\\w322800\\Documents\\lakehouse\\silver\\account\")"
   ]
  },
  {
   "cell_type": "code",
   "execution_count": null,
   "id": "34ca4931",
   "metadata": {},
   "outputs": [],
   "source": [
    "active_accounts = DeltaTable(ACCOUNT_DATA).to_pandas()"
   ]
  },
  {
   "cell_type": "code",
   "execution_count": null,
   "id": "2f223375",
   "metadata": {},
   "outputs": [],
   "source": [
    "active_accounts"
   ]
  },
  {
   "cell_type": "code",
   "execution_count": null,
   "id": "ad73a3c8",
   "metadata": {},
   "outputs": [],
   "source": [
    "active_accounts = active_accounts[(active_accounts['Category'].isin(['Indirect'])) | (active_accounts['currmiaccttypcd']).isin(['CM15','CM16'])].copy()"
   ]
  },
  {
   "cell_type": "code",
   "execution_count": null,
   "id": "76c1c1c1",
   "metadata": {},
   "outputs": [],
   "source": [
    "df.info()"
   ]
  },
  {
   "cell_type": "code",
   "execution_count": null,
   "id": "99e1c40a",
   "metadata": {},
   "outputs": [],
   "source": [
    "active_accounts_slice = active_accounts[[\n",
    "    'acctnbr',\n",
    "    'ownersortname',\n",
    "    'contractdate',\n",
    "    'curracctstatcd',\n",
    "    'noteopenamt',\n",
    "    'notebal',\n",
    "    'noteintrate'\n",
    "]].copy()"
   ]
  },
  {
   "cell_type": "code",
   "execution_count": null,
   "id": "22e7c820",
   "metadata": {},
   "outputs": [],
   "source": [
    "active_accounts_slice = active_accounts_slice.rename(columns={\n",
    "    'acctnbr': 'Account Number',\n",
    "    'contractdate': 'Loan Origination Date',\n",
    "    'ownersortname': 'Applicant Last Name', # Needs splitting\n",
    "    'noteopenamt': 'Amount Financed',\n",
    "    'notebal': 'Current Balance',\n",
    "    'noteintrate': 'Contract Rate',\n",
    "}).copy()"
   ]
  },
  {
   "cell_type": "code",
   "execution_count": null,
   "id": "7c36877a",
   "metadata": {},
   "outputs": [],
   "source": [
    "active_accounts_slice.info()"
   ]
  },
  {
   "cell_type": "code",
   "execution_count": null,
   "id": "c98ac2cb",
   "metadata": {},
   "outputs": [],
   "source": [
    "merged_df = pd.merge(df, active_accounts_slice, on='Account Number', how='outer', suffixes=('_df','_active'), indicator=True)"
   ]
  },
  {
   "cell_type": "code",
   "execution_count": null,
   "id": "6b96560c",
   "metadata": {},
   "outputs": [],
   "source": [
    "merged_df"
   ]
  },
  {
   "cell_type": "code",
   "execution_count": null,
   "id": "47a52814",
   "metadata": {},
   "outputs": [],
   "source": [
    "merged_df.info()"
   ]
  },
  {
   "cell_type": "code",
   "execution_count": null,
   "id": "a808c329",
   "metadata": {},
   "outputs": [],
   "source": [
    "merged_df"
   ]
  },
  {
   "cell_type": "code",
   "execution_count": null,
   "id": "c76964c7",
   "metadata": {},
   "outputs": [],
   "source": [
    "import numpy as np"
   ]
  },
  {
   "cell_type": "code",
   "execution_count": null,
   "id": "d768825d",
   "metadata": {},
   "outputs": [],
   "source": [
    "# Your Status column is perfect. It correctly identifies loans present\n",
    "# in the active_accounts table as 'Active'.\n",
    "merged_df['Status'] = np.where(merged_df['_merge'] == 'left_only', 'Closed','Active')\n",
    "# Note charged off are included in closed (as they are no longer active accounts)\n",
    "\n",
    "merged_df['Contract Rate'] = merged_df['Contract Rate_df']\n",
    "\n",
    "merged_df['Current Rate'] = np.where(\n",
    "    merged_df['Status'] == 'Active',\n",
    "    merged_df['Contract Rate_active'],\n",
    "    np.nan\n",
    ")\n",
    "\n",
    "merged_df['Current Balance'] = np.where(\n",
    "    merged_df['Status'] == 'Active',\n",
    "    merged_df['Current Balance_active'],\n",
    "    0\n",
    ")\n",
    "\n",
    "# %%\n",
    "# Define the base names of the columns that were duplicated during the merge\n",
    "cols_to_consolidate = [\n",
    "    'Loan Origination Date',\n",
    "    'Applicant Last Name',\n",
    "    'Amount Financed',\n",
    "    # 'Current Balance',\n",
    "    # 'Contract Rate'\n",
    "]\n",
    "\n",
    "# Consolidate the columns using combine_first\n",
    "# This method is ideal for this scenario. It takes values from the first\n",
    "# DataFrame (`_active` columns) and fills any missing (NaN) values with\n",
    "# data from the second DataFrame (`_df` columns).\n",
    "# This perfectly matches your logic: \"If it's active, use the active data...\n",
    "# otherwise it should be the left dataframe.\"\n",
    "for col in cols_to_consolidate:\n",
    "    active_col = f'{col}_active'\n",
    "    df_col = f'{col}_df'\n",
    "    merged_df[col] = merged_df[active_col].combine_first(merged_df[df_col])\n",
    "\n",
    "# %%\n",
    "# Create a list of the original suffixed columns to drop, plus the merge indicator\n",
    "cols_to_drop = [f'{col}_{suffix}' for col in cols_to_consolidate for suffix in ['df', 'active']]\n",
    "cols_to_drop.append('_merge')\n",
    "\n",
    "# Create the final, clean DataFrame\n",
    "final_df = merged_df.drop(columns=cols_to_drop)\n",
    "final_df = final_df.drop(columns=['Current Balance_df','Current Balance_active','curracctstatcd','Contract Rate_df','Contract Rate_active']).copy()\n",
    "\n",
    "\n",
    "# %%\n",
    "# As you noted, the 'Applicant Last Name' came from 'ownersortname'\n",
    "# and may need to be split if the format is 'LAST, FIRST'.\n",
    "# final_df['Applicant Last Name'] = final_df['Applicant Last Name'].str.split(',').str[0].str.strip()\n",
    "\n",
    "# %%\n",
    "# final_df is now your fully consolidated DataFrame\n",
    "final_df.info()\n",
    "\n",
    "# %%\n",
    "# Verify the status distribution\n",
    "print(\"\\nLoan Status Counts:\")\n",
    "print(final_df['Status'].value_counts())\n",
    "\n",
    "# %%\n",
    "# Display the head of the final DataFrame\n",
    "final_df\n"
   ]
  },
  {
   "cell_type": "code",
   "execution_count": null,
   "id": "09f6f5d1",
   "metadata": {},
   "outputs": [],
   "source": [
    "from datetime import datetime"
   ]
  },
  {
   "cell_type": "code",
   "execution_count": null,
   "id": "a73dd8c7",
   "metadata": {},
   "outputs": [],
   "source": [
    "final_df = final_df[(final_df['Loan Origination Date'] <= datetime(2024, 12, 31)) & (final_df['Loan Origination Date'] >= datetime(2020, 1, 1))].copy()"
   ]
  },
  {
   "cell_type": "code",
   "execution_count": null,
   "id": "33ae1258",
   "metadata": {},
   "outputs": [],
   "source": [
    "final_df"
   ]
  },
  {
   "cell_type": "code",
   "execution_count": null,
   "id": "43b1b423",
   "metadata": {},
   "outputs": [],
   "source": [
    "# %%\n",
    "# --- 1. PREPARE THE ACCOUNT NUMBERS ---\n",
    "# Get a list of unique account numbers from your DataFrame\n",
    "account_list = final_df['Account Number'].unique().tolist()\n",
    "\n",
    "# Define the chunk size (must be <= 1000, 999 is safe)\n",
    "chunk_size = 999\n",
    "\n",
    "# %%\n",
    "# --- 2. BUILD THE DYNAMIC \"OR IN\" CLAUSE ---\n",
    "\n",
    "# Check if there are any accounts to even query\n",
    "if not account_list:\n",
    "    where_clause = \"1 = 2\" # A condition that is always false\n",
    "else:\n",
    "    # This list will hold each \"ACCTNBR IN (...)\" string\n",
    "    in_clauses = []\n",
    "    \n",
    "    for i in range(0, len(account_list), chunk_size):\n",
    "        # Get a slice of the list\n",
    "        chunk = account_list[i:i + chunk_size]\n",
    "        \n",
    "        # Format the chunk into a comma-separated string of numbers\n",
    "        # (Assuming account numbers do not need string quotes)\n",
    "        chunk_str = ', '.join(map(str, chunk))\n",
    "        \n",
    "        # Create the IN clause for this chunk\n",
    "        in_clauses.append(f\"ACCTNBR IN ({chunk_str})\")\n",
    "    \n",
    "    # Join all the individual IN clauses together with \"OR\"\n",
    "    where_clause = \" OR \".join(in_clauses)"
   ]
  },
  {
   "cell_type": "code",
   "execution_count": null,
   "id": "01892a54",
   "metadata": {},
   "outputs": [],
   "source": [
    "import cdutils.database.connect # type: ignore\n",
    "from sqlalchemy import text # type: ignore\n",
    "from typing import Optional\n",
    "from datetime import datetime, timedelta\n",
    "import pandas as pd\n",
    "\n",
    "def fetch_data(specified_date: Optional[datetime] = None):\n",
    "    \"\"\"\n",
    "    Main data query\n",
    "    \"\"\"\n",
    "    oracle_sql_query = f\"\"\"\n",
    "    WITH RankedRecords AS (\n",
    "        SELECT\n",
    "            ACCTNBR,\n",
    "            TAXRPTFORORGNBR,\n",
    "            TAXRPTFORPERSNBR,\n",
    "            NOTEINTRATE,\n",
    "            \n",
    "            ROW_NUMBER() OVER (PARTITION BY ACCTNBR ORDER BY CONTRACTDATE ASC) as RN\n",
    "            \n",
    "        FROM\n",
    "            COCCDM.WH_ACCTCOMMON \n",
    "        WHERE\n",
    "            -- The dynamically generated clause is inserted here\n",
    "            ({where_clause})\n",
    "    )\n",
    "    SELECT\n",
    "        ACCTNBR AS \"Account Number\",\n",
    "        TAXRPTFORORGNBR,\n",
    "        TAXRPTFORPERSNBR,\n",
    "        NOTEINTRATE AS \"First Recorded Rate\"\n",
    "    FROM\n",
    "        RankedRecords\n",
    "    WHERE\n",
    "        RN = 1\n",
    "    \"\"\"\n",
    "\n",
    "    queries = [\n",
    "        {'key':'oracle_sql_query', 'sql':oracle_sql_query, 'engine':2},\n",
    "    ]\n",
    "\n",
    "\n",
    "    data = cdutils.database.connect.retrieve_data(queries)\n",
    "    return data\n"
   ]
  },
  {
   "cell_type": "code",
   "execution_count": null,
   "id": "c811df49",
   "metadata": {},
   "outputs": [],
   "source": [
    "data = fetch_data()"
   ]
  },
  {
   "cell_type": "code",
   "execution_count": null,
   "id": "60fcbc48",
   "metadata": {},
   "outputs": [],
   "source": []
  }
 ],
 "metadata": {
  "kernelspec": {
   "display_name": "bcsb-prod",
   "language": "python",
   "name": "python3"
  },
  "language_info": {
   "codemirror_mode": {
    "name": "ipython",
    "version": 3
   },
   "file_extension": ".py",
   "mimetype": "text/x-python",
   "name": "python",
   "nbconvert_exporter": "python",
   "pygments_lexer": "ipython3",
   "version": "3.11.9"
  }
 },
 "nbformat": 4,
 "nbformat_minor": 5
}
