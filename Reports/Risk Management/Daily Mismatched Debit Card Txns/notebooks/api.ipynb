{
 "cells": [
  {
   "cell_type": "code",
   "execution_count": 1,
   "id": "fd99235b",
   "metadata": {},
   "outputs": [],
   "source": [
    "import requests"
   ]
  },
  {
   "cell_type": "code",
   "execution_count": null,
   "id": "8e199ccd",
   "metadata": {},
   "outputs": [],
   "source": [
    "API_KEY = \"\"\n",
    "url = \"https://randomorg.identifi.net/api/documents/kwyk-search\"\n"
   ]
  },
  {
   "cell_type": "code",
   "execution_count": null,
   "id": "e00e8954",
   "metadata": {},
   "outputs": [],
   "source": [
    "params = {\n",
    "    \"criteria\":[{\"values\":[{\"comparisonOperator\":1,\"value1\":\"CO_VSUS\"}],\"attributeInternalName\":\"DocumentTypeDisplayName\",\"displayName\":\"Document Type\",\"dataType\":1}],\"sortBy\":\"StorageDate\",\"sortDirection\":1,\"resultsLimit\":100\n",
    "}\n",
    "headers = {\n",
    "    \"Accept\":\"application/json\",\n",
    "}"
   ]
  },
  {
   "cell_type": "code",
   "execution_count": 11,
   "id": "6c74c532",
   "metadata": {},
   "outputs": [],
   "source": [
    "with requests.Session() as s:\n",
    "    r = s.get(url, params=params, headers=headers)"
   ]
  },
  {
   "cell_type": "code",
   "execution_count": 12,
   "id": "e5b32eaa",
   "metadata": {},
   "outputs": [
    {
     "data": {
      "text/plain": [
       "<Response [401]>"
      ]
     },
     "execution_count": 12,
     "metadata": {},
     "output_type": "execute_result"
    }
   ],
   "source": [
    "r"
   ]
  },
  {
   "cell_type": "code",
   "execution_count": null,
   "id": "6522fc9c",
   "metadata": {},
   "outputs": [],
   "source": [
    "# Start of response, only need pkid (first)\n",
    "{\n",
    "  \"resultsLimited\": true,\n",
    "  \"results\": [\n",
    "    {\n",
    "      \"StorageTypeID\": 1,\n",
    "      \"PKID\": 7730674,\n",
    "      \"BatchID\": -1,\n",
    "      \"DisplayName\": \"CO_VSUS FISERV SUSPECT REPORT FOR BALANCING/SETTLEMEN         2025/08/07\",\n",
    "      \"StorageDate\": \"2025-08-08T06:06:41.073\",\n",
    "      \"OnAdministrativeHold\": false,\n",
    "      \"HasNote\": false,\n",
    "      \"FullTextHitCount\": null,\n",
    "      \"FullTextIndexNumber\": null,\n",
    "      \"FullTextDocID\": null,\n",
    "      \"SyncStatus\": \"Not Synched\",\n",
    "      \"StorageTypeName\": \"Insight Reports\",\n",
    "      \"DocumentTypeDisplayName\": \"CO_VSUS\",\n",
    "      \"FileSize\": 182492,\n",
    "      \"PageCount\": 28,\n",
    "      \"RevisionDate\": \"2025-08-08T06:06:41.073\",\n",
    "      \"FileTypeDisplayName\": \"Report\",\n",
    "      \"CreatedBy\": \"integra0624BCSB\",\n",
    "      \"OLEPackageID\": null,\n",
    "      \"DocumentSource\": \"Archiver\",\n",
    "      \"_Name\": null,\n",
    "      \"_ReportRunDate\": \"2025-08-07T00:00:00\",\n",
    "      \"_ReportPostDate\": \"2025-08-07T00:00:00\",\n",
    "      \"_ReportQueue\": \"837372\",\n",
    "      \"_ReportFileName\": \"CO_VSUS\",\n",
    "      \"_ReportFileID\": null\n",
    "    },\n",
    "    {\n",
    "      \"StorageTypeID\": 1,\n",
    "      \"PKID\": 7729251,\n",
    "      \"BatchID\": -1,\n",
    "      \"DisplayName\": \"CO_VSUS FISERV SUSPECT REPORT FOR BALANCING/SETTLEMEN         2025/08/06\",\n",
    "      \"StorageDate\": \"2025-08-07T05:37:23.6\",\n",
    "      \"OnAdministrativeHold\": false,\n",
    "      \"HasNote\": false,\n",
    "      \"FullTextHitCount\": null,\n",
    "      \"FullTextIndexNumber\": null,\n",
    "      \"FullTextDocID\": null,\n",
    "      \"SyncStatus\": \"Not Synched\",\n",
    "      \"StorageTypeName\": \"Insight Reports\",\n",
    "      \"DocumentTypeDisplayName\": \"CO_VSUS\",\n",
    "      \"FileSize\": 168543,\n",
    "      \"PageCount\": 26,\n",
    "      \"RevisionDate\": \"2025-08-07T05:37:23.6\",\n",
    "      \"FileTypeDisplayName\": \"Report\",\n",
    "      \"CreatedBy\": \"integra0624BCSB\",\n",
    "      \"OLEPackageID\": null,\n",
    "      \"DocumentSource\": \"Archiver\",\n",
    "      \"_Name\": null,\n",
    "      \"_ReportRunDate\": \"2025-08-06T00:00:00\",\n",
    "      \"_ReportPostDate\": \"2025-08-06T00:00:00\",\n",
    "      \"_ReportQueue\": \"836880\",\n",
    "      \"_ReportFileName\": \"CO_VSUS\",\n",
    "      \"_ReportFileID\": null\n",
    "    },"
   ]
  },
  {
   "cell_type": "code",
   "execution_count": null,
   "id": "2b2265a1",
   "metadata": {},
   "outputs": [],
   "source": [
    "# Download url (pkid as last piece)\n",
    "https://randomorg.identifi.net/api/document/1/7730674"
   ]
  }
 ],
 "metadata": {
  "kernelspec": {
   "display_name": "bcsb-prod",
   "language": "python",
   "name": "python3"
  },
  "language_info": {
   "codemirror_mode": {
    "name": "ipython",
    "version": 3
   },
   "file_extension": ".py",
   "mimetype": "text/x-python",
   "name": "python",
   "nbconvert_exporter": "python",
   "pygments_lexer": "ipython3",
   "version": "3.11.9"
  }
 },
 "nbformat": 4,
 "nbformat_minor": 5
}
