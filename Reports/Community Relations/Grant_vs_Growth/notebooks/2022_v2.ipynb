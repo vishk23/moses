{
 "cells": [
  {
   "cell_type": "code",
   "execution_count": null,
   "id": "c1a724e0",
   "metadata": {},
   "outputs": [],
   "source": [
    "import os\n",
    "import sys\n",
    "from pathlib import Path\n",
    "\n",
    "# Navigate to project root (equivalent to cd ..)\n",
    "project_dir = Path(__file__).parent.parent if '__file__' in globals() else Path.cwd().parent\n",
    "os.chdir(project_dir)\n",
    "\n",
    "# Add src directory to Python path for imports\n",
    "src_dir = project_dir / \"src\"\n",
    "if str(src_dir) not in sys.path:\n",
    "    sys.path.insert(0, str(src_dir))\n",
    "\n",
    "# Set environment for dev testing\n",
    "os.environ['REPORT_ENV'] = 'dev'"
   ]
  },
  {
   "cell_type": "code",
   "execution_count": null,
   "id": "de6c09a0",
   "metadata": {},
   "outputs": [],
   "source": [
    "import src.config"
   ]
  },
  {
   "cell_type": "code",
   "execution_count": null,
   "id": "c6387a30",
   "metadata": {},
   "outputs": [],
   "source": [
    "import pandas as pd\n",
    "from deltalake import DeltaTable\n",
    "from pathlib import Path"
   ]
  },
  {
   "cell_type": "code",
   "execution_count": null,
   "id": "649f2ccb",
   "metadata": {},
   "outputs": [],
   "source": [
    "# df = DeltaTable(src.config.SILVER / \"account\").to_pandas()"
   ]
  },
  {
   "cell_type": "code",
   "execution_count": null,
   "id": "41a90b21",
   "metadata": {},
   "outputs": [],
   "source": [
    "import cdutils.acct_file_creation.core\n",
    "from datetime import datetime\n",
    "\n",
    "# # Specific date\n",
    "specified_date = datetime(2022, 12, 31)\n",
    "df = cdutils.acct_file_creation.core.query_df_on_date(specified_date)"
   ]
  },
  {
   "cell_type": "code",
   "execution_count": null,
   "id": "3b05873e",
   "metadata": {},
   "outputs": [],
   "source": [
    "df"
   ]
  },
  {
   "cell_type": "code",
   "execution_count": null,
   "id": "8a7e2b01",
   "metadata": {},
   "outputs": [],
   "source": [
    "df['mjaccttypcd'].unique()"
   ]
  },
  {
   "cell_type": "code",
   "execution_count": null,
   "id": "96eb760d",
   "metadata": {},
   "outputs": [],
   "source": [
    "df = df[df['mjaccttypcd'].isin(['CML','MLN','CNS','MTG','CK','SAV','TD'])].copy()"
   ]
  },
  {
   "cell_type": "code",
   "execution_count": null,
   "id": "9c3c3507",
   "metadata": {},
   "outputs": [],
   "source": [
    "# Create Account Type mapping - Easier to understand, based on our major field\n",
    "def map_account_type(acct_code:str):\n",
    "    \"\"\"\n",
    "    Map mjaccttypcd to friendly Account Type\n",
    "    \"\"\"\n",
    "    mapping = {\n",
    "        'CML':'Loan',\n",
    "        'MLN':'Loan',\n",
    "        'CNS':'Loan',\n",
    "        'MTG':'Loan',\n",
    "        'CK':'Deposit',\n",
    "        'SAV':'Deposit',\n",
    "        'TD':'Deposit'\n",
    "    }\n",
    "    return mapping.get(str(acct_code).upper(), 'Other')\n",
    "\n",
    "df['Account Type'] = df['mjaccttypcd'].apply(map_account_type)"
   ]
  },
  {
   "cell_type": "code",
   "execution_count": null,
   "id": "10232ac5",
   "metadata": {},
   "outputs": [],
   "source": [
    "prop = DeltaTable(src.config.SILVER / \"property\").to_pandas()"
   ]
  },
  {
   "cell_type": "code",
   "execution_count": null,
   "id": "c6212ec8",
   "metadata": {},
   "outputs": [],
   "source": [
    "prop"
   ]
  },
  {
   "cell_type": "code",
   "execution_count": null,
   "id": "067c6563",
   "metadata": {},
   "outputs": [],
   "source": [
    "prop = prop[[\n",
    "    'propnbr',\n",
    "    'aprsvalueamt',\n",
    "    'propcity',\n",
    "    'propstate',\n",
    "    'addrnbr'\n",
    "]].copy()"
   ]
  },
  {
   "cell_type": "code",
   "execution_count": null,
   "id": "e66319ef",
   "metadata": {},
   "outputs": [],
   "source": [
    "import numpy as np\n",
    "prop['addrnbr'] = pd.to_numeric(prop['addrnbr'], errors='coerce')\n",
    "prop['addrnbr'] = np.where(\n",
    "    prop['addrnbr'].isna(),\n",
    "    np.nan,\n",
    "    prop['addrnbr'].astype('Int64').astype(str)\n",
    ")"
   ]
  },
  {
   "cell_type": "code",
   "execution_count": null,
   "id": "49f802fb",
   "metadata": {},
   "outputs": [],
   "source": [
    "prop = prop.dropna(subset='addrnbr').copy()"
   ]
  },
  {
   "cell_type": "code",
   "execution_count": null,
   "id": "4384a2ec",
   "metadata": {},
   "outputs": [],
   "source": [
    "prop"
   ]
  },
  {
   "cell_type": "code",
   "execution_count": null,
   "id": "bdb24ea0",
   "metadata": {},
   "outputs": [],
   "source": [
    "address = DeltaTable(src.config.SILVER / \"address\").to_pandas()\n"
   ]
  },
  {
   "cell_type": "code",
   "execution_count": null,
   "id": "cfc9af74",
   "metadata": {},
   "outputs": [],
   "source": [
    "address = address[[\n",
    "    'addrnbr',\n",
    "    'zipcd'\n",
    "]].copy()"
   ]
  },
  {
   "cell_type": "code",
   "execution_count": null,
   "id": "324ab93d",
   "metadata": {},
   "outputs": [],
   "source": [
    "merged_df = prop.merge(address, on='addrnbr', how='left').copy()"
   ]
  },
  {
   "cell_type": "code",
   "execution_count": null,
   "id": "ae3ae6ca",
   "metadata": {},
   "outputs": [],
   "source": [
    "merged_df"
   ]
  },
  {
   "cell_type": "code",
   "execution_count": null,
   "id": "8cffbb69",
   "metadata": {},
   "outputs": [],
   "source": [
    "acct_prop_link = DeltaTable(src.config.SILVER / \"account_property_link\").to_pandas()"
   ]
  },
  {
   "cell_type": "code",
   "execution_count": null,
   "id": "1e5a726a",
   "metadata": {},
   "outputs": [],
   "source": [
    "acct_prop_link"
   ]
  },
  {
   "cell_type": "code",
   "execution_count": null,
   "id": "f7319534",
   "metadata": {},
   "outputs": [],
   "source": [
    "acct_prop_link = acct_prop_link.drop(columns='load_timestamp_utc').copy()"
   ]
  },
  {
   "cell_type": "code",
   "execution_count": null,
   "id": "e156051b",
   "metadata": {},
   "outputs": [],
   "source": [
    "merged_df = acct_prop_link.merge(merged_df, on='propnbr', how='left')"
   ]
  },
  {
   "cell_type": "code",
   "execution_count": null,
   "id": "b1df2de3",
   "metadata": {},
   "outputs": [],
   "source": [
    "merged_df = merged_df[~merged_df['addrnbr'].isnull()].copy()\n",
    "# sort descending appraisal value amount, drop duplicates on acctnbr\n",
    "merged_df = merged_df.sort_values(by='aprsvalueamt', ascending=False).drop_duplicates(subset=['acctnbr'], keep='first').copy()"
   ]
  },
  {
   "cell_type": "code",
   "execution_count": null,
   "id": "47b8d75b",
   "metadata": {},
   "outputs": [],
   "source": [
    "merged_df\n",
    "assert merged_df['acctnbr'].is_unique, \"Fail\""
   ]
  },
  {
   "cell_type": "code",
   "execution_count": null,
   "id": "d4318c92",
   "metadata": {},
   "outputs": [],
   "source": [
    "df = df.merge(merged_df, on='acctnbr', how='left').copy()"
   ]
  },
  {
   "cell_type": "code",
   "execution_count": null,
   "id": "af84fd9b",
   "metadata": {},
   "outputs": [],
   "source": [
    "df"
   ]
  },
  {
   "cell_type": "code",
   "execution_count": null,
   "id": "f460ffdc",
   "metadata": {},
   "outputs": [],
   "source": [
    "df['zipcd'] = np.where(df['zipcd'].isnull(), df['primaryownerzipcd'], df['zipcd'])"
   ]
  },
  {
   "cell_type": "code",
   "execution_count": null,
   "id": "62d072b0",
   "metadata": {},
   "outputs": [],
   "source": [
    "\n",
    "# Normalize ZIPs to 5 digits (handles ints and ZIP+4)\n",
    "z = (\n",
    "    df['zipcd']\n",
    "      .astype(str)\n",
    "      .str.extract(r'(\\d{5})', expand=False)\n",
    "      .str.zfill(5)\n",
    ")\n",
    "\n",
    "# --- Rhode Island: ALL ZIPs from unitedstateszipcodes.org/ri/ ---\n",
    "ri_zips = {\n",
    "    '02801','02802','02804','02806','02807','02808','02809','02812','02813','02814',\n",
    "    '02815','02816','02817','02818','02822','02823','02824','02825','02826','02827',\n",
    "    '02828','02829','02830','02831','02832','02833','02835','02836','02837','02838',\n",
    "    '02839','02840','02841','02842','02852','02854','02857','02858','02859','02860',\n",
    "    '02861','02862','02863','02864','02865','02871','02872','02873','02874','02875',\n",
    "    '02876','02877','02878','02879','02880','02881','02882','02883','02885','02886',\n",
    "    '02887','02888','02889','02891','02892','02893','02894','02895','02896','02898',\n",
    "    '02901','02902','02903','02904','02905','02906','02907','02908','02909','02910',\n",
    "    '02911','02912','02914','02915','02916','02917','02918','02919','02920','02921','02940',\n",
    "}\n",
    "\n",
    "# --- ALL Bristol County, MA ZIPs (from unitedstateszipcodes.org/ma/) ---\n",
    "# Includes Standard, PO Box, and Unique.\n",
    "bristol_all = {\n",
    "    '02031','02048','02334'\n",
    "    '02356','02357','02375',\n",
    "    '02702','02703','02712','02714','02715','02717','02718','02719',\n",
    "    '02720','02721','02722','02723','02724',\n",
    "    '02725','02726',\n",
    "    '02740','02741','02742','02743','02744','02745','02746','02747','02748',\n",
    "    '02760','02761','02763','02764','02766','02767','02768','02769',\n",
    "    '02771','02777','02779','02780','02783','02790','02791',\n",
    "}\n",
    "\n",
    "# --- South Coast subset of Bristol County ---\n",
    "# Defined as East Freetown & Assonet and everything south of them: Fall River,\n",
    "# New Bedford, Dartmouth, Fairhaven, Acushnet, Somerset, Swansea, Westport (+ PO Box/Unique).\n",
    "bristol_south_coast = {\n",
    "    # Freetown\n",
    "    '02702','02717',\n",
    "    # Fall River (incl. PO Box)\n",
    "    '02720','02721','02722','02723','02724',\n",
    "    # Somerset\n",
    "    '02725','02726',\n",
    "    # Swansea\n",
    "    '02777',\n",
    "    # New Bedford (incl. PO Boxes)\n",
    "    '02740','02741','02742','02744','02745','02746',\n",
    "    # Dartmouth (incl. North/South + PO Box)\n",
    "    '02747','02748','02714',\n",
    "    # Fairhaven\n",
    "    '02719',\n",
    "    # Acushnet (and overlap ZIP that also covers NB)\n",
    "    '02743',\n",
    "    # Westport (incl. Westport Point PO Box)\n",
    "    '02790','02791',\n",
    "}\n",
    "\n",
    "# --- Attleboro/Taunton subset = remaining Bristol County ZIPs ---\n",
    "bristol_attleboro_taunton = bristol_all - bristol_south_coast\n",
    "\n",
    "# --- Build the mapping dict in priority order ---\n",
    "zip_region_map = {\n",
    "    **{z: 'Rhode Island'      for z in ri_zips},\n",
    "    **{z: 'South Coast'       for z in bristol_south_coast},\n",
    "    **{z: 'Attleboro/Taunton' for z in bristol_attleboro_taunton},\n",
    "}\n",
    "\n",
    "# Map; anything not in RI or Bristol County buckets → 'Other'\n",
    "df['Region'] = z.map(zip_region_map).fillna('Other')"
   ]
  },
  {
   "cell_type": "code",
   "execution_count": null,
   "id": "53c5bd42",
   "metadata": {},
   "outputs": [],
   "source": [
    "df"
   ]
  },
  {
   "cell_type": "code",
   "execution_count": null,
   "id": "bd262b08",
   "metadata": {},
   "outputs": [],
   "source": [
    "df = df[[\n",
    "    'acctnbr',\n",
    "    'ownersortname',\n",
    "    'product',\n",
    "    'Net Balance',\n",
    "    'mjaccttypcd',\n",
    "    'currmiaccttypcd',\n",
    "    'loanofficer',\n",
    "    'acctofficer',\n",
    "    'curracctstatcd', # at that point in time\n",
    "    'branchname',\n",
    "    'Account Type',\n",
    "    'zipcd',\n",
    "    'Region'\n",
    "]].copy()"
   ]
  },
  {
   "cell_type": "code",
   "execution_count": null,
   "id": "8c52720e",
   "metadata": {},
   "outputs": [],
   "source": [
    "# Performed 1 aggregation grouped on columns: 'Region', 'Account Type'\n",
    "grouped_df = df.groupby(['Region', 'Account Type']).agg(NetBalance_sum=('Net Balance', 'sum')).reset_index()"
   ]
  },
  {
   "cell_type": "code",
   "execution_count": null,
   "id": "3ae0fe46",
   "metadata": {},
   "outputs": [],
   "source": [
    "grouped_df"
   ]
  },
  {
   "cell_type": "code",
   "execution_count": null,
   "id": "d0f89d2e",
   "metadata": {},
   "outputs": [],
   "source": []
  }
 ],
 "metadata": {
  "kernelspec": {
   "display_name": "bcsb-prod",
   "language": "python",
   "name": "python3"
  },
  "language_info": {
   "codemirror_mode": {
    "name": "ipython",
    "version": 3
   },
   "file_extension": ".py",
   "mimetype": "text/x-python",
   "name": "python",
   "nbconvert_exporter": "python",
   "pygments_lexer": "ipython3",
   "version": "3.11.9"
  }
 },
 "nbformat": 4,
 "nbformat_minor": 5
}
