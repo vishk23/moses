{
 "cells": [
  {
   "cell_type": "code",
   "execution_count": null,
   "id": "c1a724e0",
   "metadata": {},
   "outputs": [],
   "source": [
    "import os\n",
    "import sys\n",
    "from pathlib import Path\n",
    "\n",
    "# Navigate to project root (equivalent to cd ..)\n",
    "project_dir = Path(__file__).parent.parent if '__file__' in globals() else Path.cwd().parent\n",
    "os.chdir(project_dir)\n",
    "\n",
    "# Add src directory to Python path for imports\n",
    "src_dir = project_dir / \"src\"\n",
    "if str(src_dir) not in sys.path:\n",
    "    sys.path.insert(0, str(src_dir))\n",
    "\n",
    "# Set environment for dev testing\n",
    "os.environ['REPORT_ENV'] = 'dev'"
   ]
  },
  {
   "cell_type": "code",
   "execution_count": null,
   "id": "de6c09a0",
   "metadata": {},
   "outputs": [],
   "source": [
    "import src.config"
   ]
  },
  {
   "cell_type": "code",
   "execution_count": null,
   "id": "c6387a30",
   "metadata": {},
   "outputs": [],
   "source": [
    "import pandas as pd\n",
    "from deltalake import DeltaTable\n",
    "from pathlib import Path"
   ]
  },
  {
   "cell_type": "code",
   "execution_count": null,
   "id": "649f2ccb",
   "metadata": {},
   "outputs": [],
   "source": [
    "df = DeltaTable(src.config.SILVER / \"account\").to_pandas()"
   ]
  },
  {
   "cell_type": "code",
   "execution_count": null,
   "id": "41a90b21",
   "metadata": {},
   "outputs": [],
   "source": [
    "import cdutils.acct_file_creation.core\n",
    "from datetime import datetime\n",
    "\n",
    "# # Specific date\n",
    "specified_date = datetime(2020, 12, 31)\n",
    "df = cdutils.acct_file_creation.core.query_df_on_date(specified_date)"
   ]
  },
  {
   "cell_type": "code",
   "execution_count": null,
   "id": "3b05873e",
   "metadata": {},
   "outputs": [],
   "source": [
    "df"
   ]
  },
  {
   "cell_type": "code",
   "execution_count": null,
   "id": "8a7e2b01",
   "metadata": {},
   "outputs": [],
   "source": [
    "df['mjaccttypcd'].unique()"
   ]
  },
  {
   "cell_type": "code",
   "execution_count": null,
   "id": "96eb760d",
   "metadata": {},
   "outputs": [],
   "source": [
    "df = df[df['mjaccttypcd'].isin(['CML','MLN','CNS','MTG','CK','SAV','TD'])].copy()"
   ]
  },
  {
   "cell_type": "code",
   "execution_count": null,
   "id": "9c3c3507",
   "metadata": {},
   "outputs": [],
   "source": [
    "# Create Account Type mapping - Easier to understand, based on our major field\n",
    "def map_account_type(acct_code:str):\n",
    "    \"\"\"\n",
    "    Map mjaccttypcd to friendly Account Type\n",
    "    \"\"\"\n",
    "    mapping = {\n",
    "        'CML':'Loan',\n",
    "        'MLN':'Loan',\n",
    "        'CNS':'Loan',\n",
    "        'MTG':'Loan',\n",
    "        'CK':'Deposit',\n",
    "        'SAV':'Deposit',\n",
    "        'TD':'Deposit'\n",
    "    }\n",
    "    return mapping.get(str(acct_code).upper(), 'Other')\n",
    "\n",
    "df['Account Type'] = df['mjaccttypcd'].apply(map_account_type)"
   ]
  },
  {
   "cell_type": "code",
   "execution_count": null,
   "id": "2d67cd91",
   "metadata": {},
   "outputs": [],
   "source": [
    "df['branchname'].unique()"
   ]
  },
  {
   "cell_type": "code",
   "execution_count": null,
   "id": "691c6e97",
   "metadata": {},
   "outputs": [],
   "source": [
    "df"
   ]
  },
  {
   "cell_type": "code",
   "execution_count": null,
   "id": "63353aaf",
   "metadata": {},
   "outputs": [],
   "source": [
    "region_map = {\n",
    "    # ——— Attleboro/Taunton ———\n",
    "    'BCSB - MUNI MAIN OFFICE': 'Attleboro/Taunton',\n",
    "    'BCSB - MAIN OFFICE': 'Attleboro/Taunton',\n",
    "    \"BCSB - COMM'L LENDING- TAUNTON\": 'Attleboro/Taunton',\n",
    "    'BCSB - MUNI ATTLEBORO BRANCH': 'Attleboro/Taunton',\n",
    "    'BCSB - DEPOSIT OPERATIONS': 'Attleboro/Taunton',\n",
    "    'BCSB - NO ATTLEBORO BRANCH': 'Attleboro/Taunton',\n",
    "    'BRISTOL COUNTY SAVINGS BANK': 'Attleboro/Taunton',\n",
    "    \"BCSB - COMM'L LENDING - ATTLEBORO\": 'Attleboro/Taunton',\n",
    "    'BCSB - BEACON SECURITY CORP': 'Attleboro/Taunton',\n",
    "    'BCSB - ATTLEBORO BRANCH': 'Attleboro/Taunton',\n",
    "    'BCSB - MUNI COUNTY STREET BRANCH': 'Attleboro/Taunton',\n",
    "    'BCSB - REHOBOTH BRANCH': 'Attleboro/Taunton',\n",
    "    'BCSB - MUNI REHOBOTH BRANCH': 'Attleboro/Taunton',\n",
    "    'BCSB - MUNI NO ATTLEBORO BRANCH': 'Attleboro/Taunton',\n",
    "    'BCSB - MUNI RAYNHAM CENTER BRANCH': 'Attleboro/Taunton',\n",
    "    'BCSB - COUNTY STREET BRANCH': 'Attleboro/Taunton',\n",
    "    'BCSB - NORTH RAYNHAM BRANCH': 'Attleboro/Taunton',\n",
    "    'BCSB - RAYNHAM CENTER BRANCH': 'Attleboro/Taunton',\n",
    "    \"BCSB - COMM'L LENDING - FRANKLIN\": 'Attleboro/Taunton',\n",
    "    'BCSB - FRANKLIN BRANCH': 'Attleboro/Taunton',\n",
    "    'BCSB - CONS INST LENDING- TAUNTON': 'Attleboro/Taunton',\n",
    "    'BCSB - RESIDENTIAL MTG - ATTLEBORO': 'Attleboro/Taunton',\n",
    "    'BCSB - RESIDENTIAL MTG- TAUNTON': 'Attleboro/Taunton',\n",
    "    'BCSB - RESIDENTIAL MTG - FRANKLIN': 'Attleboro/Taunton',\n",
    "    'BCSB - CONS INST LENDING - ATTLEBORO': 'Attleboro/Taunton',\n",
    "    'BCSB - SMALL BUSINESS LOAN CENTER': 'Attleboro/Taunton',\n",
    "    'BCSB - CONTACT CENTER': 'Attleboro/Taunton',\n",
    "    'BCSB - TAUNTON HIGH SCHOOL': 'Attleboro/Taunton',\n",
    "    'BCSB - MUNI ATTLEBORO HIGH SCHOOL': 'Attleboro/Taunton',\n",
    "    'BCSB - ATTLEBORO HIGH SCHOOL': 'Attleboro/Taunton',\n",
    "    'BCSB - INDIRECT LENDING': 'Attleboro/Taunton',\n",
    "\n",
    "    # ——— South Coast ———\n",
    "    'BCSB - MUNI FALL RIVER BRANCH': 'South Coast',\n",
    "    \"BCSB - COMM'L LENDING - FALL RIVER\": 'South Coast',\n",
    "    \"BCSB - COMM'L LENDING - CANDLEWORKS\": 'South Coast',\n",
    "    \"BCSB - COMM'L LENDING - DARTMOUTH\": 'South Coast',\n",
    "    'BCSB - MUNI DARTMOUTH BRANCH': 'South Coast',\n",
    "    'BCSB - MUNI NB ASHLEY BLVD BRANCH': 'South Coast',\n",
    "    'BCSB - NB ASHLEY BLVD BRANCH': 'South Coast',\n",
    "    'BCSB - MUNI CANDLEWORKS BRANCH': 'South Coast',\n",
    "    'BCSB - MUNI EAST FREETOWN BRANCH': 'South Coast',\n",
    "    'BCSB - DARTMOUTH BRANCH': 'South Coast',\n",
    "    'BCSB - EAST FREETOWN BRANCH': 'South Coast',\n",
    "    'BCSB - FALL RIVER BRANCH': 'South Coast',\n",
    "    'BCSB - CANDLEWORKS BRANCH': 'South Coast',\n",
    "    'BCSB - RESIDENTIAL MTG - DARTMOUTH': 'South Coast',\n",
    "    'BCSB - RESIDENTIAL MTG - FALL RIVER': 'South Coast',\n",
    "    'BCSB - RESI LENDING - NEW BEDFORD': 'South Coast',\n",
    "\n",
    "    # ——— Rhode Island ———\n",
    "    \"BCSB - COMM'L LENDING - WARWICK\": 'Rhode Island',\n",
    "    \"BCSB - COMM'L LENDING - PROVIDENCE\": 'Rhode Island',\n",
    "    \"BCSB - COMM'L LENDING - PAWTUCKET\": 'Rhode Island',\n",
    "    'BCSB - CUMBERLAND': 'Rhode Island',\n",
    "    'BCSB - PAWTUCKET BRANCH': 'Rhode Island',\n",
    "    \"BCSB - CMM'L LENDING - FNB-RI\": 'Rhode Island',\n",
    "    'BCSB - MUNI PAWTUCKET BRANCH': 'Rhode Island',\n",
    "    'BCSB - RESIDENTIAL MTG - PAWTUCKET': 'Rhode Island',\n",
    "    'BCSB - MUNI GREENVILLE': 'Rhode Island',\n",
    "    'BCSB - GREENVILLE': 'Rhode Island',\n",
    "    'BCSB - RESI LENDING - WARWICK': 'Rhode Island',\n",
    "    'BCSB - CONS INST LENDING - PAWTUCKET': 'Rhode Island',\n",
    "    'BCSB - CONS INST LENDING - FNB-RI': 'Rhode Island',\n",
    "    'BCSB - MUNI CUMBERLAND': 'Rhode Island',\n",
    "    'BCSB - RESIDENTIAL MTG - FNB-RI': 'Rhode Island',\n",
    "\n",
    "    # ——— Other ———\n",
    "    'BCSB - RESIDENTIAL MTG - CAPE COD': 'Other',\n",
    "    # Operational catch-alls (if any are left unmapped in future, they'll fall to 'Other' via the fillna below)\n",
    "}"
   ]
  },
  {
   "cell_type": "code",
   "execution_count": null,
   "id": "21134a22",
   "metadata": {},
   "outputs": [],
   "source": [
    "# region_map = {\n",
    "#     # ——— Attleboro/Taunton ———\n",
    "#     'BCSB - MUNI MAIN OFFICE': 'Attleboro/Taunton',\n",
    "#     'BCSB - MAIN OFFICE': 'Attleboro/Taunton',\n",
    "#     \"BCSB - COMM'L LENDING- TAUNTON\": 'Attleboro/Taunton',\n",
    "#     'BCSB - MUNI ATTLEBORO BRANCH': 'Attleboro/Taunton',\n",
    "#     'BCSB - DEPOSIT OPERATIONS': 'Attleboro/Taunton',\n",
    "#     'BCSB - NO ATTLEBORO BRANCH': 'Attleboro/Taunton',\n",
    "#     'BRISTOL COUNTY SAVINGS BANK': 'Attleboro/Taunton',\n",
    "#     \"BCSB - COMM'L LENDING - ATTLEBORO\": 'Attleboro/Taunton',\n",
    "#     'BCSB - BEACON SECURITY CORP': 'Attleboro/Taunton',\n",
    "#     'BCSB - ATTLEBORO BRANCH': 'Attleboro/Taunton',\n",
    "#     'BCSB - MUNI COUNTY STREET BRANCH': 'Attleboro/Taunton',\n",
    "#     'BCSB - REHOBOTH BRANCH': 'Attleboro/Taunton',\n",
    "#     'BCSB - MUNI REHOBOTH BRANCH': 'Attleboro/Taunton',\n",
    "#     'BCSB - MUNI NO ATTLEBORO BRANCH': 'Attleboro/Taunton',\n",
    "#     'BCSB - MUNI RAYNHAM CENTER BRANCH': 'Attleboro/Taunton',\n",
    "#     'BCSB - COUNTY STREET BRANCH': 'Attleboro/Taunton',\n",
    "#     'BCSB - NORTH RAYNHAM BRANCH': 'Attleboro/Taunton',\n",
    "#     'BCSB - RAYNHAM CENTER BRANCH': 'Attleboro/Taunton',\n",
    "#     \"BCSB - COMM'L LENDING - FRANKLIN\": 'Attleboro/Taunton',\n",
    "#     'BCSB - FRANKLIN BRANCH': 'Attleboro/Taunton',\n",
    "#     'BCSB - CONS INST LENDING- TAUNTON': 'Attleboro/Taunton',\n",
    "#     'BCSB - RESIDENTIAL MTG - ATTLEBORO': 'Attleboro/Taunton',\n",
    "#     'BCSB - RESIDENTIAL MTG- TAUNTON': 'Attleboro/Taunton',\n",
    "#     'BCSB - RESIDENTIAL MTG - FRANKLIN': 'Attleboro/Taunton',\n",
    "#     'BCSB - CONS INST LENDING - ATTLEBORO': 'Attleboro/Taunton',\n",
    "#     'BCSB - SMALL BUSINESS LOAN CENTER': 'Attleboro/Taunton',\n",
    "#     'BCSB - CONTACT CENTER': 'Attleboro/Taunton',\n",
    "#     'BCSB - TAUNTON HIGH SCHOOL': 'Attleboro/Taunton',\n",
    "#     'BCSB - MUNI ATTLEBORO HIGH SCHOOL': 'Attleboro/Taunton',\n",
    "#     'BCSB - ATTLEBORO HIGH SCHOOL': 'Attleboro/Taunton',\n",
    "#     'BCSB - INDIRECT LENDING': 'Attleboro/Taunton',\n",
    "\n",
    "#     # ——— South Coast ———\n",
    "#     'BCSB - MUNI FALL RIVER BRANCH': 'South Coast',\n",
    "#     \"BCSB - COMM'L LENDING - FALL RIVER\": 'South Coast',\n",
    "#     \"BCSB - COMM'L LENDING - CANDLEWORKS\": 'South Coast',\n",
    "#     \"BCSB - COMM'L LENDING - DARTMOUTH\": 'South Coast',\n",
    "#     'BCSB - MUNI DARTMOUTH BRANCH': 'South Coast',\n",
    "#     'BCSB - MUNI NB ASHLEY BLVD BRANCH': 'South Coast',\n",
    "#     'BCSB - NB ASHLEY BLVD BRANCH': 'South Coast',\n",
    "#     'BCSB - MUNI CANDLEWORKS BRANCH': 'South Coast',\n",
    "#     'BCSB - MUNI EAST FREETOWN BRANCH': 'South Coast',\n",
    "#     'BCSB - DARTMOUTH BRANCH': 'South Coast',\n",
    "#     'BCSB - EAST FREETOWN BRANCH': 'South Coast',\n",
    "#     'BCSB - FALL RIVER BRANCH': 'South Coast',\n",
    "#     'BCSB - CANDLEWORKS BRANCH': 'South Coast',\n",
    "#     'BCSB - RESIDENTIAL MTG - DARTMOUTH': 'South Coast',\n",
    "#     'BCSB - RESIDENTIAL MTG - FALL RIVER': 'South Coast',\n",
    "#     'BCSB - RESI LENDING - NEW BEDFORD': 'South Coast',\n",
    "\n",
    "#     # ——— Rhode Island ———\n",
    "#     \"BCSB - COMM'L LENDING - WARWICK\": 'Rhode Island',\n",
    "#     \"BCSB - COMM'L LENDING - PROVIDENCE\": 'Rhode Island',\n",
    "#     \"BCSB - COMM'L LENDING - PAWTUCKET\": 'Rhode Island',\n",
    "#     'BCSB - CUMBERLAND': 'Rhode Island',\n",
    "#     'BCSB - PAWTUCKET BRANCH': 'Rhode Island',\n",
    "#     \"BCSB - CMM'L LENDING - FNB-RI\": 'Rhode Island',\n",
    "#     'BCSB - MUNI PAWTUCKET BRANCH': 'Rhode Island',\n",
    "#     'BCSB - RESIDENTIAL MTG - PAWTUCKET': 'Rhode Island',\n",
    "#     'BCSB - MUNI GREENVILLE': 'Rhode Island',\n",
    "#     'BCSB - GREENVILLE': 'Rhode Island',\n",
    "#     'BCSB - RESI LENDING - WARWICK': 'Rhode Island',\n",
    "#     'BCSB - CONS INST LENDING - PAWTUCKET': 'Rhode Island',\n",
    "#     'BCSB - CONS INST LENDING - FNB-RI': 'Rhode Island',\n",
    "#     'BCSB - MUNI CUMBERLAND': 'Rhode Island',\n",
    "#     'BCSB - RESIDENTIAL MTG - FNB-RI': 'Rhode Island',\n",
    "\n",
    "#     # ——— Other ———\n",
    "#     'BCSB - RESIDENTIAL MTG - CAPE COD': 'Other',\n",
    "#     # Operational catch-alls (if any are left unmapped in future, they'll fall to 'Other' via the fillna below)\n",
    "# }\n",
    "\n",
    "# # Create the Region column from the mapping\n",
    "# import numpy as np\n",
    "# df['Region'] = df['branchname'].map(region_map).fillna(\n",
    "#     np.where(df['branchname'].str.contains(r'Warwick|Providence|Pawtucket|Cumberland|Greenville|FNB-RI', case=False), 'Rhode Island',\n",
    "#     np.where(df['branchname'].str.contains(r'Fall River|Dartmouth|East Freetown|New Bedford|Candleworks|Ashley Blvd', case=False), 'South Coast',\n",
    "#     np.where(df['branchname'].str.contains(r'Attleboro|Franklin|Raynham|Taunton|Rehoboth|County Street|Main Office', case=False), 'Attleboro/Taunton', 'Other'))))\n",
    "\n"
   ]
  },
  {
   "cell_type": "code",
   "execution_count": null,
   "id": "8d16cfc0",
   "metadata": {},
   "outputs": [],
   "source": [
    "import pandas as pd\n",
    "import numpy as np\n",
    "\n",
    "# Assume you already have: region_map (dict) and df['Branch'] exists\n",
    "s = df['branchname']\n",
    "\n",
    "# 1) Exact-name mapping first\n",
    "region = s.map(region_map)\n",
    "\n",
    "# 2) Regex-based geographic fallback as a Series\n",
    "ri = s.str.contains(r'Warwick|Providence|Pawtucket|Cumberland|Greenville|FNB-RI', case=False, na=False)\n",
    "sc = s.str.contains(r'Fall River|Dartmouth|East Freetown|New Bedford|Candleworks|Ashley Blvd', case=False, na=False)\n",
    "at = s.str.contains(r'Attleboro|Franklin|Raynham|Taunton|Rehoboth|County Street|Main Office', case=False, na=False)\n",
    "\n",
    "fallback = pd.Series(\n",
    "    np.select([ri, sc, at], ['Rhode Island', 'South Coast', 'Attleboro/Taunton'], default='Other'),\n",
    "    index=df.index\n",
    ")\n",
    "\n",
    "# 3) Fill unmapped with the Series (allowed), not an ndarray\n",
    "df['Region'] = region.fillna(fallback)\n"
   ]
  },
  {
   "cell_type": "code",
   "execution_count": null,
   "id": "4fd89d36",
   "metadata": {},
   "outputs": [],
   "source": [
    "df"
   ]
  },
  {
   "cell_type": "code",
   "execution_count": null,
   "id": "8c52720e",
   "metadata": {},
   "outputs": [],
   "source": [
    "# Performed 1 aggregation grouped on columns: 'Region', 'Account Type'\n",
    "grouped_df = df.groupby(['Region', 'Account Type']).agg(NetBalance_sum=('Net Balance', 'sum')).reset_index()"
   ]
  },
  {
   "cell_type": "code",
   "execution_count": null,
   "id": "3ae0fe46",
   "metadata": {},
   "outputs": [],
   "source": [
    "grouped_df"
   ]
  }
 ],
 "metadata": {
  "kernelspec": {
   "display_name": "bcsb-prod",
   "language": "python",
   "name": "python3"
  },
  "language_info": {
   "codemirror_mode": {
    "name": "ipython",
    "version": 3
   },
   "file_extension": ".py",
   "mimetype": "text/x-python",
   "name": "python",
   "nbconvert_exporter": "python",
   "pygments_lexer": "ipython3",
   "version": "3.11.9"
  }
 },
 "nbformat": 4,
 "nbformat_minor": 5
}
