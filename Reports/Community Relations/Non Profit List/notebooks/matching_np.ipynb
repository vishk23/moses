{
 "cells": [
  {
   "cell_type": "code",
   "execution_count": null,
   "id": "60a743c2",
   "metadata": {},
   "outputs": [],
   "source": [
    "import os\n",
    "import sys\n",
    "from pathlib import Path\n",
    "\n",
    "# Navigate to project root (equivalent to cd ..)\n",
    "project_dir = Path(__file__).parent.parent if '__file__' in globals() else Path.cwd().parent\n",
    "os.chdir(project_dir)\n",
    "\n",
    "# Add src directory to Python path for imports\n",
    "src_dir = project_dir / \"src\"\n",
    "if str(src_dir) not in sys.path:\n",
    "    sys.path.insert(0, str(src_dir))\n",
    "\n",
    "# Set environment for dev testing\n",
    "os.environ['REPORT_ENV'] = 'dev'"
   ]
  },
  {
   "cell_type": "code",
   "execution_count": null,
   "id": "1c10a47a",
   "metadata": {},
   "outputs": [],
   "source": [
    "import pandas as pd\n",
    "import numpy as np"
   ]
  },
  {
   "cell_type": "code",
   "execution_count": null,
   "id": "c117341b",
   "metadata": {},
   "outputs": [],
   "source": [
    "import cdutils.acct_file_creation.core\n",
    "from datetime import datetime"
   ]
  },
  {
   "cell_type": "code",
   "execution_count": null,
   "id": "dd6e083a",
   "metadata": {},
   "outputs": [],
   "source": [
    "df = cdutils.acct_file_creation.core.query_df_on_date()"
   ]
  },
  {
   "cell_type": "code",
   "execution_count": null,
   "id": "105d072f",
   "metadata": {},
   "outputs": [],
   "source": [
    "df"
   ]
  },
  {
   "cell_type": "code",
   "execution_count": null,
   "id": "7f387fbe",
   "metadata": {},
   "outputs": [],
   "source": [
    "# Fetch wh_org data\n",
    "import src.non_profit_list.fetch_data\n",
    "org_data = src.non_profit_list.fetch_data.fetch_data()"
   ]
  },
  {
   "cell_type": "code",
   "execution_count": null,
   "id": "c514a255",
   "metadata": {},
   "outputs": [],
   "source": [
    "import cdutils.deduplication"
   ]
  },
  {
   "cell_type": "code",
   "execution_count": null,
   "id": "10658007",
   "metadata": {},
   "outputs": [],
   "source": [
    "# Dedupe org table\n",
    "if 'wh_org' in org_data:\n",
    "    dedupe_list = [{'df': org_data['wh_org'], 'field': 'orgnbr'}]\n",
    "    org_data['wh_org'] = cdutils.deduplication.dedupe(dedupe_list)"
   ]
  },
  {
   "cell_type": "code",
   "execution_count": null,
   "id": "5a3664c0",
   "metadata": {},
   "outputs": [],
   "source": [
    "wh_org = org_data['wh_org'].copy()"
   ]
  },
  {
   "cell_type": "code",
   "execution_count": null,
   "id": "f1ff9fbb",
   "metadata": {},
   "outputs": [],
   "source": [
    "assert wh_org['orgnbr'].is_unique, \"Not unique\""
   ]
  },
  {
   "cell_type": "code",
   "execution_count": null,
   "id": "357fc404",
   "metadata": {},
   "outputs": [],
   "source": [
    "wh_org"
   ]
  },
  {
   "cell_type": "code",
   "execution_count": null,
   "id": "8c3c61d0",
   "metadata": {},
   "outputs": [],
   "source": [
    "INPUT_PATH_GENESIS = Path(r\"C:\\Users\\w322800\\Documents\\gh\\bcsb-prod\\Reports\\Community Relations\\Non Profit List\\input\\Non-profit Organizations - Records - 8-18-2025.xlsx\")\n",
    "genesis_data = pd.read_excel(INPUT_PATH_GENESIS, header=1)"
   ]
  },
  {
   "cell_type": "code",
   "execution_count": null,
   "id": "57aad7b5",
   "metadata": {},
   "outputs": [],
   "source": [
    "genesis_data"
   ]
  },
  {
   "cell_type": "code",
   "execution_count": null,
   "id": "26a2f29f",
   "metadata": {},
   "outputs": [],
   "source": []
  },
  {
   "cell_type": "code",
   "execution_count": null,
   "id": "8306ae2b",
   "metadata": {},
   "outputs": [],
   "source": [
    "non_profits = wh_org.copy()"
   ]
  },
  {
   "cell_type": "code",
   "execution_count": null,
   "id": "a6e8ae72",
   "metadata": {},
   "outputs": [],
   "source": [
    "non_profits.info()"
   ]
  },
  {
   "cell_type": "code",
   "execution_count": null,
   "id": "84d95322",
   "metadata": {},
   "outputs": [],
   "source": [
    "non_profits = non_profits[[\n",
    "    'orgnbr',\n",
    "    'orgname',\n",
    "    'orgtypcd',\n",
    "    'orgtypcddesc'\n",
    "]].copy()"
   ]
  },
  {
   "cell_type": "code",
   "execution_count": null,
   "id": "47025701",
   "metadata": {},
   "outputs": [],
   "source": [
    "# Aggregate stats (total loans/deposits) per orgnbr\n",
    "## orgs only\n",
    "acct_orgs = df[df['taxrptforpersnbr'].isna()].copy()"
   ]
  },
  {
   "cell_type": "code",
   "execution_count": null,
   "id": "f175ddfd",
   "metadata": {},
   "outputs": [],
   "source": [
    "import numpy as np"
   ]
  },
  {
   "cell_type": "code",
   "execution_count": null,
   "id": "bb097e9d",
   "metadata": {},
   "outputs": [],
   "source": [
    "## loans/deposit categorization\n",
    "# Account type mappings\n",
    "ACCOUNT_TYPE_MAPPING = {\n",
    "    'CML': 'Commercial Loan',\n",
    "    'MLN': 'Commercial Loan',\n",
    "    'CNS': 'Consumer Loan',\n",
    "    'MTG': 'Residential Loan',\n",
    "    'CK': 'Checking',\n",
    "    'SAV': 'Savings',\n",
    "    'TD': 'CD'\n",
    "}\n",
    "\n",
    "acct_orgs['Account Type'] = acct_orgs['mjaccttypcd'].map(ACCOUNT_TYPE_MAPPING)"
   ]
  },
  {
   "cell_type": "code",
   "execution_count": null,
   "id": "f6ef9233",
   "metadata": {},
   "outputs": [],
   "source": [
    "acct_orgs = acct_orgs[~(acct_orgs['Account Type'].isna())].copy()"
   ]
  },
  {
   "cell_type": "code",
   "execution_count": null,
   "id": "2fc6d08d",
   "metadata": {},
   "outputs": [],
   "source": [
    "acct_orgs"
   ]
  },
  {
   "cell_type": "code",
   "execution_count": null,
   "id": "029b463f",
   "metadata": {},
   "outputs": [],
   "source": [
    "MACRO_TYPE_MAPPING = {\n",
    "    'CML': 'Loan',\n",
    "    'MLN': 'Loan',\n",
    "    'CNS': 'Loan',\n",
    "    'MTG': 'Loan',\n",
    "    'CK': 'Deposit',\n",
    "    'SAV': 'Deposit',\n",
    "    'TD': 'Deposit'\n",
    "}\n",
    "\n",
    "acct_orgs['Macro Account Type'] = acct_orgs['mjaccttypcd'].map(MACRO_TYPE_MAPPING)"
   ]
  },
  {
   "cell_type": "code",
   "execution_count": null,
   "id": "4dcd8c40",
   "metadata": {},
   "outputs": [],
   "source": [
    "summary_df = acct_orgs.pivot_table(\n",
    "    index='taxrptfororgnbr',\n",
    "    columns='Macro Account Type',\n",
    "    aggfunc={\n",
    "        'Net Balance':'sum',\n",
    "        'acctnbr':'nunique'\n",
    "    },\n",
    "    fill_value=0\n",
    ")"
   ]
  },
  {
   "cell_type": "code",
   "execution_count": null,
   "id": "c3fd169c",
   "metadata": {},
   "outputs": [],
   "source": [
    "summary_df.columns = ['_'.join(col) for col in summary_df.columns]"
   ]
  },
  {
   "cell_type": "code",
   "execution_count": null,
   "id": "eabb8cd0",
   "metadata": {},
   "outputs": [],
   "source": [
    "summary_df = summary_df.reset_index()"
   ]
  },
  {
   "cell_type": "code",
   "execution_count": null,
   "id": "16a2f506",
   "metadata": {},
   "outputs": [],
   "source": [
    "summary_df['taxrptfororgnbr'] = summary_df['taxrptfororgnbr'].astype(int).astype(str)"
   ]
  },
  {
   "cell_type": "code",
   "execution_count": null,
   "id": "1bad0474",
   "metadata": {},
   "outputs": [],
   "source": [
    "summary_df"
   ]
  },
  {
   "cell_type": "code",
   "execution_count": null,
   "id": "509b7531",
   "metadata": {},
   "outputs": [],
   "source": [
    "summary_df.info()"
   ]
  },
  {
   "cell_type": "code",
   "execution_count": null,
   "id": "824d904b",
   "metadata": {},
   "outputs": [],
   "source": [
    "summary_df = summary_df.rename(columns={\n",
    "    'taxrptfororgnbr':'taxrptfororgnbr',\n",
    "    'Net Balance_Deposit':'Deposit Balance',\n",
    "    'Net Balance_Loan':'Loan Balance',\n",
    "    'acctnbr_Deposit':'Unique Deposit Accounts',\n",
    "    'acctnbr_Loan':'Unique Loan Accounts'\n",
    "}).copy()"
   ]
  },
  {
   "cell_type": "code",
   "execution_count": null,
   "id": "4ddebec0",
   "metadata": {},
   "outputs": [],
   "source": [
    "summary_df"
   ]
  },
  {
   "cell_type": "code",
   "execution_count": null,
   "id": "651d17c4",
   "metadata": {},
   "outputs": [],
   "source": [
    "# Get other entity details\n",
    "entity_details = acct_orgs.groupby('taxrptfororgnbr').agg(\n",
    "    primaryownercity=('primaryownercity', 'first'),\n",
    "    primaryownerstate=('primaryownerstate','first'),\n",
    "    branchname=('branchname','first'),\n",
    "    earliest_opendate=('contractdate','min')\n",
    ").reset_index()"
   ]
  },
  {
   "cell_type": "code",
   "execution_count": null,
   "id": "dcfd1451",
   "metadata": {},
   "outputs": [],
   "source": [
    "entity_details"
   ]
  },
  {
   "cell_type": "code",
   "execution_count": null,
   "id": "65038e00",
   "metadata": {},
   "outputs": [],
   "source": [
    "entity_details['taxrptfororgnbr'] = entity_details['taxrptfororgnbr'].astype(int).astype(str)"
   ]
  },
  {
   "cell_type": "code",
   "execution_count": null,
   "id": "43d3a178",
   "metadata": {},
   "outputs": [],
   "source": [
    "# Merge two acct summary tables\n",
    "summary_df = pd.merge(entity_details, summary_df, on='taxrptfororgnbr', how='inner')"
   ]
  },
  {
   "cell_type": "code",
   "execution_count": null,
   "id": "de00d01b",
   "metadata": {},
   "outputs": [],
   "source": [
    "non_profits['orgnbr'] = non_profits['orgnbr'].astype(str)"
   ]
  },
  {
   "cell_type": "code",
   "execution_count": null,
   "id": "20d82879",
   "metadata": {},
   "outputs": [],
   "source": [
    "merged_df = pd.merge(non_profits, summary_df, left_on='orgnbr', right_on='taxrptfororgnbr', how='inner')"
   ]
  },
  {
   "cell_type": "code",
   "execution_count": null,
   "id": "df6eb81d",
   "metadata": {},
   "outputs": [],
   "source": [
    "merged_df = merged_df.drop(columns=['taxrptfororgnbr']).copy()"
   ]
  },
  {
   "cell_type": "code",
   "execution_count": null,
   "id": "6ef345af",
   "metadata": {},
   "outputs": [],
   "source": [
    "merged_df['Total Accounts'] = merged_df['Unique Deposit Accounts'] + merged_df['Unique Loan Accounts']"
   ]
  },
  {
   "cell_type": "code",
   "execution_count": null,
   "id": "53701333",
   "metadata": {},
   "outputs": [],
   "source": [
    "merged_df = merged_df.sort_values(by='Total Accounts', ascending=False).copy()"
   ]
  },
  {
   "cell_type": "code",
   "execution_count": null,
   "id": "c004d6f6",
   "metadata": {},
   "outputs": [],
   "source": [
    "merged_df"
   ]
  },
  {
   "cell_type": "code",
   "execution_count": null,
   "id": "fcc3e0d9",
   "metadata": {},
   "outputs": [],
   "source": [
    "# Append taxid\n",
    "vieworgtaxid = org_data['vieworgtaxid'].copy()"
   ]
  },
  {
   "cell_type": "code",
   "execution_count": null,
   "id": "2da2c1b3",
   "metadata": {},
   "outputs": [],
   "source": [
    "vieworgtaxid"
   ]
  },
  {
   "cell_type": "code",
   "execution_count": null,
   "id": "5dc79f64",
   "metadata": {},
   "outputs": [],
   "source": [
    "assert vieworgtaxid['orgnbr'].is_unique, \"Duplicates\""
   ]
  },
  {
   "cell_type": "code",
   "execution_count": null,
   "id": "7c0a974e",
   "metadata": {},
   "outputs": [],
   "source": [
    "vieworgtaxid = vieworgtaxid[['orgnbr','taxid']].copy()"
   ]
  },
  {
   "cell_type": "code",
   "execution_count": null,
   "id": "476f3081",
   "metadata": {},
   "outputs": [],
   "source": [
    "vieworgtaxid['orgnbr'] = vieworgtaxid['orgnbr'].astype(str)"
   ]
  },
  {
   "cell_type": "code",
   "execution_count": null,
   "id": "435ec648",
   "metadata": {},
   "outputs": [],
   "source": [
    "merged_df = pd.merge(merged_df, vieworgtaxid, on='orgnbr', how='left')"
   ]
  },
  {
   "cell_type": "code",
   "execution_count": null,
   "id": "93ef630b",
   "metadata": {},
   "outputs": [],
   "source": [
    "merged_df.info()"
   ]
  },
  {
   "cell_type": "code",
   "execution_count": null,
   "id": "a93de2b0",
   "metadata": {},
   "outputs": [],
   "source": [
    "merged_df"
   ]
  },
  {
   "cell_type": "code",
   "execution_count": null,
   "id": "02950d53",
   "metadata": {},
   "outputs": [],
   "source": [
    "genesis_data.info()"
   ]
  },
  {
   "cell_type": "code",
   "execution_count": null,
   "id": "9130567d",
   "metadata": {},
   "outputs": [],
   "source": [
    "genesis_data"
   ]
  },
  {
   "cell_type": "code",
   "execution_count": null,
   "id": "fe26ec2a",
   "metadata": {},
   "outputs": [],
   "source": [
    "genesis_data['tax_id_clean'] = genesis_data['Tax ID'].replace(\"-\",\"\")"
   ]
  },
  {
   "cell_type": "code",
   "execution_count": null,
   "id": "7061b6b5",
   "metadata": {},
   "outputs": [],
   "source": [
    "\n",
    "dedupe_list = [{'df': genesis_data, 'field': 'tax_id_clean'}]\n",
    "genesis_data = cdutils.deduplication.dedupe(dedupe_list)"
   ]
  },
  {
   "cell_type": "code",
   "execution_count": null,
   "id": "4e0befa1",
   "metadata": {},
   "outputs": [],
   "source": [
    "check_df = pd.merge(merged_df, genesis_data, left_on='taxid',right_on='tax_id_clean',how='inner')"
   ]
  },
  {
   "cell_type": "code",
   "execution_count": null,
   "id": "47e3dbf0",
   "metadata": {},
   "outputs": [],
   "source": [
    "check_df"
   ]
  },
  {
   "cell_type": "code",
   "execution_count": null,
   "id": "63538bbd",
   "metadata": {},
   "outputs": [],
   "source": [
    "# Will turn into formal pipeline after getting feedback from business line\n"
   ]
  }
 ],
 "metadata": {
  "kernelspec": {
   "display_name": "bcsb-prod",
   "language": "python",
   "name": "python3"
  },
  "language_info": {
   "codemirror_mode": {
    "name": "ipython",
    "version": 3
   },
   "file_extension": ".py",
   "mimetype": "text/x-python",
   "name": "python",
   "nbconvert_exporter": "python",
   "pygments_lexer": "ipython3",
   "version": "3.11.9"
  }
 },
 "nbformat": 4,
 "nbformat_minor": 5
}
