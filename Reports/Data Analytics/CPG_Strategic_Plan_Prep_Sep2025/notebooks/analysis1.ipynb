{
 "cells": [
  {
   "cell_type": "code",
   "execution_count": null,
   "id": "c1a724e0",
   "metadata": {},
   "outputs": [],
   "source": [
    "import os\n",
    "import sys\n",
    "from pathlib import Path\n",
    "\n",
    "# Navigate to project root (equivalent to cd ..)\n",
    "project_dir = Path(__file__).parent.parent if '__file__' in globals() else Path.cwd().parent\n",
    "os.chdir(project_dir)\n",
    "\n",
    "# Add src directory to Python path for imports\n",
    "src_dir = project_dir / \"src\"\n",
    "if str(src_dir) not in sys.path:\n",
    "    sys.path.insert(0, str(src_dir))\n",
    "\n",
    "# Set environment for dev testing\n",
    "os.environ['REPORT_ENV'] = 'prod'"
   ]
  },
  {
   "cell_type": "code",
   "execution_count": null,
   "id": "de6c09a0",
   "metadata": {},
   "outputs": [],
   "source": [
    "import src.config\n",
    "from deltalake import DeltaTable\n",
    "from pathlib import Path\n",
    "import pandas as pd\n",
    "from datetime import datetime, timezone\n"
   ]
  },
  {
   "cell_type": "code",
   "execution_count": null,
   "id": "1661d3af",
   "metadata": {},
   "outputs": [],
   "source": [
    "TABLE_PATH = src.config.BRONZE / \"wh_acctcommon\""
   ]
  },
  {
   "cell_type": "code",
   "execution_count": null,
   "id": "8d0cbdea",
   "metadata": {},
   "outputs": [],
   "source": [
    "wh_acctcommon = DeltaTable(TABLE_PATH).to_pandas()"
   ]
  },
  {
   "cell_type": "code",
   "execution_count": null,
   "id": "da2276f3",
   "metadata": {},
   "outputs": [],
   "source": [
    "wh_acctcommon = wh_acctcommon[wh_acctcommon['mjaccttypcd'].isin(['CK','SAV','TD'])].copy()"
   ]
  },
  {
   "cell_type": "code",
   "execution_count": null,
   "id": "20640f9d",
   "metadata": {},
   "outputs": [],
   "source": [
    "wh_acctcommon['curracctstatcd'].unique()"
   ]
  },
  {
   "cell_type": "code",
   "execution_count": null,
   "id": "483456dc",
   "metadata": {},
   "outputs": [],
   "source": [
    "wh_acctcommon"
   ]
  },
  {
   "cell_type": "code",
   "execution_count": null,
   "id": "11bb7fc0",
   "metadata": {},
   "outputs": [],
   "source": [
    "TABLE_PATH = src.config.SILVER / \"account\""
   ]
  },
  {
   "cell_type": "code",
   "execution_count": null,
   "id": "16eec552",
   "metadata": {},
   "outputs": [],
   "source": [
    "history = DeltaTable(TABLE_PATH).history()\n",
    "history_df = pd.DataFrame(history)\n"
   ]
  },
  {
   "cell_type": "code",
   "execution_count": null,
   "id": "c36c247e",
   "metadata": {},
   "outputs": [],
   "source": [
    "def convert_ts(ts):\n",
    "    if len(str(ts)) == 13:\n",
    "        return pd.to_datetime(ts, unit='ms', utc=True)\n",
    "    else:\n",
    "        return pd.to_datetime(ts, unit='s', utc=True)\n",
    "\n",
    "history_df['readable_time'] = history_df['timestamp'].apply(convert_ts)"
   ]
  },
  {
   "cell_type": "code",
   "execution_count": null,
   "id": "97f89ef5",
   "metadata": {},
   "outputs": [],
   "source": [
    "history_df['eastern_time'] = history_df['readable_time'].dt.tz_convert('America/New_York')"
   ]
  },
  {
   "cell_type": "code",
   "execution_count": null,
   "id": "7f5e19a3",
   "metadata": {},
   "outputs": [],
   "source": [
    "history_df"
   ]
  },
  {
   "cell_type": "code",
   "execution_count": null,
   "id": "29282b0a",
   "metadata": {},
   "outputs": [],
   "source": [
    "df = DeltaTable(TABLE_PATH, version=8).to_pandas()"
   ]
  },
  {
   "cell_type": "code",
   "execution_count": null,
   "id": "5517610f",
   "metadata": {},
   "outputs": [],
   "source": [
    "df['eastern_time'] = df['load_timestamp_utc'].dt.tz_convert('America/New_York')"
   ]
  },
  {
   "cell_type": "code",
   "execution_count": null,
   "id": "7cf712fa",
   "metadata": {},
   "outputs": [],
   "source": [
    "df"
   ]
  },
  {
   "cell_type": "code",
   "execution_count": null,
   "id": "5de7001c",
   "metadata": {},
   "outputs": [],
   "source": [
    "deposits = df[df['mjaccttypcd'].isin(['SAV','CK','TD'])].copy()"
   ]
  },
  {
   "cell_type": "code",
   "execution_count": null,
   "id": "209bb5a2",
   "metadata": {},
   "outputs": [],
   "source": [
    "dep_total = deposits['notebal'].sum()\n",
    "print(f\"Deposit Total: ${dep_total:,.2f}\")"
   ]
  },
  {
   "cell_type": "code",
   "execution_count": null,
   "id": "760f07c4",
   "metadata": {},
   "outputs": [],
   "source": [
    "deposits"
   ]
  },
  {
   "cell_type": "code",
   "execution_count": null,
   "id": "5d8567ed",
   "metadata": {},
   "outputs": [],
   "source": [
    "muni_slice_criteria = (deposits['product'].str.contains('muni',case=False,na=False)) & (~deposits['product'].str.contains('Community',case=False,na=False))\n",
    "muni_slice = deposits[muni_slice_criteria].copy()"
   ]
  },
  {
   "cell_type": "markdown",
   "id": "7d436a20",
   "metadata": {},
   "source": [
    "Product:\n",
    "- contains muni\n",
    "- does not contain 'Community'"
   ]
  },
  {
   "cell_type": "code",
   "execution_count": null,
   "id": "53f712aa",
   "metadata": {},
   "outputs": [],
   "source": [
    "muni_total = muni_slice['notebal'].sum()\n",
    "print(f\"Muni Total: ${muni_total:,.2f}\")"
   ]
  },
  {
   "cell_type": "code",
   "execution_count": null,
   "id": "644050b2",
   "metadata": {},
   "outputs": [],
   "source": [
    "# muni_slice['product'].unique()"
   ]
  },
  {
   "cell_type": "code",
   "execution_count": null,
   "id": "8267b7cb",
   "metadata": {},
   "outputs": [],
   "source": [
    "deposits_other = deposits[~muni_slice_criteria].copy()"
   ]
  },
  {
   "cell_type": "code",
   "execution_count": null,
   "id": "3115fac1",
   "metadata": {},
   "outputs": [],
   "source": [
    "deposits_other['notebal'].sum()"
   ]
  },
  {
   "cell_type": "code",
   "execution_count": null,
   "id": "a4053cd6",
   "metadata": {},
   "outputs": [],
   "source": [
    "deposits_other['product'].unique()"
   ]
  },
  {
   "cell_type": "code",
   "execution_count": null,
   "id": "cfd6dedf",
   "metadata": {},
   "outputs": [],
   "source": [
    "business_criteria = (deposits_other['product'].str.contains('Business',case=False, na=False)) | (deposits_other['product'].str.contains('IOLTA',case=False,na=False)) | (deposits_other['product'].str.contains('Community',case=False,na=False)) | (deposits_other['product'].str.contains('Commercial',case=False,na=False)) | (deposits_other['product'].str.contains('BCSB Internal Holdback Savings',case=False,na=False))"
   ]
  },
  {
   "cell_type": "markdown",
   "id": "71392511",
   "metadata": {},
   "source": [
    "Business:\n",
    "- name contains 'business'\n",
    "- name contains 'iolta'\n",
    "- name contains 'community'\n",
    "- name contains 'commercial'\n",
    "- name contains 'BCSB Internal Holdback Savings'"
   ]
  },
  {
   "cell_type": "code",
   "execution_count": null,
   "id": "c93ddb6f",
   "metadata": {},
   "outputs": [],
   "source": [
    "business_slice = deposits_other[business_criteria].copy()"
   ]
  },
  {
   "cell_type": "code",
   "execution_count": null,
   "id": "058867d4",
   "metadata": {},
   "outputs": [],
   "source": [
    "business_slice['notebal'].sum()"
   ]
  },
  {
   "cell_type": "code",
   "execution_count": null,
   "id": "54f47a58",
   "metadata": {},
   "outputs": [],
   "source": [
    "business_slice"
   ]
  },
  {
   "cell_type": "code",
   "execution_count": null,
   "id": "5631b460",
   "metadata": {},
   "outputs": [],
   "source": [
    "region_mapping = {\n",
    "    ''\n",
    "}\n",
    "0\tBCSB - ATTLEBORO BRANCH\n",
    "1\tBCSB - ATTLEBORO HIGH SCHOOL\n",
    "2\tBCSB - CANDLEWORKS BRANCH\n",
    "3\tBCSB - CONTACT CENTER\n",
    "4\tBCSB - COUNTY STREET BRANCH\n",
    "5\tBCSB - CUMBERLAND\n",
    "6\tBCSB - DARTMOUTH BRANCH\n",
    "7\tBCSB - DEPOSIT OPERATIONS\n",
    "8\tBCSB - EAST FREETOWN BRANCH\n",
    "9\tBCSB - FALL RIVER BRANCH\n",
    "10\tBCSB - FRANKLIN BRANCH\n",
    "11\tBCSB - GREENVILLE\n",
    "12\tBCSB - MAIN OFFICE\n",
    "13\tBCSB - NB ASHLEY BLVD BRANCH\n",
    "14\tBCSB - NO ATTLEBORO BRANCH\n",
    "15\tBCSB - NORTH RAYNHAM BRANCH\n",
    "16\tBCSB - PAWTUCKET BRANCH\n",
    "17\tBCSB - RAYNHAM CENTER BRANCH\n",
    "18\tBCSB - REHOBOTH BRANCH\n",
    "19\tBCSB - TAUNTON HIGH SCHOOL\n",
    "\n",
    "urrent Structure on Markets:\n",
    "\n",
    "South Coast Region:\n",
    "                                                              i.      New Bedford – Downtown\n",
    "\n",
    "                                                             ii.      New Bedford – Ashley Blvd\n",
    "\n",
    "                                                           iii.      Dartmouth\n",
    "\n",
    "                                                           iv.      E. Freetown\n",
    "\n",
    "                                                             v.      Fall River\n",
    "\n",
    "Greater Attleboro Region:\n",
    "                                                           vi.      Attleboro\n",
    "\n",
    "                                                         vii.      N. Attleboro\n",
    "\n",
    "                                                        viii.      Rehoboth\n",
    "\n",
    "                                                           ix.      Franklin\n",
    "\n",
    "Taunton Region:\n",
    "                                                             x.      Taunton (main office)\n",
    "\n",
    "                                                           xi.      Raynham Center\n",
    "\n",
    "                                                          xii.      N. Raynham\n",
    "\n",
    "                                                        xiii.      County Street\n",
    "\n",
    " \n",
    "\n",
    "RI Region:\n",
    "                                                        xiv.      Pawtucket\n",
    "\n",
    "                                                          xv.      Greenville\n",
    "\n",
    "                                                        xvi.      Cumberland\n",
    "\n",
    "                                                      xvii.      Providence (potential 2025) (SBRM’s working market)\n"
   ]
  },
  {
   "cell_type": "code",
   "execution_count": null,
   "id": "b5ae4179",
   "metadata": {},
   "outputs": [],
   "source": [
    "region_mapping = {\n",
    "    'BCSB - ATTLEBORO BRANCH': 'Greater Attleboro',\n",
    "    'BCSB - ATTLEBORO HIGH SCHOOL': 'Greater Attleboro',  # High school in Attleboro\n",
    "    'BCSB - CANDLEWORKS BRANCH': 'Unknown',  # Not listed in structure; assume or research to assign\n",
    "    'BCSB - CONTACT CENTER': 'Taunton',  # Central to Taunton Region per Main Office\n",
    "    'BCSB - COUNTY STREET BRANCH': 'Taunton',\n",
    "    'BCSB - CUMBERLAND': 'RI',\n",
    "    'BCSB - DARTMOUTH BRANCH': 'South Coast',\n",
    "    'BCSB - DEPOSIT OPERATIONS': 'Taunton',  # Central to Taunton Region per Main Office\n",
    "    'BCSB - EAST FREETOWN BRANCH': 'South Coast',\n",
    "    'BCSB - FALL RIVER BRANCH': 'South Coast',\n",
    "    'BCSB - FRANKLIN BRANCH': 'Greater Attleboro',\n",
    "    'BCSB - GREENVILLE': 'RI',\n",
    "    'BCSB - MAIN OFFICE': 'Taunton',\n",
    "    'BCSB - NB ASHLEY BLVD BRANCH': 'South Coast',\n",
    "    'BCSB - NO ATTLEBORO BRANCH': 'Greater Attleboro',\n",
    "    'BCSB - NORTH RAYNHAM BRANCH': 'Taunton',\n",
    "    'BCSB - PAWTUCKET BRANCH': 'RI',\n",
    "    'BCSB - RAYNHAM CENTER BRANCH': 'Taunton',\n",
    "    'BCSB - REHOBOTH BRANCH': 'Greater Attleboro'\n",
    "}"
   ]
  },
  {
   "cell_type": "code",
   "execution_count": null,
   "id": "d4ae783e",
   "metadata": {},
   "outputs": [],
   "source": [
    "not_business = deposits_other[~business_criteria].copy()"
   ]
  },
  {
   "cell_type": "code",
   "execution_count": null,
   "id": "a42b7d6c",
   "metadata": {},
   "outputs": [],
   "source": [
    "not_business['product'].unique()"
   ]
  },
  {
   "cell_type": "code",
   "execution_count": null,
   "id": "b0ec7060",
   "metadata": {},
   "outputs": [],
   "source": [
    "not_business['notebal'].sum()"
   ]
  },
  {
   "cell_type": "code",
   "execution_count": null,
   "id": "ebe79440",
   "metadata": {},
   "outputs": [],
   "source": [
    "not_business"
   ]
  },
  {
   "cell_type": "code",
   "execution_count": null,
   "id": "0e2f0f2c",
   "metadata": {},
   "outputs": [],
   "source": [
    "muni"
   ]
  },
  {
   "cell_type": "code",
   "execution_count": null,
   "id": "a8bc65b3",
   "metadata": {},
   "outputs": [],
   "source": [
    "muni['PRODUCT'].unique()"
   ]
  },
  {
   "cell_type": "code",
   "execution_count": null,
   "id": "c09f0804",
   "metadata": {},
   "outputs": [],
   "source": [
    "muni['NOTEBAL'].sum()"
   ]
  },
  {
   "cell_type": "code",
   "execution_count": null,
   "id": "c66c4e8e",
   "metadata": {},
   "outputs": [],
   "source": []
  }
 ],
 "metadata": {
  "kernelspec": {
   "display_name": "bcsb-prod",
   "language": "python",
   "name": "python3"
  },
  "language_info": {
   "codemirror_mode": {
    "name": "ipython",
    "version": 3
   },
   "file_extension": ".py",
   "mimetype": "text/x-python",
   "name": "python",
   "nbconvert_exporter": "python",
   "pygments_lexer": "ipython3",
   "version": "3.11.9"
  }
 },
 "nbformat": 4,
 "nbformat_minor": 5
}
