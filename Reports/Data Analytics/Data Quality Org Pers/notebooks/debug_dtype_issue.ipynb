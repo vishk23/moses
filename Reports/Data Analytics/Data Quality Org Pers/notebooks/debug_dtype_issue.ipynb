{
 "cells": [
  {
   "cell_type": "markdown",
   "id": "e7d5e0cb",
   "metadata": {},
   "source": [
    "# Debug Data Type Mismatch Issue\n",
    "\n",
    "This notebook helps diagnose the \"orgnbr dtype mismatch\" error."
   ]
  },
  {
   "cell_type": "code",
   "execution_count": null,
   "id": "5437bc17",
   "metadata": {},
   "outputs": [],
   "source": [
    "import os, sys\n",
    "from pathlib import Path\n",
    "\n",
    "# Change to project root and add to Python path\n",
    "project_root = Path.cwd().parent\n",
    "os.chdir(project_root)\n",
    "sys.path.insert(0, str(project_root))\n",
    "\n",
    "print(f\"Working directory: {os.getcwd()}\")\n",
    "print(f\"Python path includes: {project_root}\")"
   ]
  },
  {
   "cell_type": "code",
   "execution_count": null,
   "id": "faa0c90b",
   "metadata": {},
   "outputs": [],
   "source": [
    "import pandas as pd\n",
    "import src.data_quality.core\n",
    "from src.main import load_database_tables, create_acct_df, create_org_final, create_pers_final\n",
    "\n",
    "print(\"Modules imported successfully\")"
   ]
  },
  {
   "cell_type": "code",
   "execution_count": null,
   "id": "6a564dcd",
   "metadata": {},
   "outputs": [],
   "source": [
    "# Try to load the data to see what's happening\n",
    "try:\n",
    "    print(\"Attempting to load database tables...\")\n",
    "    data = load_database_tables()\n",
    "    print(f\"Data loaded: {type(data)}\")\n",
    "    if isinstance(data, dict):\n",
    "        for key, value in data.items():\n",
    "            if value is not None:\n",
    "                print(f\"{key}: {type(value)}, shape: {value.shape if hasattr(value, 'shape') else 'N/A'}\")\n",
    "                if hasattr(value, 'dtypes'):\n",
    "                    print(f\"  dtypes: {value.dtypes.to_dict()}\")\n",
    "            else:\n",
    "                print(f\"{key}: None\")\n",
    "except Exception as e:\n",
    "    print(f\"Error loading data: {e}\")\n",
    "    print(f\"Error type: {type(e)}\")"
   ]
  },
  {
   "cell_type": "code",
   "execution_count": null,
   "id": "95d2ed4e",
   "metadata": {},
   "outputs": [],
   "source": [
    "# Try to create acct_df\n",
    "try:\n",
    "    print(\"Attempting to create acct_df...\")\n",
    "    acct_df = create_acct_df()\n",
    "    print(f\"acct_df created: {type(acct_df)}\")\n",
    "    if acct_df is not None:\n",
    "        print(f\"Shape: {acct_df.shape}\")\n",
    "        print(f\"Columns: {list(acct_df.columns)}\")\n",
    "        print(f\"Dtypes: {acct_df.dtypes.to_dict()}\")\n",
    "except Exception as e:\n",
    "    print(f\"Error creating acct_df: {e}\")\n",
    "    print(f\"Error type: {type(e)}\")"
   ]
  },
  {
   "cell_type": "code",
   "execution_count": null,
   "id": "5bef5081",
   "metadata": {},
   "outputs": [],
   "source": [
    "# Create sample data to test the dtype conversion fix\n",
    "print(\"Creating sample data to test dtype conversion...\")\n",
    "\n",
    "# Sample wh_org with int64 orgnbr\n",
    "wh_org = pd.DataFrame({\n",
    "    'orgnbr': [1, 2, 3, 4, 5],\n",
    "    'orgname': ['Company A', 'Company B', 'Company C', 'Company D', 'Company E']\n",
    "})\n",
    "\n",
    "# Sample orgaddruse with object/string orgnbr (common mismatch)\n",
    "orgaddruse = pd.DataFrame({\n",
    "    'orgnbr': ['1', '2', '3'],  # String values\n",
    "    'addrnbr': [101, 102, 103],\n",
    "    'addrusecd': ['PRI', 'PRI', 'PRI']\n",
    "})\n",
    "\n",
    "# Sample wh_addr\n",
    "wh_addr = pd.DataFrame({\n",
    "    'addrnbr': [101, 102, 103, 104],\n",
    "    'text1': ['123 Main St', '456 Oak Ave', '789 Pine Rd', '321 Elm St'],\n",
    "    'cityname': ['Anytown', 'Somewhere', 'Elsewhere', 'Nowhere'],\n",
    "    'statecd': ['CA', 'NY', 'TX', 'FL'],\n",
    "    'zipcd': ['12345', '67890', '54321', '09876']\n",
    "})\n",
    "\n",
    "print(f\"wh_org orgnbr dtype: {wh_org['orgnbr'].dtype}\")\n",
    "print(f\"orgaddruse orgnbr dtype: {orgaddruse['orgnbr'].dtype}\")\n",
    "print(f\"wh_addr addrnbr dtype: {wh_addr['addrnbr'].dtype}\")\n",
    "print(f\"orgaddruse addrnbr dtype: {orgaddruse['addrnbr'].dtype}\")"
   ]
  },
  {
   "cell_type": "code",
   "execution_count": null,
   "id": "fbc66e37",
   "metadata": {},
   "outputs": [],
   "source": [
    "# Test the fixed function\n",
    "try:\n",
    "    print(\"Testing create_org_table_with_address with sample data...\")\n",
    "    result = src.data_quality.core.create_org_table_with_address(wh_org, orgaddruse, wh_addr)\n",
    "    print(f\"✅ Success! Result shape: {result.shape}\")\n",
    "    print(f\"Result columns: {list(result.columns)}\")\n",
    "    print(\"\\nFirst few rows:\")\n",
    "    print(result.head())\n",
    "except Exception as e:\n",
    "    print(f\"❌ Error: {e}\")\n",
    "    import traceback\n",
    "    traceback.print_exc()"
   ]
  },
  {
   "cell_type": "code",
   "execution_count": null,
   "id": "774d9676",
   "metadata": {},
   "outputs": [],
   "source": [
    "# Test the new function signatures with sample data\n",
    "if 'wh_org' in locals() and 'orgaddruse' in locals() and 'wh_addr' in locals():\n",
    "    print(\"Testing new function signatures...\")\n",
    "    \n",
    "    # Create sample data that would normally come from load_database_tables()\n",
    "    sample_data = {\n",
    "        'wh_org': wh_org,\n",
    "        'orgaddruse': orgaddruse, \n",
    "        'wh_addr': wh_addr,\n",
    "        'wh_pers': pd.DataFrame({'persnbr': [1, 2], 'firstname': ['John', 'Jane']}),\n",
    "        'persaddruse': pd.DataFrame({'persnbr': [1], 'addrnbr': [101], 'addrusecd': ['PRI']}),\n",
    "        'wh_allroles': pd.DataFrame({'acctnbr': [1001, 1002], 'orgnbr': [1, 2], 'persnbr': [None, None]})\n",
    "    }\n",
    "    \n",
    "    # Create sample acct_df\n",
    "    sample_acct_df = pd.DataFrame({'acctnbr': [1001, 1002]})\n",
    "    \n",
    "    try:\n",
    "        # Test create_org_final with new signature\n",
    "        print(\"Testing create_org_final(data, acct_df)...\")\n",
    "        org_result = create_org_final(sample_data, sample_acct_df)\n",
    "        print(f\"✅ create_org_final worked! Shape: {org_result.shape}\")\n",
    "    except Exception as e:\n",
    "        print(f\"❌ create_org_final failed: {e}\")\n",
    "        \n",
    "    # Note: create_pers_final would need matching persnbr dtypes to work properly\n",
    "    print(\"Note: create_pers_final would need proper persnbr dtype alignment to test\")\n",
    "else:\n",
    "    print(\"Sample data not available - run previous cells first\")"
   ]
  }
 ],
 "metadata": {
  "language_info": {
   "name": "python"
  }
 },
 "nbformat": 4,
 "nbformat_minor": 5
}
