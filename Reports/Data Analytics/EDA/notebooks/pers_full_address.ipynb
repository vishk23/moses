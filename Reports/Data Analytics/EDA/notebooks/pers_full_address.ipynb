{
 "cells": [
  {
   "cell_type": "code",
   "execution_count": null,
   "id": "c1a724e0",
   "metadata": {},
   "outputs": [],
   "source": [
    "import os\n",
    "import sys\n",
    "from pathlib import Path\n",
    "\n",
    "# Navigate to project root (equivalent to cd ..)\n",
    "project_dir = Path(__file__).parent.parent if '__file__' in globals() else Path.cwd().parent\n",
    "os.chdir(project_dir)\n",
    "\n",
    "# Add src directory to Python path for imports\n",
    "src_dir = project_dir / \"src\"\n",
    "if str(src_dir) not in sys.path:\n",
    "    sys.path.insert(0, str(src_dir))\n",
    "\n",
    "# Set environment for dev testing\n",
    "os.environ['REPORT_ENV'] = 'prod'"
   ]
  },
  {
   "cell_type": "code",
   "execution_count": null,
   "id": "de6c09a0",
   "metadata": {},
   "outputs": [],
   "source": [
    "import src.config\n",
    "from deltalake import DeltaTable\n",
    "from pathlib import Path\n",
    "import pandas as pd\n"
   ]
  },
  {
   "cell_type": "code",
   "execution_count": null,
   "id": "11bb7fc0",
   "metadata": {},
   "outputs": [],
   "source": [
    "TABLE_PATH = src.config.SILVER / \"pers_dim\"\n",
    "df = DeltaTable(TABLE_PATH).to_pandas()\n",
    "df['eastern_time'] = df['load_timestamp_utc'].dt.tz_convert('America/New_York')"
   ]
  },
  {
   "cell_type": "code",
   "execution_count": null,
   "id": "ee2e224d",
   "metadata": {},
   "outputs": [],
   "source": [
    "df"
   ]
  },
  {
   "cell_type": "code",
   "execution_count": null,
   "id": "29282b0a",
   "metadata": {},
   "outputs": [],
   "source": [
    "pers_dim = df.copy()\n",
    "pers_dim"
   ]
  },
  {
   "cell_type": "code",
   "execution_count": null,
   "id": "f1a40a15",
   "metadata": {},
   "outputs": [],
   "source": [
    "customer_address_link = DeltaTable(src.config.SILVER / \"customer_address_link\").to_pandas()"
   ]
  },
  {
   "cell_type": "code",
   "execution_count": null,
   "id": "ba05ffa0",
   "metadata": {},
   "outputs": [],
   "source": [
    "customer_address_link.info()"
   ]
  },
  {
   "cell_type": "code",
   "execution_count": null,
   "id": "28809a91",
   "metadata": {},
   "outputs": [],
   "source": [
    "import cdutils.input_cleansing"
   ]
  },
  {
   "cell_type": "code",
   "execution_count": null,
   "id": "7cfcb474",
   "metadata": {},
   "outputs": [],
   "source": [
    "customer_address_link_schema = {\n",
    "    'addrnbr':'str'\n",
    "}\n",
    "\n",
    "customer_address_link = cdutils.input_cleansing.cast_columns(customer_address_link, customer_address_link_schema)"
   ]
  },
  {
   "cell_type": "code",
   "execution_count": null,
   "id": "762ce9d4",
   "metadata": {},
   "outputs": [],
   "source": [
    "customer_address_link = customer_address_link[customer_address_link['addrusecd'] == 'PRI'].copy()\n"
   ]
  },
  {
   "cell_type": "code",
   "execution_count": null,
   "id": "3864dda1",
   "metadata": {},
   "outputs": [],
   "source": [
    "customer_address_link = customer_address_link[[\n",
    "    'customer_id',\n",
    "    'addrnbr'\n",
    "]].copy()"
   ]
  },
  {
   "cell_type": "code",
   "execution_count": null,
   "id": "a12ea49f",
   "metadata": {},
   "outputs": [],
   "source": [
    "address = DeltaTable(src.config.SILVER / \"address\").to_pandas()"
   ]
  },
  {
   "cell_type": "code",
   "execution_count": null,
   "id": "5670c5ed",
   "metadata": {},
   "outputs": [],
   "source": [
    "pers_dim = pers_dim.merge(customer_address_link, on='customer_id', how='left').merge(address, on='addrnbr', how='left')"
   ]
  },
  {
   "cell_type": "code",
   "execution_count": null,
   "id": "89998b49",
   "metadata": {},
   "outputs": [],
   "source": [
    "pers_dim"
   ]
  },
  {
   "cell_type": "code",
   "execution_count": null,
   "id": "04a6430a",
   "metadata": {},
   "outputs": [],
   "source": []
  }
 ],
 "metadata": {
  "kernelspec": {
   "display_name": "bcsb-prod",
   "language": "python",
   "name": "python3"
  },
  "language_info": {
   "codemirror_mode": {
    "name": "ipython",
    "version": 3
   },
   "file_extension": ".py",
   "mimetype": "text/x-python",
   "name": "python",
   "nbconvert_exporter": "python",
   "pygments_lexer": "ipython3",
   "version": "3.11.9"
  }
 },
 "nbformat": 4,
 "nbformat_minor": 5
}
