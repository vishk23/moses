{
 "cells": [
  {
   "cell_type": "code",
   "execution_count": null,
   "id": "574920de",
   "metadata": {},
   "outputs": [],
   "source": [
    "import pandas as pd\n",
    "import numpy as np\n",
    "from datetime import datetime\n",
    "from tqdm import tqdm\n",
    "\n",
    "from sklearn.model_selection import train_test_split\n",
    "from sklearn.preprocessing import StandardScaler\n",
    "\n",
    "from category_encoders.hashing import HashingEncoder\n",
    "\n",
    "from sklearn.linear_model import LogisticRegression\n",
    "from sklearn.ensemble import RandomForestClassifier\n",
    "\n",
    "from sklearn.metrics import accuracy_score, classification_report, roc_auc_score\n",
    "\n",
    "import cdutils.database.connect"
   ]
  },
  {
   "cell_type": "code",
   "execution_count": null,
   "id": "f6a2da02",
   "metadata": {},
   "outputs": [],
   "source": [
    "\"\"\"\n",
    "Using the lookup query to inspect the DB tables\n",
    "\"\"\"\n",
    "\n",
    "import cdutils.database.connect # type: ignore\n",
    "from sqlalchemy import text # type: ignore\n",
    "\n",
    "def fetch_data():\n",
    "    \"\"\"\n",
    "    Main data query\n",
    "    \"\"\"\n",
    "    # Engine 1\n",
    "    acctstatistichist = text(\"\"\"\n",
    "    SELECT \n",
    "        *\n",
    "    FROM \n",
    "        OSIBANK.ACCTSTATISTICHIST\n",
    "    \"\"\")\n",
    "\n",
    "    doc = text(\"\"\"\n",
    "    SELECT \n",
    "        *\n",
    "    FROM \n",
    "        OSIBANK.STATISTICTYP\n",
    "    \"\"\")\n",
    "\n",
    "    queries = [\n",
    "        # {'key':'acctcommon', 'sql':acctcommon, 'engine':2},\n",
    "        {'key':'acctstatistichist', 'sql':acctstatistichist, 'engine':1},\n",
    "        {'key':'doc', 'sql':doc, 'engine':1}\n",
    "    ]\n",
    "\n",
    "\n",
    "    data = cdutils.database.connect.retrieve_data(queries)\n",
    "    return data\n"
   ]
  },
  {
   "cell_type": "code",
   "execution_count": null,
   "id": "03c0dd8d",
   "metadata": {},
   "outputs": [],
   "source": [
    "\"\"\"\n",
    "Using the lookup query to inspect the DB tables\n",
    "\"\"\"\n",
    "\n",
    "import cdutils.database.connect # type: ignore\n",
    "from sqlalchemy import text # type: ignore\n",
    "\n",
    "def fetch_data_historical_acctcommon(acctnbr):\n",
    "    \"\"\"\n",
    "    Main data query\n",
    "    \"\"\"\n",
    "    # Engine 1\n",
    "    acctcommon_hist = text(f\"\"\"\n",
    "    SELECT \n",
    "        a.ACCTNBR,\n",
    "        a.PRODUCT,\n",
    "        a.EFFDATE\n",
    "    FROM \n",
    "        COCCDM.WH_ACCTCOMMON a\n",
    "    WHERE\n",
    "        a.ACCTNBR = {acctnbr}\n",
    "        \n",
    "    \"\"\")\n",
    "\n",
    "    queries = [\n",
    "        {'key':'wh_acctcommon', 'sql':acctcommon_hist, 'engine':2},\n",
    "    ]\n",
    "\n",
    "\n",
    "    data = cdutils.database.connect.retrieve_data(queries)\n",
    "    return data\n"
   ]
  },
  {
   "cell_type": "code",
   "execution_count": null,
   "id": "9e1b2125",
   "metadata": {},
   "outputs": [],
   "source": [
    "test = fetch_data_historical_acctcommon(150894486)"
   ]
  },
  {
   "cell_type": "code",
   "execution_count": null,
   "id": "e88e59f3",
   "metadata": {},
   "outputs": [],
   "source": [
    "test = test['wh_acctcommon']\n",
    "test"
   ]
  },
  {
   "cell_type": "code",
   "execution_count": null,
   "id": "83a6c5e7",
   "metadata": {},
   "outputs": [],
   "source": [
    "dataWithAcctStats"
   ]
  },
  {
   "cell_type": "code",
   "execution_count": null,
   "id": "2d1abb7e",
   "metadata": {},
   "outputs": [],
   "source": [
    "for index, row in tqdm(dataWithAcctStats.iterrows()):\n",
    "    if row['product'] == 'Repossessed Collateral':\n",
    "        acct = row['acctnbr']\n",
    "        acct_data = fetch_data_historical_acctcommon(acct)\n",
    "        acct_df = acct_data['wh_acctcommon']\n",
    "        new_product = acct_df.iloc[0]['product']\n",
    "        dataWithAcctStats.at[index, 'product'] = new_product\n"
   ]
  },
  {
   "cell_type": "code",
   "execution_count": null,
   "id": "3bd201c5",
   "metadata": {},
   "outputs": [],
   "source": [
    "data_without_repo = dataWithAcctStats[(dataWithAcctStats['product'] != \"Repossessed Collateral\")]"
   ]
  },
  {
   "cell_type": "code",
   "execution_count": null,
   "id": "9847d4bb",
   "metadata": {},
   "outputs": [],
   "source": [
    "data_without_repo"
   ]
  },
  {
   "cell_type": "code",
   "execution_count": null,
   "id": "0ec44446",
   "metadata": {},
   "outputs": [],
   "source": [
    "data = fetch_data()"
   ]
  },
  {
   "cell_type": "code",
   "execution_count": null,
   "id": "f4101379",
   "metadata": {},
   "outputs": [],
   "source": [
    "acctstatistichist = data['acctstatistichist']\n",
    "doc = data['doc']"
   ]
  },
  {
   "cell_type": "code",
   "execution_count": null,
   "id": "c6ff756c",
   "metadata": {},
   "outputs": [],
   "source": [
    "acctstatistichist = pd.pivot_table(acctstatistichist,\n",
    "                            index='acctnbr',\n",
    "                            columns='statistictypcd',\n",
    "                            values='statisticcount',\n",
    "                            aggfunc='sum',\n",
    "                            fill_value=0\n",
    "                            ).reset_index()"
   ]
  },
  {
   "cell_type": "code",
   "execution_count": null,
   "id": "4176541d",
   "metadata": {},
   "outputs": [],
   "source": [
    "acctstatistichist.columns"
   ]
  },
  {
   "cell_type": "code",
   "execution_count": null,
   "id": "8a9202f9",
   "metadata": {},
   "outputs": [],
   "source": [
    "data = pd.read_csv(\"data.csv\")"
   ]
  },
  {
   "cell_type": "code",
   "execution_count": null,
   "id": "08115a26",
   "metadata": {},
   "outputs": [],
   "source": [
    "import cd"
   ]
  },
  {
   "cell_type": "code",
   "execution_count": null,
   "id": "e0b511bf",
   "metadata": {},
   "outputs": [],
   "source": [
    "def accuracy_when_y_is_1(y, y_pred):\n",
    "    return (str(((y == y_pred) & (y == 1)).sum() / len(y[y == 1]) * 100) + \"%\")\n",
    "\n",
    "def getData():\n",
    "    delinquency = pd.read_excel(\"Delinquency_013125.xlsx\")\n",
    "    data = pd.read_csv(\"data.csv\")\n",
    "    data = data.dropna(subset=['Category'])\n",
    "\n",
    "    data['contractdate'] = pd.to_datetime(data['contractdate'])\n",
    "    data['datemat'] = pd.to_datetime(data['datemat'])\n",
    "\n",
    "    data['contract_to_maturity_days'] = (data['datemat'] - data['contractdate']).dt.days\n",
    "\n",
    "    delinquency.columns = delinquency.iloc[3]\n",
    "    delinquency = delinquency.rename(columns={'Account Number': 'acctnbr'})\n",
    "    delinquency = delinquency.dropna(subset=['Customer Name'])\n",
    "\n",
    "    data_with_delinquency = pd.merge(data, delinquency, on='acctnbr', how='left')\n",
    "    data_with_delinquency.replace('', np.nan, inplace=True)\n",
    "    data_with_delinquency.fillna(0, inplace=True)\n",
    "\n",
    "    X = data_with_delinquency[[\n",
    "    'noteopenamt',\n",
    "    'ratetypcd', \n",
    "    'noteintrate', \n",
    "    #'contractdate', \n",
    "    #'datemat',\n",
    "    'contract_to_maturity_days',\n",
    "    'origintrate', \n",
    "    'riskratingcd',\n",
    "    #'availbalamt',\n",
    "    'NDPD'\n",
    "    ]].copy()\n",
    "\n",
    "    X['riskratingcd'] = X['riskratingcd'].str.replace(r'\\D', '', regex=True)\n",
    "    X.replace('', np.nan, inplace=True)\n",
    "    X.fillna(0, inplace=True)\n",
    "    y = data_with_delinquency['cobal'].copy()\n",
    "    # converting cobal to binomial distribution\n",
    "    y = (y > 0).astype(int)\n",
    "\n",
    "    # append most recent delinquency file\n",
    "\n",
    "    X_encoded = pd.get_dummies(X, columns=['ratetypcd'], prefix='ratetypcd')\n",
    "    X_encoded['ratetypcd_FIX'], X_encoded['ratetypcd_VAR'] = X_encoded['ratetypcd_FIX'].astype(int), X_encoded['ratetypcd_VAR'].astype(int)\n",
    "\n",
    "    return X_encoded, y, data_with_delinquency\n",
    "\n",
    "\n",
    "def getDataWithAcctStats():\n",
    "    data = pd.read_csv(\"data.csv\")\n",
    "    data = data.dropna(subset=['Category'])\n",
    "\n",
    "    data['contractdate'] = pd.to_datetime(data['contractdate'])\n",
    "    data['datemat'] = pd.to_datetime(data['datemat'])\n",
    "\n",
    "    data['contract_to_maturity_days'] = (data['datemat'] - data['contractdate']).dt.days\n",
    "\n",
    "    # delinquency.columns = delinquency.iloc[3]\n",
    "    # delinquency = delinquency.rename(columns={'Account Number': 'acctnbr'})\n",
    "    # delinquency = delinquency.dropna(subset=['Customer Name'])\n",
    "\n",
    "    data_with_acct_stats = pd.merge(data, acctstatistichist, on='acctnbr', how='left')\n",
    "    data_with_acct_stats.replace('', np.nan, inplace=True)\n",
    "    data_with_acct_stats.fillna(0, inplace=True)\n",
    "\n",
    "    for index, row in tqdm(data_with_acct_stats.iterrows()):\n",
    "        if row['product'] == 'Repossessed Collateral':\n",
    "            acct = row['acctnbr']\n",
    "            acct_data = fetch_data_historical_acctcommon(acct)\n",
    "            acct_df = acct_data['wh_acctcommon']\n",
    "            new_product = acct_df.iloc[0]['product']\n",
    "            data_with_acct_stats.at[index, 'product'] = new_product\n",
    "\n",
    "    data_without_repo = data_with_acct_stats[(data_with_acct_stats['product'] != \"Repossessed Collateral\")]\n",
    "\n",
    "    X = data_without_repo[[\n",
    "        'loanofficer',\n",
    "        'product',\n",
    "        #'noteopenamt',\n",
    "        'ratetypcd', \n",
    "        'noteintrate', \n",
    "        #'contractdate', \n",
    "        #'datemat',\n",
    "        'contract_to_maturity_days',\n",
    "        'origintrate', \n",
    "        'riskratingcd',\n",
    "        #'availbalamt',\n",
    "        'DOD', 'EFEE', 'EXT', 'KITE', 'MCHG', 'NSF', 'PD', 'PD12',\n",
    "        'PD15', 'PD18', 'PD30', 'PD60', 'PD90', 'RGD3', 'RGD6', 'RNEW', 'SKIP',\n",
    "        'UCF']].copy()\n",
    "\n",
    "    X['riskratingcd'] = X['riskratingcd'].str.replace(r'\\D', '', regex=True)\n",
    "    X.replace('', np.nan, inplace=True)\n",
    "    X.fillna(0, inplace=True)\n",
    "    y = data_without_repo['cobal'].copy()\n",
    "    # converting cobal to binomial distribution\n",
    "    y = (y > 0).astype(int)\n",
    "\n",
    "    # append most recent delinquency file\n",
    "\n",
    "    X_encoded = pd.get_dummies(X, columns=['ratetypcd'], prefix='ratetypcd')\n",
    "    X_encoded['ratetypcd_FIX'], X_encoded['ratetypcd_VAR'] = X_encoded['ratetypcd_FIX'].astype(int), X_encoded['ratetypcd_VAR'].astype(int)\n",
    "    print(X.columns)\n",
    "\n",
    "    X_final = pd.get_dummies(X_encoded, columns=['product'], prefix='product')\n",
    "    X_final_final = pd.get_dummies(X_final, columns=['loanofficer'], prefix='LOANOFFICER')\n",
    "\n",
    "    #X_final['ratetypcd_FIX'], X_encoded['ratetypcd_VAR'] = X_encoded['ratetypcd_FIX'].astype(int), X_encoded['ratetypcd_VAR'].astype(int)\n",
    "\n",
    "    return X_final_final, y, data_without_repo"
   ]
  },
  {
   "cell_type": "code",
   "execution_count": null,
   "id": "c435ed49",
   "metadata": {},
   "outputs": [],
   "source": [
    "X, y, data_with_delinquency = getData()"
   ]
  },
  {
   "cell_type": "code",
   "execution_count": null,
   "id": "5daa2a64",
   "metadata": {},
   "outputs": [],
   "source": [
    "X"
   ]
  },
  {
   "cell_type": "code",
   "execution_count": null,
   "id": "d84857cc",
   "metadata": {},
   "outputs": [],
   "source": [
    "X, y, data_with_delinquency = getData()\n",
    "\n",
    "# features_to_be_scaled = ['noteopenamt', 'noteintrate', 'origintrate',\n",
    "#                          'riskratingcd', 'contract_to_maturity_days', 'NDPD']\n",
    "features_to_be_scaled = ['noteopenamt', 'noteintrate', 'origintrate',\n",
    "                         'contract_to_maturity_days']\n",
    "\n",
    "scaler = StandardScaler()\n",
    "X_train, X_test, y_train, y_test = train_test_split(X, y, test_size = 0.2)\n",
    "X_train[features_to_be_scaled] = scaler.fit_transform(X_train[features_to_be_scaled])\n",
    "X_test[features_to_be_scaled] = scaler.transform(X_test[features_to_be_scaled])"
   ]
  },
  {
   "cell_type": "code",
   "execution_count": null,
   "id": "f2588852",
   "metadata": {},
   "outputs": [],
   "source": [
    "data_with_delinquency"
   ]
  },
  {
   "cell_type": "code",
   "execution_count": null,
   "id": "d7381582",
   "metadata": {},
   "outputs": [],
   "source": [
    "model = LogisticRegression(class_weight='balanced')\n",
    "\n",
    "model.fit(X_train, y_train)"
   ]
  },
  {
   "cell_type": "code",
   "execution_count": null,
   "id": "b63fe81a",
   "metadata": {},
   "outputs": [],
   "source": [
    "y_pred = model.predict(X_test)\n",
    "accuracy_score(y_test, y_pred)"
   ]
  },
  {
   "cell_type": "code",
   "execution_count": null,
   "id": "2a8dfc52",
   "metadata": {},
   "outputs": [],
   "source": [
    "y_probs = model.predict_proba(X_test)[:,1]\n",
    "\n",
    "print(classification_report(y_test, y_pred))\n",
    "print((\"ROC AUC:\", roc_auc_score(y_test, y_probs)))"
   ]
  },
  {
   "cell_type": "code",
   "execution_count": null,
   "id": "7831131a",
   "metadata": {},
   "outputs": [],
   "source": [
    "accuracy_when_y_is_1(y_test, y_pred)"
   ]
  },
  {
   "cell_type": "code",
   "execution_count": null,
   "id": "16785946",
   "metadata": {},
   "outputs": [],
   "source": [
    "coefficients = model.coef_[0]\n",
    "feature_names = X.columns\n",
    "for name, coef in zip(feature_names, coefficients):\n",
    "    print(f\"{name} {coef:.12f}\")"
   ]
  },
  {
   "cell_type": "code",
   "execution_count": null,
   "id": "ea3adce3",
   "metadata": {},
   "outputs": [],
   "source": [
    "X_train"
   ]
  },
  {
   "cell_type": "markdown",
   "id": "b548763b",
   "metadata": {},
   "source": [
    "### Trying without ndpd but using account history"
   ]
  },
  {
   "cell_type": "code",
   "execution_count": null,
   "id": "661a88c1",
   "metadata": {},
   "outputs": [],
   "source": [
    "X, y, dataWithAcctStats = getDataWithAcctStats()"
   ]
  },
  {
   "cell_type": "code",
   "execution_count": null,
   "id": "f12e0ed8",
   "metadata": {},
   "outputs": [],
   "source": [
    "dataWithAcctStats"
   ]
  },
  {
   "cell_type": "code",
   "execution_count": null,
   "id": "5206f98c",
   "metadata": {},
   "outputs": [],
   "source": [
    "dataWithAcctStats.columns"
   ]
  },
  {
   "cell_type": "code",
   "execution_count": null,
   "id": "a269cc94",
   "metadata": {},
   "outputs": [],
   "source": [
    "identifiers = dataWithAcctStats[['ownersortname', 'product']]"
   ]
  },
  {
   "cell_type": "code",
   "execution_count": null,
   "id": "7c761da0",
   "metadata": {},
   "outputs": [],
   "source": [
    "features_to_be_scaled = [ 'noteintrate', 'origintrate', 'riskratingcd',\n",
    "                         'contract_to_maturity_days', 'DOD', 'EFEE', 'EXT', 'KITE', 'MCHG', 'NSF', 'PD', 'PD12',\n",
    "       'PD15', 'PD18', 'PD30', 'PD60', 'PD90', 'RGD3', 'RGD6', 'RNEW', 'SKIP',\n",
    "       'UCF']\n",
    "\n",
    "#maybe scale riskrating also\n",
    "\n",
    "\n",
    "scaler = StandardScaler()\n",
    "X_train, X_test, y_train, y_test, identifiers_train, identifiers_test = train_test_split(X, y, identifiers, test_size = 0.2)\n",
    "\n",
    "X_test_copy = X_test.copy()\n",
    "y_test_copy = y_test.copy()\n",
    "X_train[features_to_be_scaled] = scaler.fit_transform(X_train[features_to_be_scaled])\n",
    "X_test[features_to_be_scaled] = scaler.transform(X_test[features_to_be_scaled])"
   ]
  },
  {
   "cell_type": "code",
   "execution_count": null,
   "id": "a7fcbd86",
   "metadata": {},
   "outputs": [],
   "source": [
    "model = LogisticRegression(class_weight='balanced', max_iter=100000)\n",
    "\n",
    "model.fit(X_train, y_train)"
   ]
  },
  {
   "cell_type": "code",
   "execution_count": null,
   "id": "ba9c06d4",
   "metadata": {},
   "outputs": [],
   "source": [
    "y_pred = model.predict(X_test)\n",
    "accuracy_score(y_test, y_pred)"
   ]
  },
  {
   "cell_type": "code",
   "execution_count": null,
   "id": "68dc11b9",
   "metadata": {},
   "outputs": [],
   "source": [
    "accuracy_when_y_is_1(y_test, y_pred)"
   ]
  },
  {
   "cell_type": "code",
   "execution_count": null,
   "id": "6374793a",
   "metadata": {},
   "outputs": [],
   "source": [
    "len(y_test)"
   ]
  },
  {
   "cell_type": "code",
   "execution_count": null,
   "id": "49a5f570",
   "metadata": {},
   "outputs": [],
   "source": [
    "coefficients = model.coef_[0]\n",
    "feature_names = X.columns\n",
    "for name, coef in zip(feature_names, coefficients):\n",
    "    print(f\"{name} {coef:.12f}\")"
   ]
  },
  {
   "cell_type": "code",
   "execution_count": null,
   "id": "e828852f",
   "metadata": {},
   "outputs": [],
   "source": [
    "identifiers_test"
   ]
  },
  {
   "cell_type": "code",
   "execution_count": null,
   "id": "5232d420",
   "metadata": {},
   "outputs": [],
   "source": [
    "X_test_copy['y'] = y_test\n",
    "X_test_copy['y_pred'] = y_pred\n",
    "X_test_copy = pd.concat([identifiers_test, X_test_copy], axis=1)\n",
    "# X_test_copy['Customer Name'] = identifiers_test['ownersortname']\n",
    "# X_test_copy['Product'] = identifiers_test['product']"
   ]
  },
  {
   "cell_type": "code",
   "execution_count": null,
   "id": "1ea13351",
   "metadata": {},
   "outputs": [],
   "source": [
    "X_test_copy"
   ]
  },
  {
   "cell_type": "code",
   "execution_count": null,
   "id": "7686f3e5",
   "metadata": {},
   "outputs": [],
   "source": [
    "false_positives = X_test_copy[(X_test_copy['y'] == 0) & (X_test_copy['y_pred'] == 1)] # danger zone\n",
    "false_negatives = X_test_copy[(X_test_copy['y'] == 1) & (X_test_copy['y_pred'] == 0)]\n",
    "true_positives = X_test_copy[(X_test_copy['y'] == 1) & (X_test_copy['y_pred'] == 1)]\n",
    "true_negatives = X_test_copy[(X_test_copy['y'] == 0) & (X_test_copy['y_pred'] == 0)]"
   ]
  },
  {
   "cell_type": "code",
   "execution_count": null,
   "id": "966e865e",
   "metadata": {},
   "outputs": [],
   "source": [
    "false_positives"
   ]
  },
  {
   "cell_type": "code",
   "execution_count": null,
   "id": "2130319e",
   "metadata": {},
   "outputs": [],
   "source": [
    "false_positives.describe()"
   ]
  },
  {
   "cell_type": "code",
   "execution_count": null,
   "id": "a573c154",
   "metadata": {},
   "outputs": [],
   "source": [
    "false_positives.to_excel(\"danger_zone.xlsx\", index=False)"
   ]
  },
  {
   "cell_type": "code",
   "execution_count": null,
   "id": "bc29ff06",
   "metadata": {},
   "outputs": [],
   "source": [
    "false_positives.describe().to_excel(\"false_positives.xlsx\")\n",
    "false_negatives.describe().to_excel(\"false_negatives.xlsx\")\n",
    "true_positives.describe().to_excel(\"true_positives.xlsx\")\n",
    "true_negatives.describe().to_excel(\"true_negatives.xlsx\")\n"
   ]
  },
  {
   "cell_type": "code",
   "execution_count": null,
   "id": "63891797",
   "metadata": {},
   "outputs": [],
   "source": [
    "X_test_copy"
   ]
  },
  {
   "cell_type": "code",
   "execution_count": null,
   "id": "396f065e",
   "metadata": {},
   "outputs": [],
   "source": [
    "acctstatistichist"
   ]
  },
  {
   "cell_type": "markdown",
   "id": "2f75beda",
   "metadata": {},
   "source": [
    "maybe get rid of nsf, try encoding product column"
   ]
  },
  {
   "cell_type": "code",
   "execution_count": null,
   "id": "007d9262",
   "metadata": {},
   "outputs": [],
   "source": [
    "X, y, dataWithAcctStats = getDataWithAcctStats()"
   ]
  },
  {
   "cell_type": "code",
   "execution_count": null,
   "id": "d0ece513",
   "metadata": {},
   "outputs": [],
   "source": [
    "X"
   ]
  },
  {
   "cell_type": "code",
   "execution_count": null,
   "id": "64b6ae5f",
   "metadata": {},
   "outputs": [],
   "source": [
    "# X, y, dataWithAcctStats = getDataWithAcctStats()\n",
    "X = X.drop(columns=\"NSF\")\n",
    "X.iloc[:, 25:] = X.iloc[:, 25:].astype(int)\n",
    "identifiers = dataWithAcctStats[['ownersortname']]\n",
    "\n",
    "features_to_be_scaled = ['noteintrate', 'origintrate', 'riskratingcd',\n",
    "                         'contract_to_maturity_days', 'DOD', 'EFEE', 'EXT', 'KITE', 'MCHG', 'PD', 'PD12',\n",
    "       'PD15', 'PD18', 'PD30', 'PD60', 'PD90', 'RGD3', 'RGD6', 'RNEW', 'SKIP',\n",
    "       'UCF']\n",
    "\n",
    "\n",
    "scaler = StandardScaler()\n",
    "X_train, X_test, y_train, y_test, identifiers_train, identifiers_test = train_test_split(X, y, identifiers, test_size = 0.2)\n",
    "\n",
    "X_test_copy = X_test.copy()\n",
    "y_test_copy = y_test.copy()\n",
    "X_train[features_to_be_scaled] = scaler.fit_transform(X_train[features_to_be_scaled])\n",
    "X_test[features_to_be_scaled] = scaler.transform(X_test[features_to_be_scaled])\n",
    "\n",
    "# encoder = HashingEncoder(cols=['product'], n_components=10)\n",
    "# encoder.fit(X_train)\n",
    "# X_train, X_test = encoder.transform(X_train), encoder.transform(X_test)\n"
   ]
  },
  {
   "cell_type": "code",
   "execution_count": null,
   "id": "559f7919",
   "metadata": {},
   "outputs": [],
   "source": [
    "X_train"
   ]
  },
  {
   "cell_type": "code",
   "execution_count": null,
   "id": "43ab7c7b",
   "metadata": {},
   "outputs": [],
   "source": [
    "model = LogisticRegression(class_weight='balanced', max_iter=100000)\n",
    "\n",
    "model.fit(X_train, y_train)"
   ]
  },
  {
   "cell_type": "code",
   "execution_count": null,
   "id": "724c7a7f",
   "metadata": {},
   "outputs": [],
   "source": [
    "y_pred = model.predict(X_test)\n",
    "print(\"Accuracy score: \" + str(accuracy_score(y_test, y_pred)))\n",
    "print(\"Accuracy when y is 1: \" + accuracy_when_y_is_1(y_test, y_pred))\n",
    "\n",
    "coefficients = model.coef_[0]\n",
    "feature_names = X.columns\n",
    "for name, coef in zip(feature_names, coefficients):\n",
    "    print(f\"{name} {coef:.12f}\")"
   ]
  },
  {
   "cell_type": "code",
   "execution_count": null,
   "id": "6fc79a99",
   "metadata": {},
   "outputs": [],
   "source": [
    "# Sort coefficients by absolute value\n",
    "sorted_indices = np.argsort((coefficients))[::-1]  # Sort in descending order\n",
    "\n",
    "# Print sorted coefficients and feature names\n",
    "print(\"Sorted Coefficients (by magnitude):\")\n",
    "for index in sorted_indices:\n",
    "    print(f\"{feature_names[index]}: {coefficients[index]}\")"
   ]
  },
  {
   "cell_type": "code",
   "execution_count": null,
   "id": "d3b5ef04",
   "metadata": {},
   "outputs": [],
   "source": [
    "X_test_copy['y'] = y_test\n",
    "X_test_copy['y_pred'] = y_pred\n",
    "X_test_copy = pd.concat([identifiers_test, X_test_copy], axis=1)"
   ]
  },
  {
   "cell_type": "code",
   "execution_count": null,
   "id": "16072925",
   "metadata": {},
   "outputs": [],
   "source": [
    "repos = X[(X['product_Repossessed Collateral'] == 1)]\n",
    "repos_with_cobal = X[(X['product_Repossessed Collateral'] == 1) & X['y'] == 1]\n",
    "print(len(repos))\n",
    "print(len(repos_with_cobal))\n",
    "print(len(X))"
   ]
  },
  {
   "cell_type": "markdown",
   "id": "3df1aa96",
   "metadata": {},
   "source": [
    "Random Forest Classifier"
   ]
  },
  {
   "cell_type": "code",
   "execution_count": null,
   "id": "4b5d4887",
   "metadata": {},
   "outputs": [],
   "source": [
    "X, y, dataWithAcctStats = getDataWithAcctStats()\n",
    "X_train, X_test, y_train, y_test, identifiers_train, identifiers_test = train_test_split(X, y, identifiers, test_size = 0.2)"
   ]
  },
  {
   "cell_type": "code",
   "execution_count": null,
   "id": "0db583a5",
   "metadata": {},
   "outputs": [],
   "source": [
    "rfc = RandomForestClassifier(class_weight='balanced')\n",
    "rfc.fit(X_train, y_train)"
   ]
  },
  {
   "cell_type": "code",
   "execution_count": null,
   "id": "9f2484ee",
   "metadata": {},
   "outputs": [],
   "source": [
    "y_pred = rfc.predict(X_test)\n",
    "y_probs = rfc.predict_proba(X_test)[:, 1]\n",
    "\n",
    "\n",
    "print(\"Accuracy score: \" + str(accuracy_score(y_test, y_pred)))\n",
    "print(classification_report(y_test, y_pred))\n",
    "print((\"ROC AUC:\", roc_auc_score(y_test, y_probs)))"
   ]
  },
  {
   "cell_type": "code",
   "execution_count": null,
   "id": "bfb8ad65",
   "metadata": {},
   "outputs": [],
   "source": [
    "accuracy_when_y_is_1(y_test, y_pred)"
   ]
  },
  {
   "cell_type": "code",
   "execution_count": null,
   "id": "8b870cb4",
   "metadata": {},
   "outputs": [],
   "source": [
    "X, y = getData()\n",
    "X_train, X_test, y_train, y_test = train_test_split(X, y, test_size = 0.2)\n",
    "\n",
    "rfc = RandomForestClassifier(class_weight='balanced')\n",
    "rfc.fit(X_train, y_train)"
   ]
  },
  {
   "cell_type": "code",
   "execution_count": null,
   "id": "10ca1bc8",
   "metadata": {},
   "outputs": [],
   "source": [
    "y_pred = rfc.predict(X_test)\n",
    "y_probs = rfc.predict_proba(X_test)[:, 1]\n",
    "\n",
    "\n",
    "print(\"Accuracy score: \" + str(accuracy_score(y_test, y_pred)))\n",
    "print(classification_report(y_test, y_pred))\n",
    "print((\"ROC AUC:\", roc_auc_score(y_test, y_probs)))"
   ]
  },
  {
   "cell_type": "code",
   "execution_count": null,
   "id": "99a07487",
   "metadata": {},
   "outputs": [],
   "source": [
    "accuracy_when_y_is_1(y_test, y_pred)\n",
    "\n",
    "# false positives are in the danger zone"
   ]
  },
  {
   "cell_type": "code",
   "execution_count": null,
   "id": "655c6198",
   "metadata": {},
   "outputs": [],
   "source": [
    "(str(((y == y_pred) & (y == 1)).sum() / len(y[y == 1]) * 100) + \"%\")"
   ]
  },
  {
   "cell_type": "code",
   "execution_count": null,
   "id": "70d56d42",
   "metadata": {},
   "outputs": [],
   "source": [
    "# true positives\n",
    "((y_test == y_pred) & (y_test == 1)).sum().item()"
   ]
  },
  {
   "cell_type": "code",
   "execution_count": null,
   "id": "47980d48",
   "metadata": {},
   "outputs": [],
   "source": [
    "# true positives\n",
    "((y_test != y_pred) & (y_test == 1)).sum().item()"
   ]
  },
  {
   "cell_type": "code",
   "execution_count": null,
   "id": "c8b7612f",
   "metadata": {},
   "outputs": [],
   "source": [
    "len(y_test[y_test == 1])"
   ]
  },
  {
   "cell_type": "code",
   "execution_count": null,
   "id": "519d4b75",
   "metadata": {},
   "outputs": [],
   "source": [
    "len(y_pred[y_pred == 1])"
   ]
  }
 ],
 "metadata": {
  "kernelspec": {
   "display_name": ".venv",
   "language": "python",
   "name": "python3"
  },
  "language_info": {
   "codemirror_mode": {
    "name": "ipython",
    "version": 3
   },
   "file_extension": ".py",
   "mimetype": "text/x-python",
   "name": "python",
   "nbconvert_exporter": "python",
   "pygments_lexer": "ipython3",
   "version": "3.11.9"
  }
 },
 "nbformat": 4,
 "nbformat_minor": 5
}
