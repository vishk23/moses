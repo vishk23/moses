{
 "cells": [
  {
   "cell_type": "code",
   "execution_count": null,
   "id": "c1a724e0",
   "metadata": {},
   "outputs": [],
   "source": [
    "import os\n",
    "import sys\n",
    "from pathlib import Path\n",
    "\n",
    "# Navigate to project root (equivalent to cd ..)\n",
    "project_dir = Path(__file__).parent.parent if '__file__' in globals() else Path.cwd().parent\n",
    "os.chdir(project_dir)\n",
    "\n",
    "# Add src directory to Python path for imports\n",
    "src_dir = project_dir / \"src\"\n",
    "if str(src_dir) not in sys.path:\n",
    "    sys.path.insert(0, str(src_dir))\n",
    "\n",
    "# Set environment for dev testing\n",
    "os.environ['REPORT_ENV'] = 'dev'"
   ]
  },
  {
   "cell_type": "code",
   "execution_count": null,
   "id": "de6c09a0",
   "metadata": {},
   "outputs": [],
   "source": [
    "from deltalake import DeltaTable\n",
    "from pathlib import Path\n",
    "import pandas as pd"
   ]
  },
  {
   "cell_type": "code",
   "execution_count": null,
   "id": "1edc3f57",
   "metadata": {},
   "outputs": [],
   "source": [
    "INPUT_DIR = Path(r\"C:\\Users\\w322800\\Documents\\gh\\bcsb-prod\\Reports\\Data Analytics\\Active_Customer_Dashboard_Proto\\output\\portfolio_deriv\")\n",
    "df = DeltaTable(INPUT_DIR).to_pandas()"
   ]
  },
  {
   "cell_type": "code",
   "execution_count": null,
   "id": "cf949510",
   "metadata": {},
   "outputs": [],
   "source": [
    "df"
   ]
  },
  {
   "cell_type": "code",
   "execution_count": null,
   "id": "21cf7e89",
   "metadata": {},
   "outputs": [],
   "source": [
    "df.info()"
   ]
  },
  {
   "cell_type": "code",
   "execution_count": null,
   "id": "beb53ae0",
   "metadata": {},
   "outputs": [],
   "source": [
    "from datetime import datetime\n",
    "import cdutils.acct_file_creation.core\n",
    "\n",
    "# Year end data (full snapshot)\n",
    "year_date = datetime(2024, 12, 31)\n",
    "year_end_df = cdutils.acct_file_creation.core.query_df_on_date(year_date)\n",
    "# year_end_df['Macro Account Type'] = year_end_df['mjaccttypcd'].map(MACRO_TYPE_MAPPING)\n",
    "# Ensure effdate is set to snapshot date (adjust if query_df_on_date doesn't)\n",
    "year_end_df['effdate'] = year_date"
   ]
  },
  {
   "cell_type": "code",
   "execution_count": null,
   "id": "54172700",
   "metadata": {},
   "outputs": [],
   "source": [
    "taunton = year_end_df[year_end_df['branchname'] ]"
   ]
  }
 ],
 "metadata": {
  "kernelspec": {
   "display_name": "bcsb-prod",
   "language": "python",
   "name": "python3"
  },
  "language_info": {
   "codemirror_mode": {
    "name": "ipython",
    "version": 3
   },
   "file_extension": ".py",
   "mimetype": "text/x-python",
   "name": "python",
   "nbconvert_exporter": "python",
   "pygments_lexer": "ipython3",
   "version": "3.11.9"
  }
 },
 "nbformat": 4,
 "nbformat_minor": 5
}
