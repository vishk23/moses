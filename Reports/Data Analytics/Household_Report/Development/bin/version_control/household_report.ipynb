{
 "cells": [
  {
   "cell_type": "code",
   "execution_count": 40,
   "metadata": {},
   "outputs": [],
   "source": [
    "# Household Report\n",
    "# Developed by CD\n",
    "# v2.0.0\n",
    "\n",
    "import os\n",
    "from io import StringIO\n",
    "from datetime import datetime, timedelta, date\n",
    "from sqlalchemy import create_engine, text\n",
    "import pandas as pd\n",
    "import time\n",
    "from cryptography.fernet import Fernet\n",
    "from dotenv import load_dotenv\n",
    "import win32com.client as win32\n",
    "import shutil\n",
    "import stat\n",
    "\n",
    "\n",
    "\n",
    "\n",
    "def retrieve_data():\n",
    "    \"\"\"\n",
    "    Retrieve data from COCC database\n",
    "    \"\"\"\n",
    "    class DatabaseHandler:\n",
    "        \"\"\"\n",
    "        This class abstracts the connection to the database and allows a clean\n",
    "        interface for the developer to use.\n",
    "\n",
    "        \"\"\"\n",
    "        def __init__(self, tns_admin_path):\n",
    "            \"\"\"\n",
    "            Args:\n",
    "                tns_admin_path (str): Oracle driver path\n",
    "                credentials_path_db1 (str): Database 1 credentials path\n",
    "                credentials_path_db1 (str): Databsae 2 credentials path\n",
    "            \"\"\"\n",
    "            os.environ['TNS_ADMIN'] = tns_admin_path\n",
    "            \n",
    "            # Load private key\n",
    "            key_key_path = r'C:\\Users\\w322800\\Documents\\coding3\\env_admin\\key.key'\n",
    "            with open(key_key_path, \"rb\") as key_file:\n",
    "                key = key_file.read()\n",
    "\n",
    "            cipher = Fernet(key)\n",
    "            \n",
    "            # Load encrypted data\n",
    "            encoded_env_path = r'C:\\Users\\w322800\\Documents\\coding3\\env_admin\\.env.enc'\n",
    "            with open(encoded_env_path, \"rb\") as encrypted_file:\n",
    "                encrypted_data = encrypted_file.read()\n",
    "\n",
    "            decrypted_data = cipher.decrypt(encrypted_data).decode()\n",
    "\n",
    "            env_file = StringIO(decrypted_data)\n",
    "            load_dotenv(stream=env_file)\n",
    "\n",
    "            self.username1 = os.getenv('main_username')\n",
    "            self.password1 = os.getenv('main_password')\n",
    "            self.dsn1 = os.getenv('main_dsn')\n",
    "\n",
    "            self.username2 = os.getenv('datamart_username')\n",
    "            self.password2 = os.getenv('datamart_password')\n",
    "            self.dsn2 = os.getenv('datamart_dsn')\n",
    "\n",
    "            self.connection_string1 = f'oracle+oracledb://{self.username1}:{self.password1}@{self.dsn1}'\n",
    "            self.connection_string2 = f'oracle+oracledb://{self.username2}:{self.password2}@{self.dsn2}'\n",
    "\n",
    "            self.engine1 = create_engine(self.connection_string1, max_identifier_length=128, echo=False, future=True)\n",
    "            self.engine1.dialect.hide_parameters = True\n",
    "            self.engine2 = create_engine(self.connection_string2, max_identifier_length=128, echo=False, future=True)\n",
    "            self.engine1.dialect.hide_parameters = True\n",
    "\n",
    "\n",
    "        def query(self, sql_query, engine=1):\n",
    "            \"\"\"\n",
    "            This allows abstraction of the connection and the class\n",
    "            so the developer can query a single table as a dataframe\n",
    "\n",
    "            Args:\n",
    "                sql_query (str): The query to SQL database is passed as a string\n",
    "                engine (int): This selects the database. There are two engines:\n",
    "                    1 -> R1625\n",
    "                    2 -> COCC DataMart\n",
    "\n",
    "            Returns:\n",
    "                df: The SQL query is returned as a pandas DataFrame\n",
    "\n",
    "            Usage:\n",
    "                df = db_handler.query(\"SELECT * FROM DB.TABLE\", engine=1)\n",
    "\n",
    "                In this example, db_handler = DatabaseHandler(args)\n",
    "            \"\"\"\n",
    "            if engine == 1:\n",
    "                selected_engine = self.engine1\n",
    "            elif engine == 2:\n",
    "                selected_engine = self.engine2\n",
    "            else:\n",
    "                raise ValueError(\"Engine must be 1 or 2\")\n",
    "\n",
    "            with selected_engine.connect() as connection:\n",
    "                df = pd.read_sql(sql_query, connection)\n",
    "            return df\n",
    "\n",
    "    # Database Connection Configuration\n",
    "    tns_admin_path = r'C:\\Users\\w322800\\Documents\\coding3\\env_admin\\tns_admin'\n",
    "    db_handler = DatabaseHandler(tns_admin_path)\n",
    "\n",
    "    #Last business day\n",
    "    with db_handler.engine1.connect() as connection:\n",
    "        wh_acctcommon = text(\"\"\"\n",
    "        SELECT \n",
    "            a.ACCTNBR,\n",
    "            a.LOANOFFICER,\n",
    "            a.ACCTOFFICER,\n",
    "            a.OWNERSORTNAME,\n",
    "            a.PRODUCT,\n",
    "            a.CURRACCTSTATCD,\n",
    "            a.NOTEBAL,\n",
    "            a.BOOKBALANCE,\n",
    "            a.NOTEINTRATE,\n",
    "            a.DATEMAT,\n",
    "            a.TAXRPTFORORGNBR,\n",
    "            a.TAXRPTFORPERSNBR,\n",
    "            a.CONTRACTDATE,\n",
    "            a.MJACCTTYPCD,\n",
    "            a.CURRMIACCTTYPCD\n",
    "        FROM \n",
    "            OSIBANK.WH_ACCTCOMMON a\n",
    "        \"\"\")\n",
    "        start_time = time.time()\n",
    "        wh_acctcommon = pd.read_sql(wh_acctcommon, connection)\n",
    "        print(f\"acctcommon took {time.time() - start_time} seconds.\")\n",
    "\n",
    "        househldacct = text(\"\"\"\n",
    "        SELECT \n",
    "            a.ACCTNBR,\n",
    "            a.HOUSEHOLDNBR\n",
    "        FROM \n",
    "            OSIEXTN.HOUSEHLDACCT a\n",
    "        \"\"\")\n",
    "        start_time = time.time()\n",
    "        househldacct = pd.read_sql(househldacct, connection)\n",
    "        print(f\"househldacct took {time.time() - start_time} seconds.\")\n",
    "        \n",
    "    data = {\n",
    "        'wh_acctcommon': wh_acctcommon,\n",
    "        'househldacct': househldacct\n",
    "    }\n",
    "    return data"
   ]
  },
  {
   "cell_type": "code",
   "execution_count": 41,
   "metadata": {},
   "outputs": [
    {
     "name": "stdout",
     "output_type": "stream",
     "text": [
      "acctcommon took 16.843546867370605 seconds.\n",
      "househldacct took 20.491938829421997 seconds.\n"
     ]
    }
   ],
   "source": [
    "data = retrieve_data()"
   ]
  },
  {
   "cell_type": "code",
   "execution_count": 42,
   "metadata": {},
   "outputs": [],
   "source": [
    "wh_acctcommon = data['wh_acctcommon'].copy()\n",
    "househldacct = data['househldacct'].copy()"
   ]
  },
  {
   "cell_type": "code",
   "execution_count": 43,
   "metadata": {},
   "outputs": [
    {
     "data": {
      "text/plain": [
       "array(['ACT', 'CLS', 'DORM', 'APPR', 'NPFM', 'CO', 'ORIG'], dtype=object)"
      ]
     },
     "execution_count": 43,
     "metadata": {},
     "output_type": "execute_result"
    }
   ],
   "source": [
    "wh_acctcommon['curracctstatcd'].unique()"
   ]
  },
  {
   "cell_type": "code",
   "execution_count": 44,
   "metadata": {},
   "outputs": [],
   "source": [
    "def acctcommon_cleaning(wh_acctcommon):\n",
    "    \"\"\"\n",
    "    Filtering to only active, non-performing or dormant accounts\n",
    "    \"\"\"\n",
    "    wh_acctcommon = wh_acctcommon[wh_acctcommon['curracctstatcd'].isin(['ACT','NPFM','DORM'])].copy()\n",
    "    return wh_acctcommon"
   ]
  },
  {
   "cell_type": "code",
   "execution_count": 45,
   "metadata": {},
   "outputs": [],
   "source": [
    "wh_acctcommon = acctcommon_cleaning(wh_acctcommon)"
   ]
  },
  {
   "cell_type": "code",
   "execution_count": 46,
   "metadata": {},
   "outputs": [],
   "source": [
    "def merge_dfs(wh_acctcommon, househldacct):\n",
    "    \"\"\"\n",
    "    Mergine acctcommon & household dataframes\n",
    "    \"\"\"\n",
    "    merged_df = pd.merge(wh_acctcommon, househldacct, on='acctnbr', how='left')\n",
    "    return merged_df"
   ]
  },
  {
   "cell_type": "code",
   "execution_count": 47,
   "metadata": {},
   "outputs": [],
   "source": [
    "df = merge_dfs(wh_acctcommon, househldacct)"
   ]
  },
  {
   "cell_type": "code",
   "execution_count": 48,
   "metadata": {},
   "outputs": [
    {
     "name": "stdout",
     "output_type": "stream",
     "text": [
      "<class 'pandas.core.frame.DataFrame'>\n",
      "RangeIndex: 91005 entries, 0 to 91004\n",
      "Data columns (total 16 columns):\n",
      " #   Column            Non-Null Count  Dtype         \n",
      "---  ------            --------------  -----         \n",
      " 0   acctnbr           91005 non-null  int64         \n",
      " 1   loanofficer       24624 non-null  object        \n",
      " 2   acctofficer       62828 non-null  object        \n",
      " 3   ownersortname     91005 non-null  object        \n",
      " 4   product           91005 non-null  object        \n",
      " 5   curracctstatcd    91005 non-null  object        \n",
      " 6   notebal           91005 non-null  float64       \n",
      " 7   bookbalance       91005 non-null  float64       \n",
      " 8   noteintrate       89181 non-null  float64       \n",
      " 9   datemat           34379 non-null  datetime64[ns]\n",
      " 10  taxrptfororgnbr   12144 non-null  float64       \n",
      " 11  taxrptforpersnbr  78861 non-null  float64       \n",
      " 12  contractdate      91003 non-null  datetime64[ns]\n",
      " 13  mjaccttypcd       91005 non-null  object        \n",
      " 14  currmiaccttypcd   91005 non-null  object        \n",
      " 15  householdnbr      81447 non-null  float64       \n",
      "dtypes: datetime64[ns](2), float64(6), int64(1), object(7)\n",
      "memory usage: 11.1+ MB\n"
     ]
    }
   ],
   "source": [
    "df.info()"
   ]
  },
  {
   "cell_type": "code",
   "execution_count": 49,
   "metadata": {},
   "outputs": [],
   "source": [
    "df = df[['acctnbr','householdnbr','ownersortname','product','loanofficer','acctofficer','bookbalance','noteintrate','mjaccttypcd','contractdate','datemat']].copy()"
   ]
  },
  {
   "cell_type": "code",
   "execution_count": 51,
   "metadata": {},
   "outputs": [
    {
     "name": "stdout",
     "output_type": "stream",
     "text": [
      "Excel file saved with autofit at \\\\10.161.85.66\\Home\\Share\\Data & Analytics Initiatives\\Project Management\\Chad Projects\\Weekly Reports\\Household_Report\\Production\\Output\n",
      "Complete!\n"
     ]
    }
   ],
   "source": [
    "# Output to excel\n",
    "current_date = datetime.now().strftime('%Y%m%d')\n",
    "file_path = r'\\\\10.161.85.66\\Home\\Share\\Data & Analytics Initiatives\\Project Management\\Chad Projects\\Weekly Reports\\Household_Report\\Production\\Output'\n",
    "file_name = f'Household_Report_{current_date}.xlsx'\n",
    "full_path = os.path.join(file_path, file_name)\n",
    "df.to_excel(full_path, sheet_name='Sheet1', engine='openpyxl', index=False)\n",
    "\n",
    "\n",
    "excel = win32.gencache.EnsureDispatch(\"Excel.Application\")\n",
    "excel.Visible = False\n",
    "workbook = excel.Workbooks.Open(full_path)\n",
    "sheet = workbook.Worksheets(\"Sheet1\")\n",
    "\n",
    "sheet.Columns.AutoFit()\n",
    "\n",
    "# Bold top row\n",
    "top_row = sheet.Rows(1)\n",
    "top_row.Font.Bold = True\n",
    "\n",
    "# Add bottom border to header row\n",
    "bottom_border = top_row.Borders(9)\n",
    "bottom_border.LineStyle = 1\n",
    "bottom_border.Weight = 2\n",
    "\n",
    "date_columns = [\"J\",\"K\"]\n",
    "\n",
    "for col in date_columns:\n",
    "    col_index = ord(col.upper()) - 64\n",
    "    sheet.Columns(col_index).NumberFormat = \"mm/dd/yyyy\"\n",
    "\n",
    "# Freeze top row\n",
    "sheet.Application.ActiveWindow.SplitRow = 1\n",
    "sheet.Application.ActiveWindow.FreezePanes = True\n",
    "\n",
    "workbook.Save()\n",
    "workbook.Close()\n",
    "excel.Quit()\n",
    "\n",
    "print(f\"Excel file saved with autofit at {file_path}\")\n",
    "\n",
    "# Move to CLO_Share folder and make read-only\n",
    "destination_path = r'\\\\00-berlin\\CLO_Share\\Data Analytics\\Household Report\\Household Report.xlsx'\n",
    "try:\n",
    "    if os.path.exists(destination_path):\n",
    "        os.chmod(destination_path, stat.S_IWRITE)\n",
    "    shutil.copy(full_path, destination_path)\n",
    "    os.chmod(destination_path, stat.S_IREAD)\n",
    "    print(\"Complete!\")\n",
    "except Exception as e:\n",
    "    print(\"Error occured: {e}\")"
   ]
  },
  {
   "cell_type": "code",
   "execution_count": null,
   "metadata": {},
   "outputs": [],
   "source": []
  }
 ],
 "metadata": {
  "kernelspec": {
   "display_name": ".venv",
   "language": "python",
   "name": "python3"
  },
  "language_info": {
   "codemirror_mode": {
    "name": "ipython",
    "version": 3
   },
   "file_extension": ".py",
   "mimetype": "text/x-python",
   "name": "python",
   "nbconvert_exporter": "python",
   "pygments_lexer": "ipython3",
   "version": "3.11.9"
  }
 },
 "nbformat": 4,
 "nbformat_minor": 2
}
