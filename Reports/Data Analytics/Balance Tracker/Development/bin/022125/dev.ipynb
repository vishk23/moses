{
 "cells": [
  {
   "cell_type": "code",
   "execution_count": 1,
   "metadata": {},
   "outputs": [],
   "source": [
    "\"\"\"\n",
    "Balance Tracker - revised\n",
    "Developed by CD\n",
    "[v?]\n",
    "\"\"\"\n",
    "from pathlib import Path\n",
    "\n",
    "import pandas as pd # type: ignore\n",
    "import openpyxl # type: ignore\n",
    "from openpyxl.utils import get_column_letter # type: ignore\n",
    "\n",
    "import src.balance_tracker_pipeline_v2\n",
    "import src.cdutils.database.fdic_recon\n",
    "\n",
    "# Fetch Data from COCC\n",
    "data_prior = src.cdutils.database.fdic_recon.fetch_data_dec24()\n",
    "data_current = src.cdutils.database.fdic_recon.fetch_data_jan25()\n",
    "\n",
    "_, data_prior_summary = src.balance_tracker_pipeline_v2.main_pipeline_bt(data_prior)\n",
    "_, data_current_summary = src.balance_tracker_pipeline_v2.main_pipeline_bt(data_current)\n",
    "\n"
   ]
  },
  {
   "cell_type": "code",
   "execution_count": 2,
   "metadata": {},
   "outputs": [
    {
     "name": "stdout",
     "output_type": "stream",
     "text": [
      "<class 'pandas.core.frame.DataFrame'>\n",
      "RangeIndex: 6 entries, 0 to 5\n",
      "Data columns (total 3 columns):\n",
      " #   Column               Non-Null Count  Dtype  \n",
      "---  ------               --------------  -----  \n",
      " 0   Category             6 non-null      object \n",
      " 1   Net Balance          6 non-null      float64\n",
      " 2   Net Balance Rounded  6 non-null      float64\n",
      "dtypes: float64(2), object(1)\n",
      "memory usage: 276.0+ bytes\n"
     ]
    }
   ],
   "source": [
    "data_current_summary.info()"
   ]
  },
  {
   "cell_type": "code",
   "execution_count": 3,
   "metadata": {},
   "outputs": [
    {
     "name": "stdout",
     "output_type": "stream",
     "text": [
      "<class 'pandas.core.frame.DataFrame'>\n",
      "RangeIndex: 6 entries, 0 to 5\n",
      "Data columns (total 3 columns):\n",
      " #   Column               Non-Null Count  Dtype  \n",
      "---  ------               --------------  -----  \n",
      " 0   Category             6 non-null      object \n",
      " 1   Net Balance          6 non-null      float64\n",
      " 2   Net Balance Rounded  6 non-null      float64\n",
      "dtypes: float64(2), object(1)\n",
      "memory usage: 276.0+ bytes\n"
     ]
    }
   ],
   "source": [
    "data_prior_summary.info()"
   ]
  },
  {
   "cell_type": "code",
   "execution_count": 24,
   "metadata": {},
   "outputs": [],
   "source": [
    "def merging_summary_tables(data_prior_summary: pd.DataFrame, data_current_summary: pd.DataFrame) -> pd.DataFrame:\n",
    "    \"\"\"\n",
    "    Combining the two summary tables to find the monthly delta for each category\n",
    "    \"\"\"\n",
    "    df = pd.merge(data_prior_summary, data_current_summary, how='inner', on='Category', suffixes=('_prior','_current'))\n",
    "    return df"
   ]
  },
  {
   "cell_type": "code",
   "execution_count": 25,
   "metadata": {},
   "outputs": [],
   "source": [
    "df = merging_summary_tables(data_prior_summary, data_current_summary)"
   ]
  },
  {
   "cell_type": "code",
   "execution_count": 26,
   "metadata": {},
   "outputs": [
    {
     "data": {
      "text/html": [
       "<div>\n",
       "<style scoped>\n",
       "    .dataframe tbody tr th:only-of-type {\n",
       "        vertical-align: middle;\n",
       "    }\n",
       "\n",
       "    .dataframe tbody tr th {\n",
       "        vertical-align: top;\n",
       "    }\n",
       "\n",
       "    .dataframe thead th {\n",
       "        text-align: right;\n",
       "    }\n",
       "</style>\n",
       "<table border=\"1\" class=\"dataframe\">\n",
       "  <thead>\n",
       "    <tr style=\"text-align: right;\">\n",
       "      <th></th>\n",
       "      <th>Category</th>\n",
       "      <th>Net Balance_prior</th>\n",
       "      <th>Net Balance Rounded_prior</th>\n",
       "      <th>Net Balance_current</th>\n",
       "      <th>Net Balance Rounded_current</th>\n",
       "    </tr>\n",
       "  </thead>\n",
       "  <tbody>\n",
       "    <tr>\n",
       "      <th>0</th>\n",
       "      <td>C&amp;I</td>\n",
       "      <td>1.167990e+08</td>\n",
       "      <td>116799.0</td>\n",
       "      <td>1.166215e+08</td>\n",
       "      <td>116622.0</td>\n",
       "    </tr>\n",
       "    <tr>\n",
       "      <th>1</th>\n",
       "      <td>CRE</td>\n",
       "      <td>1.108016e+09</td>\n",
       "      <td>1108016.0</td>\n",
       "      <td>1.112945e+09</td>\n",
       "      <td>1112945.0</td>\n",
       "    </tr>\n",
       "    <tr>\n",
       "      <th>2</th>\n",
       "      <td>Consumer</td>\n",
       "      <td>7.703546e+06</td>\n",
       "      <td>7704.0</td>\n",
       "      <td>7.474293e+06</td>\n",
       "      <td>7474.0</td>\n",
       "    </tr>\n",
       "    <tr>\n",
       "      <th>3</th>\n",
       "      <td>HOA</td>\n",
       "      <td>1.521513e+07</td>\n",
       "      <td>15215.0</td>\n",
       "      <td>1.712787e+07</td>\n",
       "      <td>17128.0</td>\n",
       "    </tr>\n",
       "    <tr>\n",
       "      <th>4</th>\n",
       "      <td>Indirect</td>\n",
       "      <td>2.879786e+08</td>\n",
       "      <td>287979.0</td>\n",
       "      <td>2.805174e+08</td>\n",
       "      <td>280517.0</td>\n",
       "    </tr>\n",
       "    <tr>\n",
       "      <th>5</th>\n",
       "      <td>Residential</td>\n",
       "      <td>9.192768e+08</td>\n",
       "      <td>919277.0</td>\n",
       "      <td>9.210364e+08</td>\n",
       "      <td>921036.0</td>\n",
       "    </tr>\n",
       "  </tbody>\n",
       "</table>\n",
       "</div>"
      ],
      "text/plain": [
       "      Category  Net Balance_prior  Net Balance Rounded_prior  \\\n",
       "0          C&I       1.167990e+08                   116799.0   \n",
       "1          CRE       1.108016e+09                  1108016.0   \n",
       "2     Consumer       7.703546e+06                     7704.0   \n",
       "3          HOA       1.521513e+07                    15215.0   \n",
       "4     Indirect       2.879786e+08                   287979.0   \n",
       "5  Residential       9.192768e+08                   919277.0   \n",
       "\n",
       "   Net Balance_current  Net Balance Rounded_current  \n",
       "0         1.166215e+08                     116622.0  \n",
       "1         1.112945e+09                    1112945.0  \n",
       "2         7.474293e+06                       7474.0  \n",
       "3         1.712787e+07                      17128.0  \n",
       "4         2.805174e+08                     280517.0  \n",
       "5         9.210364e+08                     921036.0  "
      ]
     },
     "execution_count": 26,
     "metadata": {},
     "output_type": "execute_result"
    }
   ],
   "source": [
    "df"
   ]
  },
  {
   "cell_type": "code",
   "execution_count": 27,
   "metadata": {},
   "outputs": [],
   "source": [
    "df['Delta'] = (df['Net Balance_current'] - df['Net Balance_prior']) / 1000\n"
   ]
  },
  {
   "cell_type": "code",
   "execution_count": 28,
   "metadata": {},
   "outputs": [
    {
     "data": {
      "text/plain": [
       "np.float64(733.0998600001062)"
      ]
     },
     "execution_count": 28,
     "metadata": {},
     "output_type": "execute_result"
    }
   ],
   "source": [
    "df['Delta'].sum()"
   ]
  },
  {
   "cell_type": "code",
   "execution_count": 29,
   "metadata": {},
   "outputs": [
    {
     "data": {
      "text/html": [
       "<div>\n",
       "<style scoped>\n",
       "    .dataframe tbody tr th:only-of-type {\n",
       "        vertical-align: middle;\n",
       "    }\n",
       "\n",
       "    .dataframe tbody tr th {\n",
       "        vertical-align: top;\n",
       "    }\n",
       "\n",
       "    .dataframe thead th {\n",
       "        text-align: right;\n",
       "    }\n",
       "</style>\n",
       "<table border=\"1\" class=\"dataframe\">\n",
       "  <thead>\n",
       "    <tr style=\"text-align: right;\">\n",
       "      <th></th>\n",
       "      <th>Category</th>\n",
       "      <th>Delta</th>\n",
       "    </tr>\n",
       "  </thead>\n",
       "  <tbody>\n",
       "    <tr>\n",
       "      <th>1</th>\n",
       "      <td>CRE</td>\n",
       "      <td>4928.64188</td>\n",
       "    </tr>\n",
       "    <tr>\n",
       "      <th>0</th>\n",
       "      <td>C&amp;I</td>\n",
       "      <td>-177.46989</td>\n",
       "    </tr>\n",
       "    <tr>\n",
       "      <th>3</th>\n",
       "      <td>HOA</td>\n",
       "      <td>1912.74254</td>\n",
       "    </tr>\n",
       "    <tr>\n",
       "      <th>5</th>\n",
       "      <td>Residential</td>\n",
       "      <td>1759.61187</td>\n",
       "    </tr>\n",
       "    <tr>\n",
       "      <th>2</th>\n",
       "      <td>Consumer</td>\n",
       "      <td>-229.25299</td>\n",
       "    </tr>\n",
       "    <tr>\n",
       "      <th>4</th>\n",
       "      <td>Indirect</td>\n",
       "      <td>-7461.17355</td>\n",
       "    </tr>\n",
       "  </tbody>\n",
       "</table>\n",
       "</div>"
      ],
      "text/plain": [
       "      Category       Delta\n",
       "1          CRE  4928.64188\n",
       "0          C&I  -177.46989\n",
       "3          HOA  1912.74254\n",
       "5  Residential  1759.61187\n",
       "2     Consumer  -229.25299\n",
       "4     Indirect -7461.17355"
      ]
     },
     "execution_count": 29,
     "metadata": {},
     "output_type": "execute_result"
    }
   ],
   "source": [
    "custom_order = ['CRE','C&I','HOA','Residential','Consumer','Indirect']\n",
    "df['Category'] = pd.Categorical(df['Category'], categories=custom_order, ordered=True)\n",
    "df = df.sort_values('Category')\n",
    "df = df[['Category','Delta']].copy()\n",
    "df"
   ]
  },
  {
   "cell_type": "code",
   "execution_count": 33,
   "metadata": {},
   "outputs": [],
   "source": [
    "TEMPLATE_PATH = Path('./output/Portfolio_Balance_Tracker_2025YTD.xlsx')\n",
    "OUTPUT_PATH = Path('./output/Portfolio_Balance_Tracker_2025YTD.xlsx')\n",
    "# OUTPUT_PATH = Path('./output/Portfolio_Balance_Tracker_2025YTD_test.xlsx')\n",
    "\n",
    "def update_excel_template(template_path, df, output_path):\n",
    "    wb = openpyxl.load_workbook(template_path)\n",
    "    sheet = wb[\"Calendar 2025\"]\n",
    "\n",
    "    category_to_row = {}\n",
    "    for row in sheet.iter_rows(min_col=1, max_col=1):\n",
    "        cell = row[0]\n",
    "        if cell.value is not None:\n",
    "            category_to_row[cell.value] = cell.row\n",
    "\n",
    "    for index, record in df.iterrows():\n",
    "        category = record['Category']\n",
    "        delta = record['Delta']\n",
    "\n",
    "        if category not in category_to_row:\n",
    "            print(f\"Warning: Category '{category}' not in column A. Skipping.\")\n",
    "            continue\n",
    "\n",
    "        row_number = category_to_row[category]\n",
    "        col_number = 3\n",
    "\n",
    "        while col_number <= 14: # Stop after December written\n",
    "            current_cell = sheet.cell(row=row_number, column=col_number)\n",
    "            if current_cell.value is None:\n",
    "                current_cell.value = delta\n",
    "                break\n",
    "            col_number += 1\n",
    "        else:\n",
    "            print(f\"Error, Calendar completed. Please refresh for a new year in a new template tab.\")\n",
    "\n",
    "    \n",
    "    wb.save(output_path)\n",
    "    wb.close()\n"
   ]
  },
  {
   "cell_type": "code",
   "execution_count": 47,
   "metadata": {},
   "outputs": [],
   "source": [
    "update_excel_template(TEMPLATE_PATH, df, OUTPUT_PATH)\n"
   ]
  },
  {
   "cell_type": "code",
   "execution_count": 32,
   "metadata": {},
   "outputs": [
    {
     "data": {
      "text/plain": [
       "np.float64(733.0998600001058)"
      ]
     },
     "execution_count": 32,
     "metadata": {},
     "output_type": "execute_result"
    }
   ],
   "source": [
    "df['Delta'].sum()"
   ]
  },
  {
   "cell_type": "code",
   "execution_count": 4,
   "metadata": {},
   "outputs": [],
   "source": [
    "\"\"\"\n",
    "Fetching data module. Aim is import all necessary fields up front, but if needed, you can define another function to be called here.\n",
    "\n",
    "This uses a sliding window for the trailing 2 months, current and prior.\n",
    "\n",
    "Usage:\n",
    "    import src.cdutils.database\n",
    "\"\"\"\n",
    "import datetime\n",
    "from typing import Dict\n",
    "\n",
    "from sqlalchemy import text # type: ignore\n",
    "\n",
    "import src.cdutils.database.connect\n",
    "\n",
    "\"\"\"\n",
    "Fetch data from COCC in a sliding window fashion (trailing month end dates)\n",
    "\"\"\"\n",
    "effdates = text(\"\"\"\n",
    "SELECT DISTINCT\n",
    "    a.EFFDATE\n",
    "FROM \n",
    "    COCCDM.WH_ACCTCOMMON a\n",
    "WHERE\n",
    "    MONTHENDYN = 'Y'\n",
    "ORDER BY EFFDATE DESC\n",
    "\"\"\")\n",
    "\n",
    "queries = [\n",
    "    {'key':'effdates', 'sql':effdates, 'engine':2},\n",
    "]\n",
    "\n",
    "data = src.cdutils.database.connect.retrieve_data(queries)\n",
    "\n",
    "effdates = data['effdates'].copy()\n",
    "\n",
    "recent_me = effdates['effdate'][0]\n",
    "prior_me = effdates['effdate'][1]\n"
   ]
  },
  {
   "cell_type": "code",
   "execution_count": 5,
   "metadata": {},
   "outputs": [
    {
     "data": {
      "text/plain": [
       "Timestamp('2025-01-31 00:00:00')"
      ]
     },
     "execution_count": 5,
     "metadata": {},
     "output_type": "execute_result"
    }
   ],
   "source": [
    "recent_me"
   ]
  },
  {
   "cell_type": "code",
   "execution_count": 6,
   "metadata": {},
   "outputs": [
    {
     "data": {
      "text/plain": [
       "Timestamp('2024-12-31 00:00:00')"
      ]
     },
     "execution_count": 6,
     "metadata": {},
     "output_type": "execute_result"
    }
   ],
   "source": [
    "prior_me"
   ]
  },
  {
   "cell_type": "code",
   "execution_count": null,
   "metadata": {},
   "outputs": [],
   "source": [
    "\n",
    "    def main_query(monthend_date: datetime) -> Dict:\n",
    "        \"\"\"\n",
    "        Takes in a date to query on and returns a dictionary with dataframes for each table.\n",
    "        \"\"\"\n",
    "        wh_acctcommon = text(f\"\"\"\n",
    "        SELECT\n",
    "            a.EFFDATE,\n",
    "            a.ACCTNBR,\n",
    "            a.OWNERSORTNAME,\n",
    "            a.PRODUCT,\n",
    "            a.NOTEOPENAMT,\n",
    "            a.RATETYPCD,\n",
    "            a.MJACCTTYPCD,\n",
    "            a.CURRMIACCTTYPCD,\n",
    "            a.CURRACCTSTATCD,\n",
    "            a.NOTEINTRATE,\n",
    "            a.BOOKBALANCE,\n",
    "            a.NOTEBAL\n",
    "        FROM\n",
    "            COCCDM.WH_ACCTCOMMON a\n",
    "        WHERE\n",
    "            (a.CURRACCTSTATCD IN ('ACT','NPFM')) AND\n",
    "            (a.EFFDATE = TO_DATE('{monthend_date}', 'yyyy-mm-dd hh24:mi:ss'))\n",
    "        \"\"\")\n",
    "\n",
    "        wh_loans = text(\"\"\"\n",
    "        SELECT\n",
    "            a.ACCTNBR,\n",
    "            a.ORIGDATE,\n",
    "            a.CURRTERM,\n",
    "            a.LOANIDX,\n",
    "            a.RCF,\n",
    "            a.AVAILBALAMT,\n",
    "            a.FDICCATDESC,\n",
    "            a.ORIGBAL\n",
    "        FROM\n",
    "            COCCDM.WH_LOANS a\n",
    "        WHERE\n",
    "            (a.RUNDATE = TO_DATE('{monthend_date}', 'yyyy-mm-dd hh24:mi:ss'))\n",
    "        \"\"\")\n",
    "\n",
    "        wh_acctloan = text(f\"\"\"\n",
    "        SELECT\n",
    "            a.ACCTNBR,\n",
    "            a.CREDITLIMITAMT,\n",
    "            a.ORIGINTRATE,\n",
    "            a.MARGINFIXED,\n",
    "            a.FDICCATCD,\n",
    "            a.AMORTTERM,\n",
    "            a.TOTALPCTSOLD,\n",
    "            a.COBAL,\n",
    "            a.CREDLIMITCLATRESAMT\n",
    "        FROM\n",
    "            COCCDM.WH_ACCTLOAN a\n",
    "        WHERE\n",
    "            (a.EFFDATE = TO_DATE('{monthend_date}', 'yyyy-mm-dd hh24:mi:ss'))\n",
    "        \"\"\")\n",
    "\n",
    "        wh_acct = text(\"\"\"\n",
    "        SELECT\n",
    "            a.ACCTNBR,\n",
    "            a.DATEMAT\n",
    "        FROM\n",
    "            COCCDM.WH_ACCT a\n",
    "        WHERE\n",
    "            (a.RUNDATE = TO_DATE('{monthend_date}', 'yyyy-mm-dd hh24:mi:ss'))\n",
    "        \"\"\")\n",
    "\n",
    "        queries = [\n",
    "            {'key':'wh_acctcommon', 'sql':wh_acctcommon, 'engine':2},\n",
    "            {'key':'wh_loans', 'sql':wh_loans, 'engine':2},\n",
    "            {'key':'wh_acctloan', 'sql':wh_acctloan, 'engine':2},\n",
    "            {'key':'wh_acct', 'sql':wh_acct, 'engine':2},\n",
    "        ]\n",
    "\n",
    "        data = src.cdutils.database.connect.retrieve_data(queries)\n",
    "        return data\n",
    "\n",
    "    prior_data = main_query(prior_me)\n",
    "    current_data = main_query(recent_me)\n",
    "\n",
    "    return prior_data, current_data \n",
    "\n"
   ]
  }
 ],
 "metadata": {
  "kernelspec": {
   "display_name": ".venv",
   "language": "python",
   "name": "python3"
  },
  "language_info": {
   "codemirror_mode": {
    "name": "ipython",
    "version": 3
   },
   "file_extension": ".py",
   "mimetype": "text/x-python",
   "name": "python",
   "nbconvert_exporter": "python",
   "pygments_lexer": "ipython3",
   "version": "3.11.9"
  }
 },
 "nbformat": 4,
 "nbformat_minor": 2
}
