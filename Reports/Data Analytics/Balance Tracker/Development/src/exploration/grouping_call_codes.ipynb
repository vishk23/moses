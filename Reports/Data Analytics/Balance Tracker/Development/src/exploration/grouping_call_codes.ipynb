{
 "cells": [
  {
   "cell_type": "code",
   "execution_count": 1,
   "metadata": {},
   "outputs": [],
   "source": [
    "from pathlib import Path\n",
    "import numpy as np\n",
    "import pandas as pd # type: ignore\n"
   ]
  },
  {
   "cell_type": "code",
   "execution_count": 2,
   "metadata": {},
   "outputs": [],
   "source": [
    "INPUT_PATH = Path('../../output/loans_call_report_recon.xlsx')\n",
    "df = pd.read_excel(INPUT_PATH)"
   ]
  },
  {
   "cell_type": "code",
   "execution_count": 3,
   "metadata": {},
   "outputs": [
    {
     "data": {
      "text/plain": [
       "array(['BKCK', 'CK', 'CML', 'TD', 'SAV', 'MTG', 'MLN', 'CNS', 'LEAS',\n",
       "       'RTMT'], dtype=object)"
      ]
     },
     "execution_count": 3,
     "metadata": {},
     "output_type": "execute_result"
    }
   ],
   "source": [
    "df['mjaccttypcd'].unique()"
   ]
  },
  {
   "cell_type": "code",
   "execution_count": 4,
   "metadata": {},
   "outputs": [],
   "source": [
    "df = df[df['mjaccttypcd'].isin(['CML','MLN','MTG','CNS'])]"
   ]
  },
  {
   "cell_type": "code",
   "execution_count": 5,
   "metadata": {},
   "outputs": [],
   "source": [
    "original_recon_amt = df['Net Balance'].sum()"
   ]
  },
  {
   "cell_type": "markdown",
   "metadata": {},
   "source": [
    "This is our reconciliation amount exactly (total loan net Balance)\n",
    "- From here, you can subtract out tax exempt bonds and get to the GL balance"
   ]
  },
  {
   "cell_type": "code",
   "execution_count": 6,
   "metadata": {},
   "outputs": [
    {
     "data": {
      "text/html": [
       "<div>\n",
       "<style scoped>\n",
       "    .dataframe tbody tr th:only-of-type {\n",
       "        vertical-align: middle;\n",
       "    }\n",
       "\n",
       "    .dataframe tbody tr th {\n",
       "        vertical-align: top;\n",
       "    }\n",
       "\n",
       "    .dataframe thead th {\n",
       "        text-align: right;\n",
       "    }\n",
       "</style>\n",
       "<table border=\"1\" class=\"dataframe\">\n",
       "  <thead>\n",
       "    <tr style=\"text-align: right;\">\n",
       "      <th></th>\n",
       "      <th>acctnbr</th>\n",
       "      <th>ownersortname</th>\n",
       "      <th>product</th>\n",
       "      <th>noteopenamt</th>\n",
       "      <th>ratetypcd</th>\n",
       "      <th>mjaccttypcd</th>\n",
       "      <th>currmiaccttypcd</th>\n",
       "      <th>curracctstatcd</th>\n",
       "      <th>noteintrate</th>\n",
       "      <th>bookbalance</th>\n",
       "      <th>...</th>\n",
       "      <th>rcf</th>\n",
       "      <th>availbalamt</th>\n",
       "      <th>fdiccatdesc</th>\n",
       "      <th>origbal</th>\n",
       "      <th>datemat</th>\n",
       "      <th>Net Balance</th>\n",
       "      <th>Net Available</th>\n",
       "      <th>Net Collateral Reserve</th>\n",
       "      <th>Total Exposure</th>\n",
       "      <th>orig_ttl_loan_amt</th>\n",
       "    </tr>\n",
       "  </thead>\n",
       "  <tbody>\n",
       "    <tr>\n",
       "      <th>85</th>\n",
       "      <td>150289546</td>\n",
       "      <td>GAMMA REALTY LLC</td>\n",
       "      <td>Tax Exempt Bonds</td>\n",
       "      <td>9000000.00</td>\n",
       "      <td>VAR</td>\n",
       "      <td>CML</td>\n",
       "      <td>CM45</td>\n",
       "      <td>ACT</td>\n",
       "      <td>0.0431</td>\n",
       "      <td>6332682.65</td>\n",
       "      <td>...</td>\n",
       "      <td>5YR</td>\n",
       "      <td>0.0</td>\n",
       "      <td>NaN</td>\n",
       "      <td>9000000.0</td>\n",
       "      <td>2039-02-28</td>\n",
       "      <td>6332682.65</td>\n",
       "      <td>0.0</td>\n",
       "      <td>0.0</td>\n",
       "      <td>6332682.65</td>\n",
       "      <td>9000000.00</td>\n",
       "    </tr>\n",
       "    <tr>\n",
       "      <th>193</th>\n",
       "      <td>150314153</td>\n",
       "      <td>MOUNT SAINT CHARLES ACADEMY INC</td>\n",
       "      <td>Tax Exempt Bonds</td>\n",
       "      <td>0.01</td>\n",
       "      <td>VAR</td>\n",
       "      <td>CML</td>\n",
       "      <td>CM45</td>\n",
       "      <td>ACT</td>\n",
       "      <td>0.0710</td>\n",
       "      <td>3118692.40</td>\n",
       "      <td>...</td>\n",
       "      <td>5YR</td>\n",
       "      <td>0.0</td>\n",
       "      <td>NaN</td>\n",
       "      <td>0.0</td>\n",
       "      <td>2040-05-01</td>\n",
       "      <td>3118692.40</td>\n",
       "      <td>0.0</td>\n",
       "      <td>0.0</td>\n",
       "      <td>3118692.40</td>\n",
       "      <td>0.01</td>\n",
       "    </tr>\n",
       "    <tr>\n",
       "      <th>358</th>\n",
       "      <td>6253501</td>\n",
       "      <td>THE ARC OF BRISTOL COUNTY INC</td>\n",
       "      <td>Tax Exempt Bonds</td>\n",
       "      <td>0.00</td>\n",
       "      <td>VAR</td>\n",
       "      <td>CML</td>\n",
       "      <td>CM45</td>\n",
       "      <td>ACT</td>\n",
       "      <td>0.0500</td>\n",
       "      <td>1789910.19</td>\n",
       "      <td>...</td>\n",
       "      <td>5YR</td>\n",
       "      <td>0.0</td>\n",
       "      <td>NaN</td>\n",
       "      <td>0.0</td>\n",
       "      <td>2043-02-28</td>\n",
       "      <td>1789910.19</td>\n",
       "      <td>0.0</td>\n",
       "      <td>0.0</td>\n",
       "      <td>1789910.19</td>\n",
       "      <td>0.00</td>\n",
       "    </tr>\n",
       "    <tr>\n",
       "      <th>370</th>\n",
       "      <td>6252141</td>\n",
       "      <td>ASSOCIATES FOR HUMAN SERVICES INC</td>\n",
       "      <td>Tax Exempt Bonds</td>\n",
       "      <td>2900000.00</td>\n",
       "      <td>VAR</td>\n",
       "      <td>CML</td>\n",
       "      <td>CM45</td>\n",
       "      <td>ACT</td>\n",
       "      <td>0.0350</td>\n",
       "      <td>1720884.09</td>\n",
       "      <td>...</td>\n",
       "      <td>ANNU</td>\n",
       "      <td>0.0</td>\n",
       "      <td>NaN</td>\n",
       "      <td>2900000.0</td>\n",
       "      <td>2042-09-09</td>\n",
       "      <td>1720884.09</td>\n",
       "      <td>0.0</td>\n",
       "      <td>0.0</td>\n",
       "      <td>1720884.09</td>\n",
       "      <td>2900000.00</td>\n",
       "    </tr>\n",
       "    <tr>\n",
       "      <th>793</th>\n",
       "      <td>150888083</td>\n",
       "      <td>G LOPES CONSTRUCTION INC</td>\n",
       "      <td>Construction Master Line</td>\n",
       "      <td>0.00</td>\n",
       "      <td>FIX</td>\n",
       "      <td>MLN</td>\n",
       "      <td>ML02</td>\n",
       "      <td>ACT</td>\n",
       "      <td>0.0000</td>\n",
       "      <td>0.00</td>\n",
       "      <td>...</td>\n",
       "      <td>NaN</td>\n",
       "      <td>809901.0</td>\n",
       "      <td>NaN</td>\n",
       "      <td>NaN</td>\n",
       "      <td>2099-12-31</td>\n",
       "      <td>0.00</td>\n",
       "      <td>809901.0</td>\n",
       "      <td>0.0</td>\n",
       "      <td>809901.00</td>\n",
       "      <td>1250000.00</td>\n",
       "    </tr>\n",
       "    <tr>\n",
       "      <th>6110</th>\n",
       "      <td>150210840</td>\n",
       "      <td>PROPANE PLUS CORPORATION</td>\n",
       "      <td>Equipment Master Line</td>\n",
       "      <td>0.00</td>\n",
       "      <td>VAR</td>\n",
       "      <td>MLN</td>\n",
       "      <td>ML01</td>\n",
       "      <td>ACT</td>\n",
       "      <td>0.0400</td>\n",
       "      <td>0.00</td>\n",
       "      <td>...</td>\n",
       "      <td>NaN</td>\n",
       "      <td>150000.0</td>\n",
       "      <td>NaN</td>\n",
       "      <td>NaN</td>\n",
       "      <td>2099-12-31</td>\n",
       "      <td>0.00</td>\n",
       "      <td>150000.0</td>\n",
       "      <td>0.0</td>\n",
       "      <td>150000.00</td>\n",
       "      <td>150000.00</td>\n",
       "    </tr>\n",
       "  </tbody>\n",
       "</table>\n",
       "<p>6 rows × 32 columns</p>\n",
       "</div>"
      ],
      "text/plain": [
       "        acctnbr                      ownersortname                   product  \\\n",
       "85    150289546                   GAMMA REALTY LLC          Tax Exempt Bonds   \n",
       "193   150314153    MOUNT SAINT CHARLES ACADEMY INC          Tax Exempt Bonds   \n",
       "358     6253501      THE ARC OF BRISTOL COUNTY INC          Tax Exempt Bonds   \n",
       "370     6252141  ASSOCIATES FOR HUMAN SERVICES INC          Tax Exempt Bonds   \n",
       "793   150888083           G LOPES CONSTRUCTION INC  Construction Master Line   \n",
       "6110  150210840           PROPANE PLUS CORPORATION     Equipment Master Line   \n",
       "\n",
       "      noteopenamt ratetypcd mjaccttypcd currmiaccttypcd curracctstatcd  \\\n",
       "85     9000000.00       VAR         CML            CM45            ACT   \n",
       "193          0.01       VAR         CML            CM45            ACT   \n",
       "358          0.00       VAR         CML            CM45            ACT   \n",
       "370    2900000.00       VAR         CML            CM45            ACT   \n",
       "793          0.00       FIX         MLN            ML02            ACT   \n",
       "6110         0.00       VAR         MLN            ML01            ACT   \n",
       "\n",
       "      noteintrate  bookbalance  ...   rcf  availbalamt  fdiccatdesc  \\\n",
       "85         0.0431   6332682.65  ...   5YR          0.0          NaN   \n",
       "193        0.0710   3118692.40  ...   5YR          0.0          NaN   \n",
       "358        0.0500   1789910.19  ...   5YR          0.0          NaN   \n",
       "370        0.0350   1720884.09  ...  ANNU          0.0          NaN   \n",
       "793        0.0000         0.00  ...   NaN     809901.0          NaN   \n",
       "6110       0.0400         0.00  ...   NaN     150000.0          NaN   \n",
       "\n",
       "        origbal    datemat  Net Balance  Net Available  \\\n",
       "85    9000000.0 2039-02-28   6332682.65            0.0   \n",
       "193         0.0 2040-05-01   3118692.40            0.0   \n",
       "358         0.0 2043-02-28   1789910.19            0.0   \n",
       "370   2900000.0 2042-09-09   1720884.09            0.0   \n",
       "793         NaN 2099-12-31         0.00       809901.0   \n",
       "6110        NaN 2099-12-31         0.00       150000.0   \n",
       "\n",
       "      Net Collateral Reserve  Total Exposure orig_ttl_loan_amt  \n",
       "85                       0.0      6332682.65        9000000.00  \n",
       "193                      0.0      3118692.40              0.01  \n",
       "358                      0.0      1789910.19              0.00  \n",
       "370                      0.0      1720884.09        2900000.00  \n",
       "793                      0.0       809901.00        1250000.00  \n",
       "6110                     0.0       150000.00         150000.00  \n",
       "\n",
       "[6 rows x 32 columns]"
      ]
     },
     "execution_count": 6,
     "metadata": {},
     "output_type": "execute_result"
    }
   ],
   "source": [
    "df[df['fdiccatcd'].isnull()]"
   ]
  },
  {
   "cell_type": "code",
   "execution_count": 7,
   "metadata": {},
   "outputs": [],
   "source": [
    "def cleaning_call_codes(df: pd.DataFrame) -> pd.DataFrame:\n",
    "    \"\"\"\n",
    "    Cleaning Stage for fdiccatcd\n",
    "    - CML indirect get reclassified to AUTO\n",
    "    - HOA gets its own category HOA\n",
    "    - Tax Exempt Bonds become OTAL (other)\n",
    "    - MTG loans are given their own code 'MTG', just for grouping purposes\n",
    "    - Indirect Consumer loans originated by bank are put in Consumer/Other (CNOT)\n",
    "    - Other/CML is the catch all for loans that don't have an FDIC code\n",
    "    \"\"\"\n",
    "    df['fdiccatcd'] = np.where(df['currmiaccttypcd'].isin(['CM15','CM16']), 'AUTO', df['fdiccatcd'])\n",
    "    df['fdiccatcd'] = np.where(df['currmiaccttypcd'].isin(['CM46','CM47']), 'HOA', df['fdiccatcd'])\n",
    "    df['fdiccatcd'] = np.where(df['currmiaccttypcd'].isin(['CM45']), 'OTAL', df['fdiccatcd'])\n",
    "    df['fdiccatcd'] = np.where(df['mjaccttypcd'].isin(['MTG']), 'MTG', df['fdiccatcd'])\n",
    "    df['fdiccatcd'] = np.where(df['currmiaccttypcd'].isin(['IL09','IL10']), 'CNOT', df['fdiccatcd'])\n",
    "    df['fdiccatcd'] = np.where(df['fdiccatcd'].isnull(), 'OTAL', df['fdiccatcd'])\n",
    "    return df"
   ]
  },
  {
   "cell_type": "code",
   "execution_count": 8,
   "metadata": {},
   "outputs": [],
   "source": [
    "df = cleaning_call_codes(df)"
   ]
  },
  {
   "cell_type": "code",
   "execution_count": null,
   "metadata": {},
   "outputs": [],
   "source": []
  },
  {
   "cell_type": "code",
   "execution_count": null,
   "metadata": {},
   "outputs": [],
   "source": [
    "fdic_groups = {\n",
    "    # Note call codes have been adjusted in an earlier stage to stratify the portfolio\n",
    "    'CRE': ['CNFM','OTCN','LAND','LNDV','RECN','REFI','REOE','REJU','REOW','RENO','REMU','OTAL','AGPR','REFM'],\n",
    "    'C&I': ['CIUS'],\n",
    "    'HOA': ['HOA'],\n",
    "    'Residential': ['MTG'],\n",
    "    'Consumer': ['CNOT','CNCR'],\n",
    "    'Indirect': ['AUTO']\n",
    "}\n",
    "call_code_mapping = {code: group for group, codes in fdic_groups.items() for code in codes}\n",
    "df['Category'] = df['fdiccatcd'].map(call_code_mapping)\n",
    "\n",
    "final_df = df.groupby('Category')['Net Balance'].sum().reset_index()\n"
   ]
  },
  {
   "cell_type": "code",
   "execution_count": null,
   "metadata": {},
   "outputs": [],
   "source": []
  },
  {
   "cell_type": "code",
   "execution_count": 12,
   "metadata": {},
   "outputs": [
    {
     "data": {
      "text/html": [
       "<div>\n",
       "<style scoped>\n",
       "    .dataframe tbody tr th:only-of-type {\n",
       "        vertical-align: middle;\n",
       "    }\n",
       "\n",
       "    .dataframe tbody tr th {\n",
       "        vertical-align: top;\n",
       "    }\n",
       "\n",
       "    .dataframe thead th {\n",
       "        text-align: right;\n",
       "    }\n",
       "</style>\n",
       "<table border=\"1\" class=\"dataframe\">\n",
       "  <thead>\n",
       "    <tr style=\"text-align: right;\">\n",
       "      <th></th>\n",
       "      <th>Category</th>\n",
       "      <th>Net Balance</th>\n",
       "    </tr>\n",
       "  </thead>\n",
       "  <tbody>\n",
       "    <tr>\n",
       "      <th>0</th>\n",
       "      <td>C&amp;I</td>\n",
       "      <td>1.166215e+08</td>\n",
       "    </tr>\n",
       "    <tr>\n",
       "      <th>1</th>\n",
       "      <td>CRE</td>\n",
       "      <td>1.112945e+09</td>\n",
       "    </tr>\n",
       "    <tr>\n",
       "      <th>2</th>\n",
       "      <td>Consumer</td>\n",
       "      <td>7.474293e+06</td>\n",
       "    </tr>\n",
       "    <tr>\n",
       "      <th>3</th>\n",
       "      <td>HOA</td>\n",
       "      <td>1.712787e+07</td>\n",
       "    </tr>\n",
       "    <tr>\n",
       "      <th>4</th>\n",
       "      <td>Indirect</td>\n",
       "      <td>2.805174e+08</td>\n",
       "    </tr>\n",
       "    <tr>\n",
       "      <th>5</th>\n",
       "      <td>Residential</td>\n",
       "      <td>9.210364e+08</td>\n",
       "    </tr>\n",
       "  </tbody>\n",
       "</table>\n",
       "</div>"
      ],
      "text/plain": [
       "      Category   Net Balance\n",
       "0          C&I  1.166215e+08\n",
       "1          CRE  1.112945e+09\n",
       "2     Consumer  7.474293e+06\n",
       "3          HOA  1.712787e+07\n",
       "4     Indirect  2.805174e+08\n",
       "5  Residential  9.210364e+08"
      ]
     },
     "execution_count": 12,
     "metadata": {},
     "output_type": "execute_result"
    }
   ],
   "source": [
    "final_df"
   ]
  },
  {
   "cell_type": "code",
   "execution_count": 13,
   "metadata": {},
   "outputs": [],
   "source": [
    "original_recon_amt = round(original_recon_amt,2)"
   ]
  },
  {
   "cell_type": "code",
   "execution_count": 14,
   "metadata": {},
   "outputs": [
    {
     "data": {
      "text/plain": [
       "np.float64(2455722351.15)"
      ]
     },
     "execution_count": 14,
     "metadata": {},
     "output_type": "execute_result"
    }
   ],
   "source": [
    "round(final_df['Net Balance'].sum(),2)"
   ]
  },
  {
   "cell_type": "code",
   "execution_count": 15,
   "metadata": {},
   "outputs": [
    {
     "data": {
      "text/plain": [
       "np.float64(2455722351.15)"
      ]
     },
     "execution_count": 15,
     "metadata": {},
     "output_type": "execute_result"
    }
   ],
   "source": [
    "original_recon_amt"
   ]
  },
  {
   "cell_type": "code",
   "execution_count": 16,
   "metadata": {},
   "outputs": [],
   "source": [
    "cml_slice = final_df[final_df['Category'].isin(['CRE','C&I','HOA'])]"
   ]
  },
  {
   "cell_type": "code",
   "execution_count": 17,
   "metadata": {},
   "outputs": [
    {
     "data": {
      "text/plain": [
       "np.float64(1246694217.1)"
      ]
     },
     "execution_count": 17,
     "metadata": {},
     "output_type": "execute_result"
    }
   ],
   "source": [
    "cml_slice['Net Balance'].sum()"
   ]
  },
  {
   "cell_type": "markdown",
   "metadata": {},
   "source": [
    "This balances exactly"
   ]
  },
  {
   "cell_type": "code",
   "execution_count": 18,
   "metadata": {},
   "outputs": [],
   "source": [
    "assert original_recon_amt - round(final_df['Net Balance'].sum()) < abs(1), \"Failed Reconciliation\"\n"
   ]
  },
  {
   "cell_type": "code",
   "execution_count": 19,
   "metadata": {},
   "outputs": [],
   "source": [
    "final_df['Net Balance Rounded'] = (final_df['Net Balance'] / 1000).round()"
   ]
  },
  {
   "cell_type": "code",
   "execution_count": 20,
   "metadata": {},
   "outputs": [
    {
     "data": {
      "text/html": [
       "<div>\n",
       "<style scoped>\n",
       "    .dataframe tbody tr th:only-of-type {\n",
       "        vertical-align: middle;\n",
       "    }\n",
       "\n",
       "    .dataframe tbody tr th {\n",
       "        vertical-align: top;\n",
       "    }\n",
       "\n",
       "    .dataframe thead th {\n",
       "        text-align: right;\n",
       "    }\n",
       "</style>\n",
       "<table border=\"1\" class=\"dataframe\">\n",
       "  <thead>\n",
       "    <tr style=\"text-align: right;\">\n",
       "      <th></th>\n",
       "      <th>Category</th>\n",
       "      <th>Net Balance</th>\n",
       "      <th>Net Balance Rounded</th>\n",
       "    </tr>\n",
       "  </thead>\n",
       "  <tbody>\n",
       "    <tr>\n",
       "      <th>0</th>\n",
       "      <td>C&amp;I</td>\n",
       "      <td>1.166215e+08</td>\n",
       "      <td>116622.0</td>\n",
       "    </tr>\n",
       "    <tr>\n",
       "      <th>1</th>\n",
       "      <td>CRE</td>\n",
       "      <td>1.112945e+09</td>\n",
       "      <td>1112945.0</td>\n",
       "    </tr>\n",
       "    <tr>\n",
       "      <th>2</th>\n",
       "      <td>Consumer</td>\n",
       "      <td>7.474293e+06</td>\n",
       "      <td>7474.0</td>\n",
       "    </tr>\n",
       "    <tr>\n",
       "      <th>3</th>\n",
       "      <td>HOA</td>\n",
       "      <td>1.712787e+07</td>\n",
       "      <td>17128.0</td>\n",
       "    </tr>\n",
       "    <tr>\n",
       "      <th>4</th>\n",
       "      <td>Indirect</td>\n",
       "      <td>2.805174e+08</td>\n",
       "      <td>280517.0</td>\n",
       "    </tr>\n",
       "    <tr>\n",
       "      <th>5</th>\n",
       "      <td>Residential</td>\n",
       "      <td>9.210364e+08</td>\n",
       "      <td>921036.0</td>\n",
       "    </tr>\n",
       "  </tbody>\n",
       "</table>\n",
       "</div>"
      ],
      "text/plain": [
       "      Category   Net Balance  Net Balance Rounded\n",
       "0          C&I  1.166215e+08             116622.0\n",
       "1          CRE  1.112945e+09            1112945.0\n",
       "2     Consumer  7.474293e+06               7474.0\n",
       "3          HOA  1.712787e+07              17128.0\n",
       "4     Indirect  2.805174e+08             280517.0\n",
       "5  Residential  9.210364e+08             921036.0"
      ]
     },
     "execution_count": 20,
     "metadata": {},
     "output_type": "execute_result"
    }
   ],
   "source": [
    "final_df"
   ]
  },
  {
   "cell_type": "code",
   "execution_count": null,
   "metadata": {},
   "outputs": [],
   "source": []
  }
 ],
 "metadata": {
  "kernelspec": {
   "display_name": ".venv",
   "language": "python",
   "name": "python3"
  },
  "language_info": {
   "codemirror_mode": {
    "name": "ipython",
    "version": 3
   },
   "file_extension": ".py",
   "mimetype": "text/x-python",
   "name": "python",
   "nbconvert_exporter": "python",
   "pygments_lexer": "ipython3",
   "version": "3.11.9"
  }
 },
 "nbformat": 4,
 "nbformat_minor": 2
}
