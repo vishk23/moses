{
 "cells": [
  {
   "cell_type": "code",
   "execution_count": null,
   "id": "1984401a",
   "metadata": {},
   "outputs": [],
   "source": [
    "import os\n",
    "import sys\n",
    "from pathlib import Path\n",
    "\n",
    "# Navigate to project root (equivalent to cd ..)\n",
    "project_dir = Path(__file__).parent.parent if '__file__' in globals() else Path.cwd().parent\n",
    "os.chdir(project_dir)\n",
    "\n",
    "# Add src directory to Python path for imports\n",
    "src_dir = project_dir / \"src\"\n",
    "if str(src_dir) not in sys.path:\n",
    "    sys.path.insert(0, str(src_dir))\n",
    "\n",
    "# Set environment for dev testing\n",
    "os.environ['REPORT_ENV'] = 'dev'"
   ]
  },
  {
   "cell_type": "code",
   "execution_count": null,
   "id": "44cf0741",
   "metadata": {},
   "outputs": [],
   "source": [
    "\"\"\"\n",
    "Deposit File Creation\n",
    "\"\"\"\n",
    "from pathlib import Path\n",
    "from datetime import datetime\n",
    "from dateutil.relativedelta import relativedelta\n",
    "\n",
    "import pandas as pd # type: ignore\n",
    "\n",
    "import src.deposit_file.create_deposit_dataset\n",
    "\n",
    "# def deposit_dataset_execution():\n",
    "data = src.deposit_file.create_deposit_dataset.fetch_data()\n",
    "\n",
    "# Unpack data\n",
    "acctcommon = data['acctcommon'].copy()\n",
    "acctstatistichist = data['acctstatistichist'].copy()\n",
    "wh_deposits = data['wh_deposit'].copy()\n",
    "historical_acctcommon = data['historical_acctcommon'].copy()\n",
    "househldacct = data['househldacct']\n",
    "\n"
   ]
  },
  {
   "cell_type": "code",
   "execution_count": null,
   "id": "a92c5c4b",
   "metadata": {},
   "outputs": [],
   "source": [
    "\n",
    "three_month_df = src.deposit_file.create_deposit_dataset.filter_on_trailing_months(historical_acctcommon, 3)"
   ]
  },
  {
   "cell_type": "code",
   "execution_count": null,
   "id": "d4f06cfa",
   "metadata": {},
   "outputs": [],
   "source": [
    "three_month_df"
   ]
  },
  {
   "cell_type": "code",
   "execution_count": null,
   "id": "58a2710c",
   "metadata": {},
   "outputs": [],
   "source": [
    "\n",
    "# three_month_df.to_excel(Path('ThreeMonthCheck.xlsx',index=False))\n",
    "twelve_month_df = src.deposit_file.create_deposit_dataset.filter_on_trailing_months(historical_acctcommon, 12)"
   ]
  },
  {
   "cell_type": "code",
   "execution_count": null,
   "id": "36ede0d7",
   "metadata": {},
   "outputs": [],
   "source": [
    "\n",
    "# twelve_month_df.to_excel(Path('TwelveMonthCheck.xlsx',index=False))\n",
    "\n",
    "# year_ago_bal = src.deposit_file.create_deposit_dataset.get_year_ago_bal(historical_acctcommon)\n",
    "# Example usage\n",
    "\n",
    "three_month_avg = src.deposit_file.create_deposit_dataset.average_balance_over_period(three_month_df, '3Mo_AvgBal')\n",
    "twelve_month_avg = src.deposit_file.create_deposit_dataset.average_balance_over_period(twelve_month_df, 'TTM_AvgBal')\n",
    "\n"
   ]
  },
  {
   "cell_type": "code",
   "execution_count": null,
   "id": "26e286aa",
   "metadata": {},
   "outputs": [],
   "source": [
    "three_month_avg"
   ]
  },
  {
   "cell_type": "code",
   "execution_count": null,
   "id": "bed0f487",
   "metadata": {},
   "outputs": [],
   "source": [
    "# Current date\n",
    "current_date = datetime.now()\n",
    "\n",
    "# TTM: Trailing Twelve Months\n",
    "start_date_ttm = (current_date - relativedelta(years=1)).replace(day=1, hour=0, minute=0, second=0, microsecond=0)\n",
    "end_date_ttm = current_date\n",
    "dod_ttm, nsf_ttm = src.deposit_file.create_deposit_dataset.filter_acctstatistic(acctstatistichist, start_date_ttm, end_date_ttm, prefix=\"TTM\")"
   ]
  },
  {
   "cell_type": "code",
   "execution_count": null,
   "id": "db13c3bb",
   "metadata": {},
   "outputs": [],
   "source": [
    "start_date_ttm"
   ]
  },
  {
   "cell_type": "code",
   "execution_count": null,
   "id": "62cbe7f5",
   "metadata": {},
   "outputs": [],
   "source": [
    "end_date_ttm"
   ]
  },
  {
   "cell_type": "code",
   "execution_count": null,
   "id": "3950bb71",
   "metadata": {},
   "outputs": [],
   "source": [
    "dod_ttm"
   ]
  },
  {
   "cell_type": "code",
   "execution_count": null,
   "id": "9fbeef14",
   "metadata": {},
   "outputs": [],
   "source": [
    "# Current date\n",
    "current_date = datetime.now()\n",
    "\n",
    "# TTM: Trailing Twelve Months\n",
    "start_date_ttm = (current_date - relativedelta(years=1)).replace(day=1, hour=0, minute=0, second=0, microsecond=0)\n",
    "end_date_ttm = current_date\n",
    "dod_ttm, nsf_ttm = src.deposit_file.create_deposit_dataset.filter_acctstatistic(acctstatistichist, start_date_ttm, end_date_ttm, prefix=\"TTM\")\n",
    "\n",
    "# YTD: Year-to-Date\n",
    "start_date_ytd = datetime(current_date.year, 1, 1)\n",
    "end_date_ytd = current_date\n",
    "dod_ytd, nsf_ytd = src.deposit_file.create_deposit_dataset.filter_acctstatistic(acctstatistichist, start_date_ytd, end_date_ytd, prefix=\"YTD\")\n",
    "\n",
    "\n",
    "df = src.deposit_file.create_deposit_dataset.quality_control_and_merging(\n",
    "    acctcommon, \n",
    "    wh_deposits, \n",
    "    three_month_avg, \n",
    "    twelve_month_avg, \n",
    "    year_ago_bal, \n",
    "    dod_ttm, \n",
    "    nsf_ttm,\n",
    "    dod_ytd,\n",
    "    nsf_ytd\n",
    ")\n",
    "\n",
    "df = src.deposit_file.create_deposit_dataset.add_householdnbr(df, househldacct)\n",
    "\n",
    "# Match to existing daily deposit (but there are more columns here that could be used)\n",
    "rename_mapping = {\n",
    "    \"mjaccttypcd\":\"MAJOR\",\n",
    "    \"currmiaccttypcd\":\"MINOR\",\n",
    "    \"product\":\"PRODUCT\",\n",
    "    \"curracctstatcd\":\"STATUS\",\n",
    "    \"acctnbr\":\"ACCTNBR\",\n",
    "    \"ownersortname\":\"OWNERNAME\",\n",
    "    \"acctofficer\":\"ACCTOFFICER\",\n",
    "    \"notebal\":\"NOTEBAL\",\n",
    "    \"TTM_AvgBal\":\"TTM Average Balance\",\n",
    "    \"TTM_DAYS_OVERDRAWN\":\"TTM Overdrafts\",\n",
    "    \"ytdavgbal\":\"YTDAVGBAL\",\n",
    "    \"YTD_DAYS_OVERDRAWN\":\"YTD Overdrafts\",\n",
    "    \"effdate\":\"EFFDATE\",\n",
    "    \"contractdate\":\"CONTRACTDATE\",\n",
    "    \"householdnbr\":\"HOUSEHOLDNBR\"\n",
    "\n",
    "}\n",
    "\n",
    "desired_order = [\n",
    "    \"MAJOR\",\n",
    "    \"MINOR\",\n",
    "    \"PRODUCT\",\n",
    "    \"STATUS\",\n",
    "    \"ACCTNBR\",\n",
    "    \"OWNERNAME\",\n",
    "    \"ACCTOFFICER\",\n",
    "    \"NOTEBAL\",\n",
    "    \"TTM Average Balance\",\n",
    "    \"TTM Overdrafts\",\n",
    "    \"YTDAVGBAL\",\n",
    "    \"YTD Overdrafts\",\n",
    "    \"HOUSEHOLDNBR\",\n",
    "    \"EFFDATE\",\n",
    "    \"CONTRACTDATE\"\n",
    "]\n",
    "\n",
    "dropin_deposit_df = df.rename(columns=rename_mapping).loc[:,desired_order].copy()\n",
    "\n",
    "# return df, dropin_deposit_df\n"
   ]
  }
 ],
 "metadata": {
  "kernelspec": {
   "display_name": "bcsb-prod",
   "language": "python",
   "name": "python3"
  },
  "language_info": {
   "codemirror_mode": {
    "name": "ipython",
    "version": 3
   },
   "file_extension": ".py",
   "mimetype": "text/x-python",
   "name": "python",
   "nbconvert_exporter": "python",
   "pygments_lexer": "ipython3",
   "version": "3.11.9"
  }
 },
 "nbformat": 4,
 "nbformat_minor": 5
}
