{
 "cells": [
  {
   "cell_type": "code",
   "execution_count": 1,
   "id": "44cf0741",
   "metadata": {},
   "outputs": [],
   "source": [
    "\"\"\"\n",
    "Deposit File Creation\n",
    "\"\"\"\n",
    "from pathlib import Path\n",
    "from datetime import datetime\n",
    "from dateutil.relativedelta import relativedelta\n",
    "\n",
    "import pandas as pd # type: ignore\n",
    "\n",
    "import src.deposit_file.create_deposit_dataset\n",
    "\n",
    "# def deposit_dataset_execution():\n",
    "data = src.deposit_file.create_deposit_dataset.fetch_data()\n",
    "\n",
    "# Unpack data\n",
    "acctcommon = data['acctcommon'].copy()\n",
    "acctstatistichist = data['acctstatistichist'].copy()\n",
    "wh_deposits = data['wh_deposit'].copy()\n",
    "historical_acctcommon = data['historical_acctcommon'].copy()\n",
    "househldacct = data['househldacct']\n",
    "\n"
   ]
  },
  {
   "cell_type": "code",
   "execution_count": 2,
   "id": "a92c5c4b",
   "metadata": {},
   "outputs": [],
   "source": [
    "\n",
    "three_month_df = src.deposit_file.create_deposit_dataset.filter_on_trailing_months(historical_acctcommon, 3)"
   ]
  },
  {
   "cell_type": "code",
   "execution_count": 4,
   "id": "d4f06cfa",
   "metadata": {},
   "outputs": [
    {
     "data": {
      "application/vnd.microsoft.datawrangler.viewer.v0+json": {
       "columns": [
        {
         "name": "index",
         "rawType": "int64",
         "type": "integer"
        },
        {
         "name": "acctnbr",
         "rawType": "int64",
         "type": "integer"
        },
        {
         "name": "effdate",
         "rawType": "datetime64[ns]",
         "type": "datetime"
        },
        {
         "name": "monthendyn",
         "rawType": "object",
         "type": "string"
        },
        {
         "name": "notemtdavgbal",
         "rawType": "float64",
         "type": "float"
        }
       ],
       "ref": "d367dab8-6859-4b71-899c-83507c635287",
       "rows": [
        [
         "815129",
         "151111946",
         "2025-06-30 00:00:00",
         "Y",
         "2900.7"
        ],
        [
         "773293",
         "29012465",
         "2025-06-30 00:00:00",
         "Y",
         "65590.25"
        ],
        [
         "773291",
         "29012252",
         "2025-06-30 00:00:00",
         "Y",
         "100.0"
        ],
        [
         "773290",
         "29011825",
         "2025-06-30 00:00:00",
         "Y",
         "57.16"
        ],
        [
         "773289",
         "29011620",
         "2025-06-30 00:00:00",
         "Y",
         "71.5"
        ],
        [
         "773288",
         "29010993",
         "2025-06-30 00:00:00",
         "Y",
         "36079.0"
        ],
        [
         "773287",
         "29010942",
         "2025-06-30 00:00:00",
         "Y",
         "452944.24"
        ],
        [
         "773286",
         "28190475",
         "2025-06-30 00:00:00",
         "Y",
         "4826.05"
        ],
        [
         "773285",
         "28190424",
         "2025-06-30 00:00:00",
         "Y",
         "609.24"
        ],
        [
         "773284",
         "28190335",
         "2025-06-30 00:00:00",
         "Y",
         "10.02"
        ],
        [
         "773283",
         "28190238",
         "2025-06-30 00:00:00",
         "Y",
         "6998.89"
        ],
        [
         "773282",
         "28190165",
         "2025-06-30 00:00:00",
         "Y",
         "37068.77"
        ],
        [
         "773281",
         "28190157",
         "2025-06-30 00:00:00",
         "Y",
         "13968.61"
        ],
        [
         "773280",
         "28190149",
         "2025-06-30 00:00:00",
         "Y",
         "41370.9"
        ],
        [
         "773279",
         "28182456",
         "2025-06-30 00:00:00",
         "Y",
         "475.21"
        ],
        [
         "773278",
         "28182278",
         "2025-06-30 00:00:00",
         "Y",
         "510.25"
        ],
        [
         "773277",
         "28182189",
         "2025-06-30 00:00:00",
         "Y",
         "10.0"
        ],
        [
         "773276",
         "28182081",
         "2025-06-30 00:00:00",
         "Y",
         "12537.97"
        ],
        [
         "773275",
         "28182057",
         "2025-06-30 00:00:00",
         "Y",
         "33629.49"
        ],
        [
         "773274",
         "28181999",
         "2025-06-30 00:00:00",
         "Y",
         "1116.13"
        ],
        [
         "773273",
         "28181948",
         "2025-06-30 00:00:00",
         "Y",
         "1081.51"
        ],
        [
         "773272",
         "29056829",
         "2025-06-30 00:00:00",
         "Y",
         "14708.92"
        ],
        [
         "773271",
         "29056535",
         "2025-06-30 00:00:00",
         "Y",
         "59511.31"
        ],
        [
         "773270",
         "29056217",
         "2025-06-30 00:00:00",
         "Y",
         "161725.41"
        ],
        [
         "773269",
         "29055725",
         "2025-06-30 00:00:00",
         "Y",
         "2725.21"
        ],
        [
         "773268",
         "29055326",
         "2025-06-30 00:00:00",
         "Y",
         "218166.4"
        ],
        [
         "773267",
         "29054702",
         "2025-06-30 00:00:00",
         "Y",
         "2109.86"
        ],
        [
         "773266",
         "29010136",
         "2025-06-30 00:00:00",
         "Y",
         "100.28"
        ],
        [
         "773265",
         "28218590",
         "2025-06-30 00:00:00",
         "Y",
         "22069.75"
        ],
        [
         "773292",
         "29012449",
         "2025-06-30 00:00:00",
         "Y",
         "14352.24"
        ],
        [
         "773294",
         "29051711",
         "2025-06-30 00:00:00",
         "Y",
         "41821.09"
        ],
        [
         "773324",
         "150689457",
         "2025-06-30 00:00:00",
         "Y",
         "150.56"
        ],
        [
         "773295",
         "29051800",
         "2025-06-30 00:00:00",
         "Y",
         "1084.83"
        ],
        [
         "773322",
         "29053978",
         "2025-06-30 00:00:00",
         "Y",
         "9.32"
        ],
        [
         "773321",
         "29053781",
         "2025-06-30 00:00:00",
         "Y",
         "15.77"
        ],
        [
         "773320",
         "29053773",
         "2025-06-30 00:00:00",
         "Y",
         "8323.43"
        ],
        [
         "773319",
         "29053218",
         "2025-06-30 00:00:00",
         "Y",
         "8698.58"
        ],
        [
         "773318",
         "29053021",
         "2025-06-30 00:00:00",
         "Y",
         "14994.19"
        ],
        [
         "773317",
         "29052947",
         "2025-06-30 00:00:00",
         "Y",
         "51021.79"
        ],
        [
         "773316",
         "29014484",
         "2025-06-30 00:00:00",
         "Y",
         "1.0"
        ],
        [
         "773315",
         "29013860",
         "2025-06-30 00:00:00",
         "Y",
         "3698.08"
        ],
        [
         "773314",
         "29013623",
         "2025-06-30 00:00:00",
         "Y",
         "200.0"
        ],
        [
         "773313",
         "29013178",
         "2025-06-30 00:00:00",
         "Y",
         "1.0"
        ],
        [
         "773312",
         "29012678",
         "2025-06-30 00:00:00",
         "Y",
         "2001.0"
        ],
        [
         "773311",
         "29012473",
         "2025-06-30 00:00:00",
         "Y",
         "33499.88"
        ],
        [
         "773310",
         "28191099",
         "2025-06-30 00:00:00",
         "Y",
         "3122.15"
        ],
        [
         "773309",
         "28191056",
         "2025-06-30 00:00:00",
         "Y",
         "10.0"
        ],
        [
         "773308",
         "28190947",
         "2025-06-30 00:00:00",
         "Y",
         "12182.17"
        ],
        [
         "773307",
         "28190831",
         "2025-06-30 00:00:00",
         "Y",
         "801.06"
        ],
        [
         "773306",
         "28190777",
         "2025-06-30 00:00:00",
         "Y",
         "46774.24"
        ]
       ],
       "shape": {
        "columns": 4,
        "rows": 188346
       }
      },
      "text/html": [
       "<div>\n",
       "<style scoped>\n",
       "    .dataframe tbody tr th:only-of-type {\n",
       "        vertical-align: middle;\n",
       "    }\n",
       "\n",
       "    .dataframe tbody tr th {\n",
       "        vertical-align: top;\n",
       "    }\n",
       "\n",
       "    .dataframe thead th {\n",
       "        text-align: right;\n",
       "    }\n",
       "</style>\n",
       "<table border=\"1\" class=\"dataframe\">\n",
       "  <thead>\n",
       "    <tr style=\"text-align: right;\">\n",
       "      <th></th>\n",
       "      <th>acctnbr</th>\n",
       "      <th>effdate</th>\n",
       "      <th>monthendyn</th>\n",
       "      <th>notemtdavgbal</th>\n",
       "    </tr>\n",
       "  </thead>\n",
       "  <tbody>\n",
       "    <tr>\n",
       "      <th>815129</th>\n",
       "      <td>151111946</td>\n",
       "      <td>2025-06-30</td>\n",
       "      <td>Y</td>\n",
       "      <td>2900.70</td>\n",
       "    </tr>\n",
       "    <tr>\n",
       "      <th>773293</th>\n",
       "      <td>29012465</td>\n",
       "      <td>2025-06-30</td>\n",
       "      <td>Y</td>\n",
       "      <td>65590.25</td>\n",
       "    </tr>\n",
       "    <tr>\n",
       "      <th>773291</th>\n",
       "      <td>29012252</td>\n",
       "      <td>2025-06-30</td>\n",
       "      <td>Y</td>\n",
       "      <td>100.00</td>\n",
       "    </tr>\n",
       "    <tr>\n",
       "      <th>773290</th>\n",
       "      <td>29011825</td>\n",
       "      <td>2025-06-30</td>\n",
       "      <td>Y</td>\n",
       "      <td>57.16</td>\n",
       "    </tr>\n",
       "    <tr>\n",
       "      <th>773289</th>\n",
       "      <td>29011620</td>\n",
       "      <td>2025-06-30</td>\n",
       "      <td>Y</td>\n",
       "      <td>71.50</td>\n",
       "    </tr>\n",
       "    <tr>\n",
       "      <th>...</th>\n",
       "      <td>...</td>\n",
       "      <td>...</td>\n",
       "      <td>...</td>\n",
       "      <td>...</td>\n",
       "    </tr>\n",
       "    <tr>\n",
       "      <th>668652</th>\n",
       "      <td>4465041551</td>\n",
       "      <td>2025-04-30</td>\n",
       "      <td>Y</td>\n",
       "      <td>150265.81</td>\n",
       "    </tr>\n",
       "    <tr>\n",
       "      <th>668651</th>\n",
       "      <td>4465023782</td>\n",
       "      <td>2025-04-30</td>\n",
       "      <td>Y</td>\n",
       "      <td>39909.07</td>\n",
       "    </tr>\n",
       "    <tr>\n",
       "      <th>668650</th>\n",
       "      <td>4465038003</td>\n",
       "      <td>2025-04-30</td>\n",
       "      <td>Y</td>\n",
       "      <td>23.64</td>\n",
       "    </tr>\n",
       "    <tr>\n",
       "      <th>668649</th>\n",
       "      <td>4465086717</td>\n",
       "      <td>2025-04-30</td>\n",
       "      <td>Y</td>\n",
       "      <td>831.57</td>\n",
       "    </tr>\n",
       "    <tr>\n",
       "      <th>626784</th>\n",
       "      <td>4423035613</td>\n",
       "      <td>2025-04-30</td>\n",
       "      <td>Y</td>\n",
       "      <td>227.80</td>\n",
       "    </tr>\n",
       "  </tbody>\n",
       "</table>\n",
       "<p>188346 rows × 4 columns</p>\n",
       "</div>"
      ],
      "text/plain": [
       "           acctnbr    effdate monthendyn  notemtdavgbal\n",
       "815129   151111946 2025-06-30          Y        2900.70\n",
       "773293    29012465 2025-06-30          Y       65590.25\n",
       "773291    29012252 2025-06-30          Y         100.00\n",
       "773290    29011825 2025-06-30          Y          57.16\n",
       "773289    29011620 2025-06-30          Y          71.50\n",
       "...            ...        ...        ...            ...\n",
       "668652  4465041551 2025-04-30          Y      150265.81\n",
       "668651  4465023782 2025-04-30          Y       39909.07\n",
       "668650  4465038003 2025-04-30          Y          23.64\n",
       "668649  4465086717 2025-04-30          Y         831.57\n",
       "626784  4423035613 2025-04-30          Y         227.80\n",
       "\n",
       "[188346 rows x 4 columns]"
      ]
     },
     "execution_count": 4,
     "metadata": {},
     "output_type": "execute_result"
    }
   ],
   "source": [
    "three_month_df"
   ]
  },
  {
   "cell_type": "code",
   "execution_count": 3,
   "id": "58a2710c",
   "metadata": {},
   "outputs": [],
   "source": [
    "\n",
    "# three_month_df.to_excel(Path('ThreeMonthCheck.xlsx',index=False))\n",
    "twelve_month_df = src.deposit_file.create_deposit_dataset.filter_on_trailing_months(historical_acctcommon, 12)"
   ]
  },
  {
   "cell_type": "code",
   "execution_count": 5,
   "id": "36ede0d7",
   "metadata": {},
   "outputs": [],
   "source": [
    "\n",
    "# twelve_month_df.to_excel(Path('TwelveMonthCheck.xlsx',index=False))\n",
    "\n",
    "# year_ago_bal = src.deposit_file.create_deposit_dataset.get_year_ago_bal(historical_acctcommon)\n",
    "# Example usage\n",
    "\n",
    "three_month_avg = src.deposit_file.create_deposit_dataset.average_balance_over_period(three_month_df, '3Mo_AvgBal')\n",
    "twelve_month_avg = src.deposit_file.create_deposit_dataset.average_balance_over_period(twelve_month_df, 'TTM_AvgBal')\n",
    "\n"
   ]
  },
  {
   "cell_type": "code",
   "execution_count": 6,
   "id": "26e286aa",
   "metadata": {},
   "outputs": [
    {
     "data": {
      "application/vnd.microsoft.datawrangler.viewer.v0+json": {
       "columns": [
        {
         "name": "index",
         "rawType": "int64",
         "type": "integer"
        },
        {
         "name": "acctnbr",
         "rawType": "int64",
         "type": "integer"
        },
        {
         "name": "3Mo_AvgBal",
         "rawType": "float64",
         "type": "float"
        }
       ],
       "ref": "76c76956-8187-4339-be36-2157c4a8df58",
       "rows": [
        [
         "0",
         "100032",
         "10107.766666666666"
        ],
        [
         "1",
         "100036",
         "1696.9099999999999"
        ],
        [
         "2",
         "100038",
         "7184.946666666667"
        ],
        [
         "3",
         "100042",
         "8735.613333333333"
        ],
        [
         "4",
         "100047",
         "10163.123333333335"
        ],
        [
         "5",
         "100058",
         "82742.49"
        ],
        [
         "6",
         "100060",
         "163823.04333333333"
        ],
        [
         "7",
         "100074",
         "568.2066666666666"
        ],
        [
         "8",
         "100078",
         "13678.339999999998"
        ],
        [
         "9",
         "100091",
         "8755.519999999999"
        ],
        [
         "10",
         "100102",
         "44218.07"
        ],
        [
         "11",
         "100103",
         "1210.2833333333335"
        ],
        [
         "12",
         "100106",
         "25742.02333333333"
        ],
        [
         "13",
         "100128",
         "849.3466666666667"
        ],
        [
         "14",
         "100134",
         "16940.983333333334"
        ],
        [
         "15",
         "100141",
         "25489.553333333333"
        ],
        [
         "16",
         "100150",
         "10299.483333333334"
        ],
        [
         "17",
         "100156",
         "256314.41333333333"
        ],
        [
         "18",
         "100194",
         "1066.9333333333334"
        ],
        [
         "19",
         "100213",
         "817.59"
        ],
        [
         "20",
         "100242",
         "2095.4566666666665"
        ],
        [
         "21",
         "100248",
         "24271.553333333333"
        ],
        [
         "22",
         "100274",
         "3763.8266666666664"
        ],
        [
         "23",
         "100285",
         "471.34"
        ],
        [
         "24",
         "100292",
         "243.5"
        ],
        [
         "25",
         "100302",
         "2166.9900000000002"
        ],
        [
         "26",
         "100315",
         "22112.10666666667"
        ],
        [
         "27",
         "100323",
         "40164.41"
        ],
        [
         "28",
         "100326",
         "6474.046666666666"
        ],
        [
         "29",
         "100327",
         "9162.573333333334"
        ],
        [
         "30",
         "100341",
         "2833.6633333333334"
        ],
        [
         "31",
         "100343",
         "624.6766666666666"
        ],
        [
         "32",
         "100367",
         "1361.77"
        ],
        [
         "33",
         "100388",
         "593.03"
        ],
        [
         "34",
         "100398",
         "10693.326666666666"
        ],
        [
         "35",
         "100410",
         "2974.4933333333333"
        ],
        [
         "36",
         "100413",
         "25.2"
        ],
        [
         "37",
         "100428",
         "9216.696666666667"
        ],
        [
         "38",
         "100441",
         "8047.68"
        ],
        [
         "39",
         "100449",
         "24.820000000000004"
        ],
        [
         "40",
         "100470",
         "187796.42"
        ],
        [
         "41",
         "100474",
         "71775.39"
        ],
        [
         "42",
         "100496",
         "10439.916666666666"
        ],
        [
         "43",
         "100498",
         "11265.659999999998"
        ],
        [
         "44",
         "100514",
         "86750.46333333333"
        ],
        [
         "45",
         "100540",
         "1334.6000000000001"
        ],
        [
         "46",
         "100542",
         "224695.07666666666"
        ],
        [
         "47",
         "100560",
         "17740.333333333332"
        ],
        [
         "48",
         "100578",
         "1441.9733333333334"
        ],
        [
         "49",
         "100592",
         "4892.283333333333"
        ]
       ],
       "shape": {
        "columns": 2,
        "rows": 63992
       }
      },
      "text/html": [
       "<div>\n",
       "<style scoped>\n",
       "    .dataframe tbody tr th:only-of-type {\n",
       "        vertical-align: middle;\n",
       "    }\n",
       "\n",
       "    .dataframe tbody tr th {\n",
       "        vertical-align: top;\n",
       "    }\n",
       "\n",
       "    .dataframe thead th {\n",
       "        text-align: right;\n",
       "    }\n",
       "</style>\n",
       "<table border=\"1\" class=\"dataframe\">\n",
       "  <thead>\n",
       "    <tr style=\"text-align: right;\">\n",
       "      <th></th>\n",
       "      <th>acctnbr</th>\n",
       "      <th>3Mo_AvgBal</th>\n",
       "    </tr>\n",
       "  </thead>\n",
       "  <tbody>\n",
       "    <tr>\n",
       "      <th>0</th>\n",
       "      <td>100032</td>\n",
       "      <td>10107.766667</td>\n",
       "    </tr>\n",
       "    <tr>\n",
       "      <th>1</th>\n",
       "      <td>100036</td>\n",
       "      <td>1696.910000</td>\n",
       "    </tr>\n",
       "    <tr>\n",
       "      <th>2</th>\n",
       "      <td>100038</td>\n",
       "      <td>7184.946667</td>\n",
       "    </tr>\n",
       "    <tr>\n",
       "      <th>3</th>\n",
       "      <td>100042</td>\n",
       "      <td>8735.613333</td>\n",
       "    </tr>\n",
       "    <tr>\n",
       "      <th>4</th>\n",
       "      <td>100047</td>\n",
       "      <td>10163.123333</td>\n",
       "    </tr>\n",
       "    <tr>\n",
       "      <th>...</th>\n",
       "      <td>...</td>\n",
       "      <td>...</td>\n",
       "    </tr>\n",
       "    <tr>\n",
       "      <th>63987</th>\n",
       "      <td>5526703870</td>\n",
       "      <td>3070.680000</td>\n",
       "    </tr>\n",
       "    <tr>\n",
       "      <th>63988</th>\n",
       "      <td>5528026012</td>\n",
       "      <td>614.133333</td>\n",
       "    </tr>\n",
       "    <tr>\n",
       "      <th>63989</th>\n",
       "      <td>5528043731</td>\n",
       "      <td>1535.340000</td>\n",
       "    </tr>\n",
       "    <tr>\n",
       "      <th>63990</th>\n",
       "      <td>5528143469</td>\n",
       "      <td>307.066667</td>\n",
       "    </tr>\n",
       "    <tr>\n",
       "      <th>63991</th>\n",
       "      <td>8030640002</td>\n",
       "      <td>6919.213333</td>\n",
       "    </tr>\n",
       "  </tbody>\n",
       "</table>\n",
       "<p>63992 rows × 2 columns</p>\n",
       "</div>"
      ],
      "text/plain": [
       "          acctnbr    3Mo_AvgBal\n",
       "0          100032  10107.766667\n",
       "1          100036   1696.910000\n",
       "2          100038   7184.946667\n",
       "3          100042   8735.613333\n",
       "4          100047  10163.123333\n",
       "...           ...           ...\n",
       "63987  5526703870   3070.680000\n",
       "63988  5528026012    614.133333\n",
       "63989  5528043731   1535.340000\n",
       "63990  5528143469    307.066667\n",
       "63991  8030640002   6919.213333\n",
       "\n",
       "[63992 rows x 2 columns]"
      ]
     },
     "execution_count": 6,
     "metadata": {},
     "output_type": "execute_result"
    }
   ],
   "source": [
    "three_month_avg"
   ]
  },
  {
   "cell_type": "code",
   "execution_count": 7,
   "id": "bed0f487",
   "metadata": {},
   "outputs": [],
   "source": [
    "# Current date\n",
    "current_date = datetime.now()\n",
    "\n",
    "# TTM: Trailing Twelve Months\n",
    "start_date_ttm = (current_date - relativedelta(years=1)).replace(day=1, hour=0, minute=0, second=0, microsecond=0)\n",
    "end_date_ttm = current_date\n",
    "dod_ttm, nsf_ttm = src.deposit_file.create_deposit_dataset.filter_acctstatistic(acctstatistichist, start_date_ttm, end_date_ttm, prefix=\"TTM\")"
   ]
  },
  {
   "cell_type": "code",
   "execution_count": 9,
   "id": "db13c3bb",
   "metadata": {},
   "outputs": [
    {
     "data": {
      "text/plain": [
       "datetime.datetime(2024, 7, 1, 0, 0)"
      ]
     },
     "execution_count": 9,
     "metadata": {},
     "output_type": "execute_result"
    }
   ],
   "source": [
    "start_date_ttm"
   ]
  },
  {
   "cell_type": "code",
   "execution_count": 10,
   "id": "62cbe7f5",
   "metadata": {},
   "outputs": [
    {
     "data": {
      "text/plain": [
       "datetime.datetime(2025, 7, 14, 13, 57, 57, 415473)"
      ]
     },
     "execution_count": 10,
     "metadata": {},
     "output_type": "execute_result"
    }
   ],
   "source": [
    "end_date_ttm"
   ]
  },
  {
   "cell_type": "code",
   "execution_count": 8,
   "id": "3950bb71",
   "metadata": {},
   "outputs": [
    {
     "data": {
      "application/vnd.microsoft.datawrangler.viewer.v0+json": {
       "columns": [
        {
         "name": "index",
         "rawType": "int64",
         "type": "integer"
        },
        {
         "name": "acctnbr",
         "rawType": "int64",
         "type": "integer"
        },
        {
         "name": "TTM_DAYS_OVERDRAWN",
         "rawType": "float64",
         "type": "float"
        }
       ],
       "ref": "d140ef50-e676-4cd2-ac9a-a559afc9282a",
       "rows": [
        [
         "0",
         "100696",
         "89.0"
        ],
        [
         "1",
         "100709",
         "34.0"
        ],
        [
         "2",
         "100720",
         "1.0"
        ],
        [
         "3",
         "100770",
         "1.0"
        ],
        [
         "4",
         "100819",
         "2.0"
        ],
        [
         "5",
         "101130",
         "3.0"
        ],
        [
         "6",
         "101422",
         "2.0"
        ],
        [
         "7",
         "101490",
         "1.0"
        ],
        [
         "8",
         "101746",
         "6.0"
        ],
        [
         "9",
         "101756",
         "72.0"
        ],
        [
         "10",
         "102800",
         "7.0"
        ],
        [
         "11",
         "102876",
         "16.0"
        ],
        [
         "12",
         "102980",
         "5.0"
        ],
        [
         "13",
         "103119",
         "15.0"
        ],
        [
         "14",
         "103136",
         "9.0"
        ],
        [
         "15",
         "103354",
         "6.0"
        ],
        [
         "16",
         "103362",
         "2.0"
        ],
        [
         "17",
         "103382",
         "9.0"
        ],
        [
         "18",
         "103564",
         "11.0"
        ],
        [
         "19",
         "103688",
         "1.0"
        ],
        [
         "20",
         "103860",
         "7.0"
        ],
        [
         "21",
         "103868",
         "1.0"
        ],
        [
         "22",
         "103917",
         "21.0"
        ],
        [
         "23",
         "103956",
         "2.0"
        ],
        [
         "24",
         "103961",
         "2.0"
        ],
        [
         "25",
         "104007",
         "1.0"
        ],
        [
         "26",
         "104020",
         "2.0"
        ],
        [
         "27",
         "104082",
         "9.0"
        ],
        [
         "28",
         "104116",
         "4.0"
        ],
        [
         "29",
         "104122",
         "8.0"
        ],
        [
         "30",
         "104186",
         "12.0"
        ],
        [
         "31",
         "104226",
         "2.0"
        ],
        [
         "32",
         "104302",
         "50.0"
        ],
        [
         "33",
         "104327",
         "4.0"
        ],
        [
         "34",
         "104381",
         "5.0"
        ],
        [
         "35",
         "104416",
         "16.0"
        ],
        [
         "36",
         "104444",
         "1.0"
        ],
        [
         "37",
         "104618",
         "88.0"
        ],
        [
         "38",
         "104664",
         "12.0"
        ],
        [
         "39",
         "104685",
         "4.0"
        ],
        [
         "40",
         "104696",
         "34.0"
        ],
        [
         "41",
         "104743",
         "15.0"
        ],
        [
         "42",
         "104757",
         "17.0"
        ],
        [
         "43",
         "104818",
         "5.0"
        ],
        [
         "44",
         "104820",
         "77.0"
        ],
        [
         "45",
         "104949",
         "5.0"
        ],
        [
         "46",
         "104968",
         "4.0"
        ],
        [
         "47",
         "104980",
         "3.0"
        ],
        [
         "48",
         "105079",
         "39.0"
        ],
        [
         "49",
         "105194",
         "1.0"
        ]
       ],
       "shape": {
        "columns": 2,
        "rows": 5938
       }
      },
      "text/html": [
       "<div>\n",
       "<style scoped>\n",
       "    .dataframe tbody tr th:only-of-type {\n",
       "        vertical-align: middle;\n",
       "    }\n",
       "\n",
       "    .dataframe tbody tr th {\n",
       "        vertical-align: top;\n",
       "    }\n",
       "\n",
       "    .dataframe thead th {\n",
       "        text-align: right;\n",
       "    }\n",
       "</style>\n",
       "<table border=\"1\" class=\"dataframe\">\n",
       "  <thead>\n",
       "    <tr style=\"text-align: right;\">\n",
       "      <th></th>\n",
       "      <th>acctnbr</th>\n",
       "      <th>TTM_DAYS_OVERDRAWN</th>\n",
       "    </tr>\n",
       "  </thead>\n",
       "  <tbody>\n",
       "    <tr>\n",
       "      <th>0</th>\n",
       "      <td>100696</td>\n",
       "      <td>89.0</td>\n",
       "    </tr>\n",
       "    <tr>\n",
       "      <th>1</th>\n",
       "      <td>100709</td>\n",
       "      <td>34.0</td>\n",
       "    </tr>\n",
       "    <tr>\n",
       "      <th>2</th>\n",
       "      <td>100720</td>\n",
       "      <td>1.0</td>\n",
       "    </tr>\n",
       "    <tr>\n",
       "      <th>3</th>\n",
       "      <td>100770</td>\n",
       "      <td>1.0</td>\n",
       "    </tr>\n",
       "    <tr>\n",
       "      <th>4</th>\n",
       "      <td>100819</td>\n",
       "      <td>2.0</td>\n",
       "    </tr>\n",
       "    <tr>\n",
       "      <th>...</th>\n",
       "      <td>...</td>\n",
       "      <td>...</td>\n",
       "    </tr>\n",
       "    <tr>\n",
       "      <th>5933</th>\n",
       "      <td>4465593295</td>\n",
       "      <td>60.0</td>\n",
       "    </tr>\n",
       "    <tr>\n",
       "      <th>5934</th>\n",
       "      <td>4465634668</td>\n",
       "      <td>14.0</td>\n",
       "    </tr>\n",
       "    <tr>\n",
       "      <th>5935</th>\n",
       "      <td>4465673248</td>\n",
       "      <td>40.0</td>\n",
       "    </tr>\n",
       "    <tr>\n",
       "      <th>5936</th>\n",
       "      <td>4465674155</td>\n",
       "      <td>4.0</td>\n",
       "    </tr>\n",
       "    <tr>\n",
       "      <th>5937</th>\n",
       "      <td>4465746369</td>\n",
       "      <td>8.0</td>\n",
       "    </tr>\n",
       "  </tbody>\n",
       "</table>\n",
       "<p>5938 rows × 2 columns</p>\n",
       "</div>"
      ],
      "text/plain": [
       "         acctnbr  TTM_DAYS_OVERDRAWN\n",
       "0         100696                89.0\n",
       "1         100709                34.0\n",
       "2         100720                 1.0\n",
       "3         100770                 1.0\n",
       "4         100819                 2.0\n",
       "...          ...                 ...\n",
       "5933  4465593295                60.0\n",
       "5934  4465634668                14.0\n",
       "5935  4465673248                40.0\n",
       "5936  4465674155                 4.0\n",
       "5937  4465746369                 8.0\n",
       "\n",
       "[5938 rows x 2 columns]"
      ]
     },
     "execution_count": 8,
     "metadata": {},
     "output_type": "execute_result"
    }
   ],
   "source": [
    "dod_ttm"
   ]
  },
  {
   "cell_type": "code",
   "execution_count": null,
   "id": "9fbeef14",
   "metadata": {},
   "outputs": [],
   "source": [
    "# Current date\n",
    "current_date = datetime.now()\n",
    "\n",
    "# TTM: Trailing Twelve Months\n",
    "start_date_ttm = (current_date - relativedelta(years=1)).replace(day=1, hour=0, minute=0, second=0, microsecond=0)\n",
    "end_date_ttm = current_date\n",
    "dod_ttm, nsf_ttm = src.deposit_file.create_deposit_dataset.filter_acctstatistic(acctstatistichist, start_date_ttm, end_date_ttm, prefix=\"TTM\")\n",
    "\n",
    "# YTD: Year-to-Date\n",
    "start_date_ytd = datetime(current_date.year, 1, 1)\n",
    "end_date_ytd = current_date\n",
    "dod_ytd, nsf_ytd = src.deposit_file.create_deposit_dataset.filter_acctstatistic(acctstatistichist, start_date_ytd, end_date_ytd, prefix=\"YTD\")\n",
    "\n",
    "\n",
    "df = src.deposit_file.create_deposit_dataset.quality_control_and_merging(\n",
    "    acctcommon, \n",
    "    wh_deposits, \n",
    "    three_month_avg, \n",
    "    twelve_month_avg, \n",
    "    year_ago_bal, \n",
    "    dod_ttm, \n",
    "    nsf_ttm,\n",
    "    dod_ytd,\n",
    "    nsf_ytd\n",
    ")\n",
    "\n",
    "df = src.deposit_file.create_deposit_dataset.add_householdnbr(df, househldacct)\n",
    "\n",
    "# Match to existing daily deposit (but there are more columns here that could be used)\n",
    "rename_mapping = {\n",
    "    \"mjaccttypcd\":\"MAJOR\",\n",
    "    \"currmiaccttypcd\":\"MINOR\",\n",
    "    \"product\":\"PRODUCT\",\n",
    "    \"curracctstatcd\":\"STATUS\",\n",
    "    \"acctnbr\":\"ACCTNBR\",\n",
    "    \"ownersortname\":\"OWNERNAME\",\n",
    "    \"acctofficer\":\"ACCTOFFICER\",\n",
    "    \"notebal\":\"NOTEBAL\",\n",
    "    \"TTM_AvgBal\":\"TTM Average Balance\",\n",
    "    \"TTM_DAYS_OVERDRAWN\":\"TTM Overdrafts\",\n",
    "    \"ytdavgbal\":\"YTDAVGBAL\",\n",
    "    \"YTD_DAYS_OVERDRAWN\":\"YTD Overdrafts\",\n",
    "    \"effdate\":\"EFFDATE\",\n",
    "    \"contractdate\":\"CONTRACTDATE\",\n",
    "    \"householdnbr\":\"HOUSEHOLDNBR\"\n",
    "\n",
    "}\n",
    "\n",
    "desired_order = [\n",
    "    \"MAJOR\",\n",
    "    \"MINOR\",\n",
    "    \"PRODUCT\",\n",
    "    \"STATUS\",\n",
    "    \"ACCTNBR\",\n",
    "    \"OWNERNAME\",\n",
    "    \"ACCTOFFICER\",\n",
    "    \"NOTEBAL\",\n",
    "    \"TTM Average Balance\",\n",
    "    \"TTM Overdrafts\",\n",
    "    \"YTDAVGBAL\",\n",
    "    \"YTD Overdrafts\",\n",
    "    \"HOUSEHOLDNBR\",\n",
    "    \"EFFDATE\",\n",
    "    \"CONTRACTDATE\"\n",
    "]\n",
    "\n",
    "dropin_deposit_df = df.rename(columns=rename_mapping).loc[:,desired_order].copy()\n",
    "\n",
    "# return df, dropin_deposit_df\n"
   ]
  }
 ],
 "metadata": {
  "kernelspec": {
   "display_name": ".venv",
   "language": "python",
   "name": "python3"
  },
  "language_info": {
   "codemirror_mode": {
    "name": "ipython",
    "version": 3
   },
   "file_extension": ".py",
   "mimetype": "text/x-python",
   "name": "python",
   "nbconvert_exporter": "python",
   "pygments_lexer": "ipython3",
   "version": "3.11.9"
  }
 },
 "nbformat": 4,
 "nbformat_minor": 5
}
