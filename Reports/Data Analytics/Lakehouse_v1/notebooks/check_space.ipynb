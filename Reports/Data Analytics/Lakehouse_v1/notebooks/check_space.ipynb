{
 "cells": [
  {
   "cell_type": "code",
   "execution_count": null,
   "id": "c1a724e0",
   "metadata": {},
   "outputs": [],
   "source": [
    "import os\n",
    "import sys\n",
    "from pathlib import Path\n",
    "\n",
    "# Navigate to project root (equivalent to cd ..)\n",
    "project_dir = Path(__file__).parent.parent if '__file__' in globals() else Path.cwd().parent\n",
    "os.chdir(project_dir)\n",
    "\n",
    "# Add src directory to Python path for imports\n",
    "src_dir = project_dir / \"src\"\n",
    "if str(src_dir) not in sys.path:\n",
    "    sys.path.insert(0, str(src_dir))\n",
    "\n",
    "# Set environment for dev testing\n",
    "os.environ['REPORT_ENV'] = 'dev'"
   ]
  },
  {
   "cell_type": "code",
   "execution_count": null,
   "id": "2dabb658",
   "metadata": {},
   "outputs": [],
   "source": [
    "import os\n",
    "import src.config\n",
    "from pathlib import Path"
   ]
  },
  {
   "cell_type": "code",
   "execution_count": null,
   "id": "d81bb135",
   "metadata": {},
   "outputs": [],
   "source": [
    "def get_directory_size(dir_path):\n",
    "    total_size_bytes = 0\n",
    "\n",
    "    if not dir_path.is_dir():\n",
    "        print(f\"Error: {dir_path} is not a directory\")\n",
    "\n",
    "    for item in dir_path.rglob('*'):\n",
    "        if item.is_file():\n",
    "            try:\n",
    "                total_size_bytes += item.stat().st_size\n",
    "            except FileNotFoundError:\n",
    "                print(f\"Can't access {item}\")\n",
    "\n",
    "    total_size_mb = total_size_bytes / (1024 * 1024)\n",
    "    return total_size_mb\n"
   ]
  },
  {
   "cell_type": "code",
   "execution_count": null,
   "id": "da0a2a1b",
   "metadata": {},
   "outputs": [],
   "source": [
    "lakehouse_size = get_directory_size(src.config.BASE_PATH)"
   ]
  },
  {
   "cell_type": "code",
   "execution_count": null,
   "id": "d97ab9b1",
   "metadata": {},
   "outputs": [],
   "source": [
    "lakehouse_size"
   ]
  },
  {
   "cell_type": "code",
   "execution_count": null,
   "id": "e99644d3",
   "metadata": {},
   "outputs": [],
   "source": [
    "# MB"
   ]
  },
  {
   "cell_type": "code",
   "execution_count": null,
   "id": "12c32ed3",
   "metadata": {},
   "outputs": [],
   "source": []
  }
 ],
 "metadata": {
  "kernelspec": {
   "display_name": "bcsb-prod",
   "language": "python",
   "name": "python3"
  },
  "language_info": {
   "codemirror_mode": {
    "name": "ipython",
    "version": 3
   },
   "file_extension": ".py",
   "mimetype": "text/x-python",
   "name": "python",
   "nbconvert_exporter": "python",
   "pygments_lexer": "ipython3",
   "version": "3.11.9"
  }
 },
 "nbformat": 4,
 "nbformat_minor": 5
}
