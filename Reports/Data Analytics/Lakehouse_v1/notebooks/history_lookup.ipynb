{
 "cells": [
  {
   "cell_type": "code",
   "execution_count": null,
   "id": "c1a724e0",
   "metadata": {},
   "outputs": [],
   "source": [
    "import os\n",
    "import sys\n",
    "from pathlib import Path\n",
    "\n",
    "# Navigate to project root (equivalent to cd ..)\n",
    "project_dir = Path(__file__).parent.parent if '__file__' in globals() else Path.cwd().parent\n",
    "os.chdir(project_dir)\n",
    "\n",
    "# Add src directory to Python path for imports\n",
    "src_dir = project_dir / \"src\"\n",
    "if str(src_dir) not in sys.path:\n",
    "    sys.path.insert(0, str(src_dir))\n",
    "\n",
    "# Set environment for dev testing\n",
    "os.environ['REPORT_ENV'] = 'prod'"
   ]
  },
  {
   "cell_type": "code",
   "execution_count": null,
   "id": "de6c09a0",
   "metadata": {},
   "outputs": [],
   "source": [
    "import src.config\n",
    "from deltalake import DeltaTable\n",
    "from pathlib import Path\n",
    "import pandas as pd\n",
    "from datetime import datetime, timezone\n"
   ]
  },
  {
   "cell_type": "code",
   "execution_count": null,
   "id": "11bb7fc0",
   "metadata": {},
   "outputs": [],
   "source": [
    "TABLE_PATH = src.config.SILVER / \"account\""
   ]
  },
  {
   "cell_type": "code",
   "execution_count": null,
   "id": "16eec552",
   "metadata": {},
   "outputs": [],
   "source": [
    "history = DeltaTable(TABLE_PATH).history()\n",
    "history_df = pd.DataFrame(history)\n"
   ]
  },
  {
   "cell_type": "code",
   "execution_count": null,
   "id": "c36c247e",
   "metadata": {},
   "outputs": [],
   "source": [
    "def convert_ts(ts):\n",
    "    if len(str(ts)) == 13:\n",
    "        return pd.to_datetime(ts, unit='ms', utc=True)\n",
    "    else:\n",
    "        return pd.to_datetime(ts, unit='s', utc=True)\n",
    "\n",
    "history_df['readable_time'] = history_df['timestamp'].apply(convert_ts)"
   ]
  },
  {
   "cell_type": "code",
   "execution_count": null,
   "id": "97f89ef5",
   "metadata": {},
   "outputs": [],
   "source": [
    "history_df['eastern_time'] = history_df['readable_time'].dt.tz_convert('America/New_York')"
   ]
  },
  {
   "cell_type": "code",
   "execution_count": null,
   "id": "7f5e19a3",
   "metadata": {},
   "outputs": [],
   "source": [
    "history_df"
   ]
  },
  {
   "cell_type": "code",
   "execution_count": null,
   "id": "29282b0a",
   "metadata": {},
   "outputs": [],
   "source": [
    "df = DeltaTable(TABLE_PATH, version=8).to_pandas()"
   ]
  },
  {
   "cell_type": "code",
   "execution_count": null,
   "id": "5517610f",
   "metadata": {},
   "outputs": [],
   "source": [
    "df['eastern_time'] = df['load_timestamp_utc'].dt.tz_convert('America/New_York')"
   ]
  },
  {
   "cell_type": "code",
   "execution_count": null,
   "id": "7cf712fa",
   "metadata": {},
   "outputs": [],
   "source": [
    "df"
   ]
  },
  {
   "cell_type": "code",
   "execution_count": null,
   "id": "5de7001c",
   "metadata": {},
   "outputs": [],
   "source": []
  }
 ],
 "metadata": {
  "kernelspec": {
   "display_name": "bcsb-prod",
   "language": "python",
   "name": "python3"
  },
  "language_info": {
   "codemirror_mode": {
    "name": "ipython",
    "version": 3
   },
   "file_extension": ".py",
   "mimetype": "text/x-python",
   "name": "python",
   "nbconvert_exporter": "python",
   "pygments_lexer": "ipython3",
   "version": "3.11.9"
  }
 },
 "nbformat": 4,
 "nbformat_minor": 5
}
