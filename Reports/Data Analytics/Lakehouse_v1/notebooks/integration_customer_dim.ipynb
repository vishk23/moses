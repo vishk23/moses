{
 "cells": [
  {
   "cell_type": "code",
   "execution_count": null,
   "id": "b6d95498",
   "metadata": {},
   "outputs": [],
   "source": [
    "import os\n",
    "import sys\n",
    "from pathlib import Path\n",
    "\n",
    "# Navigate to project root (equivalent to cd ..)\n",
    "project_dir = Path(__file__).parent.parent if '__file__' in globals() else Path.cwd().parent\n",
    "os.chdir(project_dir)\n",
    "\n",
    "# Add src directory to Python path for imports\n",
    "src_dir = project_dir / \"src\"\n",
    "if str(src_dir) not in sys.path:\n",
    "    sys.path.insert(0, str(src_dir))\n",
    "\n",
    "# Set environment for dev testing\n",
    "os.environ['REPORT_ENV'] = 'dev'"
   ]
  },
  {
   "cell_type": "code",
   "execution_count": null,
   "id": "4f5ce6fa",
   "metadata": {},
   "outputs": [],
   "source": [
    "import src.silver.customer_dim.fetch_data\n",
    "import cdutils.deduplication # type: ignore\n",
    "import cdutils.customer_dim # type: ignore\n",
    "import cdutils.input_cleansing # type: ignore\n",
    "import pandas as pd\n",
    "import src.config\n",
    "from deltalake import DeltaTable\n",
    "\n",
    "def sort_dedupe_raw(df, dedupe_list):\n",
    "    if 'adddate' in df.columns:\n",
    "        df_sorted = df.sort_values(by='adddate', ascending=False)\n",
    "    else:\n",
    "        pass\n",
    "\n",
    "    result = cdutils.deduplication.dedupe(dedupe_list)\n",
    "    return result\n",
    "\n",
    "\n",
    "def generate_customer_dim_table():\n",
    "    \"\"\"\n",
    "    Create Customer Dim table with P+persnbr or O+orgnbr as primary key\n",
    "    \"\"\"\n",
    "    # data = src.silver.customer_dim.fetch_data.fetch_data()\n",
    "    # wh_pers = data['wh_pers'].copy()\n",
    "    # wh_org =data['wh_org'].copy()\n",
    "\n",
    "    wh_pers = DeltaTable(src.config.BRONZE / \"wh_pers\").to_pandas()\n",
    "    wh_org = DeltaTable(src.config.BRONZE / \"wh_org\").to_pandas()\n",
    "\n",
    "    # Sort descending and dedupe primary keys \n",
    "    dedupe_list = [\n",
    "            {'df':wh_org, 'field':'orgnbr'}\n",
    "        ]\n",
    "    wh_org = sort_dedupe_raw(wh_org, dedupe_list)\n",
    "\n",
    "    dedupe_list = [\n",
    "            {'df':wh_pers, 'field':'persnbr'}\n",
    "        ]\n",
    "    wh_pers = sort_dedupe_raw(wh_pers, dedupe_list)\n",
    "\n",
    "    # Org + Persify\n",
    "    wh_org = cdutils.customer_dim.orgify(wh_org, 'orgnbr')\n",
    "    wh_pers = cdutils.customer_dim.persify(wh_pers, 'persnbr')\n",
    "\n",
    "    # Concat fields\n",
    "    customer_dim = pd.concat([wh_org, wh_pers], ignore_index=True)\n",
    "    return customer_dim"
   ]
  },
  {
   "cell_type": "code",
   "execution_count": null,
   "id": "41987987",
   "metadata": {},
   "outputs": [],
   "source": [
    "df = generate_customer_dim_table()"
   ]
  },
  {
   "cell_type": "code",
   "execution_count": null,
   "id": "72259aba",
   "metadata": {},
   "outputs": [],
   "source": [
    "df"
   ]
  },
  {
   "cell_type": "code",
   "execution_count": null,
   "id": "fb770da1",
   "metadata": {},
   "outputs": [],
   "source": []
  }
 ],
 "metadata": {
  "kernelspec": {
   "display_name": "bcsb-prod",
   "language": "python",
   "name": "python3"
  },
  "language_info": {
   "codemirror_mode": {
    "name": "ipython",
    "version": 3
   },
   "file_extension": ".py",
   "mimetype": "text/x-python",
   "name": "python",
   "nbconvert_exporter": "python",
   "pygments_lexer": "ipython3",
   "version": "3.11.9"
  }
 },
 "nbformat": 4,
 "nbformat_minor": 5
}
