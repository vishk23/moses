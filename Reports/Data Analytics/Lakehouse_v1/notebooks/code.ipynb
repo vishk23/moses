{
 "cells": [
  {
   "cell_type": "code",
   "execution_count": 1,
   "id": "c1a724e0",
   "metadata": {},
   "outputs": [],
   "source": [
    "import os\n",
    "import sys\n",
    "from pathlib import Path\n",
    "\n",
    "# Navigate to project root (equivalent to cd ..)\n",
    "project_dir = Path(__file__).parent.parent if '__file__' in globals() else Path.cwd().parent\n",
    "os.chdir(project_dir)\n",
    "\n",
    "# Add src directory to Python path for imports\n",
    "src_dir = project_dir / \"src\"\n",
    "if str(src_dir) not in sys.path:\n",
    "    sys.path.insert(0, str(src_dir))\n",
    "\n",
    "# Set environment for dev testing\n",
    "os.environ['REPORT_ENV'] = 'dev'"
   ]
  },
  {
   "cell_type": "code",
   "execution_count": 2,
   "id": "de6c09a0",
   "metadata": {},
   "outputs": [],
   "source": [
    "import src.config"
   ]
  },
  {
   "cell_type": "code",
   "execution_count": 3,
   "id": "7f5cbee6",
   "metadata": {},
   "outputs": [],
   "source": [
    "from deltalake import DeltaTable"
   ]
  },
  {
   "cell_type": "code",
   "execution_count": null,
   "id": "53c91ce4",
   "metadata": {},
   "outputs": [],
   "source": [
    "from pathlib import Path"
   ]
  },
  {
   "cell_type": "code",
   "execution_count": 15,
   "id": "b4bb6cd7",
   "metadata": {},
   "outputs": [],
   "source": [
    "history = DeltaTable(Path(r\"C:\\Users\\w322800\\Documents\\lakehouse\\silver\\address\")).history()"
   ]
  },
  {
   "cell_type": "code",
   "execution_count": 18,
   "id": "d6afea95",
   "metadata": {},
   "outputs": [],
   "source": [
    "import pandas as pd\n",
    "history_df = pd.DataFrame(history)"
   ]
  },
  {
   "cell_type": "code",
   "execution_count": 20,
   "id": "08d90c55",
   "metadata": {},
   "outputs": [
    {
     "name": "stdout",
     "output_type": "stream",
     "text": [
      "<class 'pandas.core.frame.DataFrame'>\n",
      "RangeIndex: 1 entries, 0 to 0\n",
      "Data columns (total 7 columns):\n",
      " #   Column               Non-Null Count  Dtype \n",
      "---  ------               --------------  ----- \n",
      " 0   timestamp            1 non-null      int64 \n",
      " 1   operation            1 non-null      object\n",
      " 2   operationParameters  1 non-null      object\n",
      " 3   engineInfo           1 non-null      object\n",
      " 4   clientVersion        1 non-null      object\n",
      " 5   operationMetrics     1 non-null      object\n",
      " 6   version              1 non-null      int64 \n",
      "dtypes: int64(2), object(5)\n",
      "memory usage: 188.0+ bytes\n"
     ]
    }
   ],
   "source": [
    "history_df.info()"
   ]
  },
  {
   "cell_type": "code",
   "execution_count": null,
   "id": "fc8ea351",
   "metadata": {},
   "outputs": [],
   "source": [
    "from datetime import datetime, timezone"
   ]
  },
  {
   "cell_type": "code",
   "execution_count": null,
   "id": "2971ceb6",
   "metadata": {},
   "outputs": [],
   "source": [
    "def convert_ts(ts):\n",
    "    if len(str(ts)) == 13:\n",
    "        return pd.to_datetime(ts, unit='ms', utc=True)\n",
    "    else:\n",
    "        return pd.to_datetime(ts, unit='s', utc=True)\n",
    "\n",
    "history_df['readable_time'] = history_df['timestamp'].apply(convert_ts)"
   ]
  },
  {
   "cell_type": "code",
   "execution_count": 24,
   "id": "22511d00",
   "metadata": {},
   "outputs": [
    {
     "data": {
      "application/vnd.microsoft.datawrangler.viewer.v0+json": {
       "columns": [
        {
         "name": "index",
         "rawType": "int64",
         "type": "integer"
        },
        {
         "name": "timestamp",
         "rawType": "int64",
         "type": "integer"
        },
        {
         "name": "operation",
         "rawType": "object",
         "type": "string"
        },
        {
         "name": "operationParameters",
         "rawType": "object",
         "type": "unknown"
        },
        {
         "name": "engineInfo",
         "rawType": "object",
         "type": "string"
        },
        {
         "name": "clientVersion",
         "rawType": "object",
         "type": "string"
        },
        {
         "name": "operationMetrics",
         "rawType": "object",
         "type": "unknown"
        },
        {
         "name": "version",
         "rawType": "int64",
         "type": "integer"
        },
        {
         "name": "readable_time",
         "rawType": "datetime64[ns]",
         "type": "datetime"
        }
       ],
       "ref": "3e0a1ee2-e0a2-437d-89e4-daff09818bcb",
       "rows": [
        [
         "0",
         "1756219645113",
         "WRITE",
         "{'mode': 'Overwrite'}",
         "delta-rs:py-1.1.4",
         "delta-rs.py-1.1.4",
         "{'execution_time_ms': 115, 'num_added_files': 1, 'num_added_rows': 378530, 'num_partitions': 0, 'num_removed_files': 0}",
         "0",
         "2025-08-26 14:47:25.113000"
        ]
       ],
       "shape": {
        "columns": 8,
        "rows": 1
       }
      },
      "text/html": [
       "<div>\n",
       "<style scoped>\n",
       "    .dataframe tbody tr th:only-of-type {\n",
       "        vertical-align: middle;\n",
       "    }\n",
       "\n",
       "    .dataframe tbody tr th {\n",
       "        vertical-align: top;\n",
       "    }\n",
       "\n",
       "    .dataframe thead th {\n",
       "        text-align: right;\n",
       "    }\n",
       "</style>\n",
       "<table border=\"1\" class=\"dataframe\">\n",
       "  <thead>\n",
       "    <tr style=\"text-align: right;\">\n",
       "      <th></th>\n",
       "      <th>timestamp</th>\n",
       "      <th>operation</th>\n",
       "      <th>operationParameters</th>\n",
       "      <th>engineInfo</th>\n",
       "      <th>clientVersion</th>\n",
       "      <th>operationMetrics</th>\n",
       "      <th>version</th>\n",
       "      <th>readable_time</th>\n",
       "    </tr>\n",
       "  </thead>\n",
       "  <tbody>\n",
       "    <tr>\n",
       "      <th>0</th>\n",
       "      <td>1756219645113</td>\n",
       "      <td>WRITE</td>\n",
       "      <td>{'mode': 'Overwrite'}</td>\n",
       "      <td>delta-rs:py-1.1.4</td>\n",
       "      <td>delta-rs.py-1.1.4</td>\n",
       "      <td>{'execution_time_ms': 115, 'num_added_files': ...</td>\n",
       "      <td>0</td>\n",
       "      <td>2025-08-26 14:47:25.113</td>\n",
       "    </tr>\n",
       "  </tbody>\n",
       "</table>\n",
       "</div>"
      ],
      "text/plain": [
       "       timestamp operation    operationParameters         engineInfo  \\\n",
       "0  1756219645113     WRITE  {'mode': 'Overwrite'}  delta-rs:py-1.1.4   \n",
       "\n",
       "       clientVersion                                   operationMetrics  \\\n",
       "0  delta-rs.py-1.1.4  {'execution_time_ms': 115, 'num_added_files': ...   \n",
       "\n",
       "   version           readable_time  \n",
       "0        0 2025-08-26 14:47:25.113  "
      ]
     },
     "execution_count": 24,
     "metadata": {},
     "output_type": "execute_result"
    }
   ],
   "source": [
    "history_df"
   ]
  },
  {
   "cell_type": "code",
   "execution_count": 12,
   "id": "0c56ec9d",
   "metadata": {},
   "outputs": [],
   "source": [
    "df = DeltaTable(Path(r\"C:\\Users\\w322800\\Documents\\lakehouse\\silver\\address\")).to_pandas()"
   ]
  },
  {
   "cell_type": "code",
   "execution_count": 13,
   "id": "c61e5f00",
   "metadata": {},
   "outputs": [
    {
     "data": {
      "application/vnd.microsoft.datawrangler.viewer.v0+json": {
       "columns": [
        {
         "name": "index",
         "rawType": "int64",
         "type": "integer"
        },
        {
         "name": "addrnbr",
         "rawType": "int64",
         "type": "integer"
        },
        {
         "name": "Full_Street_Address",
         "rawType": "object",
         "type": "string"
        },
        {
         "name": "cityname",
         "rawType": "object",
         "type": "string"
        },
        {
         "name": "statecd",
         "rawType": "object",
         "type": "unknown"
        },
        {
         "name": "zipcd",
         "rawType": "object",
         "type": "unknown"
        }
       ],
       "ref": "2835b44a-cded-4567-8cce-0e067f9784bc",
       "rows": [
        [
         "0",
         "1006927",
         "272 S WASHINGTON ST",
         "NORTH ATTLEBORO",
         "MA",
         "02760"
        ],
        [
         "1",
         "1006928",
         "93 WAUREGAN RD",
         "KILLINGLY",
         "CT",
         "06239"
        ],
        [
         "2",
         "1006929",
         "352 OLD PLYMOUTH RD",
         "SAGAMORE BEACH",
         "MA",
         "02562"
        ],
        [
         "3",
         "1006930",
         "130 MASHPEE CT",
         "NEW BEDFORD",
         "MA",
         "02740"
        ],
        [
         "4",
         "1006931",
         "309 PROSPECT ST",
         "LEOMINSTER",
         "MA",
         "01453"
        ],
        [
         "5",
         "1006932",
         "98 WILLARD ST",
         "AYER",
         "MA",
         "01432"
        ],
        [
         "6",
         "1006933",
         "314 COMMERCIAL ST",
         "PROVINCETOWN",
         "MA",
         "02657"
        ],
        [
         "7",
         "1006934",
         "173 SHAYLEE PL",
         "SWANSEA",
         "MA",
         "02777"
        ],
        [
         "8",
         "1006935",
         "18 DONALD ST",
         "SOUTH DARTMOUTH",
         "MA",
         "02748"
        ],
        [
         "9",
         "1006936",
         "67 MARION RD",
         "SCITUATE",
         "MA",
         "02066"
        ],
        [
         "10",
         "1006937",
         "101 SWEETBRIAR DR",
         "CRANSTON",
         "RI",
         "02920"
        ],
        [
         "11",
         "1006938",
         "36 WOODSTOCK DR",
         "WARWICK",
         "RI",
         "02889"
        ],
        [
         "12",
         "1006939",
         "131 SILVERWOOD LN",
         "WEST WARWICK",
         "RI",
         "02893"
        ],
        [
         "13",
         "1006940",
         "9 LEONARD ST",
         "LAKEVILLE",
         "MA",
         "02347"
        ],
        [
         "14",
         "1006941",
         "11 FOLSOM AVE",
         "SOMERSET",
         "MA",
         "02726"
        ],
        [
         "15",
         "1006942",
         "52 MELROSE ST",
         "CRANSTON",
         "RI",
         "02910"
        ],
        [
         "16",
         "1006943",
         "8 WISTERIA LANE",
         "WYOMING",
         "RI",
         "02898"
        ],
        [
         "17",
         "1006944",
         "77 THIBEAULT AVE",
         "WOONSOCKET",
         "RI",
         "02895"
        ],
        [
         "18",
         "1006945",
         "3 AUSTIN ST",
         "BLACKSTONE",
         "MA",
         "01504"
        ],
        [
         "19",
         "1006946",
         "52 GREYLOCK AVE",
         "CRANSTON",
         "RI",
         "02910"
        ],
        [
         "20",
         "1006947",
         "49 ROSEMONT ST # 1",
         "DORCHESTER",
         "MA",
         "02122"
        ],
        [
         "21",
         "1006948",
         "2 ROSENFEILD DRIVE",
         "HOPEDALE",
         "MA",
         "01747"
        ],
        [
         "22",
         "1005128",
         "7 HALL RD",
         "DUDLEY",
         "MA",
         "01571"
        ],
        [
         "23",
         "1005129",
         "34 SHANNON WAY",
         "NORTH DARTMOUTH",
         "MA",
         "02747"
        ],
        [
         "24",
         "1005130",
         "245 DILLON LN",
         "SWANSEA",
         "MA",
         "02777"
        ],
        [
         "25",
         "1006044",
         "173 WELLSPRING DR",
         "WARWICK",
         "RI",
         "02886"
        ],
        [
         "26",
         "1006045",
         "100 GLACIER HILLS RD",
         "EASTHAM",
         "MA",
         "02642"
        ],
        [
         "27",
         "1006046",
         "27 BAY RIDGE RD",
         "HARWICH",
         "MA",
         "02645"
        ],
        [
         "28",
         "1006047",
         "11 CARRIAGE HOUSE LN",
         "SOUTH EASTON",
         "MA",
         "02375"
        ],
        [
         "29",
         "1006048",
         "555 PLEASANT ST",
         "ATTLEBORO",
         "MA",
         "02703"
        ],
        [
         "30",
         "1006049",
         "126 HOPPIN HILL RD",
         "NORTH ATTLEBORO",
         "MA",
         "02760"
        ],
        [
         "31",
         "1006050",
         "225 RESERVOIR RD",
         "CUMBERLAND",
         "RI",
         "02864"
        ],
        [
         "32",
         "1006051",
         "2 ROUND HILL CT",
         "EAST GREENWICH",
         "RI",
         "02818"
        ],
        [
         "33",
         "1006052",
         "277 FRANKLIN ST",
         "MANSFIELD",
         "MA",
         "02048"
        ],
        [
         "34",
         "1006053",
         "3235 N MAIN ST",
         "FALL RIVER",
         "MA",
         "02720"
        ],
        [
         "35",
         "1006054",
         "53 HENRY ST",
         "UXBRIDGE",
         "MA",
         "01569"
        ],
        [
         "36",
         "1006055",
         "986 LONGVIEW DR",
         "NORTH ATTLEBORO",
         "MA",
         "02760"
        ],
        [
         "37",
         "1006056",
         "34 MAIN ST EXTENSION SUITE 203",
         "PLYMOUTH",
         "MA",
         "02360"
        ],
        [
         "38",
         "1006057",
         "347 LAWTON ST",
         "FALL RIVER",
         "MA",
         "02721"
        ],
        [
         "39",
         "1006059",
         "81 PIERCE ST",
         "NEW BEDFORD",
         "MA",
         "02740"
        ],
        [
         "40",
         "1006060",
         "3 SURREY DR",
         "CARVER",
         "MA",
         "02330"
        ],
        [
         "41",
         "1006061",
         "29 LEMIS ST",
         "COVENTRY",
         "RI",
         "02816"
        ],
        [
         "42",
         "1006062",
         "32 HAMILTON RD",
         "CRANSTON",
         "RI",
         "02910"
        ],
        [
         "43",
         "1006063",
         "23 PLEASANTWOOD DR",
         "FORESTDALE",
         "MA",
         "02644"
        ],
        [
         "44",
         "1006087",
         "2 SCHOOL ST UNIT 214",
         "ALBION",
         "RI",
         "02802"
        ],
        [
         "45",
         "1006088",
         "677 LOCUST ST # 2",
         "FALL RIVER",
         "MA",
         "02720"
        ],
        [
         "46",
         "1006089",
         "62 QUARRY ST # 2",
         "FALL RIVER",
         "MA",
         "02723"
        ],
        [
         "47",
         "1006090",
         "65 HAYDEN ROWE ST",
         "HOPKINTON",
         "MA",
         "01748"
        ],
        [
         "48",
         "1006091",
         "59 WINTHROP AVE",
         "BRAINTREE",
         "MA",
         "02184"
        ],
        [
         "49",
         "1006092",
         "21 WHITE 2ND FL ST",
         "TAUNTON",
         "MA",
         "02780"
        ]
       ],
       "shape": {
        "columns": 5,
        "rows": 378530
       }
      },
      "text/html": [
       "<div>\n",
       "<style scoped>\n",
       "    .dataframe tbody tr th:only-of-type {\n",
       "        vertical-align: middle;\n",
       "    }\n",
       "\n",
       "    .dataframe tbody tr th {\n",
       "        vertical-align: top;\n",
       "    }\n",
       "\n",
       "    .dataframe thead th {\n",
       "        text-align: right;\n",
       "    }\n",
       "</style>\n",
       "<table border=\"1\" class=\"dataframe\">\n",
       "  <thead>\n",
       "    <tr style=\"text-align: right;\">\n",
       "      <th></th>\n",
       "      <th>addrnbr</th>\n",
       "      <th>Full_Street_Address</th>\n",
       "      <th>cityname</th>\n",
       "      <th>statecd</th>\n",
       "      <th>zipcd</th>\n",
       "    </tr>\n",
       "  </thead>\n",
       "  <tbody>\n",
       "    <tr>\n",
       "      <th>0</th>\n",
       "      <td>1006927</td>\n",
       "      <td>272 S WASHINGTON ST</td>\n",
       "      <td>NORTH ATTLEBORO</td>\n",
       "      <td>MA</td>\n",
       "      <td>02760</td>\n",
       "    </tr>\n",
       "    <tr>\n",
       "      <th>1</th>\n",
       "      <td>1006928</td>\n",
       "      <td>93 WAUREGAN RD</td>\n",
       "      <td>KILLINGLY</td>\n",
       "      <td>CT</td>\n",
       "      <td>06239</td>\n",
       "    </tr>\n",
       "    <tr>\n",
       "      <th>2</th>\n",
       "      <td>1006929</td>\n",
       "      <td>352 OLD PLYMOUTH RD</td>\n",
       "      <td>SAGAMORE BEACH</td>\n",
       "      <td>MA</td>\n",
       "      <td>02562</td>\n",
       "    </tr>\n",
       "    <tr>\n",
       "      <th>3</th>\n",
       "      <td>1006930</td>\n",
       "      <td>130 MASHPEE CT</td>\n",
       "      <td>NEW BEDFORD</td>\n",
       "      <td>MA</td>\n",
       "      <td>02740</td>\n",
       "    </tr>\n",
       "    <tr>\n",
       "      <th>4</th>\n",
       "      <td>1006931</td>\n",
       "      <td>309 PROSPECT ST</td>\n",
       "      <td>LEOMINSTER</td>\n",
       "      <td>MA</td>\n",
       "      <td>01453</td>\n",
       "    </tr>\n",
       "    <tr>\n",
       "      <th>...</th>\n",
       "      <td>...</td>\n",
       "      <td>...</td>\n",
       "      <td>...</td>\n",
       "      <td>...</td>\n",
       "      <td>...</td>\n",
       "    </tr>\n",
       "    <tr>\n",
       "      <th>378525</th>\n",
       "      <td>1429117</td>\n",
       "      <td>651 ORCHARD STREET</td>\n",
       "      <td>NEW BEDFORD</td>\n",
       "      <td>MA</td>\n",
       "      <td>02744</td>\n",
       "    </tr>\n",
       "    <tr>\n",
       "      <th>378526</th>\n",
       "      <td>1429161</td>\n",
       "      <td>58 ICARUS LN</td>\n",
       "      <td>ATTLEBORO</td>\n",
       "      <td>MA</td>\n",
       "      <td>02703</td>\n",
       "    </tr>\n",
       "    <tr>\n",
       "      <th>378527</th>\n",
       "      <td>1429178</td>\n",
       "      <td>3 NAMQUID DR</td>\n",
       "      <td>MIDDLETOWN</td>\n",
       "      <td>RI</td>\n",
       "      <td>02842</td>\n",
       "    </tr>\n",
       "    <tr>\n",
       "      <th>378528</th>\n",
       "      <td>1429179</td>\n",
       "      <td></td>\n",
       "      <td>EMAIL</td>\n",
       "      <td>None</td>\n",
       "      <td>None</td>\n",
       "    </tr>\n",
       "    <tr>\n",
       "      <th>378529</th>\n",
       "      <td>1429194</td>\n",
       "      <td>274 KEITH CIRCLE</td>\n",
       "      <td>SWANSEA</td>\n",
       "      <td>MA</td>\n",
       "      <td>02777</td>\n",
       "    </tr>\n",
       "  </tbody>\n",
       "</table>\n",
       "<p>378530 rows × 5 columns</p>\n",
       "</div>"
      ],
      "text/plain": [
       "        addrnbr  Full_Street_Address         cityname statecd  zipcd\n",
       "0       1006927  272 S WASHINGTON ST  NORTH ATTLEBORO      MA  02760\n",
       "1       1006928       93 WAUREGAN RD        KILLINGLY      CT  06239\n",
       "2       1006929  352 OLD PLYMOUTH RD   SAGAMORE BEACH      MA  02562\n",
       "3       1006930       130 MASHPEE CT      NEW BEDFORD      MA  02740\n",
       "4       1006931      309 PROSPECT ST       LEOMINSTER      MA  01453\n",
       "...         ...                  ...              ...     ...    ...\n",
       "378525  1429117   651 ORCHARD STREET      NEW BEDFORD      MA  02744\n",
       "378526  1429161         58 ICARUS LN        ATTLEBORO      MA  02703\n",
       "378527  1429178         3 NAMQUID DR       MIDDLETOWN      RI  02842\n",
       "378528  1429179                                 EMAIL    None   None\n",
       "378529  1429194     274 KEITH CIRCLE          SWANSEA      MA  02777\n",
       "\n",
       "[378530 rows x 5 columns]"
      ]
     },
     "execution_count": 13,
     "metadata": {},
     "output_type": "execute_result"
    }
   ],
   "source": [
    "df"
   ]
  },
  {
   "cell_type": "code",
   "execution_count": null,
   "id": "2dabb658",
   "metadata": {},
   "outputs": [],
   "source": []
  }
 ],
 "metadata": {
  "kernelspec": {
   "display_name": "bcsb-prod",
   "language": "python",
   "name": "python3"
  },
  "language_info": {
   "codemirror_mode": {
    "name": "ipython",
    "version": 3
   },
   "file_extension": ".py",
   "mimetype": "text/x-python",
   "name": "python",
   "nbconvert_exporter": "python",
   "pygments_lexer": "ipython3",
   "version": "3.11.9"
  }
 },
 "nbformat": 4,
 "nbformat_minor": 5
}
