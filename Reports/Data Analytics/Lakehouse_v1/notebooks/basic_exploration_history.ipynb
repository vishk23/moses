{
 "cells": [
  {
   "cell_type": "code",
   "execution_count": 1,
   "id": "c1a724e0",
   "metadata": {},
   "outputs": [],
   "source": [
    "import os\n",
    "import sys\n",
    "from pathlib import Path\n",
    "\n",
    "# Navigate to project root (equivalent to cd ..)\n",
    "project_dir = Path(__file__).parent.parent if '__file__' in globals() else Path.cwd().parent\n",
    "os.chdir(project_dir)\n",
    "\n",
    "# Add src directory to Python path for imports\n",
    "src_dir = project_dir / \"src\"\n",
    "if str(src_dir) not in sys.path:\n",
    "    sys.path.insert(0, str(src_dir))\n",
    "\n",
    "# Set environment for dev testing\n",
    "os.environ['REPORT_ENV'] = 'prod'"
   ]
  },
  {
   "cell_type": "code",
   "execution_count": 2,
   "id": "de6c09a0",
   "metadata": {},
   "outputs": [],
   "source": [
    "import src.config"
   ]
  },
  {
   "cell_type": "code",
   "execution_count": 3,
   "id": "7f5cbee6",
   "metadata": {},
   "outputs": [],
   "source": [
    "from deltalake import DeltaTable"
   ]
  },
  {
   "cell_type": "code",
   "execution_count": 4,
   "id": "53c91ce4",
   "metadata": {},
   "outputs": [],
   "source": [
    "from pathlib import Path"
   ]
  },
  {
   "cell_type": "code",
   "execution_count": null,
   "id": "b4bb6cd7",
   "metadata": {},
   "outputs": [],
   "source": [
    "history = DeltaTable(Path(r\"C:\\Users\\w322800\\Documents\\lakehouse\\silver\\address\")).history()"
   ]
  },
  {
   "cell_type": "code",
   "execution_count": null,
   "id": "d6afea95",
   "metadata": {},
   "outputs": [],
   "source": [
    "import pandas as pd\n",
    "history_df = pd.DataFrame(history)"
   ]
  },
  {
   "cell_type": "code",
   "execution_count": null,
   "id": "08d90c55",
   "metadata": {},
   "outputs": [],
   "source": [
    "history_df.info()"
   ]
  },
  {
   "cell_type": "code",
   "execution_count": null,
   "id": "fc8ea351",
   "metadata": {},
   "outputs": [],
   "source": [
    "from datetime import datetime, timezone"
   ]
  },
  {
   "cell_type": "code",
   "execution_count": null,
   "id": "2971ceb6",
   "metadata": {},
   "outputs": [],
   "source": [
    "def convert_ts(ts):\n",
    "    if len(str(ts)) == 13:\n",
    "        return pd.to_datetime(ts, unit='ms', utc=True)\n",
    "    else:\n",
    "        return pd.to_datetime(ts, unit='s', utc=True)\n",
    "\n",
    "history_df['readable_time'] = history_df['timestamp'].apply(convert_ts)"
   ]
  },
  {
   "cell_type": "code",
   "execution_count": null,
   "id": "22511d00",
   "metadata": {},
   "outputs": [],
   "source": [
    "history_df"
   ]
  },
  {
   "cell_type": "code",
   "execution_count": null,
   "id": "d70781ff",
   "metadata": {},
   "outputs": [],
   "source": [
    "DB_LOOKUP_PATH = src.config.BRONZE / \"metadata_lookup_engine1\""
   ]
  },
  {
   "cell_type": "code",
   "execution_count": null,
   "id": "0c56ec9d",
   "metadata": {},
   "outputs": [],
   "source": [
    "metadata1 = DeltaTable(DB_LOOKUP_PATH).to_pandas()"
   ]
  },
  {
   "cell_type": "code",
   "execution_count": null,
   "id": "51867ab9",
   "metadata": {},
   "outputs": [],
   "source": [
    "DB_LOOKUP_PATH = src.config.BRONZE / \"metadata_lookup_engine2\"\n",
    "metadata2 = DeltaTable(DB_LOOKUP_PATH).to_pandas()"
   ]
  },
  {
   "cell_type": "code",
   "execution_count": null,
   "id": "c61e5f00",
   "metadata": {},
   "outputs": [],
   "source": [
    "metadata1"
   ]
  },
  {
   "cell_type": "code",
   "execution_count": null,
   "id": "2dabb658",
   "metadata": {},
   "outputs": [],
   "source": [
    "metadata2"
   ]
  },
  {
   "cell_type": "code",
   "execution_count": 7,
   "id": "24d34f3a",
   "metadata": {},
   "outputs": [],
   "source": [
    "ACCOUNT_PATH = src.config.SILVER / \"account\""
   ]
  },
  {
   "cell_type": "code",
   "execution_count": 8,
   "id": "8fa8a8b2",
   "metadata": {},
   "outputs": [],
   "source": [
    "df = DeltaTable(ACCOUNT_PATH).to_pandas()"
   ]
  },
  {
   "cell_type": "code",
   "execution_count": null,
   "id": "d5b2d45b",
   "metadata": {},
   "outputs": [],
   "source": [
    "df"
   ]
  }
 ],
 "metadata": {
  "kernelspec": {
   "display_name": "bcsb-prod",
   "language": "python",
   "name": "python3"
  },
  "language_info": {
   "codemirror_mode": {
    "name": "ipython",
    "version": 3
   },
   "file_extension": ".py",
   "mimetype": "text/x-python",
   "name": "python",
   "nbconvert_exporter": "python",
   "pygments_lexer": "ipython3",
   "version": "3.11.9"
  }
 },
 "nbformat": 4,
 "nbformat_minor": 5
}
