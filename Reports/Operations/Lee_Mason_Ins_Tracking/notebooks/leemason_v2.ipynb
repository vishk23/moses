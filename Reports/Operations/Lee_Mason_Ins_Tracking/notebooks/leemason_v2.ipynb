{
 "cells": [
  {
   "cell_type": "code",
   "execution_count": null,
   "id": "c1a724e0",
   "metadata": {},
   "outputs": [],
   "source": [
    "import os\n",
    "import sys\n",
    "from pathlib import Path\n",
    "\n",
    "# Navigate to project root (equivalent to cd ..)\n",
    "project_dir = Path(__file__).parent if '__file__' in globals() else Path.cwd().parent\n",
    "os.chdir(project_dir)\n",
    "\n",
    "# Add src directory to Python path for imports\n",
    "src_dir = project_dir / \"src\"\n",
    "if str(src_dir) not in sys.path:\n",
    "    sys.path.insert(0, str(src_dir))\n",
    "\n",
    "# Set environment for dev testing\n",
    "os.environ['REPORT_ENV'] = 'prod'"
   ]
  },
  {
   "cell_type": "code",
   "execution_count": null,
   "id": "de6c09a0",
   "metadata": {},
   "outputs": [],
   "source": [
    "import src.config\n",
    "from deltalake import DeltaTable\n",
    "from pathlib import Path\n",
    "import pandas as pd\n"
   ]
  },
  {
   "cell_type": "code",
   "execution_count": null,
   "id": "ce8199d0",
   "metadata": {},
   "outputs": [],
   "source": [
    "TABLE_PATH = src.config.BRONZE / \"metadata_lookup_engine1\"\n",
    "metadata = DeltaTable(TABLE_PATH).to_pandas()"
   ]
  },
  {
   "cell_type": "code",
   "execution_count": null,
   "id": "c735d557",
   "metadata": {},
   "outputs": [],
   "source": [
    "metadata"
   ]
  },
  {
   "cell_type": "code",
   "execution_count": null,
   "id": "d70781ff",
   "metadata": {},
   "outputs": [],
   "source": [
    "# TABLE_PATH = src.config.BRONZE / \"metadata_lookup_engine1\"\n",
    "TABLE_PATH = src.config.SILVER / \"account\"\n"
   ]
  },
  {
   "cell_type": "code",
   "execution_count": null,
   "id": "29282b0a",
   "metadata": {},
   "outputs": [],
   "source": [
    "account = DeltaTable(TABLE_PATH).to_pandas()"
   ]
  },
  {
   "cell_type": "code",
   "execution_count": null,
   "id": "1b16923b",
   "metadata": {},
   "outputs": [],
   "source": [
    "account"
   ]
  },
  {
   "cell_type": "code",
   "execution_count": null,
   "id": "0ddf733e",
   "metadata": {},
   "outputs": [],
   "source": [
    "account_cleaned = account[\n",
    "    (account['mjaccttypcd'].isin(['CML','MTG','MLN']))\n",
    "].copy()"
   ]
  },
  {
   "cell_type": "code",
   "execution_count": null,
   "id": "0de91d87",
   "metadata": {},
   "outputs": [],
   "source": [
    "account_cleaned"
   ]
  },
  {
   "cell_type": "code",
   "execution_count": null,
   "id": "1783623c",
   "metadata": {},
   "outputs": [],
   "source": [
    "customer_address_link = DeltaTable(src.config.SILVER / \"customer_address_link\").to_pandas()"
   ]
  },
  {
   "cell_type": "code",
   "execution_count": null,
   "id": "feb5fe53",
   "metadata": {},
   "outputs": [],
   "source": [
    "customer_address_link"
   ]
  },
  {
   "cell_type": "code",
   "execution_count": null,
   "id": "738b7400",
   "metadata": {},
   "outputs": [],
   "source": [
    "customer_address_link = customer_address_link[customer_address_link['addrusecd'] == 'PRI'].copy()\n"
   ]
  },
  {
   "cell_type": "code",
   "execution_count": null,
   "id": "a88afa1e",
   "metadata": {},
   "outputs": [],
   "source": [
    "customer_address_link = customer_address_link[[\n",
    "    'customer_id',\n",
    "    'addrnbr'\n",
    "]].copy()"
   ]
  },
  {
   "cell_type": "code",
   "execution_count": null,
   "id": "b25a07c1",
   "metadata": {},
   "outputs": [],
   "source": [
    "account_cleaned = account_cleaned.merge(customer_address_link, on='customer_id', how='left')"
   ]
  },
  {
   "cell_type": "code",
   "execution_count": null,
   "id": "92191291",
   "metadata": {},
   "outputs": [],
   "source": [
    "TABLE_PATH = src.config.SILVER / \"address\"\n",
    "address = DeltaTable(TABLE_PATH).to_pandas()"
   ]
  },
  {
   "cell_type": "code",
   "execution_count": null,
   "id": "c787c2bc",
   "metadata": {},
   "outputs": [],
   "source": [
    "address = address.drop(columns='load_timestamp_utc').copy()"
   ]
  },
  {
   "cell_type": "code",
   "execution_count": null,
   "id": "2c6c2726",
   "metadata": {},
   "outputs": [],
   "source": [
    "import cdutils.input_cleansing"
   ]
  },
  {
   "cell_type": "code",
   "execution_count": null,
   "id": "ad9d432f",
   "metadata": {},
   "outputs": [],
   "source": [
    "account_cleaned_schema = {\n",
    "    'addrnbr':'str'\n",
    "}\n",
    "account_cleaned = cdutils.input_cleansing.cast_columns(account_cleaned, account_cleaned_schema)"
   ]
  },
  {
   "cell_type": "code",
   "execution_count": null,
   "id": "11ff5f14",
   "metadata": {},
   "outputs": [],
   "source": [
    "customer_address_link_schema = {\n",
    "    'addrnbr':'str'\n",
    "}\n",
    "customer_address_link = cdutils.input_cleansing.cast_columns(customer_address_link, customer_address_link_schema)"
   ]
  },
  {
   "cell_type": "code",
   "execution_count": null,
   "id": "a8e4ca19",
   "metadata": {},
   "outputs": [],
   "source": [
    "account_cleaned = account_cleaned.merge(address, on='addrnbr', how='left')"
   ]
  },
  {
   "cell_type": "code",
   "execution_count": null,
   "id": "34816570",
   "metadata": {},
   "outputs": [],
   "source": [
    "account_cleaned"
   ]
  },
  {
   "cell_type": "code",
   "execution_count": null,
   "id": "c487dad2",
   "metadata": {},
   "outputs": [],
   "source": [
    "account_cleaned"
   ]
  },
  {
   "cell_type": "code",
   "execution_count": null,
   "id": "0f612387",
   "metadata": {},
   "outputs": [],
   "source": [
    "TABLE_PATH = src.config.SILVER / \"property\"\n",
    "property = DeltaTable(TABLE_PATH).to_pandas()"
   ]
  },
  {
   "cell_type": "code",
   "execution_count": null,
   "id": "70d20f68",
   "metadata": {},
   "outputs": [],
   "source": [
    "property"
   ]
  },
  {
   "cell_type": "code",
   "execution_count": null,
   "id": "c1f26437",
   "metadata": {},
   "outputs": [],
   "source": [
    "property = property.drop(columns='load_timestamp_utc').copy()"
   ]
  },
  {
   "cell_type": "code",
   "execution_count": null,
   "id": "50d4be44",
   "metadata": {},
   "outputs": [],
   "source": [
    "# Acct prop linking\n",
    "TABLE_PATH = src.config.SILVER / \"account_property_link\"\n",
    "acct_prop_link = DeltaTable(TABLE_PATH).to_pandas()"
   ]
  },
  {
   "cell_type": "code",
   "execution_count": null,
   "id": "40e38f78",
   "metadata": {},
   "outputs": [],
   "source": [
    "acct_prop_link"
   ]
  },
  {
   "cell_type": "code",
   "execution_count": null,
   "id": "02d05be0",
   "metadata": {},
   "outputs": [],
   "source": [
    "acct_prop_link = acct_prop_link.drop(columns='load_timestamp_utc').copy()"
   ]
  },
  {
   "cell_type": "code",
   "execution_count": null,
   "id": "714e9360",
   "metadata": {},
   "outputs": [],
   "source": [
    "account_cleaned.info()"
   ]
  },
  {
   "cell_type": "code",
   "execution_count": null,
   "id": "22484f23",
   "metadata": {},
   "outputs": [],
   "source": [
    "acct_prop_link.info()"
   ]
  },
  {
   "cell_type": "code",
   "execution_count": null,
   "id": "38eff860",
   "metadata": {},
   "outputs": [],
   "source": [
    "merged_df = account_cleaned.merge(acct_prop_link, how='inner', on='acctnbr').merge(property, how='left', on='propnbr')"
   ]
  },
  {
   "cell_type": "code",
   "execution_count": null,
   "id": "1afb2943",
   "metadata": {},
   "outputs": [],
   "source": [
    "merged_df"
   ]
  },
  {
   "cell_type": "code",
   "execution_count": null,
   "id": "66c64398",
   "metadata": {},
   "outputs": [],
   "source": [
    "heloc_non_flood_to_exclude = ['MG52','MG55','MG48','MG71']\n",
    "mask_to_exclude = (\n",
    "    (merged_df['currmiaccttypcd'].isin(heloc_non_flood_to_exclude)) &\n",
    "    (merged_df['floodzoneyn'] == 'N')\n",
    ")"
   ]
  },
  {
   "cell_type": "code",
   "execution_count": null,
   "id": "278d982b",
   "metadata": {},
   "outputs": [],
   "source": [
    "# Filter out HELOCs that are not in flood zones\n",
    "merged_df = merged_df[~mask_to_exclude].copy()"
   ]
  },
  {
   "cell_type": "code",
   "execution_count": null,
   "id": "3e5f9099",
   "metadata": {},
   "outputs": [],
   "source": [
    "merged_df"
   ]
  },
  {
   "cell_type": "code",
   "execution_count": null,
   "id": "8320076b",
   "metadata": {},
   "outputs": [],
   "source": [
    "TABLE_PATH = src.config.SILVER / \"insurance\"\n",
    "insurance = DeltaTable(TABLE_PATH).to_pandas()"
   ]
  },
  {
   "cell_type": "code",
   "execution_count": null,
   "id": "dc8dd1e3",
   "metadata": {},
   "outputs": [],
   "source": [
    "insurance"
   ]
  },
  {
   "cell_type": "code",
   "execution_count": null,
   "id": "dfa81669",
   "metadata": {},
   "outputs": [],
   "source": [
    "insurance['instypcd'].unique()"
   ]
  },
  {
   "cell_type": "code",
   "execution_count": null,
   "id": "8403884d",
   "metadata": {},
   "outputs": [],
   "source": [
    "# Exclude PMI\n",
    "insurance = insurance[insurance['instypcd'] != \"PMI\"].copy()"
   ]
  },
  {
   "cell_type": "code",
   "execution_count": null,
   "id": "07d42dc1",
   "metadata": {},
   "outputs": [],
   "source": [
    "insurance.info(verbose=True)"
   ]
  },
  {
   "cell_type": "code",
   "execution_count": null,
   "id": "5d6e463e",
   "metadata": {},
   "outputs": [],
   "source": [
    "insurance = insurance[[\n",
    "    'intrpolicynbr',\n",
    "    'instypcd',\n",
    "    'instypdesc',\n",
    "    'insorgnbr',\n",
    "    'escrowyn_link',\n",
    "    'premamt',\n",
    "    'effdate_policy',\n",
    "    'expiredate',\n",
    "    'inactivedate_policy',\n",
    "    'coverageamt'\n",
    "]].copy()"
   ]
  },
  {
   "cell_type": "code",
   "execution_count": null,
   "id": "8f41fab5",
   "metadata": {},
   "outputs": [],
   "source": [
    "insurance.info()"
   ]
  },
  {
   "cell_type": "code",
   "execution_count": null,
   "id": "dd1a9469",
   "metadata": {},
   "outputs": [],
   "source": [
    "insurance['insorgnbr'] = insurance['insorgnbr'].astype(str)"
   ]
  },
  {
   "cell_type": "code",
   "execution_count": null,
   "id": "9b962936",
   "metadata": {},
   "outputs": [],
   "source": [
    "TABLE_PATH = src.config.BRONZE / \"wh_org\"\n",
    "wh_org = DeltaTable(TABLE_PATH).to_pandas()"
   ]
  },
  {
   "cell_type": "code",
   "execution_count": null,
   "id": "bdb1d231",
   "metadata": {},
   "outputs": [],
   "source": [
    "wh_org['orgnbr'] = wh_org['orgnbr'].astype(str)"
   ]
  },
  {
   "cell_type": "code",
   "execution_count": null,
   "id": "beef390c",
   "metadata": {},
   "outputs": [],
   "source": [
    "wh_org = wh_org[['orgnbr','orgname']].copy()"
   ]
  },
  {
   "cell_type": "code",
   "execution_count": null,
   "id": "bc617ac4",
   "metadata": {},
   "outputs": [],
   "source": [
    "wh_org = wh_org.rename(columns={'orgname':'Insurance Company Name'}).copy()"
   ]
  },
  {
   "cell_type": "code",
   "execution_count": null,
   "id": "471f8050",
   "metadata": {},
   "outputs": [],
   "source": [
    "insurance = insurance.merge(wh_org, how='left', left_on='insorgnbr', right_on='orgnbr')"
   ]
  },
  {
   "cell_type": "code",
   "execution_count": null,
   "id": "a8dfd413",
   "metadata": {},
   "outputs": [],
   "source": [
    "insurance"
   ]
  },
  {
   "cell_type": "code",
   "execution_count": null,
   "id": "e0c95713",
   "metadata": {},
   "outputs": [],
   "source": [
    "insurance = insurance.drop(columns=['insorgnbr','orgnbr']).copy()"
   ]
  },
  {
   "cell_type": "code",
   "execution_count": null,
   "id": "b75014f8",
   "metadata": {},
   "outputs": [],
   "source": [
    "TABLE_PATH = src.config.SILVER / \"acct_prop_ins_link\"\n",
    "acct_prop_ins_link = DeltaTable(TABLE_PATH).to_pandas()"
   ]
  },
  {
   "cell_type": "code",
   "execution_count": null,
   "id": "10105c5b",
   "metadata": {},
   "outputs": [],
   "source": [
    "acct_prop_ins_link"
   ]
  },
  {
   "cell_type": "code",
   "execution_count": null,
   "id": "5b735a5f",
   "metadata": {},
   "outputs": [],
   "source": [
    "acct_prop_ins_link.info()"
   ]
  },
  {
   "cell_type": "code",
   "execution_count": null,
   "id": "d1e9de7b",
   "metadata": {},
   "outputs": [],
   "source": [
    "acct_prop_ins_link = acct_prop_ins_link[['propnbr','intrpolicynbr']].copy()\n",
    "acct_prop_ins_link = acct_prop_ins_link.drop_duplicates().reset_index(drop=True)"
   ]
  },
  {
   "cell_type": "code",
   "execution_count": null,
   "id": "cd686467",
   "metadata": {},
   "outputs": [],
   "source": [
    "acct_prop_ins_link"
   ]
  },
  {
   "cell_type": "code",
   "execution_count": null,
   "id": "8786a958",
   "metadata": {},
   "outputs": [],
   "source": [
    "merged_df.info(verbose=True)"
   ]
  },
  {
   "cell_type": "code",
   "execution_count": null,
   "id": "247f2950",
   "metadata": {},
   "outputs": [],
   "source": [
    "merged_df = merged_df[[\n",
    "    'acctnbr',\n",
    "    'ownersortname',\n",
    "    'notebal',\n",
    "    'Net Balance',\n",
    "    'noteopenamt',\n",
    "    'orig_ttl_loan_amt',\n",
    "    'Full_Street_Address',\n",
    "    'cityname',\n",
    "    'statecd',\n",
    "    'zipcd',\n",
    "    'propnbr',\n",
    "    'proptypcd',\n",
    "    'proptypdesc',\n",
    "    'propaddr1',\n",
    "    'propaddr2',\n",
    "    'propaddr3',\n",
    "    'propcity',\n",
    "    'propstate',\n",
    "    'propzip',\n",
    "    'propdesc',\n",
    "    'floodzoneyn',\n",
    "    'floodzone',\n",
    "    'aprsvalueamt',\n",
    "    'product',\n",
    "    'mjaccttypcd',\n",
    "    'currmiaccttypcd',\n",
    "    'creditlimitamt',\n",
    "    'contractdate'\n",
    "]].copy()"
   ]
  },
  {
   "cell_type": "code",
   "execution_count": null,
   "id": "64293b31",
   "metadata": {},
   "outputs": [],
   "source": [
    "merged_df = merged_df.rename(columns={\n",
    "    'Full_Street_Address':'Borrower Primary Address',\n",
    "    'cityname':'Borrower City',\n",
    "    'statecd':'Borrower State',\n",
    "    'zipcd': 'Borrower Zip'\n",
    "}\n",
    ").copy()"
   ]
  },
  {
   "cell_type": "code",
   "execution_count": null,
   "id": "ee45d55a",
   "metadata": {},
   "outputs": [],
   "source": [
    "new_merged_df = merged_df.merge(acct_prop_ins_link, how='left',on='propnbr').merge(insurance, how='left', on='intrpolicynbr')"
   ]
  },
  {
   "cell_type": "code",
   "execution_count": null,
   "id": "9cf77f18",
   "metadata": {},
   "outputs": [],
   "source": [
    "new_merged_df"
   ]
  },
  {
   "cell_type": "code",
   "execution_count": null,
   "id": "fd08968a",
   "metadata": {},
   "outputs": [],
   "source": [
    "# Property type grouping configuration\n",
    "PROPERTY_TYPE_GROUPS = {\n",
    "    'Autobody/Gas Station': ['Autobody/Gas Station','Gas Station and Convenience St','Auto-Truck Repair','Car Wash'],\n",
    "    'Retail': ['Retail - Big Box Store','Shopping Plaza','Strip Plaza','General Retail','Dealership'],\n",
    "    'Hospitality': ['Hotel/Motel','Hospitality/Event Space','Assisted Living'],\n",
    "    'Recreation': ['Outdoor Recreation','Indoor Recreational','Golf Course','Marina'],\n",
    "    'Industrial': ['Manufacturing','Warehouse','Industrial','Seafood Processing Plant','Solar Farm'],\n",
    "    'Land': ['Land - Unimproved','Land - Improved','Parking Lot'],\n",
    "    'Mixed Use': ['Mixed Use (Retail/Office)','Mixed Use (Retail/Residential)','Mixed Use (Office/Residential)'],\n",
    "    'Multi Family': ['Apartment Building','Multi Family'],\n",
    "    'General Office': ['Office - Professional','Office- General'],\n",
    "    'Medical Office': ['Office - Medical'],\n",
    "    'Restaurant': ['Restaurant'],\n",
    "    'Residential': ['1-4 Fam Res - Non Own Occ','1 Family Residential - Own Occ','2 Family Residential - Own Occ','Condominium'],\n",
    "    'Storage': ['Self Storage'],\n",
    "    'Educational': ['Educational Facilities','Day Care'],\n",
    "    'Religious': ['Church'],\n",
    "    'Vehicles': ['Vehicle - Business','Boat'],\n",
    "    'Other': ['Commercial - Other','Real Estate - Business','Real Estate - Bus&Bus Assets','Real Estate - Personal & Bus','Real Estate - Pers&Bus Assets','All Business Assets','Bus Assets w/Accts Receivable','UCC - ABA','UCC- Equipment','Assignment of Leases/Rents','General Contractor','Outdoor Dealers','Marketable Securities','SBA Loan','Funeral Home','Savings - Partially Secured','Passbook/Savings Secured']\n",
    "}\n",
    "\n"
   ]
  },
  {
   "cell_type": "code",
   "execution_count": null,
   "id": "c435cc5a",
   "metadata": {},
   "outputs": [],
   "source": [
    "# Create mapping from individual property types to groups\n",
    "proptype_mapping = {code: group for group, codes in PROPERTY_TYPE_GROUPS.items() for code in codes}\n",
    "\n",
    "# Add cleaned property type to property data\n",
    "new_merged_df['Cleaned Prop Type'] = new_merged_df['proptypdesc'].map(proptype_mapping).fillna('Other')"
   ]
  },
  {
   "cell_type": "code",
   "execution_count": null,
   "id": "3a2bcc58",
   "metadata": {},
   "outputs": [],
   "source": [
    "new_merged_df.info(verbose=True)"
   ]
  },
  {
   "cell_type": "code",
   "execution_count": null,
   "id": "a59dd86c",
   "metadata": {},
   "outputs": [],
   "source": [
    "new_merged_df"
   ]
  },
  {
   "cell_type": "code",
   "execution_count": null,
   "id": "fe17844c",
   "metadata": {},
   "outputs": [],
   "source": [
    "acct_role_link = DeltaTable(src.config.SILVER / \"acct_role_link\").to_pandas()"
   ]
  },
  {
   "cell_type": "code",
   "execution_count": null,
   "id": "b02d658a",
   "metadata": {},
   "outputs": [],
   "source": [
    "acct_role_link = acct_role_link[acct_role_link['acctrolecd'] == 'OWN']\n",
    "acct_role_link = acct_role_link[[\n",
    "    'acctnbr',\n",
    "    'customer_id'\n",
    "]].copy()\n",
    "acct_role_link = acct_role_link.drop_duplicates(subset=['acctnbr'], keep='first')"
   ]
  },
  {
   "cell_type": "code",
   "execution_count": null,
   "id": "9c7ebcaa",
   "metadata": {},
   "outputs": [],
   "source": [
    "base_cust_dim = DeltaTable(src.config.SILVER / \"base_customer_dim\").to_pandas()"
   ]
  },
  {
   "cell_type": "code",
   "execution_count": null,
   "id": "b954d7e7",
   "metadata": {},
   "outputs": [],
   "source": [
    "base_cust_dim"
   ]
  },
  {
   "cell_type": "code",
   "execution_count": null,
   "id": "59f9571c",
   "metadata": {},
   "outputs": [],
   "source": [
    "base_cust_dim = base_cust_dim[[\n",
    "    'customer_id',\n",
    "    'customer_name'\n",
    "]].copy()"
   ]
  },
  {
   "cell_type": "code",
   "execution_count": null,
   "id": "bbd4bcc9",
   "metadata": {},
   "outputs": [],
   "source": [
    "base_cust_dim = base_cust_dim.rename(columns={\n",
    "    'customer_name':'Primary Borrower 2'\n",
    "}).copy()\n",
    "acct_role_link = acct_role_link.merge(base_cust_dim, on='customer_id', how='left')"
   ]
  },
  {
   "cell_type": "code",
   "execution_count": null,
   "id": "8e1b34b0",
   "metadata": {},
   "outputs": [],
   "source": [
    "acct_role_link"
   ]
  },
  {
   "cell_type": "code",
   "execution_count": null,
   "id": "89842285",
   "metadata": {},
   "outputs": [],
   "source": [
    "acct_role_link = acct_role_link[[\n",
    "    'acctnbr',\n",
    "    'Primary Borrower 2'\n",
    "]].copy()"
   ]
  },
  {
   "cell_type": "code",
   "execution_count": null,
   "id": "3ca923d9",
   "metadata": {},
   "outputs": [],
   "source": [
    "new_merged_df = new_merged_df.merge(acct_role_link, on='acctnbr', how='left')"
   ]
  },
  {
   "cell_type": "code",
   "execution_count": null,
   "id": "d4b88871",
   "metadata": {},
   "outputs": [],
   "source": [
    "new_merged_df"
   ]
  },
  {
   "cell_type": "code",
   "execution_count": null,
   "id": "06c7ca29",
   "metadata": {},
   "outputs": [],
   "source": [
    "new_merged_df.info()"
   ]
  },
  {
   "cell_type": "code",
   "execution_count": null,
   "id": "5a12ca45",
   "metadata": {},
   "outputs": [],
   "source": [
    "new_merged_df = new_merged_df.rename(columns={\n",
    "    'acctnbr':'Loan_Number',\n",
    "    'ownersortname':'Borrower_Name',\n",
    "    'Primary Borrower 2':'Borrower_Name_2',\n",
    "    'Borrower Primary Address':'Borrower_Street_1',\n",
    "    # Null row for Borrower Street 2\n",
    "    'Borrower City':'Borrower_City',\n",
    "    'Borrower State':'Borrower_State',\n",
    "    'Borrower Zip':'Borrower_Zip',\n",
    "    'notebal':'Principal_Balance',\n",
    "    'creditlimitamt':'Line_Of_Credit_Amount',\n",
    "    'contractdate':'Origination_Date',\n",
    "    # Calculated Field for Collateral_Type = 'Real Estate'\n",
    "    'propaddr1':'Property_Street_1',\n",
    "    'propaddr2':'Property_Street_2',\n",
    "    'propcity':'Property_City',\n",
    "    'propstate':'Property_State',\n",
    "    'propzip':'Property_Zip',\n",
    "    'coverageamt':'Insurable_Value',\n",
    "    # Replacement_Cost null field\n",
    "    'floodzone':'Flood_Zone', # SWAP to actual flood zone description\n",
    "    'instypcd':'Coverage_Type',\n",
    "    'escrowyn_link':'Premium_Escrowed',\n",
    "    'mjaccttypcd':'Loan_Type',\n",
    "    'proptypdesc':'Building_Type',\n",
    "    # ---\n",
    "    'propdesc':'Collateral_Description'\n",
    "}).copy()\n",
    "\n",
    "new_merged_df['Collateral_Type'] =  'Real Estate'\n",
    "new_merged_df['Borrower_Street_2'] = None\n",
    "new_merged_df['Replacement_Cost'] = None\n",
    "\n",
    "cleaned_df = new_merged_df[[\n",
    "'Loan_Number',\n",
    "'Borrower_Name',\n",
    "'Borrower_Name_2',\n",
    "'Borrower_Street_1',\n",
    "'Borrower_Street_2',\n",
    "'Borrower_City',\n",
    "'Borrower_State',\n",
    "'Borrower_Zip',\n",
    "'Principal_Balance',\n",
    "'Line_Of_Credit_Amount',\n",
    "'Origination_Date',\n",
    "'Collateral_Type',\n",
    "'Property_Street_1',\n",
    "'Property_Street_2',\n",
    "'Property_City',\n",
    "'Property_State',\n",
    "'Property_Zip',\n",
    "'Insurable_Value',\n",
    "'Replacement_Cost',\n",
    "'Flood_Zone',\n",
    "'Coverage_Type',\n",
    "'Premium_Escrowed',\n",
    "'Loan_Type',\n",
    "'Building_Type',\n",
    "# Additional fields not on requested template\n",
    "'Collateral_Description',\n",
    "'currmiaccttypcd',\n",
    "'product'\n",
    "]].copy()\n"
   ]
  },
  {
   "cell_type": "code",
   "execution_count": null,
   "id": "24b832a9",
   "metadata": {},
   "outputs": [],
   "source": [
    "cleaned_df"
   ]
  },
  {
   "cell_type": "code",
   "execution_count": null,
   "id": "ae8b493f",
   "metadata": {},
   "outputs": [],
   "source": [
    "\n",
    "\n",
    "# List of terms to exclude (case insensitive)\n",
    "exclude_terms = [\n",
    "    \"All Business Assets\",\n",
    "    \"UCC\",\n",
    "    \"Assign\",\n",
    "    \"Land\",\n",
    "    \"Vehicle\",\n",
    "    \"Equipment\",\n",
    "    \"Bus Assets w/Acct Receivable\",\n",
    "    \"Bus Assets\",\n",
    "    \"Boat\",\n",
    "    \"Passbook\",\n",
    "    \"Certificate of Deposit\",\n",
    "    \"Cash Life Insurance\",\n",
    "    \"Parking Lot\",\n",
    "    \"Marketable Securities\",\n",
    "    \"Accounts Receivable\",\n",
    "    \"Savings\",\n",
    "    \"Classic Auto\",\n",
    "    \"Inventory\",\n",
    "    \"Mobile Home\",\n",
    "    \"Lease Hold Mortgage\",\n",
    "    \"Key Person life insurance\",\n",
    "    \"security agreement\",\n",
    "    \"stock\",\n",
    "    \"Vessel\"\n",
    "]\n",
    "\n",
    "# Function to check if any exclude term is in the collateral type (case insensitive)\n",
    "def should_exclude(collateral_type):\n",
    "    ct_lower = collateral_type.lower()\n",
    "    return any(term.lower() in ct_lower for term in exclude_terms)\n",
    "\n",
    "# Apply the filter\n",
    "cleaned_df = cleaned_df[~cleaned_df['Building_Type'].apply(should_exclude)]\n"
   ]
  },
  {
   "cell_type": "code",
   "execution_count": null,
   "id": "3fe77bb9",
   "metadata": {},
   "outputs": [],
   "source": [
    "OUTPUT_DIR = Path('./output')\n",
    "OUTPUT_DIR.mkdir(parents=True, exist_ok=True)\n",
    "filename = 'lee_mason_extract.xlsx'\n",
    "OUTPUT_PATH = OUTPUT_DIR / filename\n",
    "cleaned_df.to_excel(OUTPUT_PATH, index=False) "
   ]
  },
  {
   "cell_type": "code",
   "execution_count": null,
   "id": "fbb1bb84",
   "metadata": {},
   "outputs": [],
   "source": []
  }
 ],
 "metadata": {
  "kernelspec": {
   "display_name": "bcsb-prod",
   "language": "python",
   "name": "python3"
  },
  "language_info": {
   "codemirror_mode": {
    "name": "ipython",
    "version": 3
   },
   "file_extension": ".py",
   "mimetype": "text/x-python",
   "name": "python",
   "nbconvert_exporter": "python",
   "pygments_lexer": "ipython3",
   "version": "3.11.9"
  }
 },
 "nbformat": 4,
 "nbformat_minor": 5
}
