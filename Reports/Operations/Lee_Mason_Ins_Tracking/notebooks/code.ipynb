{
 "cells": [
  {
   "cell_type": "code",
   "execution_count": null,
   "id": "c1a724e0",
   "metadata": {},
   "outputs": [],
   "source": [
    "import os\n",
    "import sys\n",
    "from pathlib import Path\n",
    "\n",
    "# Navigate to project root (equivalent to cd ..)\n",
    "project_dir = Path(__file__).parent.parent if '__file__' in globals() else Path.cwd().parent\n",
    "os.chdir(project_dir)\n",
    "\n",
    "# Add src directory to Python path for imports\n",
    "src_dir = project_dir / \"src\"\n",
    "if str(src_dir) not in sys.path:\n",
    "    sys.path.insert(0, str(src_dir))\n",
    "\n",
    "# Set environment for dev testing\n",
    "os.environ['REPORT_ENV'] = 'dev'"
   ]
  },
  {
   "cell_type": "code",
   "execution_count": null,
   "id": "de6c09a0",
   "metadata": {},
   "outputs": [],
   "source": [
    "# Core logic specific to project/report\n",
    "import pandas as pd\n",
    "import cdutils.acct_file_creation.core\n",
    "\n",
    "def main():\n",
    "    acct_data = cdutils.acct_file_creation.core.query_df_on_date()\n",
    "\n",
    "    return acct_data\n",
    "\n",
    "\n"
   ]
  },
  {
   "cell_type": "code",
   "execution_count": null,
   "id": "bf5483c2",
   "metadata": {},
   "outputs": [],
   "source": [
    "df = main()"
   ]
  },
  {
   "cell_type": "code",
   "execution_count": null,
   "id": "08ed83f1",
   "metadata": {},
   "outputs": [],
   "source": [
    "df"
   ]
  },
  {
   "cell_type": "code",
   "execution_count": null,
   "id": "facbdb6f",
   "metadata": {},
   "outputs": [],
   "source": [
    "import src.lee_mason.fetch_data"
   ]
  },
  {
   "cell_type": "code",
   "execution_count": null,
   "id": "4237483f",
   "metadata": {},
   "outputs": [],
   "source": [
    "raw_data = src.lee_mason.fetch_data.fetch_data()"
   ]
  },
  {
   "cell_type": "code",
   "execution_count": null,
   "id": "155dc693",
   "metadata": {},
   "outputs": [],
   "source": [
    "raw_data.keys()"
   ]
  },
  {
   "cell_type": "code",
   "execution_count": null,
   "id": "a54fa40e",
   "metadata": {},
   "outputs": [],
   "source": [
    "acctpropins = raw_data['acctpropins'].copy()\n",
    "wh_prop = raw_data['wh_prop'].copy()\n",
    "wh_prop2 = raw_data['wh_prop2'].copy()\n",
    "wh_inspolicy = raw_data['wh_inspolicy'].copy()"
   ]
  },
  {
   "cell_type": "code",
   "execution_count": null,
   "id": "4481d99a",
   "metadata": {},
   "outputs": [],
   "source": [
    "acctpropins"
   ]
  },
  {
   "cell_type": "code",
   "execution_count": null,
   "id": "51401ed7",
   "metadata": {},
   "outputs": [],
   "source": [
    "acctpropins['composite_key'] = acctpropins['acctnbr'].astype(str) + acctpropins['propnbr'].astype(str) + acctpropins['intrpolicynbr'].astype(str)"
   ]
  },
  {
   "cell_type": "code",
   "execution_count": null,
   "id": "97a2f3b9",
   "metadata": {},
   "outputs": [],
   "source": [
    "assert acctpropins['composite_key'].is_unique, \"duplicates!\""
   ]
  },
  {
   "cell_type": "code",
   "execution_count": null,
   "id": "bc8010b3",
   "metadata": {},
   "outputs": [],
   "source": [
    "wh_inspolicy"
   ]
  },
  {
   "cell_type": "code",
   "execution_count": null,
   "id": "f1fb59a8",
   "metadata": {},
   "outputs": [],
   "source": []
  }
 ],
 "metadata": {
  "kernelspec": {
   "display_name": "bcsb-prod",
   "language": "python",
   "name": "python3"
  },
  "language_info": {
   "codemirror_mode": {
    "name": "ipython",
    "version": 3
   },
   "file_extension": ".py",
   "mimetype": "text/x-python",
   "name": "python",
   "nbconvert_exporter": "python",
   "pygments_lexer": "ipython3",
   "version": "3.11.9"
  }
 },
 "nbformat": 4,
 "nbformat_minor": 5
}
