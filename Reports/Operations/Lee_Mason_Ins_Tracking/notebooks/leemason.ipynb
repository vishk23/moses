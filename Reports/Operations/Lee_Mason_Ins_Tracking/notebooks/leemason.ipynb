{
 "cells": [
  {
   "cell_type": "code",
   "execution_count": null,
   "id": "c1a724e0",
   "metadata": {},
   "outputs": [],
   "source": [
    "import os\n",
    "import sys\n",
    "from pathlib import Path\n",
    "\n",
    "# Navigate to project root (equivalent to cd ..)\n",
    "project_dir = Path(__file__).parent.parent if '__file__' in globals() else Path.cwd().parent\n",
    "os.chdir(project_dir)\n",
    "\n",
    "# Add src directory to Python path for imports\n",
    "src_dir = project_dir / \"src\"\n",
    "if str(src_dir) not in sys.path:\n",
    "    sys.path.insert(0, str(src_dir))\n",
    "\n",
    "# Set environment for dev testing\n",
    "os.environ['REPORT_ENV'] = 'prod'"
   ]
  },
  {
   "cell_type": "code",
   "execution_count": null,
   "id": "de6c09a0",
   "metadata": {},
   "outputs": [],
   "source": [
    "import src.config\n",
    "from deltalake import DeltaTable\n",
    "from pathlib import Path\n",
    "import pandas as pd\n"
   ]
  },
  {
   "cell_type": "code",
   "execution_count": null,
   "id": "d70781ff",
   "metadata": {},
   "outputs": [],
   "source": [
    "# TABLE_PATH = src.config.BRONZE / \"metadata_lookup_engine1\"\n",
    "TABLE_PATH = src.config.SILVER / \"account\"\n"
   ]
  },
  {
   "cell_type": "code",
   "execution_count": null,
   "id": "29282b0a",
   "metadata": {},
   "outputs": [],
   "source": [
    "account = DeltaTable(TABLE_PATH).to_pandas()"
   ]
  },
  {
   "cell_type": "code",
   "execution_count": null,
   "id": "1b16923b",
   "metadata": {},
   "outputs": [],
   "source": [
    "account"
   ]
  },
  {
   "cell_type": "code",
   "execution_count": null,
   "id": "8320076b",
   "metadata": {},
   "outputs": [],
   "source": [
    "TABLE_PATH = src.config.BRONZE / \"acctpropins\"\n",
    "acctpropins = DeltaTable(TABLE_PATH).to_pandas()"
   ]
  },
  {
   "cell_type": "code",
   "execution_count": null,
   "id": "e568123e",
   "metadata": {},
   "outputs": [],
   "source": [
    "acctpropins"
   ]
  },
  {
   "cell_type": "code",
   "execution_count": null,
   "id": "eba56347",
   "metadata": {},
   "outputs": [],
   "source": [
    "TABLE_PATH = src.config.BRONZE / \"wh_inspolicy\"\n",
    "wh_inspolicy = DeltaTable(TABLE_PATH).to_pandas()\n"
   ]
  },
  {
   "cell_type": "code",
   "execution_count": null,
   "id": "cb159d74",
   "metadata": {},
   "outputs": [],
   "source": [
    "wh_inspolicy"
   ]
  },
  {
   "cell_type": "code",
   "execution_count": null,
   "id": "87b2170d",
   "metadata": {},
   "outputs": [],
   "source": [
    "# %%\n",
    "# A left join is perfect here. We want to keep every link from `acctpropins`\n",
    "# and attach the policy details from `wh_inspolicy`.\n",
    "full_insurance_data = pd.merge(\n",
    "    acctpropins,\n",
    "    wh_inspolicy,\n",
    "    on='intrpolicynbr',\n",
    "    how='left',\n",
    "    suffixes=('_link', '_policy') # Add suffixes in case of any other overlapping column names\n",
    ")\n",
    "\n",
    "print(\"Joined `acctpropins` and `wh_inspolicy`.\")\n",
    "print(f\"Resulting table has {len(full_insurance_data)} rows.\")\n",
    "full_insurance_data.info()"
   ]
  },
  {
   "cell_type": "code",
   "execution_count": null,
   "id": "13005efa",
   "metadata": {},
   "outputs": [],
   "source": [
    "full_insurance_data"
   ]
  },
  {
   "cell_type": "code",
   "execution_count": null,
   "id": "18c838a0",
   "metadata": {},
   "outputs": [],
   "source": [
    "full_insurance_data['instypdesc'].unique()"
   ]
  },
  {
   "cell_type": "code",
   "execution_count": null,
   "id": "e294fee2",
   "metadata": {},
   "outputs": [],
   "source": [
    "TABLE_PATH = src.config.SILVER / \"property\"\n",
    "property = DeltaTable(TABLE_PATH).to_pandas()"
   ]
  },
  {
   "cell_type": "code",
   "execution_count": null,
   "id": "88c97882",
   "metadata": {},
   "outputs": [],
   "source": [
    "property"
   ]
  },
  {
   "cell_type": "code",
   "execution_count": null,
   "id": "b75014f8",
   "metadata": {},
   "outputs": [],
   "source": [
    "TABLE_PATH = src.config.SILVER / \"account_property_link\"\n",
    "acct_prop_link = DeltaTable(TABLE_PATH).to_pandas()"
   ]
  },
  {
   "cell_type": "code",
   "execution_count": null,
   "id": "10105c5b",
   "metadata": {},
   "outputs": [],
   "source": [
    "acct_prop_link"
   ]
  },
  {
   "cell_type": "code",
   "execution_count": null,
   "id": "5ad18bf2",
   "metadata": {},
   "outputs": [],
   "source": [
    "# Allroles\n",
    "TABLE_PATH = src.config.BRONZE / \"wh_allroles\"\n",
    "wh_allroles = DeltaTable(TABLE_PATH).to_pandas()"
   ]
  },
  {
   "cell_type": "code",
   "execution_count": null,
   "id": "936deaf5",
   "metadata": {},
   "outputs": [],
   "source": [
    "wh_allroles"
   ]
  },
  {
   "cell_type": "code",
   "execution_count": null,
   "id": "4406ccce",
   "metadata": {},
   "outputs": [],
   "source": []
  }
 ],
 "metadata": {
  "kernelspec": {
   "display_name": "bcsb-prod",
   "language": "python",
   "name": "python3"
  },
  "language_info": {
   "codemirror_mode": {
    "name": "ipython",
    "version": 3
   },
   "file_extension": ".py",
   "mimetype": "text/x-python",
   "name": "python",
   "nbconvert_exporter": "python",
   "pygments_lexer": "ipython3",
   "version": "3.11.9"
  }
 },
 "nbformat": 4,
 "nbformat_minor": 5
}
