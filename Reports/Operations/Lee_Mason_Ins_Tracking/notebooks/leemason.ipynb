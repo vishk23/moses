{
 "cells": [
  {
   "cell_type": "code",
   "execution_count": null,
   "id": "c1a724e0",
   "metadata": {},
   "outputs": [],
   "source": [
    "import os\n",
    "import sys\n",
    "from pathlib import Path\n",
    "\n",
    "# Navigate to project root (equivalent to cd ..)\n",
    "project_dir = Path(__file__).parent.parent if '__file__' in globals() else Path.cwd().parent\n",
    "os.chdir(project_dir)\n",
    "\n",
    "# Add src directory to Python path for imports\n",
    "src_dir = project_dir / \"src\"\n",
    "if str(src_dir) not in sys.path:\n",
    "    sys.path.insert(0, str(src_dir))\n",
    "\n",
    "# Set environment for dev testing\n",
    "os.environ['REPORT_ENV'] = 'prod'"
   ]
  },
  {
   "cell_type": "code",
   "execution_count": null,
   "id": "de6c09a0",
   "metadata": {},
   "outputs": [],
   "source": [
    "import src.config\n",
    "from deltalake import DeltaTable\n",
    "from pathlib import Path\n",
    "import pandas as pd\n"
   ]
  },
  {
   "cell_type": "code",
   "execution_count": null,
   "id": "ce8199d0",
   "metadata": {},
   "outputs": [],
   "source": [
    "TABLE_PATH = src.config.BRONZE / \"metadata_lookup_engine1\"\n",
    "metadata = DeltaTable(TABLE_PATH).to_pandas()"
   ]
  },
  {
   "cell_type": "code",
   "execution_count": null,
   "id": "c735d557",
   "metadata": {},
   "outputs": [],
   "source": [
    "metadata"
   ]
  },
  {
   "cell_type": "code",
   "execution_count": null,
   "id": "d70781ff",
   "metadata": {},
   "outputs": [],
   "source": [
    "# TABLE_PATH = src.config.BRONZE / \"metadata_lookup_engine1\"\n",
    "TABLE_PATH = src.config.SILVER / \"account\"\n"
   ]
  },
  {
   "cell_type": "code",
   "execution_count": null,
   "id": "29282b0a",
   "metadata": {},
   "outputs": [],
   "source": [
    "account = DeltaTable(TABLE_PATH).to_pandas()"
   ]
  },
  {
   "cell_type": "code",
   "execution_count": null,
   "id": "1b16923b",
   "metadata": {},
   "outputs": [],
   "source": [
    "account"
   ]
  },
  {
   "cell_type": "code",
   "execution_count": null,
   "id": "0ddf733e",
   "metadata": {},
   "outputs": [],
   "source": [
    "account_cleaned = account[\n",
    "    (account['mjaccttypcd'].isin(['CML','MTG','MLN']))\n",
    "].copy()"
   ]
  },
  {
   "cell_type": "code",
   "execution_count": null,
   "id": "0de91d87",
   "metadata": {},
   "outputs": [],
   "source": [
    "account_cleaned"
   ]
  },
  {
   "cell_type": "code",
   "execution_count": null,
   "id": "54d78956",
   "metadata": {},
   "outputs": [],
   "source": [
    "# Get primary address for org/pers tax owner\n",
    "TABLE_PATH = src.config.BRONZE / \"persaddruse\"\n",
    "persaddruse = DeltaTable(TABLE_PATH).to_pandas()\n",
    "TABLE_PATH = src.config.BRONZE / \"orgaddruse\"\n",
    "orgaddruse = DeltaTable(TABLE_PATH).to_pandas()"
   ]
  },
  {
   "cell_type": "code",
   "execution_count": null,
   "id": "77384cb8",
   "metadata": {},
   "outputs": [],
   "source": [
    "persaddruse = persaddruse[persaddruse['addrusecd'] == 'PRI'].copy()\n",
    "orgaddruse = orgaddruse[orgaddruse['addrusecd'] == 'PRI'].copy()\n"
   ]
  },
  {
   "cell_type": "code",
   "execution_count": null,
   "id": "bc5c468c",
   "metadata": {},
   "outputs": [],
   "source": [
    "persaddruse.info()"
   ]
  },
  {
   "cell_type": "code",
   "execution_count": null,
   "id": "edccb7e0",
   "metadata": {},
   "outputs": [],
   "source": [
    "persaddruse = persaddruse[[\n",
    "    'persnbr',\n",
    "    'addrnbr'\n",
    "]].copy()\n",
    "\n",
    "orgaddruse = orgaddruse[[\n",
    "    'orgnbr',\n",
    "    'addrnbr'\n",
    "]].copy()"
   ]
  },
  {
   "cell_type": "code",
   "execution_count": null,
   "id": "b4b11ef2",
   "metadata": {},
   "outputs": [],
   "source": [
    "persaddruse['persnbr'] = persaddruse['persnbr'].astype(str)\n",
    "persaddruse['addrnbr'] = persaddruse['addrnbr'].astype(str)\n",
    "\n",
    "orgaddruse['orgnbr'] = orgaddruse['orgnbr'].astype(str)\n",
    "orgaddruse['addrnbr'] = orgaddruse['addrnbr'].astype(str)\n"
   ]
  },
  {
   "cell_type": "code",
   "execution_count": null,
   "id": "450f1f22",
   "metadata": {},
   "outputs": [],
   "source": [
    "persaddruse.info()"
   ]
  },
  {
   "cell_type": "code",
   "execution_count": null,
   "id": "2413122f",
   "metadata": {},
   "outputs": [],
   "source": [
    "orgaddruse.info()"
   ]
  },
  {
   "cell_type": "code",
   "execution_count": null,
   "id": "39f9efb0",
   "metadata": {},
   "outputs": [],
   "source": [
    "account_cleaned['taxrptforpersnbr'] = account['taxrptforpersnbr'].map('{:.0f}'.format, na_action='ignore')\n",
    "account_cleaned['taxrptfororgnbr'] = account_cleaned['taxrptfororgnbr'].map('{:.0f}'.format, na_action='ignore')\n"
   ]
  },
  {
   "cell_type": "code",
   "execution_count": null,
   "id": "8c5e595c",
   "metadata": {},
   "outputs": [],
   "source": [
    "account_cleaned = account_cleaned.merge(orgaddruse, how='left', left_on='taxrptfororgnbr', right_on='orgnbr').merge(persaddruse, how='left', left_on='taxrptforpersnbr',right_on='persnbr',suffixes=('_org','_pers'))"
   ]
  },
  {
   "cell_type": "code",
   "execution_count": null,
   "id": "04078385",
   "metadata": {},
   "outputs": [],
   "source": [
    "account_cleaned['addrnbr'] = account_cleaned['addrnbr_org'].fillna(account_cleaned['addrnbr_pers'])\n",
    "account_cleaned = account_cleaned.drop(columns=['addrnbr_org','orgnbr','addrnbr_pers','persnbr']).copy()"
   ]
  },
  {
   "cell_type": "code",
   "execution_count": null,
   "id": "693645ba",
   "metadata": {},
   "outputs": [],
   "source": [
    "account_cleaned"
   ]
  },
  {
   "cell_type": "code",
   "execution_count": null,
   "id": "92191291",
   "metadata": {},
   "outputs": [],
   "source": [
    "TABLE_PATH = src.config.SILVER / \"address\"\n",
    "address = DeltaTable(TABLE_PATH).to_pandas()"
   ]
  },
  {
   "cell_type": "code",
   "execution_count": null,
   "id": "c787c2bc",
   "metadata": {},
   "outputs": [],
   "source": [
    "address = address.drop(columns='load_timestamp_utc').copy()"
   ]
  },
  {
   "cell_type": "code",
   "execution_count": null,
   "id": "a8e4ca19",
   "metadata": {},
   "outputs": [],
   "source": [
    "account_cleaned = account_cleaned.merge(address, on='addrnbr', how='left')"
   ]
  },
  {
   "cell_type": "code",
   "execution_count": null,
   "id": "0f612387",
   "metadata": {},
   "outputs": [],
   "source": [
    "TABLE_PATH = src.config.SILVER / \"property\"\n",
    "property = DeltaTable(TABLE_PATH).to_pandas()"
   ]
  },
  {
   "cell_type": "code",
   "execution_count": null,
   "id": "70d20f68",
   "metadata": {},
   "outputs": [],
   "source": [
    "property"
   ]
  },
  {
   "cell_type": "code",
   "execution_count": null,
   "id": "c1f26437",
   "metadata": {},
   "outputs": [],
   "source": [
    "property = property.drop(columns='load_timestamp_utc').copy()"
   ]
  },
  {
   "cell_type": "code",
   "execution_count": null,
   "id": "50d4be44",
   "metadata": {},
   "outputs": [],
   "source": [
    "# Acct prop linking\n",
    "TABLE_PATH = src.config.SILVER / \"account_property_link\"\n",
    "acct_prop_link = DeltaTable(TABLE_PATH).to_pandas()"
   ]
  },
  {
   "cell_type": "code",
   "execution_count": null,
   "id": "40e38f78",
   "metadata": {},
   "outputs": [],
   "source": [
    "acct_prop_link"
   ]
  },
  {
   "cell_type": "code",
   "execution_count": null,
   "id": "02d05be0",
   "metadata": {},
   "outputs": [],
   "source": [
    "acct_prop_link = acct_prop_link.drop(columns='load_timestamp_utc').copy()"
   ]
  },
  {
   "cell_type": "code",
   "execution_count": null,
   "id": "714e9360",
   "metadata": {},
   "outputs": [],
   "source": [
    "account_cleaned.info()"
   ]
  },
  {
   "cell_type": "code",
   "execution_count": null,
   "id": "22484f23",
   "metadata": {},
   "outputs": [],
   "source": [
    "acct_prop_link.info()"
   ]
  },
  {
   "cell_type": "code",
   "execution_count": null,
   "id": "38eff860",
   "metadata": {},
   "outputs": [],
   "source": [
    "merged_df = account_cleaned.merge(acct_prop_link, how='inner', on='acctnbr').merge(property, how='left', on='propnbr')"
   ]
  },
  {
   "cell_type": "code",
   "execution_count": null,
   "id": "1afb2943",
   "metadata": {},
   "outputs": [],
   "source": [
    "merged_df"
   ]
  },
  {
   "cell_type": "code",
   "execution_count": null,
   "id": "66c64398",
   "metadata": {},
   "outputs": [],
   "source": [
    "heloc_non_flood_to_exclude = ['MG52','MG55','MG48','MG71']\n",
    "mask_to_exclude = (\n",
    "    (merged_df['currmiaccttypcd'].isin(heloc_non_flood_to_exclude)) &\n",
    "    (merged_df['floodzoneyn'] == 'N')\n",
    ")"
   ]
  },
  {
   "cell_type": "code",
   "execution_count": null,
   "id": "278d982b",
   "metadata": {},
   "outputs": [],
   "source": [
    "# Filter out HELOCs that are not in flood zones\n",
    "merged_df = merged_df[~mask_to_exclude].copy()"
   ]
  },
  {
   "cell_type": "code",
   "execution_count": null,
   "id": "3e5f9099",
   "metadata": {},
   "outputs": [],
   "source": [
    "merged_df"
   ]
  },
  {
   "cell_type": "code",
   "execution_count": null,
   "id": "8320076b",
   "metadata": {},
   "outputs": [],
   "source": [
    "TABLE_PATH = src.config.SILVER / \"insurance\"\n",
    "insurance = DeltaTable(TABLE_PATH).to_pandas()"
   ]
  },
  {
   "cell_type": "code",
   "execution_count": null,
   "id": "dc8dd1e3",
   "metadata": {},
   "outputs": [],
   "source": [
    "insurance"
   ]
  },
  {
   "cell_type": "code",
   "execution_count": null,
   "id": "dfa81669",
   "metadata": {},
   "outputs": [],
   "source": [
    "insurance['instypcd'].unique()"
   ]
  },
  {
   "cell_type": "code",
   "execution_count": null,
   "id": "8403884d",
   "metadata": {},
   "outputs": [],
   "source": [
    "# Exclude PMI\n",
    "insurance = insurance[insurance['instypcd'] != \"PMI\"].copy()"
   ]
  },
  {
   "cell_type": "code",
   "execution_count": null,
   "id": "07d42dc1",
   "metadata": {},
   "outputs": [],
   "source": [
    "insurance.info(verbose=True)"
   ]
  },
  {
   "cell_type": "code",
   "execution_count": null,
   "id": "5d6e463e",
   "metadata": {},
   "outputs": [],
   "source": [
    "insurance = insurance[[\n",
    "    'intrpolicynbr',\n",
    "    'instypcd',\n",
    "    'instypdesc',\n",
    "    'insorgnbr',\n",
    "    'escrowyn_link',\n",
    "    'premamt',\n",
    "    'effdate_policy',\n",
    "    'expiredate',\n",
    "    'inactivedate_policy',\n",
    "    'coverageamt'\n",
    "]].copy()"
   ]
  },
  {
   "cell_type": "code",
   "execution_count": null,
   "id": "8f41fab5",
   "metadata": {},
   "outputs": [],
   "source": [
    "insurance.info()"
   ]
  },
  {
   "cell_type": "code",
   "execution_count": null,
   "id": "dd1a9469",
   "metadata": {},
   "outputs": [],
   "source": [
    "insurance['insorgnbr'] = insurance['insorgnbr'].astype(str)"
   ]
  },
  {
   "cell_type": "code",
   "execution_count": null,
   "id": "9b962936",
   "metadata": {},
   "outputs": [],
   "source": [
    "TABLE_PATH = src.config.BRONZE / \"wh_org\"\n",
    "wh_org = DeltaTable(TABLE_PATH).to_pandas()"
   ]
  },
  {
   "cell_type": "code",
   "execution_count": null,
   "id": "bdb1d231",
   "metadata": {},
   "outputs": [],
   "source": [
    "wh_org['orgnbr'] = wh_org['orgnbr'].astype(str)"
   ]
  },
  {
   "cell_type": "code",
   "execution_count": null,
   "id": "beef390c",
   "metadata": {},
   "outputs": [],
   "source": [
    "wh_org = wh_org[['orgnbr','orgname']].copy()"
   ]
  },
  {
   "cell_type": "code",
   "execution_count": null,
   "id": "bc617ac4",
   "metadata": {},
   "outputs": [],
   "source": [
    "wh_org = wh_org.rename(columns={'orgname':'Insurance Company Name'}).copy()"
   ]
  },
  {
   "cell_type": "code",
   "execution_count": null,
   "id": "471f8050",
   "metadata": {},
   "outputs": [],
   "source": [
    "insurance = insurance.merge(wh_org, how='left', left_on='insorgnbr', right_on='orgnbr')"
   ]
  },
  {
   "cell_type": "code",
   "execution_count": null,
   "id": "a8dfd413",
   "metadata": {},
   "outputs": [],
   "source": [
    "insurance"
   ]
  },
  {
   "cell_type": "code",
   "execution_count": null,
   "id": "e0c95713",
   "metadata": {},
   "outputs": [],
   "source": [
    "insurance = insurance.drop(columns=['insorgnbr','orgnbr']).copy()"
   ]
  },
  {
   "cell_type": "code",
   "execution_count": null,
   "id": "b75014f8",
   "metadata": {},
   "outputs": [],
   "source": [
    "TABLE_PATH = src.config.SILVER / \"acct_prop_ins_link\"\n",
    "acct_prop_ins_link = DeltaTable(TABLE_PATH).to_pandas()"
   ]
  },
  {
   "cell_type": "code",
   "execution_count": null,
   "id": "10105c5b",
   "metadata": {},
   "outputs": [],
   "source": [
    "acct_prop_ins_link"
   ]
  },
  {
   "cell_type": "code",
   "execution_count": null,
   "id": "5b735a5f",
   "metadata": {},
   "outputs": [],
   "source": [
    "acct_prop_ins_link.info()"
   ]
  },
  {
   "cell_type": "code",
   "execution_count": null,
   "id": "d1e9de7b",
   "metadata": {},
   "outputs": [],
   "source": [
    "acct_prop_ins_link = acct_prop_ins_link[['propnbr','intrpolicynbr']].copy()\n",
    "acct_prop_ins_link = acct_prop_ins_link.drop_duplicates().reset_index(drop=True)"
   ]
  },
  {
   "cell_type": "code",
   "execution_count": null,
   "id": "cd686467",
   "metadata": {},
   "outputs": [],
   "source": [
    "acct_prop_ins_link"
   ]
  },
  {
   "cell_type": "code",
   "execution_count": null,
   "id": "8786a958",
   "metadata": {},
   "outputs": [],
   "source": [
    "merged_df.info(verbose=True)"
   ]
  },
  {
   "cell_type": "code",
   "execution_count": null,
   "id": "247f2950",
   "metadata": {},
   "outputs": [],
   "source": [
    "merged_df = merged_df[[\n",
    "    'acctnbr',\n",
    "    'ownersortname',\n",
    "    'notebal',\n",
    "    'Net Balance',\n",
    "    'noteopenamt',\n",
    "    'orig_ttl_loan_amt',\n",
    "    'Full_Street_Address',\n",
    "    'cityname',\n",
    "    'statecd',\n",
    "    'zipcd',\n",
    "    'propnbr',\n",
    "    'proptypcd',\n",
    "    'proptypdesc',\n",
    "    'propaddr1',\n",
    "    'propaddr2',\n",
    "    'propaddr3',\n",
    "    'propcity',\n",
    "    'propstate',\n",
    "    'propzip',\n",
    "    'floodzoneyn',\n",
    "    'aprsvalueamt'\n",
    "]].copy()"
   ]
  },
  {
   "cell_type": "code",
   "execution_count": null,
   "id": "64293b31",
   "metadata": {},
   "outputs": [],
   "source": [
    "merged_df = merged_df.rename(columns={\n",
    "    'Full_Street_Address':'Borrower Primary Address',\n",
    "    'cityname':'Borrower City',\n",
    "    'statecd':'Borrower State',\n",
    "    'zipcd': 'Borrower Zip'\n",
    "}\n",
    ").copy()"
   ]
  },
  {
   "cell_type": "code",
   "execution_count": null,
   "id": "ee45d55a",
   "metadata": {},
   "outputs": [],
   "source": [
    "new_merged_df = merged_df.merge(acct_prop_ins_link, how='left',on='propnbr').merge(insurance, how='left', on='intrpolicynbr')"
   ]
  },
  {
   "cell_type": "code",
   "execution_count": null,
   "id": "9cf77f18",
   "metadata": {},
   "outputs": [],
   "source": [
    "new_merged_df"
   ]
  },
  {
   "cell_type": "code",
   "execution_count": null,
   "id": "fd08968a",
   "metadata": {},
   "outputs": [],
   "source": [
    "# Property type grouping configuration\n",
    "PROPERTY_TYPE_GROUPS = {\n",
    "    'Autobody/Gas Station': ['Autobody/Gas Station','Gas Station and Convenience St','Auto-Truck Repair','Car Wash'],\n",
    "    'Retail': ['Retail - Big Box Store','Shopping Plaza','Strip Plaza','General Retail','Dealership'],\n",
    "    'Hospitality': ['Hotel/Motel','Hospitality/Event Space','Assisted Living'],\n",
    "    'Recreation': ['Outdoor Recreation','Indoor Recreational','Golf Course','Marina'],\n",
    "    'Industrial': ['Manufacturing','Warehouse','Industrial','Seafood Processing Plant','Solar Farm'],\n",
    "    'Land': ['Land - Unimproved','Land - Improved','Parking Lot'],\n",
    "    'Mixed Use': ['Mixed Use (Retail/Office)','Mixed Use (Retail/Residential)','Mixed Use (Office/Residential)'],\n",
    "    'Multi Family': ['Apartment Building','Multi Family'],\n",
    "    'General Office': ['Office - Professional','Office- General'],\n",
    "    'Medical Office': ['Office - Medical'],\n",
    "    'Restaurant': ['Restaurant'],\n",
    "    'Residential': ['1-4 Fam Res - Non Own Occ','1 Family Residential - Own Occ','2 Family Residential - Own Occ','Condominium'],\n",
    "    'Storage': ['Self Storage'],\n",
    "    'Educational': ['Educational Facilities','Day Care'],\n",
    "    'Religious': ['Church'],\n",
    "    'Vehicles': ['Vehicle - Business','Boat'],\n",
    "    'Other': ['Commercial - Other','Real Estate - Business','Real Estate - Bus&Bus Assets','Real Estate - Personal & Bus','Real Estate - Pers&Bus Assets','All Business Assets','Bus Assets w/Accts Receivable','UCC - ABA','UCC- Equipment','Assignment of Leases/Rents','General Contractor','Outdoor Dealers','Marketable Securities','SBA Loan','Funeral Home','Savings - Partially Secured','Passbook/Savings Secured']\n",
    "}\n",
    "\n"
   ]
  },
  {
   "cell_type": "code",
   "execution_count": null,
   "id": "c435cc5a",
   "metadata": {},
   "outputs": [],
   "source": [
    "# Create mapping from individual property types to groups\n",
    "proptype_mapping = {code: group for group, codes in PROPERTY_TYPE_GROUPS.items() for code in codes}\n",
    "\n",
    "# Add cleaned property type to property data\n",
    "new_merged_df['Cleaned Prop Type'] = new_merged_df['proptypdesc'].map(proptype_mapping).fillna('Other')"
   ]
  },
  {
   "cell_type": "code",
   "execution_count": null,
   "id": "3a2bcc58",
   "metadata": {},
   "outputs": [],
   "source": [
    "new_merged_df.info(verbose=True)"
   ]
  },
  {
   "cell_type": "code",
   "execution_count": null,
   "id": "a59dd86c",
   "metadata": {},
   "outputs": [],
   "source": [
    "new_merged_df"
   ]
  }
 ],
 "metadata": {
  "kernelspec": {
   "display_name": "bcsb-prod",
   "language": "python",
   "name": "python3"
  },
  "language_info": {
   "codemirror_mode": {
    "name": "ipython",
    "version": 3
   },
   "file_extension": ".py",
   "mimetype": "text/x-python",
   "name": "python",
   "nbconvert_exporter": "python",
   "pygments_lexer": "ipython3",
   "version": "3.11.9"
  }
 },
 "nbformat": 4,
 "nbformat_minor": 5
}
