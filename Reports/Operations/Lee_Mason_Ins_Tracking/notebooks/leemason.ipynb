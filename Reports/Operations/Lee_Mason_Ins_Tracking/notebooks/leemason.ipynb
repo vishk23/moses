{
 "cells": [
  {
   "cell_type": "code",
   "execution_count": null,
   "id": "c1a724e0",
   "metadata": {},
   "outputs": [],
   "source": [
    "import os\n",
    "import sys\n",
    "from pathlib import Path\n",
    "\n",
    "# Navigate to project root (equivalent to cd ..)\n",
    "project_dir = Path(__file__).parent.parent if '__file__' in globals() else Path.cwd().parent\n",
    "os.chdir(project_dir)\n",
    "\n",
    "# Add src directory to Python path for imports\n",
    "src_dir = project_dir / \"src\"\n",
    "if str(src_dir) not in sys.path:\n",
    "    sys.path.insert(0, str(src_dir))\n",
    "\n",
    "# Set environment for dev testing\n",
    "os.environ['REPORT_ENV'] = 'prod'"
   ]
  },
  {
   "cell_type": "code",
   "execution_count": null,
   "id": "de6c09a0",
   "metadata": {},
   "outputs": [],
   "source": [
    "import src.config\n",
    "from deltalake import DeltaTable\n",
    "from pathlib import Path\n",
    "import pandas as pd\n"
   ]
  },
  {
   "cell_type": "code",
   "execution_count": null,
   "id": "d70781ff",
   "metadata": {},
   "outputs": [],
   "source": [
    "# TABLE_PATH = src.config.BRONZE / \"metadata_lookup_engine1\"\n",
    "TABLE_PATH = src.config.SILVER / \"account\"\n"
   ]
  },
  {
   "cell_type": "code",
   "execution_count": null,
   "id": "29282b0a",
   "metadata": {},
   "outputs": [],
   "source": [
    "account = DeltaTable(TABLE_PATH).to_pandas()"
   ]
  },
  {
   "cell_type": "code",
   "execution_count": null,
   "id": "1b16923b",
   "metadata": {},
   "outputs": [],
   "source": [
    "account"
   ]
  },
  {
   "cell_type": "code",
   "execution_count": null,
   "id": "8320076b",
   "metadata": {},
   "outputs": [],
   "source": [
    "TABLE_PATH = src.config.BRONZE / \"acctpropins\"\n",
    "acctpropins = DeltaTable(TABLE_PATH).to_pandas()"
   ]
  },
  {
   "cell_type": "code",
   "execution_count": null,
   "id": "e568123e",
   "metadata": {},
   "outputs": [],
   "source": [
    "acctpropins"
   ]
  },
  {
   "cell_type": "code",
   "execution_count": null,
   "id": "eba56347",
   "metadata": {},
   "outputs": [],
   "source": [
    "TABLE_PATH = src.config.BRONZE / \"wh_inspolicy\"\n",
    "wh_inspolicy = DeltaTable(TABLE_PATH).to_pandas()\n"
   ]
  },
  {
   "cell_type": "code",
   "execution_count": null,
   "id": "00ade786",
   "metadata": {},
   "outputs": [],
   "source": [
    "wh_inspolicy['instypdesc'].unique()"
   ]
  },
  {
   "cell_type": "code",
   "execution_count": null,
   "id": "f82f08bb",
   "metadata": {},
   "outputs": [],
   "source": [
    "wh_inspolicy"
   ]
  },
  {
   "cell_type": "code",
   "execution_count": null,
   "id": "c4cd6018",
   "metadata": {},
   "outputs": [],
   "source": [
    "TABLE_PATH = src.config.BRONZE / \"wh_prop\"\n",
    "prop = DeltaTable(TABLE_PATH).to_pandas()\n",
    "prop"
   ]
  },
  {
   "cell_type": "code",
   "execution_count": null,
   "id": "e5d2005a",
   "metadata": {},
   "outputs": [],
   "source": [
    "prop['CompositeKey'] = prop['acctnbr'].astype(str) + prop['propnbr'].astype(str)\n",
    "assert prop['CompositeKey'].is_unique, \"Duplicate records\""
   ]
  },
  {
   "cell_type": "code",
   "execution_count": null,
   "id": "9970f366",
   "metadata": {},
   "outputs": [],
   "source": [
    "TABLE_PATH = src.config.BRONZE / \"wh_prop2\"\n",
    "prop2 = DeltaTable(TABLE_PATH).to_pandas()\n",
    "prop2"
   ]
  },
  {
   "cell_type": "code",
   "execution_count": null,
   "id": "23ffb9d1",
   "metadata": {},
   "outputs": [],
   "source": [
    "prop2['CompositeKey'] = prop2['acctnbr'].astype(str) + prop2['propnbr'].astype(str)\n",
    "assert prop2['CompositeKey'].is_unique, \"Duplicate records\""
   ]
  },
  {
   "cell_type": "code",
   "execution_count": null,
   "id": "16542ca9",
   "metadata": {},
   "outputs": [],
   "source": [
    "merged_props = pd.merge(\n",
    "    prop,\n",
    "    prop2,\n",
    "    how='outer',\n",
    "    on=['acctnbr', 'propnbr'],\n",
    "    suffixes=('_prop', '_prop2') # Use clear suffixes\n",
    ")"
   ]
  },
  {
   "cell_type": "code",
   "execution_count": null,
   "id": "e884a68d",
   "metadata": {},
   "outputs": [],
   "source": [
    "merged_props"
   ]
  },
  {
   "cell_type": "code",
   "execution_count": null,
   "id": "8d81e511",
   "metadata": {},
   "outputs": [],
   "source": [
    "# This is a generic function to perform the coalesce operation.\n",
    "def coalesce_columns(df, suffix1, suffix2):\n",
    "    \"\"\"\n",
    "    Identifies columns with suffixes, creates a new coalesced column,\n",
    "    and drops the old ones. It prioritizes the column with suffix2.\n",
    "    \"\"\"\n",
    "    df_copy = df.copy()\n",
    "    # Find all columns that have the first suffix\n",
    "    cols1 = [c for c in df_copy.columns if c.endswith(suffix1)]\n",
    "    \n",
    "    for col1 in cols1:\n",
    "        # Get the base column name and the corresponding column with the second suffix\n",
    "        base_name = col1.removesuffix(suffix1)\n",
    "        col2 = f\"{base_name}{suffix2}\"\n",
    "        \n",
    "        if col2 in df_copy.columns:\n",
    "            # Create the new coalesced column.\n",
    "            # It takes the value from col2 first, and if that is null, it takes the value from col1.\n",
    "            df_copy[base_name] = df_copy[col2].fillna(df_copy[col1])\n",
    "            \n",
    "            # Drop the old suffixed columns\n",
    "            df_copy = df_copy.drop(columns=[col1, col2])\n",
    "            print(f\"Coalesced '{base_name}' from '{col1}' and '{col2}'.\")\n",
    "            \n",
    "    return df_copy\n",
    "\n",
    "# Apply the function to our merged data\n",
    "coalesced_data = coalesce_columns(merged_props, suffix1='_prop', suffix2='_prop2')\n",
    "print(\"\\nData after coalescing columns:\")\n",
    "coalesced_data.info()"
   ]
  },
  {
   "cell_type": "code",
   "execution_count": null,
   "id": "a20f3612",
   "metadata": {},
   "outputs": [],
   "source": [
    "# This table just preserves the many-to-many relationship keys.\n",
    "account_property_link = coalesced_data[['acctnbr', 'propnbr']].copy()\n",
    "account_property_link = account_property_link.drop_duplicates().reset_index(drop=True)\n",
    "\n",
    "print(f\"Created `account_property_link` table with {len(account_property_link)} unique links.\")"
   ]
  },
  {
   "cell_type": "code",
   "execution_count": null,
   "id": "63af3344",
   "metadata": {},
   "outputs": [],
   "source": [
    "account_property_link"
   ]
  },
  {
   "cell_type": "code",
   "execution_count": null,
   "id": "ca24e097",
   "metadata": {},
   "outputs": [],
   "source": [
    "merged_props"
   ]
  },
  {
   "cell_type": "code",
   "execution_count": null,
   "id": "e4134e6e",
   "metadata": {},
   "outputs": [],
   "source": [
    "merged_props.info()"
   ]
  },
  {
   "cell_type": "code",
   "execution_count": null,
   "id": "7c1f80f5",
   "metadata": {},
   "outputs": [],
   "source": [
    "prop.info()"
   ]
  },
  {
   "cell_type": "code",
   "execution_count": null,
   "id": "fff1a1b6",
   "metadata": {},
   "outputs": [],
   "source": [
    "prop2.info()"
   ]
  },
  {
   "cell_type": "code",
   "execution_count": null,
   "id": "128049fb",
   "metadata": {},
   "outputs": [],
   "source": [
    "master_property = coalesced_data.sort_values(by='acctnbr', ascending=False)\n",
    "master_property = master_property.drop_duplicates(subset=['propnbr'], keep='first')\n",
    "\n",
    "# The property table should not contain the account number, as that link is now separate.\n",
    "master_property = master_property.drop(columns=['acctnbr'])\n",
    "master_property = master_property.reset_index(drop=True)\n",
    "\n",
    "print(f\"Created master `property` table with {len(master_property)} unique properties.\")\n",
    "assert master_property['propnbr'].is_unique, \"propnbr is not unique in the master property table!\"\n",
    "print(\"Assertion Passed: `propnbr` is a unique key for the property table.\")\n"
   ]
  },
  {
   "cell_type": "code",
   "execution_count": null,
   "id": "4d3edbf7",
   "metadata": {},
   "outputs": [],
   "source": [
    "master_property = master_property.drop(columns=['proptypecd']).copy()"
   ]
  },
  {
   "cell_type": "code",
   "execution_count": null,
   "id": "e294fee2",
   "metadata": {},
   "outputs": [],
   "source": []
  }
 ],
 "metadata": {
  "kernelspec": {
   "display_name": "bcsb-prod",
   "language": "python",
   "name": "python3"
  },
  "language_info": {
   "codemirror_mode": {
    "name": "ipython",
    "version": 3
   },
   "file_extension": ".py",
   "mimetype": "text/x-python",
   "name": "python",
   "nbconvert_exporter": "python",
   "pygments_lexer": "ipython3",
   "version": "3.11.9"
  }
 },
 "nbformat": 4,
 "nbformat_minor": 5
}
