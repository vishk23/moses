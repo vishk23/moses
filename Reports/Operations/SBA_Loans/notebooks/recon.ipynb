{
 "cells": [
  {
   "cell_type": "code",
   "execution_count": null,
   "id": "51d7e4fe",
   "metadata": {},
   "outputs": [],
   "source": [
    "import pandas as pd\n",
    "from pathlib import Path\n",
    "\n",
    "KELLY_REP = Path(r\"C:\\Users\\w322800\\Documents\\gh\\bcsb-prod\\Reports\\Operations\\SBA_Loans\\docs\\SBA Refund Mailing Address 09.2025.xlsx\")\n",
    "kelly_df = pd.read_excel(KELLY_REP)"
   ]
  },
  {
   "cell_type": "code",
   "execution_count": null,
   "id": "068de89c",
   "metadata": {},
   "outputs": [],
   "source": [
    "kelly_df"
   ]
  },
  {
   "cell_type": "code",
   "execution_count": null,
   "id": "c3d8cc2f",
   "metadata": {},
   "outputs": [],
   "source": [
    "my_df = pd.read_excel(Path(r\"C:\\Users\\w322800\\Documents\\gh\\bcsb-prod\\Reports\\Operations\\SBA_Loans\\output\\sba_loans_ops_sep2025.xlsx\"))"
   ]
  },
  {
   "cell_type": "code",
   "execution_count": null,
   "id": "4dc88a4f",
   "metadata": {},
   "outputs": [],
   "source": [
    "my_df"
   ]
  },
  {
   "cell_type": "code",
   "execution_count": null,
   "id": "d8c87f6a",
   "metadata": {},
   "outputs": [],
   "source": [
    "my_df.info()\n"
   ]
  },
  {
   "cell_type": "code",
   "execution_count": null,
   "id": "343c1005",
   "metadata": {},
   "outputs": [],
   "source": [
    "kelly_df.info()"
   ]
  },
  {
   "cell_type": "code",
   "execution_count": null,
   "id": "363ed0af",
   "metadata": {},
   "outputs": [],
   "source": [
    "kelly_df = kelly_df[[\n",
    "    'Loan Number '\n",
    "]].copy()"
   ]
  },
  {
   "cell_type": "code",
   "execution_count": null,
   "id": "bae2e017",
   "metadata": {},
   "outputs": [],
   "source": [
    "merged_df = my_df.merge(kelly_df, left_on='acctnbr', right_on='Loan Number ', how='inner')"
   ]
  },
  {
   "cell_type": "code",
   "execution_count": null,
   "id": "07aa5af3",
   "metadata": {},
   "outputs": [],
   "source": [
    "merged_df"
   ]
  },
  {
   "cell_type": "code",
   "execution_count": null,
   "id": "aa00b854",
   "metadata": {},
   "outputs": [],
   "source": []
  }
 ],
 "metadata": {
  "kernelspec": {
   "display_name": "bcsb-prod",
   "language": "python",
   "name": "python3"
  },
  "language_info": {
   "codemirror_mode": {
    "name": "ipython",
    "version": 3
   },
   "file_extension": ".py",
   "mimetype": "text/x-python",
   "name": "python",
   "nbconvert_exporter": "python",
   "pygments_lexer": "ipython3",
   "version": "3.11.9"
  }
 },
 "nbformat": 4,
 "nbformat_minor": 5
}
