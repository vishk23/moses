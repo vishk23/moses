{
 "cells": [
  {
   "cell_type": "code",
   "execution_count": null,
   "id": "c1a724e0",
   "metadata": {},
   "outputs": [],
   "source": [
    "import os\n",
    "import sys\n",
    "from pathlib import Path\n",
    "\n",
    "# Navigate to project root (equivalent to cd ..)\n",
    "project_dir = Path(__file__).parent.parent if '__file__' in globals() else Path.cwd().parent\n",
    "os.chdir(project_dir)\n",
    "\n",
    "# Add src directory to Python path for imports\n",
    "src_dir = project_dir / \"src\"\n",
    "if str(src_dir) not in sys.path:\n",
    "    sys.path.insert(0, str(src_dir))\n",
    "\n",
    "# Set environment for dev testing\n",
    "os.environ['REPORT_ENV'] = 'dev'"
   ]
  },
  {
   "cell_type": "code",
   "execution_count": null,
   "id": "2d5a8ac6",
   "metadata": {},
   "outputs": [],
   "source": [
    "import pandas as pd\n",
    "from pathlib import Path\n",
    "from deltalake import DeltaTable\n",
    "import src.config\n",
    "import src.sba_loans.fetch_data\n",
    "import cdutils.all_status_silver_acct.core\n",
    "\n",
    "# def main_report_creation():\n",
    "# Get data from custom silver table that includes all accounts \n",
    "# Reason is that the other one is only looking at active accounts\n",
    "df = cdutils.all_status_silver_acct.core.query_df_on_date()\n",
    "\n",
    "# Get Lakehouse tables\n",
    "# address = DeltaTable(src.config.BRONZE / \"wh_addr\").to_pandas()\n",
    "\n",
    "orgpersaddr_data = src.sba_loans.fetch_data.fetch_org_pers_addr()\n",
    "orgaddruse = orgpersaddr_data['orgaddruse'].copy()\n",
    "persaddruse = orgpersaddr_data['persaddruse'].copy()\n",
    "wh_addr = orgpersaddr_data['wh_addr'].copy()\n",
    "\n",
    "# Filter to SBA loans and select relevant columns\n",
    "df = df[df['product'].str.contains('SBA', case=False, na=False)].copy()\n",
    "df = df[[\n",
    "    'acctnbr',\n",
    "    'ownersortname',\n",
    "    'portfolio_key',\n",
    "    'product',\n",
    "    'mjaccttypcd',\n",
    "    'currmiaccttypcd',\n",
    "    'curracctstatcd',\n",
    "    'loanofficer',\n",
    "    'taxrptfororgnbr',\n",
    "    'taxrptforpersnbr'\n",
    "]].copy()\n",
    "\n",
    "\n",
    "\n",
    "# \n",
    "orgaddruse = orgaddruse[orgaddruse['addrusecd'].isin(['PRI'])].copy()\n",
    "persaddruse = persaddruse[persaddruse['addrusecd'].isin(['PRI'])].copy()\n",
    "\n",
    "\n",
    "# %%\n",
    "orgaddruse['orgnbr'] = orgaddruse['orgnbr'].astype(str)\n",
    "orgaddruse['addrnbr'] = orgaddruse['addrnbr'].astype(str)\n",
    "persaddruse['persnbr'] = persaddruse['persnbr'].astype(str)\n",
    "persaddruse['addrnbr'] = persaddruse['addrnbr'].astype(str)\n",
    "\n",
    "\n",
    "# return final_df\n"
   ]
  },
  {
   "cell_type": "code",
   "execution_count": null,
   "id": "b3839a1b",
   "metadata": {},
   "outputs": [],
   "source": [
    "wh_addr = wh_addr[[\n",
    "    'addrnbr',\n",
    "    'text1',\n",
    "    'text2',\n",
    "    'text3',\n",
    "    'text4',\n",
    "    'text5',\n",
    "    'cityname',\n",
    "    'statecd',\n",
    "    'zipcd'\n",
    "]].copy()"
   ]
  },
  {
   "cell_type": "code",
   "execution_count": null,
   "id": "a431c9af",
   "metadata": {},
   "outputs": [],
   "source": [
    "df.info()"
   ]
  },
  {
   "cell_type": "code",
   "execution_count": null,
   "id": "74a7fcf9",
   "metadata": {},
   "outputs": [],
   "source": [
    "import numpy as np\n",
    "df['taxrptfororgnbr'] = np.where(df['taxrptfororgnbr'].isna(), np.nan, df['taxrptfororgnbr'].astype('Int64').astype(str))\n",
    "df['taxrptforpersnbr'] = np.where(df['taxrptforpersnbr'].isna(), np.nan, df['taxrptforpersnbr'].astype('Int64').astype(str))\n",
    "\n"
   ]
  },
  {
   "cell_type": "code",
   "execution_count": null,
   "id": "82e6af21",
   "metadata": {},
   "outputs": [],
   "source": [
    "df"
   ]
  },
  {
   "cell_type": "code",
   "execution_count": null,
   "id": "8ef11e37",
   "metadata": {},
   "outputs": [],
   "source": [
    "orgaddruse = orgaddruse[[\n",
    "    'orgnbr',\n",
    "    'addrnbr'\n",
    "]].copy()"
   ]
  },
  {
   "cell_type": "code",
   "execution_count": null,
   "id": "d77f04a6",
   "metadata": {},
   "outputs": [],
   "source": [
    "persaddruse = persaddruse[[\n",
    "    'persnbr',\n",
    "    'addrnbr'\n",
    "]].copy()"
   ]
  },
  {
   "cell_type": "code",
   "execution_count": null,
   "id": "1340af89",
   "metadata": {},
   "outputs": [],
   "source": [
    "wh_addr"
   ]
  },
  {
   "cell_type": "code",
   "execution_count": null,
   "id": "b309b9b3",
   "metadata": {},
   "outputs": [],
   "source": [
    "orgaddruse.info()"
   ]
  },
  {
   "cell_type": "code",
   "execution_count": null,
   "id": "987d73d8",
   "metadata": {},
   "outputs": [],
   "source": [
    "wh_addr['addrnbr'] = wh_addr['addrnbr'].astype(str)"
   ]
  },
  {
   "cell_type": "code",
   "execution_count": null,
   "id": "327195ca",
   "metadata": {},
   "outputs": [],
   "source": [
    "orgaddruse = orgaddruse.merge(wh_addr, on='addrnbr', how='inner')"
   ]
  },
  {
   "cell_type": "code",
   "execution_count": null,
   "id": "e9a89dc0",
   "metadata": {},
   "outputs": [],
   "source": [
    "orgaddruse"
   ]
  },
  {
   "cell_type": "code",
   "execution_count": null,
   "id": "4ad98ea3",
   "metadata": {},
   "outputs": [],
   "source": [
    "df = df.merge(orgaddruse, left_on='taxrptfororgnbr', right_on='orgnbr', how='left')"
   ]
  },
  {
   "cell_type": "code",
   "execution_count": null,
   "id": "163a2d84",
   "metadata": {},
   "outputs": [],
   "source": [
    "df"
   ]
  },
  {
   "cell_type": "code",
   "execution_count": null,
   "id": "f6be02c2",
   "metadata": {},
   "outputs": [],
   "source": [
    "df = df.drop(columns=['taxrptfororgnbr','orgnbr','addrnbr']).copy()"
   ]
  },
  {
   "cell_type": "code",
   "execution_count": null,
   "id": "87bbb930",
   "metadata": {},
   "outputs": [],
   "source": [
    "df"
   ]
  },
  {
   "cell_type": "code",
   "execution_count": null,
   "id": "84ac8da6",
   "metadata": {},
   "outputs": [],
   "source": [
    "persaddruse = persaddruse.merge(wh_addr, on='addrnbr', how='inner')"
   ]
  },
  {
   "cell_type": "code",
   "execution_count": null,
   "id": "0d8acec3",
   "metadata": {},
   "outputs": [],
   "source": [
    "persaddruse"
   ]
  },
  {
   "cell_type": "code",
   "execution_count": null,
   "id": "cd23ed9e",
   "metadata": {},
   "outputs": [],
   "source": [
    "df = df.merge(persaddruse, left_on='taxrptforpersnbr', right_on='persnbr', how='left')"
   ]
  },
  {
   "cell_type": "code",
   "execution_count": null,
   "id": "aed9bc41",
   "metadata": {},
   "outputs": [],
   "source": [
    "df"
   ]
  },
  {
   "cell_type": "code",
   "execution_count": null,
   "id": "33b83076",
   "metadata": {},
   "outputs": [],
   "source": [
    "df = df.drop(columns=['taxrptforpersnbr','addrnbr','persnbr']).copy()"
   ]
  },
  {
   "cell_type": "code",
   "execution_count": null,
   "id": "aa1e817d",
   "metadata": {},
   "outputs": [],
   "source": [
    "df"
   ]
  },
  {
   "cell_type": "code",
   "execution_count": null,
   "id": "d26ce1ca",
   "metadata": {},
   "outputs": [],
   "source": [
    "df_copy = df.copy()"
   ]
  },
  {
   "cell_type": "code",
   "execution_count": null,
   "id": "44c8ebc9",
   "metadata": {},
   "outputs": [],
   "source": [
    "base_names = {col[:-2] for col in df_copy.columns if col.endswith('_x')}\n",
    "\n",
    "for base in base_names:\n",
    "    col_x = f\"{base}_x\"\n",
    "    col_y = f\"{base}_y\"\n",
    "\n",
    "    if col_y in df_copy.columns:\n",
    "        df_copy[base] = df_copy[col_x].fillna(df_copy[col_y])\n",
    "        df_copy = df_copy.drop(columns=[col_x, col_y])"
   ]
  },
  {
   "cell_type": "code",
   "execution_count": null,
   "id": "06f166f5",
   "metadata": {},
   "outputs": [],
   "source": [
    "df_copy"
   ]
  },
  {
   "cell_type": "code",
   "execution_count": null,
   "id": "6dea2b70",
   "metadata": {},
   "outputs": [],
   "source": [
    "final_df = df_copy[[\n",
    "    'acctnbr',\n",
    "    'ownersortname',\n",
    "    'portfolio_key',\n",
    "    'product',\n",
    "    'mjaccttypcd',\n",
    "    'currmiaccttypcd',\n",
    "    'curracctstatcd',\n",
    "    'loanofficer',\n",
    "    'text1',\n",
    "    'text2',\n",
    "    'text3',\n",
    "    'text4',\n",
    "    'text5',\n",
    "    'cityname',\n",
    "    'statecd',\n",
    "    'zipcd'\n",
    "]].copy()"
   ]
  },
  {
   "cell_type": "code",
   "execution_count": null,
   "id": "550df35d",
   "metadata": {},
   "outputs": [],
   "source": [
    "final_df"
   ]
  },
  {
   "cell_type": "code",
   "execution_count": null,
   "id": "ea3bd150",
   "metadata": {},
   "outputs": [],
   "source": [
    "final_df['product'].unique()"
   ]
  },
  {
   "cell_type": "code",
   "execution_count": null,
   "id": "24450480",
   "metadata": {},
   "outputs": [],
   "source": [
    "final_df"
   ]
  },
  {
   "cell_type": "code",
   "execution_count": null,
   "id": "6322422f",
   "metadata": {},
   "outputs": [],
   "source": []
  }
 ],
 "metadata": {
  "kernelspec": {
   "display_name": "bcsb-prod",
   "language": "python",
   "name": "python3"
  },
  "language_info": {
   "codemirror_mode": {
    "name": "ipython",
    "version": 3
   },
   "file_extension": ".py",
   "mimetype": "text/x-python",
   "name": "python",
   "nbconvert_exporter": "python",
   "pygments_lexer": "ipython3",
   "version": "3.11.9"
  }
 },
 "nbformat": 4,
 "nbformat_minor": 5
}
