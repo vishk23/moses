{
 "cells": [
  {
   "cell_type": "code",
   "execution_count": 1,
   "metadata": {},
   "outputs": [],
   "source": [
    "# Trial Balance (Operations)\n",
    "# Developed by CD\n",
    "# v2.0.1-prod"
   ]
  },
  {
   "cell_type": "code",
   "execution_count": 6,
   "metadata": {},
   "outputs": [],
   "source": [
    "# Async Connector\n",
    "# Developed by CD\n",
    "\n",
    "from io import StringIO\n",
    "import time\n",
    "import numpy as np\n",
    "import os\n",
    "from datetime import datetime, timedelta, date\n",
    "from sqlalchemy.ext.asyncio import create_async_engine\n",
    "from sqlalchemy import text\n",
    "from typing import List\n",
    "from collections import defaultdict, Counter\n",
    "import pandas as pd\n",
    "from cryptography.fernet import Fernet\n",
    "from dotenv import load_dotenv\n",
    "from io import StringIO\n",
    "from pathlib import Path\n",
    "import asyncio\n",
    "import nest_asyncio\n",
    "import sys\n",
    "import win32com.client as win32\n",
    "nest_asyncio.apply()\n",
    "\n",
    "if sys.platform == \"win32\":\n",
    "    asyncio.set_event_loop_policy(asyncio.WindowsSelectorEventLoopPolicy())\n",
    "\n",
    "\n",
    "def retrieve_data():\n",
    "    \"\"\"\n",
    "    Retrieve data from COCC database\n",
    "    \"\"\"\n",
    "    class DatabaseHandler:\n",
    "        \"\"\"\n",
    "        This class abstracts the connection to the database and allows a clean\n",
    "        interface for the developer to use.\n",
    "\n",
    "        This connector can handle async queries\n",
    "\n",
    "        \"\"\"\n",
    "        def __init__(self, tns_admin_path):\n",
    "            \"\"\"\n",
    "            Args:\n",
    "                tns_admin_path (str): Oracle driver path\n",
    "                credentials_path_db1 (str): Database 1 credentials path\n",
    "                credentials_path_db1 (str): Databsae 2 credentials path\n",
    "            \"\"\"\n",
    "            os.environ['TNS_ADMIN'] = tns_admin_path\n",
    "            \n",
    "            # Load private key\n",
    "            key_key_path = r'\\\\00-da1\\Home\\Share\\Data & Analytics Initiatives\\Project Management\\Chad Projects\\Utility\\env_admin\\key.key'\n",
    "            with open(key_key_path, \"rb\") as key_file:\n",
    "                key = key_file.read()\n",
    "\n",
    "            cipher = Fernet(key)\n",
    "            \n",
    "            # Load encrypted data\n",
    "            encoded_env_path = r'\\\\00-da1\\Home\\Share\\Data & Analytics Initiatives\\Project Management\\Chad Projects\\Utility\\env_admin\\.env.enc'\n",
    "            with open(encoded_env_path, \"rb\") as encrypted_file:\n",
    "                encrypted_data = encrypted_file.read()\n",
    "\n",
    "            decrypted_data = cipher.decrypt(encrypted_data).decode()\n",
    "\n",
    "            env_file = StringIO(decrypted_data)\n",
    "            load_dotenv(stream=env_file)\n",
    "\n",
    "            self.username1 = os.getenv('main_username')\n",
    "            self.password1 = os.getenv('main_password')\n",
    "            self.dsn1 = os.getenv('main_dsn')\n",
    "\n",
    "            self.username2 = os.getenv('datamart_username')\n",
    "            self.password2 = os.getenv('datamart_password')\n",
    "            self.dsn2 = os.getenv('datamart_dsn')\n",
    "\n",
    "            self.connection_string1 = f'oracle+oracledb://{self.username1}:{self.password1}@{self.dsn1}'\n",
    "            self.connection_string2 = f'oracle+oracledb://{self.username2}:{self.password2}@{self.dsn2}'\n",
    "\n",
    "            self.engine1 = create_async_engine(self.connection_string1, max_identifier_length=128, echo=False, future=True)\n",
    "            self.engine1.dialect.hide_parameters = True\n",
    "            self.engine2 = create_async_engine(self.connection_string2, max_identifier_length=128, echo=False, future=True)\n",
    "            self.engine1.dialect.hide_parameters = True\n",
    "\n",
    "\n",
    "        async def query(self, sql_query, engine=1):\n",
    "            \"\"\"\n",
    "            This allows abstraction of the connection and the class\n",
    "            so the developer can query a single table as a dataframe\n",
    "\n",
    "            Args:\n",
    "                sql_query (str): The query to SQL database is passed as a string\n",
    "                engine (int): This selects the database. There are two engines:\n",
    "                    1 -> R1625\n",
    "                    2 -> COCC DataMart\n",
    "\n",
    "            Returns:\n",
    "                df: The SQL query is returned as a pandas DataFrame\n",
    "\n",
    "            Usage:\n",
    "                df = db_handler.query(\"SELECT * FROM DB.TABLE\", engine=1)\n",
    "\n",
    "                In this example, db_handler = DatabaseHandler(args)\n",
    "            \"\"\"\n",
    "            if engine == 1:\n",
    "                selected_engine = self.engine1\n",
    "            elif engine == 2:\n",
    "                selected_engine = self.engine2\n",
    "            else:\n",
    "                raise ValueError(\"Engine must be 1 or 2\")\n",
    "\n",
    "            async with selected_engine.connect() as connection:\n",
    "                result = await connection.execute(sql_query)\n",
    "                rows = result.fetchall()\n",
    "                if not rows:\n",
    "                    return pd.DataFrame()\n",
    "                df = pd.DataFrame(rows, columns=result.keys())\n",
    "            return df\n",
    "\n",
    "        async def close(self):\n",
    "            if self.engine1:\n",
    "                await self.engine1.dispose()\n",
    "            if self.engine2:\n",
    "                await self.engine2.dispose()\n",
    "\n",
    "\n",
    "    # Database Connection Configuration\n",
    "    tns_admin_path = r'\\\\00-da1\\Home\\Share\\Data & Analytics Initiatives\\Project Management\\Chad Projects\\Utility\\env_admin\\tns_admin'\n",
    "    db_handler = DatabaseHandler(tns_admin_path)\n",
    "\n",
    "    async def fetch_data(queries):\n",
    "        try:\n",
    "            tasks = {query['key']: asyncio.create_task(db_handler.query(query['sql'], query['engine'])) for query in queries}\n",
    "            results = await asyncio.gather(*tasks.values())\n",
    "            return {key: df for key, df in zip(tasks.keys(), results)}\n",
    "        except Exception as e:\n",
    "            print(f\"Error\")\n",
    "            raise\n",
    "        finally:\n",
    "            await db_handler.close()\n",
    "\n",
    "    def run_sql_queries():\n",
    "        # # lookup table\n",
    "        # # Engine 1\n",
    "        # lookup_df = text(\"\"\"\n",
    "        # SELECT \n",
    "        #     *\n",
    "        # FROM \n",
    "        #     sys.all_tab_columns col\n",
    "        # \"\"\")\n",
    "\n",
    "        # acctcommon\n",
    "        # engine 2\n",
    "        acctcommon = text(\"\"\"\n",
    "        SELECT \n",
    "            a.ACCTNBR,\n",
    "            a.MJACCTTYPCD,\n",
    "            a.CURRMIACCTTYPCD,\n",
    "            a.PRODUCT,\n",
    "            a.CURRACCTSTATCD,\n",
    "            a.NOTEINTRATE,\n",
    "            a.NOTENEXTRATECHANGEDATE,\n",
    "            a.NOTERATECHANGECALPERCD,\n",
    "            a.NOTEOPENAMT,\n",
    "            a.NOTEBAL,\n",
    "            a.BOOKBALANCE,\n",
    "            a.NOTEINTCALCSCHEDNBR,\n",
    "            a.CALCBALTYPCD,\n",
    "            a.INTMETHCD,\n",
    "            a.RATETYPCD,\n",
    "            a.INTBASE,\n",
    "            a.DATEMAT,\n",
    "            a.CONTRACTDATE,\n",
    "            a.OWNERNAME\n",
    "        FROM \n",
    "            COCCDM.WH_ACCTCOMMON_ME a\n",
    "        \"\"\")\n",
    "\n",
    "        # Acctloan, engine 2\n",
    "        acctloan = text(\"\"\"\n",
    "        SELECT \n",
    "            a.ACCTNBR, \n",
    "            a.COBAL,\n",
    "            a.ESCBAL, \n",
    "            a.PURPCD,\n",
    "            a.FDICCATCD,\n",
    "            a.DATE1STPMTDUE,\n",
    "            a.MINRATECHANGEDOWN, \n",
    "            a.MAXRATECHANGEDOWN, \n",
    "            a.PREPAYCHARGE,\n",
    "            a.LASTPAYMENTDATE,\n",
    "            a.NOTEACCRUEDINT\n",
    "        FROM \n",
    "            COCCDM.WH_ACCTLOAN_ME a\n",
    "        \"\"\")\n",
    "\n",
    "        loans = text(\"\"\"\n",
    "        SELECT \n",
    "            a.ACCTNBR, \n",
    "            a.AVAILBALAMT,\n",
    "            a.INTPAIDTODATE,\n",
    "            a.FDICCATDESC,\n",
    "            a.LOANIDX\n",
    "        FROM \n",
    "            COCCDM.WH_LOANS_ME a\n",
    "        \"\"\")\n",
    "\n",
    "        prop = text(\"\"\"\n",
    "        SELECT\n",
    "            a.ACCTNBR,\n",
    "            a.PROPNBR,\n",
    "            a.APRSVALUEAMT,\n",
    "            a.APRSDATE,\n",
    "            a.PROPADDR1,\n",
    "            a.PROPADDR2,\n",
    "            a.PROPADDR3,\n",
    "            a.PROPCITY,\n",
    "            a.PROPSTATE,\n",
    "            a.PROPZIP\n",
    "        FROM\n",
    "            OSIBANK.WH_PROP a\n",
    "        \"\"\")\n",
    "\n",
    "        prop2 = text(\"\"\"\n",
    "        SELECT\n",
    "            a.ACCTNBR,\n",
    "            a.PROPTYPDESC,\n",
    "            a.PROPNBR,\n",
    "            a.PROPVALUE,\n",
    "            a.PROPTYPCD,\n",
    "            a.PROPDESC\n",
    "        FROM\n",
    "            OSIBANK.WH_PROP2 a\n",
    "        \"\"\")\n",
    "\n",
    "        queries = [\n",
    "            {'key':'acctcommon', 'sql':acctcommon, 'engine':2},\n",
    "            {'key':'acctloan', 'sql': acctloan, 'engine':2},\n",
    "            {'key':'loans', 'sql': loans, 'engine':2},\n",
    "            {'key':'prop', 'sql': prop, 'engine':1},\n",
    "            {'key':'prop2', 'sql': prop2, 'engine':1},\n",
    "        ]\n",
    "\n",
    "        async def run_queries():\n",
    "            return await fetch_data(queries)\n",
    "        \n",
    "        loop = asyncio.get_event_loop()\n",
    "        if loop.is_running():\n",
    "            return loop.run_until_complete(run_queries())\n",
    "        else:\n",
    "            return asyncio.run(run_queries())\n",
    "        \n",
    "    data = run_sql_queries()\n",
    "    \n",
    "    return data"
   ]
  },
  {
   "cell_type": "code",
   "execution_count": 7,
   "metadata": {},
   "outputs": [],
   "source": [
    "data = retrieve_data()"
   ]
  },
  {
   "cell_type": "code",
   "execution_count": 8,
   "metadata": {},
   "outputs": [],
   "source": [
    "# Extract data\n",
    "acctcommon = data['acctcommon'].copy()\n",
    "acctloan = data['acctloan'].copy()\n",
    "loans = data['loans'].copy()\n",
    "prop = data['prop'].copy()\n",
    "prop2 = data['prop2'].copy()"
   ]
  },
  {
   "cell_type": "code",
   "execution_count": 9,
   "metadata": {},
   "outputs": [
    {
     "name": "stdout",
     "output_type": "stream",
     "text": [
      "<class 'pandas.core.frame.DataFrame'>\n",
      "RangeIndex: 163121 entries, 0 to 163120\n",
      "Data columns (total 19 columns):\n",
      " #   Column                  Non-Null Count   Dtype         \n",
      "---  ------                  --------------   -----         \n",
      " 0   acctnbr                 163121 non-null  int64         \n",
      " 1   mjaccttypcd             163121 non-null  object        \n",
      " 2   currmiaccttypcd         163121 non-null  object        \n",
      " 3   product                 163121 non-null  object        \n",
      " 4   curracctstatcd          163121 non-null  object        \n",
      " 5   noteintrate             160228 non-null  object        \n",
      " 6   notenextratechangedate  5577 non-null    datetime64[ns]\n",
      " 7   noteratechangecalpercd  52374 non-null   object        \n",
      " 8   noteopenamt             154278 non-null  object        \n",
      " 9   notebal                 163121 non-null  object        \n",
      " 10  bookbalance             163121 non-null  object        \n",
      " 11  noteintcalcschednbr     160228 non-null  float64       \n",
      " 12  calcbaltypcd            140006 non-null  object        \n",
      " 13  intmethcd               140006 non-null  object        \n",
      " 14  ratetypcd               140006 non-null  object        \n",
      " 15  intbase                 160228 non-null  float64       \n",
      " 16  datemat                 94186 non-null   datetime64[ns]\n",
      " 17  contractdate            163120 non-null  datetime64[ns]\n",
      " 18  ownername               163087 non-null  object        \n",
      "dtypes: datetime64[ns](3), float64(2), int64(1), object(13)\n",
      "memory usage: 23.6+ MB\n"
     ]
    }
   ],
   "source": [
    "acctcommon.info()"
   ]
  },
  {
   "cell_type": "code",
   "execution_count": 10,
   "metadata": {},
   "outputs": [],
   "source": [
    "def filter_acctcommon(df):\n",
    "    df = df.loc[df['mjaccttypcd'] == 'CML'].copy()\n",
    "    df = df.loc[df['curracctstatcd'].isin(['ACT','NPFM'])].copy()\n",
    "    return df"
   ]
  },
  {
   "cell_type": "code",
   "execution_count": 11,
   "metadata": {},
   "outputs": [],
   "source": [
    "acctcommon = filter_acctcommon(acctcommon)"
   ]
  },
  {
   "cell_type": "code",
   "execution_count": 12,
   "metadata": {},
   "outputs": [
    {
     "name": "stdout",
     "output_type": "stream",
     "text": [
      "<class 'pandas.core.frame.DataFrame'>\n",
      "Index: 3305 entries, 114 to 163022\n",
      "Data columns (total 19 columns):\n",
      " #   Column                  Non-Null Count  Dtype         \n",
      "---  ------                  --------------  -----         \n",
      " 0   acctnbr                 3305 non-null   int64         \n",
      " 1   mjaccttypcd             3305 non-null   object        \n",
      " 2   currmiaccttypcd         3305 non-null   object        \n",
      " 3   product                 3305 non-null   object        \n",
      " 4   curracctstatcd          3305 non-null   object        \n",
      " 5   noteintrate             3305 non-null   object        \n",
      " 6   notenextratechangedate  1150 non-null   datetime64[ns]\n",
      " 7   noteratechangecalpercd  1446 non-null   object        \n",
      " 8   noteopenamt             2585 non-null   object        \n",
      " 9   notebal                 3305 non-null   object        \n",
      " 10  bookbalance             3305 non-null   object        \n",
      " 11  noteintcalcschednbr     3305 non-null   float64       \n",
      " 12  calcbaltypcd            3305 non-null   object        \n",
      " 13  intmethcd               3305 non-null   object        \n",
      " 14  ratetypcd               3305 non-null   object        \n",
      " 15  intbase                 3305 non-null   float64       \n",
      " 16  datemat                 3305 non-null   datetime64[ns]\n",
      " 17  contractdate            3305 non-null   datetime64[ns]\n",
      " 18  ownername               3305 non-null   object        \n",
      "dtypes: datetime64[ns](3), float64(2), int64(1), object(13)\n",
      "memory usage: 516.4+ KB\n"
     ]
    }
   ],
   "source": [
    "acctcommon.info()"
   ]
  },
  {
   "cell_type": "code",
   "execution_count": 13,
   "metadata": {},
   "outputs": [],
   "source": [
    "assert acctcommon['acctnbr'].is_unique, \"Duplicates found\""
   ]
  },
  {
   "cell_type": "code",
   "execution_count": 14,
   "metadata": {},
   "outputs": [],
   "source": [
    "assert acctloan['acctnbr'].is_unique, \"Duplicates found\""
   ]
  },
  {
   "cell_type": "code",
   "execution_count": 15,
   "metadata": {},
   "outputs": [],
   "source": [
    "assert loans['acctnbr'].is_unique, \"Duplicates found\""
   ]
  },
  {
   "cell_type": "code",
   "execution_count": 16,
   "metadata": {},
   "outputs": [],
   "source": [
    "def merging_loan_data(acctcommon, acctloan, loans):\n",
    "    merged_df = pd.merge(acctcommon, acctloan, how='left', on='acctnbr')\n",
    "    merged_df = pd.merge(merged_df, loans, how='left', on='acctnbr')\n",
    "    return merged_df"
   ]
  },
  {
   "cell_type": "code",
   "execution_count": 17,
   "metadata": {},
   "outputs": [],
   "source": [
    "merged_df = merging_loan_data(acctcommon, acctloan, loans)"
   ]
  },
  {
   "cell_type": "code",
   "execution_count": 18,
   "metadata": {},
   "outputs": [
    {
     "name": "stdout",
     "output_type": "stream",
     "text": [
      "<class 'pandas.core.frame.DataFrame'>\n",
      "RangeIndex: 3305 entries, 0 to 3304\n",
      "Data columns (total 33 columns):\n",
      " #   Column                  Non-Null Count  Dtype         \n",
      "---  ------                  --------------  -----         \n",
      " 0   acctnbr                 3305 non-null   int64         \n",
      " 1   mjaccttypcd             3305 non-null   object        \n",
      " 2   currmiaccttypcd         3305 non-null   object        \n",
      " 3   product                 3305 non-null   object        \n",
      " 4   curracctstatcd          3305 non-null   object        \n",
      " 5   noteintrate             3305 non-null   object        \n",
      " 6   notenextratechangedate  1150 non-null   datetime64[ns]\n",
      " 7   noteratechangecalpercd  1446 non-null   object        \n",
      " 8   noteopenamt             2585 non-null   object        \n",
      " 9   notebal                 3305 non-null   object        \n",
      " 10  bookbalance             3305 non-null   object        \n",
      " 11  noteintcalcschednbr     3305 non-null   float64       \n",
      " 12  calcbaltypcd            3305 non-null   object        \n",
      " 13  intmethcd               3305 non-null   object        \n",
      " 14  ratetypcd               3305 non-null   object        \n",
      " 15  intbase                 3305 non-null   float64       \n",
      " 16  datemat                 3305 non-null   datetime64[ns]\n",
      " 17  contractdate            3305 non-null   datetime64[ns]\n",
      " 18  ownername               3305 non-null   object        \n",
      " 19  cobal                   3305 non-null   object        \n",
      " 20  escbal                  3305 non-null   object        \n",
      " 21  purpcd                  2714 non-null   object        \n",
      " 22  fdiccatcd               2710 non-null   object        \n",
      " 23  date1stpmtdue           2714 non-null   datetime64[ns]\n",
      " 24  minratechangedown       3305 non-null   object        \n",
      " 25  maxratechangedown       3305 non-null   object        \n",
      " 26  prepaycharge            3291 non-null   object        \n",
      " 27  lastpaymentdate         2534 non-null   datetime64[ns]\n",
      " 28  noteaccruedint          3305 non-null   object        \n",
      " 29  availbalamt             1149 non-null   object        \n",
      " 30  intpaidtodate           3265 non-null   object        \n",
      " 31  fdiccatdesc             2710 non-null   object        \n",
      " 32  loanidx                 3305 non-null   object        \n",
      "dtypes: datetime64[ns](5), float64(2), int64(1), object(25)\n",
      "memory usage: 852.2+ KB\n"
     ]
    }
   ],
   "source": [
    "merged_df.info()"
   ]
  },
  {
   "cell_type": "code",
   "execution_count": 19,
   "metadata": {},
   "outputs": [
    {
     "name": "stdout",
     "output_type": "stream",
     "text": [
      "<class 'pandas.core.frame.DataFrame'>\n",
      "RangeIndex: 82559 entries, 0 to 82558\n",
      "Data columns (total 10 columns):\n",
      " #   Column        Non-Null Count  Dtype         \n",
      "---  ------        --------------  -----         \n",
      " 0   acctnbr       82559 non-null  int64         \n",
      " 1   propnbr       82559 non-null  int64         \n",
      " 2   aprsvalueamt  11493 non-null  object        \n",
      " 3   aprsdate      11493 non-null  datetime64[ns]\n",
      " 4   propaddr1     12413 non-null  object        \n",
      " 5   propaddr2     10 non-null     object        \n",
      " 6   propaddr3     0 non-null      object        \n",
      " 7   propcity      12414 non-null  object        \n",
      " 8   propstate     12412 non-null  object        \n",
      " 9   propzip       12385 non-null  object        \n",
      "dtypes: datetime64[ns](1), int64(2), object(7)\n",
      "memory usage: 6.3+ MB\n"
     ]
    }
   ],
   "source": [
    "prop.info()"
   ]
  },
  {
   "cell_type": "code",
   "execution_count": 20,
   "metadata": {},
   "outputs": [
    {
     "name": "stdout",
     "output_type": "stream",
     "text": [
      "<class 'pandas.core.frame.DataFrame'>\n",
      "RangeIndex: 82782 entries, 0 to 82781\n",
      "Data columns (total 6 columns):\n",
      " #   Column       Non-Null Count  Dtype  \n",
      "---  ------       --------------  -----  \n",
      " 0   acctnbr      82782 non-null  int64  \n",
      " 1   proptypdesc  82782 non-null  object \n",
      " 2   propnbr      82782 non-null  int64  \n",
      " 3   propvalue    5619 non-null   float64\n",
      " 4   proptypcd    82782 non-null  object \n",
      " 5   propdesc     81784 non-null  object \n",
      "dtypes: float64(1), int64(2), object(3)\n",
      "memory usage: 3.8+ MB\n"
     ]
    }
   ],
   "source": [
    "prop2.info()"
   ]
  },
  {
   "cell_type": "code",
   "execution_count": 24,
   "metadata": {},
   "outputs": [],
   "source": [
    "def dedupe_prop(df):\n",
    "    df = df.sort_values(by='aprsvalueamt', ascending=False).drop_duplicates(subset='acctnbr', keep='first').copy()\n",
    "    return df\n",
    "\n",
    "def dedupe_prop2(df):\n",
    "    df = df.sort_values(by='propvalue', ascending=False).drop_duplicates(subset='acctnbr', keep='first').copy()\n",
    "    return df"
   ]
  },
  {
   "cell_type": "code",
   "execution_count": 22,
   "metadata": {},
   "outputs": [],
   "source": [
    "prop = dedupe_prop(prop)"
   ]
  },
  {
   "cell_type": "code",
   "execution_count": 25,
   "metadata": {},
   "outputs": [],
   "source": [
    "prop2 = dedupe_prop2(prop2)"
   ]
  },
  {
   "cell_type": "code",
   "execution_count": 26,
   "metadata": {},
   "outputs": [],
   "source": [
    "assert prop['acctnbr'].is_unique, \"Duplicates found\"\n",
    "assert prop2['acctnbr'].is_unique, \"Duplicates found\""
   ]
  },
  {
   "cell_type": "code",
   "execution_count": 27,
   "metadata": {},
   "outputs": [],
   "source": [
    "def merging_core_with_prop(df, prop, prop2):\n",
    "    merged_df = pd.merge(df, prop, how='left', on='acctnbr')\n",
    "    merged_df = pd.merge(merged_df, prop2, how='left', on='acctnbr')\n",
    "    return merged_df"
   ]
  },
  {
   "cell_type": "code",
   "execution_count": 28,
   "metadata": {},
   "outputs": [],
   "source": [
    "merged_df = merging_core_with_prop(merged_df, prop, prop2)"
   ]
  },
  {
   "cell_type": "code",
   "execution_count": 29,
   "metadata": {},
   "outputs": [
    {
     "name": "stdout",
     "output_type": "stream",
     "text": [
      "<class 'pandas.core.frame.DataFrame'>\n",
      "RangeIndex: 3305 entries, 0 to 3304\n",
      "Data columns (total 47 columns):\n",
      " #   Column                  Non-Null Count  Dtype         \n",
      "---  ------                  --------------  -----         \n",
      " 0   acctnbr                 3305 non-null   int64         \n",
      " 1   mjaccttypcd             3305 non-null   object        \n",
      " 2   currmiaccttypcd         3305 non-null   object        \n",
      " 3   product                 3305 non-null   object        \n",
      " 4   curracctstatcd          3305 non-null   object        \n",
      " 5   noteintrate             3305 non-null   object        \n",
      " 6   notenextratechangedate  1150 non-null   datetime64[ns]\n",
      " 7   noteratechangecalpercd  1446 non-null   object        \n",
      " 8   noteopenamt             2585 non-null   object        \n",
      " 9   notebal                 3305 non-null   object        \n",
      " 10  bookbalance             3305 non-null   object        \n",
      " 11  noteintcalcschednbr     3305 non-null   float64       \n",
      " 12  calcbaltypcd            3305 non-null   object        \n",
      " 13  intmethcd               3305 non-null   object        \n",
      " 14  ratetypcd               3305 non-null   object        \n",
      " 15  intbase                 3305 non-null   float64       \n",
      " 16  datemat                 3305 non-null   datetime64[ns]\n",
      " 17  contractdate            3305 non-null   datetime64[ns]\n",
      " 18  ownername               3305 non-null   object        \n",
      " 19  cobal                   3305 non-null   object        \n",
      " 20  escbal                  3305 non-null   object        \n",
      " 21  purpcd                  2714 non-null   object        \n",
      " 22  fdiccatcd               2710 non-null   object        \n",
      " 23  date1stpmtdue           2714 non-null   datetime64[ns]\n",
      " 24  minratechangedown       3305 non-null   object        \n",
      " 25  maxratechangedown       3305 non-null   object        \n",
      " 26  prepaycharge            3291 non-null   object        \n",
      " 27  lastpaymentdate         2534 non-null   datetime64[ns]\n",
      " 28  noteaccruedint          3305 non-null   object        \n",
      " 29  availbalamt             1149 non-null   object        \n",
      " 30  intpaidtodate           3265 non-null   object        \n",
      " 31  fdiccatdesc             2710 non-null   object        \n",
      " 32  loanidx                 3305 non-null   object        \n",
      " 33  propnbr_x               2692 non-null   float64       \n",
      " 34  aprsvalueamt            1128 non-null   object        \n",
      " 35  aprsdate                1128 non-null   datetime64[ns]\n",
      " 36  propaddr1               1094 non-null   object        \n",
      " 37  propaddr2               1 non-null      object        \n",
      " 38  propaddr3               0 non-null      object        \n",
      " 39  propcity                1095 non-null   object        \n",
      " 40  propstate               1093 non-null   object        \n",
      " 41  propzip                 1083 non-null   object        \n",
      " 42  proptypdesc             2692 non-null   object        \n",
      " 43  propnbr_y               2692 non-null   float64       \n",
      " 44  propvalue               906 non-null    float64       \n",
      " 45  proptypcd               2692 non-null   object        \n",
      " 46  propdesc                2683 non-null   object        \n",
      "dtypes: datetime64[ns](6), float64(5), int64(1), object(35)\n",
      "memory usage: 1.2+ MB\n"
     ]
    }
   ],
   "source": [
    "merged_df.info()"
   ]
  },
  {
   "cell_type": "code",
   "execution_count": 30,
   "metadata": {},
   "outputs": [],
   "source": [
    "merged_df['prepayment_penalty'] = np.where(merged_df['prepaycharge'] > 0, 'Y', 'N')"
   ]
  },
  {
   "cell_type": "code",
   "execution_count": 34,
   "metadata": {},
   "outputs": [],
   "source": [
    "from dateutil.relativedelta import relativedelta"
   ]
  },
  {
   "cell_type": "code",
   "execution_count": 36,
   "metadata": {},
   "outputs": [
    {
     "data": {
      "text/plain": [
       "'20241231'"
      ]
     },
     "execution_count": 36,
     "metadata": {},
     "output_type": "execute_result"
    }
   ],
   "source": [
    "current_date = (date.today() + relativedelta(day=1) - relativedelta(days=1)).strftime('%Y%m%d')\n"
   ]
  },
  {
   "cell_type": "code",
   "execution_count": 37,
   "metadata": {},
   "outputs": [
    {
     "name": "stdout",
     "output_type": "stream",
     "text": [
      "Excel file saved with autofit at \\\\00-da1\\Home\\Share\\Data & Analytics Initiatives\\Project Management\\Chad Projects\\Monthly Reports\\Trial Balance Ops\\Production\\Output\n",
      "Excel process complete\n",
      "Email sent!\n"
     ]
    }
   ],
   "source": [
    "# Output to excel\n",
    "current_date = (date.today() + relativedelta(day=1) - relativedelta(days=1)).strftime('%Y%m%d') # Most recent ME\n",
    "file_path = r'\\\\00-da1\\Home\\Share\\Data & Analytics Initiatives\\Project Management\\Chad Projects\\Monthly Reports\\Trial Balance Ops\\Production\\Output'\n",
    "file_name = f'CML_Trial_Balance_Ops_{current_date}.xlsx'\n",
    "full_path = os.path.join(file_path, file_name)\n",
    "merged_df.to_excel(full_path, sheet_name='Sheet1', engine='openpyxl', index=False)\n",
    "\n",
    "try:\n",
    "    excel = win32.Dispatch(\"Excel.Application\")\n",
    "    excel.Visible = False\n",
    "    workbook = excel.Workbooks.Open(full_path)\n",
    "    sheet = workbook.Worksheets(\"Sheet1\")\n",
    "\n",
    "    sheet.Columns.AutoFit()\n",
    "\n",
    "    # Bold top row\n",
    "    top_row = sheet.Rows(1)\n",
    "    top_row.Font.Bold = True\n",
    "\n",
    "    # Add bottom border to header row\n",
    "    bottom_border = top_row.Borders(9)\n",
    "    bottom_border.LineStyle = 1\n",
    "    bottom_border.Weight = 2\n",
    "\n",
    "    # date_columns = [\"I\",\"L\",\"O\",\"R\",\"AA\"]\n",
    "\n",
    "    # for col in date_columns:\n",
    "    #     col_index = column_to_index(col)\n",
    "    #     sheet.Columns(col_index).NumberFormat = \"mm/dd/yyyy\"\n",
    "\n",
    "    # Freeze top row\n",
    "    sheet.Application.ActiveWindow.SplitRow = 1\n",
    "    sheet.Application.ActiveWindow.FreezePanes = True\n",
    "\n",
    "    workbook.Save()\n",
    "    workbook.Close()\n",
    "\n",
    "    print(f\"Excel file saved with autofit at {file_path}\")\n",
    "finally:\n",
    "    try:\n",
    "        if 'workbook' in locals() and workbook is not None:\n",
    "            workbook.Close(SaveChanges=False)\n",
    "    except:\n",
    "        pass\n",
    "    try:\n",
    "        if 'excel' in locals():\n",
    "            excel.Quit()\n",
    "    except:\n",
    "        pass\n",
    "    print(\"Excel process complete\")\n",
    "\n",
    "# Email\n",
    "recipients = [\n",
    "    # \"chad.doorley@bcsbmail.com\"\n",
    "    \"kelly.abernathy@bcsbmail.com\",\n",
    "    \"Zachary.Cabral@bcsbmail.com\"\n",
    "]\n",
    "bcc_recipients = [\n",
    "    \"chad.doorley@bcsbmail.com\"\n",
    "]\n",
    "outlook = win32.Dispatch(\"Outlook.Application\")\n",
    "message = outlook.CreateItem(0)\n",
    "# message.Display()\n",
    "message.To = \";\".join(recipients)\n",
    "message.BCC = \";\".join(bcc_recipients)\n",
    "message.Subject = f\"CML Trial Balance - {current_date}\"\n",
    "message.Body = \"Hi, \\n\\nAttached is the CML Trial Balance. Please let me know if you have any questions.\"\n",
    "message.Attachments.Add(str(full_path))\n",
    "message.Send()\n",
    "print(\"Email sent!\")\n",
    "\n",
    "\n"
   ]
  },
  {
   "cell_type": "code",
   "execution_count": null,
   "metadata": {},
   "outputs": [],
   "source": []
  }
 ],
 "metadata": {
  "kernelspec": {
   "display_name": ".venv",
   "language": "python",
   "name": "python3"
  },
  "language_info": {
   "codemirror_mode": {
    "name": "ipython",
    "version": 3
   },
   "file_extension": ".py",
   "mimetype": "text/x-python",
   "name": "python",
   "nbconvert_exporter": "python",
   "pygments_lexer": "ipython3",
   "version": "3.11.9"
  }
 },
 "nbformat": 4,
 "nbformat_minor": 2
}
