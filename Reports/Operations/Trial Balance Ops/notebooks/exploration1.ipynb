{
 "cells": [
  {
   "cell_type": "code",
   "execution_count": null,
   "id": "c1a724e0",
   "metadata": {},
   "outputs": [],
   "source": [
    "import os\n",
    "import sys\n",
    "from pathlib import Path\n",
    "\n",
    "# Navigate to project root (equivalent to cd ..)\n",
    "project_dir = Path(__file__).parent.parent if '__file__' in globals() else Path.cwd().parent\n",
    "os.chdir(project_dir)\n",
    "\n",
    "# Add src directory to Python path for imports\n",
    "src_dir = project_dir / \"src\"\n",
    "if str(src_dir) not in sys.path:\n",
    "    sys.path.insert(0, str(src_dir))\n",
    "\n",
    "# Set environment for dev testing\n",
    "os.environ['REPORT_ENV'] = 'dev'"
   ]
  },
  {
   "cell_type": "code",
   "execution_count": null,
   "id": "a1137885",
   "metadata": {},
   "outputs": [],
   "source": [
    "from pathlib import Path\n",
    "import pandas as pd"
   ]
  },
  {
   "cell_type": "code",
   "execution_count": null,
   "id": "b6b091dc",
   "metadata": {},
   "outputs": [],
   "source": [
    "INPUT_PATH = Path(r\"C:\\Users\\w322800\\Documents\\gh\\bcsb-prod\\Reports\\Operations\\Trial Balance Ops\\docs\\Loan Trial Sample compared to Kelly A's report.xlsx\")\n",
    "df = pd.read_excel(INPUT_PATH, header=1)"
   ]
  },
  {
   "cell_type": "code",
   "execution_count": null,
   "id": "970430fa",
   "metadata": {},
   "outputs": [],
   "source": [
    "df.info(verbose=True)"
   ]
  },
  {
   "cell_type": "code",
   "execution_count": null,
   "id": "60a9ebd4",
   "metadata": {},
   "outputs": [],
   "source": [
    "df.columns.to_list()"
   ]
  },
  {
   "cell_type": "code",
   "execution_count": null,
   "id": "4ea618cd",
   "metadata": {},
   "outputs": [],
   "source": [
    "import src.config\n",
    "from deltalake import DeltaTable\n",
    "import pandas as pd\n",
    "\n",
    "TABLE_PATH = src.config.BRONZE / \"wh_acctcommon\"\n",
    "wh_acctcommon = DeltaTable(TABLE_PATH).to_pandas()\n"
   ]
  },
  {
   "cell_type": "code",
   "execution_count": null,
   "id": "eace3c90",
   "metadata": {},
   "outputs": [],
   "source": [
    "wh_acctcommon"
   ]
  },
  {
   "cell_type": "code",
   "execution_count": null,
   "id": "e844f20e",
   "metadata": {},
   "outputs": [],
   "source": [
    "wh_acctcommon.info()"
   ]
  },
  {
   "cell_type": "code",
   "execution_count": null,
   "id": "af74e0c3",
   "metadata": {},
   "outputs": [],
   "source": [
    "wh_acctcommon['noteintrate'] = pd.to_numeric(wh_acctcommon['noteintrate'])"
   ]
  },
  {
   "cell_type": "code",
   "execution_count": null,
   "id": "8bcfeaad",
   "metadata": {},
   "outputs": [],
   "source": [
    "wh_acctcommon"
   ]
  },
  {
   "cell_type": "code",
   "execution_count": null,
   "id": "227fc3d1",
   "metadata": {},
   "outputs": [],
   "source": [
    "TABLE_PATH = src.config.BRONZE / \"wh_acctcommon\"\n",
    "wh_acctcommon = DeltaTable(TABLE_PATH).to_pandas()"
   ]
  }
 ],
 "metadata": {
  "kernelspec": {
   "display_name": "bcsb-prod",
   "language": "python",
   "name": "python3"
  },
  "language_info": {
   "codemirror_mode": {
    "name": "ipython",
    "version": 3
   },
   "file_extension": ".py",
   "mimetype": "text/x-python",
   "name": "python",
   "nbconvert_exporter": "python",
   "pygments_lexer": "ipython3",
   "version": "3.11.9"
  }
 },
 "nbformat": 4,
 "nbformat_minor": 5
}
