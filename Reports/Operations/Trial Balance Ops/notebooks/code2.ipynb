{
 "cells": [
  {
   "cell_type": "code",
   "execution_count": null,
   "id": "c1a724e0",
   "metadata": {},
   "outputs": [],
   "source": [
    "import os\n",
    "import sys\n",
    "from pathlib import Path\n",
    "\n",
    "# Navigate to project root (equivalent to cd ..)\n",
    "project_dir = Path(__file__).parent.parent if '__file__' in globals() else Path.cwd().parent\n",
    "os.chdir(project_dir)\n",
    "\n",
    "# Add src directory to Python path for imports\n",
    "src_dir = project_dir / \"src\"\n",
    "if str(src_dir) not in sys.path:\n",
    "    sys.path.insert(0, str(src_dir))\n",
    "\n",
    "# Set environment for dev testing\n",
    "os.environ['REPORT_ENV'] = 'dev'"
   ]
  },
  {
   "cell_type": "code",
   "execution_count": null,
   "id": "e29a167e",
   "metadata": {},
   "outputs": [],
   "source": [
    "# Core logic specific to project/report\n",
    "\n",
    "import src.config\n",
    "import pandas as pd\n",
    "from deltalake import DeltaTable\n",
    "from pathlib import Path\n",
    "import cdutils.deduplication\n",
    "import src.loan_trial.fetch_data\n",
    "\n",
    "# def main_pipeline():\n",
    "# Main loan data, silver table\n",
    "TABLE_PATH = src.config.SILVER / \"account\"\n",
    "accts = DeltaTable(TABLE_PATH).to_pandas()\n",
    "\n",
    "MACRO_TYPE_MAPPING = {\n",
    "        'CML': 'Loan',\n",
    "        'MLN': 'Loan',\n",
    "        'CNS': 'Loan',\n",
    "        'MTG': 'Loan',\n",
    "        'CK': 'Deposit',\n",
    "        'SAV': 'Deposit',\n",
    "        'TD': 'Deposit'\n",
    "    }\n",
    "\n",
    "accts['Macro Account Type'] = accts['mjaccttypcd'].map(MACRO_TYPE_MAPPING)\n",
    "accts = accts[accts['Macro Account Type'] == 'Loan'].copy()\n",
    "\n",
    "accts = accts[[\n",
    "    'acctnbr',\n",
    "    'ownersortname',\n",
    "    'mjaccttypcd',\n",
    "    'currmiaccttypcd',\n",
    "    'product',\n",
    "    'curracctstatcd',\n",
    "    'noteintrate',\n",
    "    'notebal',\n",
    "    'bookbalance',\n",
    "    'branchname',\n",
    "    'loanofficer',\n",
    "    'contractdate',\n",
    "    'datemat',\n",
    "    'creditlimitamt',\n",
    "    'loanlimityn',\n",
    "]].copy()\n",
    "\n",
    "# Get investor data\n",
    "invr = src.loan_trial.fetch_data.fetch_invr()\n",
    "wh_invr = invr['wh_invr'].copy()\n",
    "\n",
    "\n",
    "acctgrpinvr = invr['acctgrpinvr'].copy()\n",
    "\n",
    "wh_org = DeltaTable(src.config.BRONZE / \"wh_org\").to_pandas()\n",
    "wh_org = wh_org[[\n",
    "    'orgnbr',\n",
    "    'orgname'\n",
    "]].copy()\n",
    "dedupe_list = [\n",
    "    {'df':wh_org, 'field':'orgnbr'}\n",
    "]\n",
    "wh_org = cdutils.deduplication.dedupe(dedupe_list).copy()\n",
    "wh_org['orgnbr'] = wh_org['orgnbr'].astype(str)\n",
    "wh_invr['acctgrpnbr'] = wh_invr['acctgrpnbr'].astype(str)\n",
    "acctgrpinvr['acctgrpnbr'] = wh_invr['acctgrpnbr'].astype(str)\n",
    "acctgrpinvr['invrorgnbr'] = acctgrpinvr['invrorgnbr'].astype(str)\n",
    "\n",
    "merged_investor = wh_invr.merge(acctgrpinvr, on='acctgrpnbr', how='left').merge(wh_org, left_on='invrorgnbr', right_on='orgnbr')\n",
    "merged_investor = merged_investor.sort_values(by='pctowned', ascending=False).copy()\n",
    "dedupe_list = [\n",
    "    {'df':merged_investor, 'field':'acctnbr'}\n",
    "]\n",
    "merged_investor = cdutils.deduplication.dedupe(dedupe_list)\n",
    "merged_investor = merged_investor.drop(columns=['orgnbr','invrorgnbr','pctowned','acctgrpnbr']).copy()\n",
    "merged_investor['acctnbr'] = merged_investor['acctnbr'].astype(str)\n",
    "assert merged_investor['acctnbr'].is_unique, \"Duplicates exist. Pre-merge of investor data to full df\"\n",
    "\n",
    "merged_investor = merged_investor.rename(columns={\n",
    "    'orgname':'Investor Name',\n",
    "    'originvrrate':'Orig Investor Rate',\n",
    "    'currinvrrate':'Current Investor Rate'\n",
    "}).copy()\n",
    "\n",
    "accts = accts.merge(merged_investor, on='acctnbr', how='left')\n",
    "# return accts\n",
    "\n",
    "\n",
    "# notenextratechange (WH_ACCTCOMMON)\n",
    "# noteratechangecalpercd (WH_ACCTCOMMON)\n",
    "# rcf\n",
    "#H\n",
    "\n"
   ]
  },
  {
   "cell_type": "code",
   "execution_count": null,
   "id": "daed6a7c",
   "metadata": {},
   "outputs": [],
   "source": [
    "accts"
   ]
  },
  {
   "cell_type": "code",
   "execution_count": null,
   "id": "ab344476",
   "metadata": {},
   "outputs": [],
   "source": [
    "merged_investor"
   ]
  },
  {
   "cell_type": "code",
   "execution_count": null,
   "id": "2f105653",
   "metadata": {},
   "outputs": [],
   "source": [
    "accts"
   ]
  },
  {
   "cell_type": "code",
   "execution_count": null,
   "id": "5681715c",
   "metadata": {},
   "outputs": [],
   "source": [
    "wh_invr"
   ]
  },
  {
   "cell_type": "code",
   "execution_count": null,
   "id": "00565532",
   "metadata": {},
   "outputs": [],
   "source": [
    "acctgrpinvr"
   ]
  },
  {
   "cell_type": "code",
   "execution_count": null,
   "id": "f5397824",
   "metadata": {},
   "outputs": [],
   "source": [
    "merged_investor"
   ]
  },
  {
   "cell_type": "code",
   "execution_count": null,
   "id": "de6c09a0",
   "metadata": {},
   "outputs": [],
   "source": [
    "import cdutils.database.connect # type: ignore\n",
    "from sqlalchemy import text # type: ignore\n",
    "from datetime import datetime\n",
    "from typing import Optional\n",
    "\n",
    "def fetch_rtxnbal():\n",
    "    participant = text(\"\"\"\n",
    "    SELECT\n",
    "        a.*\n",
    "    FROM\n",
    "        OSIBANK.RPT_MM_GLINT a\n",
    "    \"\"\")\n",
    "\n",
    "    queries = [\n",
    "        # {\n",
    "        #     'key': 'wh_rtxn',\n",
    "        #     'sql': wh_rtxn.bindparams(\n",
    "        #         start_date=start_date.strftime('%Y-%m-%d'),\n",
    "        #         end_date=end_date.strftime('%Y-%m-%d')\n",
    "        #     ),\n",
    "        #     'engine': 2\n",
    "        # },\n",
    "        {\n",
    "            'key': 'participant',\n",
    "            'sql': participant,\n",
    "            'engine': 1\n",
    "        },\n",
    "    ]\n",
    "\n",
    "    data = cdutils.database.connect.retrieve_data(queries)\n",
    "    return data\n",
    "\n",
    "\n"
   ]
  },
  {
   "cell_type": "code",
   "execution_count": null,
   "id": "fd1a4bf8",
   "metadata": {},
   "outputs": [],
   "source": [
    "data = fetch_rtxnbal()"
   ]
  },
  {
   "cell_type": "code",
   "execution_count": null,
   "id": "16bce313",
   "metadata": {},
   "outputs": [],
   "source": [
    "participant = data['participant'].copy()"
   ]
  },
  {
   "cell_type": "code",
   "execution_count": null,
   "id": "729c287a",
   "metadata": {},
   "outputs": [],
   "source": [
    "participant"
   ]
  },
  {
   "cell_type": "code",
   "execution_count": null,
   "id": "a1137885",
   "metadata": {},
   "outputs": [],
   "source": []
  }
 ],
 "metadata": {
  "kernelspec": {
   "display_name": "bcsb-prod",
   "language": "python",
   "name": "python3"
  },
  "language_info": {
   "codemirror_mode": {
    "name": "ipython",
    "version": 3
   },
   "file_extension": ".py",
   "mimetype": "text/x-python",
   "name": "python",
   "nbconvert_exporter": "python",
   "pygments_lexer": "ipython3",
   "version": "3.11.9"
  }
 },
 "nbformat": 4,
 "nbformat_minor": 5
}
